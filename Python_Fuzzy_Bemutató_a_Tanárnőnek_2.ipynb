{
  "nbformat": 4,
  "nbformat_minor": 0,
  "metadata": {
    "colab": {
      "name": "Python Fuzzy - Bemutató a Tanárnőnek 2.ipynb",
      "provenance": [],
      "collapsed_sections": [],
      "authorship_tag": "ABX9TyMKQfx1yFAI6nNjMSDL6+Gt",
      "include_colab_link": true
    },
    "kernelspec": {
      "name": "python3",
      "display_name": "Python 3"
    },
    "language_info": {
      "name": "python"
    },
    "widgets": {
      "application/vnd.jupyter.widget-state+json": {
        "b9859eec489e47aa84a297c3760ef4be": {
          "model_module": "@jupyter-widgets/controls",
          "model_name": "VBoxModel",
          "state": {
            "_view_name": "VBoxView",
            "_dom_classes": [
              "widget-interact"
            ],
            "_model_name": "VBoxModel",
            "_view_module": "@jupyter-widgets/controls",
            "_model_module_version": "1.5.0",
            "_view_count": null,
            "_view_module_version": "1.5.0",
            "box_style": "",
            "layout": "IPY_MODEL_f7aecc6fccfb4ccfb5d1d2b578b098d4",
            "_model_module": "@jupyter-widgets/controls",
            "children": [
              "IPY_MODEL_4cc1c3052ed94e46b187cf076a6472b6",
              "IPY_MODEL_b0d4ab4ff4594462bf12e81d9fffe0e6",
              "IPY_MODEL_10f6006f4305406aa67ed9adb1fb38af",
              "IPY_MODEL_b6734565c7d548f191e0b902961909d6"
            ]
          }
        },
        "f7aecc6fccfb4ccfb5d1d2b578b098d4": {
          "model_module": "@jupyter-widgets/base",
          "model_name": "LayoutModel",
          "state": {
            "_view_name": "LayoutView",
            "grid_template_rows": null,
            "right": null,
            "justify_content": null,
            "_view_module": "@jupyter-widgets/base",
            "overflow": null,
            "_model_module_version": "1.2.0",
            "_view_count": null,
            "flex_flow": null,
            "width": null,
            "min_width": null,
            "border": null,
            "align_items": null,
            "bottom": null,
            "_model_module": "@jupyter-widgets/base",
            "top": null,
            "grid_column": null,
            "overflow_y": null,
            "overflow_x": null,
            "grid_auto_flow": null,
            "grid_area": null,
            "grid_template_columns": null,
            "flex": null,
            "_model_name": "LayoutModel",
            "justify_items": null,
            "grid_row": null,
            "max_height": null,
            "align_content": null,
            "visibility": null,
            "align_self": null,
            "height": null,
            "min_height": null,
            "padding": null,
            "grid_auto_rows": null,
            "grid_gap": null,
            "max_width": null,
            "order": null,
            "_view_module_version": "1.2.0",
            "grid_template_areas": null,
            "object_position": null,
            "object_fit": null,
            "grid_auto_columns": null,
            "margin": null,
            "display": null,
            "left": null
          }
        },
        "4cc1c3052ed94e46b187cf076a6472b6": {
          "model_module": "@jupyter-widgets/controls",
          "model_name": "FloatSliderModel",
          "state": {
            "_view_name": "FloatSliderView",
            "style": "IPY_MODEL_c0fb13f0e6c348ac95c4a83a485deb3d",
            "_dom_classes": [],
            "description": "Felhőtakaró_",
            "step": 0.1,
            "_model_name": "FloatSliderModel",
            "orientation": "horizontal",
            "max": 10,
            "_view_module": "@jupyter-widgets/controls",
            "_model_module_version": "1.5.0",
            "value": 3.4,
            "_view_count": null,
            "disabled": false,
            "_view_module_version": "1.5.0",
            "min": 0,
            "continuous_update": true,
            "readout_format": ".2f",
            "description_tooltip": null,
            "readout": true,
            "_model_module": "@jupyter-widgets/controls",
            "layout": "IPY_MODEL_4b520b98655c48ef87b21cbcc8594b84"
          }
        },
        "b0d4ab4ff4594462bf12e81d9fffe0e6": {
          "model_module": "@jupyter-widgets/controls",
          "model_name": "IntSliderModel",
          "state": {
            "_view_name": "IntSliderView",
            "style": "IPY_MODEL_11d9cd592b134cf6a88c9f4799889eab",
            "_dom_classes": [],
            "description": "Hőmérséklet_",
            "step": 1,
            "_model_name": "IntSliderModel",
            "orientation": "horizontal",
            "max": 50,
            "_view_module": "@jupyter-widgets/controls",
            "_model_module_version": "1.5.0",
            "value": 3,
            "_view_count": null,
            "disabled": false,
            "_view_module_version": "1.5.0",
            "min": -30,
            "continuous_update": true,
            "readout_format": "d",
            "description_tooltip": null,
            "readout": true,
            "_model_module": "@jupyter-widgets/controls",
            "layout": "IPY_MODEL_15cccd37d8e34c8089486722e285b67e"
          }
        },
        "10f6006f4305406aa67ed9adb1fb38af": {
          "model_module": "@jupyter-widgets/controls",
          "model_name": "DropdownModel",
          "state": {
            "_options_labels": [
              "and",
              "or"
            ],
            "_view_name": "DropdownView",
            "style": "IPY_MODEL_b9c26c09f8954918ab137253d90fc64a",
            "_dom_classes": [],
            "description": "Type",
            "_model_name": "DropdownModel",
            "index": 0,
            "_view_module": "@jupyter-widgets/controls",
            "_model_module_version": "1.5.0",
            "_view_count": null,
            "disabled": false,
            "_view_module_version": "1.5.0",
            "description_tooltip": null,
            "_model_module": "@jupyter-widgets/controls",
            "layout": "IPY_MODEL_347832ec1e1649b5a9c4763cf87c1803"
          }
        },
        "b6734565c7d548f191e0b902961909d6": {
          "model_module": "@jupyter-widgets/output",
          "model_name": "OutputModel",
          "state": {
            "_view_name": "OutputView",
            "msg_id": "",
            "_dom_classes": [],
            "_model_name": "OutputModel",
            "outputs": [
              {
                "output_type": "stream",
                "metadata": {
                  "tags": []
                },
                "text": "IF sky[napos] AND temperature[meleg] THEN speed[gyors]\n\tAND aggregation function : fmin\n\tOR aggregation function  : fmax\n----------------------------\ny  : 77.20165809033746\n----------------------------\nsky : 3.4\ntemperature : 3\n\n",
                "stream": "stdout"
              },
              {
                "output_type": "display_data",
                "metadata": {
                  "tags": [],
                  "needs_background": "light"
                },
                "image/png": "iVBORw0KGgoAAAANSUhEUgAAAYIAAAEICAYAAABS0fM3AAAABHNCSVQICAgIfAhkiAAAAAlwSFlzAAALEgAACxIB0t1+/AAAADh0RVh0U29mdHdhcmUAbWF0cGxvdGxpYiB2ZXJzaW9uMy4yLjIsIGh0dHA6Ly9tYXRwbG90bGliLm9yZy+WH4yJAAAgAElEQVR4nO3dd3gU1f7H8fd3Nw0IvYg0ASlSQkmCYkewICBFRBJAglLE7rX367Vcrw3LFREUpEgVRFG4oAKKBZXQO4SiFKVKIEBCyvn9MQu/GAkksLtny/f1PPuQ3Z2d+cwzJGfPnJnvEWMMSimlwpfLdgCllFJ2aUOglFJhThsCpZQKc9oQKKVUmNOGQCmlwpw2BEopFeZ81hCIyCgR2S0iqwp5X0TkbRFJE5EVIhLvqyxKKaUK58sewWig/Snevx6o73kMAoYVZaXt27c3gD70oQ996KN4j0L5rCEwxiwA9p9ikS7AWOP4CSgnIueebr179+71VkSllFJAhMVtVwe25Xu+3fPa76f60Mod6dR9fKYvc/lVz1Y1+Xe3OETEdhSlgsefv8KH18OhU/65CC4xZeHhTeBy+33TNhuCIhORQTinj6hVqxYbX+xgOZF3HM3OJWnEQt77djN3tDnfdhylgkPmQZjQEy65By4cZDuN97xYFfJywq4h2AHUzPe8hue1vzHGjABGACQmJhq3KzS+PcdGR/BB31Z0e/cH6lQqSfumpz0zplR4y82BqbfBeZfARYMhlHrS4oa8XCubtnn56Aygr+fqodZAujEmhPp5RVO1bAzv903kiemrWLk93XYcpQLbl08635qvfzm0GgFwegImxBoCEZkILAQaish2EekvIoNFZLBnkVnAZiANeB+401dZAl3T6mX5d7c4Bo1L5Y/0TNtxlApMv7wPm+ZBj9HgjrSdxvss9gh8dmrIGJN8mvcNcJevth9s2jetypa9hxkwdhFTbr+YklFBMXyjlH+kzYVvX4H+c6BEOdtpfMPlApNnZ9NWtqpOavCVdbmgahn+MXkZeXmnvOxXqfCxex18MghuHgMV6tpO4zthOkagChAR/t0tjj+PZPPql+ttx1HKvsN7YWJPuPZ5Z4A4lLnczviHjU1b2aoqVFSEi/f6JDBr5e98nLrt9B9QKlTlZMHkPtDkRmjRy3Ya35MQHCxWZ65CqShGprTi5dnr+HnzPttxlPI/Y+Dz+6BUJWj7tO00/uHSU0OqgHpVYnmzZ0vumrCUrXsP246jlH99PwR2r4Vuw51B1HAgLu0RqL+7rH4l7r+6PreNWUT6kWzbcZTyj9WfwqKRkDwJokrZTuM/Ljfk6VVD6iT6tD6PNg2qcOeExWTn2vlPopTf7FgMMx+ApAlQJszutHdFaI9AFe7Jjo2IjnDzzGercW6/UCoEpW+HSb3hhrehWgvbafxPLx9Vp+J2CW8nt2Tpb38y6oettuMo5X1ZGTAxyakf1KiT7TR2hGKJCeVdsdERfJCSyPBvNzF37S7bcZTynrxc+GQgVG0Ol95nO4094tIegTq9GuVL8t4tCTwydQVrfz9oO45S3vH1s5CZDp3eCL1CcsWhPQJVVPG1yvPPzk0YMCaV3Ye0QJ0KckvGwrovoOdHEBFlO41dolcNqWLo3LwaPRJrMGjsYjKz7XyDUOqsbfkO5j4HvaZAyQq209inPQJVXPe1q0+tCiV56OPleiWRCj77NsHUW6H7B1Cpvu00gUG01pAqJhHhlZuasfPAUd78eqPtOEoV3ZH9MOFmaPsU1G1jO03g0BIT6kzERLoZfksi05Zs57NlJ53lU6nAkpsNU/pCg/aQ0M92msCiJSbUmapcOpqRKa147vM1LP71T9txlCqcMc5dw1Gl4JrnbKcJPFpiQp2NhlVL81qP5tzx0WK27T9iO45SJ7dwKOxY4owLuNy20wQeLUOtztZVF1ThjjbnM2BMKocytUCdCjDr/wcL33EKyUWXtp0mMLkidIxAnb1+l9SmVZ3y3DNxKTlaoE4Fij9Wwmd3OfcKlKtpO03g0stHlTeICP+8oQm5eYYXZ621HUcpOPQHTEyGDq9BjUTbaQKblphQ3hLpdvFOr3gWbNjDuJ9+tR1HhbPso04jEN8Xmt5oO03g0x6B8qayJSIZ1a8Vb8/dyHcb99iOo8JRXh5MHwwVz4crHradJjhoiQnlbedVLMXQXvHcP2kZabsP2Y6jws03L8HBndD5nfAuJFcc2iNQvnBhnQo83qERt41OZf/hY7bjqHCxYgqsmOTMMhYZYztN8NASE8pXbkqoQadm5zJ43GKycrRAnfKx336C2Y9D8mSIrWw7TXBx6WCx8qGHrm1IhVJRPPHJKi1Qp3znz61O+Yhu78E5jW2nCT56Q5nyJZdLGNKzORt2HWLYt5tsx1GhKDMdJvSEyx+E+tfYThOctOic8rWSUc5Ul+MW/srsVb/bjqNCSW4OTL0Nal8GFw6ynSZ4iRuMXjWkfOycMjG83zeRJ6avYuX2dNtxVKiY84TzB6z9y3qF0NnQHoHyl6bVy/LSjXEMGpfKH+k61aU6S7+8D5u/gZs+BHeE7TTBzRWhYwTKf65rUpWUS2rTf8wijhyzc7maCgFpX8O3r0CvyVCinO00wU9LTCh/u/2KujQ+twz3T1pGXp5eSaSKafc6+OR2uHksVKhjO01o0BvKlL+JCC92i+PA0WxenrPOdhwVTA7vdaaavPYFOO9i22lCR6iWmBCR9iKyXkTSROSxk7xfS0Tmi8hSEVkhIh18mUf9VVSEi+F9Epiz6g+mLNpmO44KBjlZMKk3xN0ELZJtpwktodgjEBE3MBS4HmgMJItIwbtMngKmGGNaAknAu77Ko06ufKkoPkhpxStz1rFw0z7bcVQgMwZm3AuxVeCqp2ynCT0SmlcNXQikGWM2G2OOAZOALgWWMUAZz89lgZ0+zKMKUa9KLG8lteSeiUvYsvew7TgqUH33OuxZB92GO+UQlHe5XCFZa6g6kP98w3bPa/k9C/QRke3ALOAeH+ZRp3BpvUo8cE1D+o9eRPoRnepSFbD6U0j90JlqMqqk7TShKYxLTCQDo40xNYAOwDgR+VsmERkkIqkikrpnj9bX95VeF9Vy5j4ev5hsnepSHbdjMcx8AJInQJlzbacJXSF6Q9kOIP8EpTU8r+XXH5gCYIxZCMQAlQquyBgzwhiTaIxJrFxZKxr60hMdGhET6eaZz1ZrgToF6dthUh+44W04t7ntNKEtREtMLALqi0gdEYnCGQyeUWCZ34B2ACLSCKch0K/8FrldwtvJLVn625+M/H6L7TjKpqwMmJAErQdDo06204S+UOwRGGNygLuBOcBanKuDVovIcyLS2bPYg8BAEVkOTAT6Gf0aal1stFOgbsSCzXy9ZpftOMqGvFz4ZCBUaw6X3Gs7TXiwWGLCp8VBjDGzcAaB87/2TL6f1wCX+jKDOjM1ypdk+C0J9B+TykflLqJxtTKn/5AKHV//EzIPQo8xWkjOX7TEhApELWuV51+dmzBwbCq7D2mBurCxeAysmwk9x0FElO004SMUbyhToeGG5tW4ObEmA8cuJjNbp7oMeVsWwLznodcUKFnBdprwEqolJlRouLddPWpXLMmDHy/XAnWhbG+aM8FM95FQqb7tNOFHewQqkIkIL3dvxu8HjvLm3I224yhfOLLfKSTX9mmoe6XtNOEpREtMqBASE+lmRN9EPlmynU+XFrwdRAW1nGPOpPMNr4eEFNtpwpfLHZIlJlSIqRQbzciUVjz/xRoW/7rfdhzlDcY4dw1HxcI1z9lOE97EpaeGVHBoWLU0r93cnDs+WsK2/Udsx1Fna+E7sHMZdP/A+Uaq7AnFG8pU6LqqYRXubHM+/ccs4lCmFqgLWutmwcKh0GsSRMfaTqNCtMSECmEpl9TmojoVuWfiUnK0QF3w+X0FzLgbeo6HsjVsp1GgPQIVfESEf97QmNw8wwsz19qOo4rj0B8wMRk6vAY1EmynUceFcRlqFcQi3C7e6RXP92l7Gbdwq+04qiiOHXEagYR+0PRG22lUftojUMGqbIlIRqW04u15aSzYoIVjA1peHnw6GCrWgysesp1GFaQ3lKlgVqtiSd7tHc8/Ji9j465DtuOownzzb+e0UOf/aiG5QKQlJlSwa1W7Ak90aET/Mansy8iyHUcVtHwyrJjiDA5HxthOo05GewQqFHRPqMENzc9l8EeLycrRAnUB47efYM4T0GsyxOoMfwFLS0yoUPHgNQ2pFBvN45+s1KkuA8H+LU75iG7DoUoj22nUqWiPQIUKl0sYcnMLNu7K4N1vNtmOE94y02FiElz+ENS/2nYadTri0lpDKnSUiHLzQUoi43/6lf+t/N12nPCUmwMf3wq1L4eLBtlOo4rCpYPFKsScUyaGEX0TeerTVazYfsB2nPAz53HAQPv/2E6iikpvKFOhqGn1svz7xjgGjV3M7+lHbccJHz+PcGYa6zEa3D6dllx5k95QpkLVdU2qcuultek/OpXDWXbOf4aVjV/Dd69B8iSIKWs7jSoO7RGoUDboiro0rV6G+yYtI1enuvQZEUEaXIM8vBEq1LEdRxWX9ghUKBMRXugax6HMbF6Zvc52nNB0eK/tBOps6eWjKtRFRbh4r08Cc1b/weRFv9mOE1qyM2FSL9sp1NnSEhMqHJQvFcXIfq14dc56Fm7aZztOaDAGPr8XSle1nUSdLe0RqHBxfuVY3kpqyT0Tl7Bl72HbcYLfd6/B3g3Q9T3bSdTZ0hITKpxcWq8SD17bkP6jF3HgyDHbcYLX6umQOtq5QiiqpO006mxpj0CFm+QLa9H2girc8dESsnWqy+LbsRhmPgjJE/W0UKjQEhMqHD3eoRElo9w8/ekqLVBXHOnbYVJvZ16Bc5vZTqO8RUtMqHDkdglvJbdk2bYDjPx+i+04wSErAyYkQes74YKOttMobwqWG8pEpIyIlPZVGBV+YqMjGNmvFe9/t5mv1+yyHSew5eXCtAFQrQVcco/tNMrbAv2GMhFpJSIrgRXAKhFZLiIJvo2mwkX1ciV4r08Cj0xbwZqdB23HCVxfPQPHMqDjEJ1qMhQFQY9gJHCnMaa2MeY84C7gQ9/FUuGmZa3yPNelCQPHprL7YKbtOIFn8WhY/z+4eSxERNlOo3wh0HsEQK4x5rvjT4wx3wNaQUx5Vadm1ejZqiYDx6aSma1TXZ6w+VuY9wL0mgIlK9hOo3xFXIBxbhL0s6I2BN+KyHARaSMiV4rIu8A3IhIvIvGFfUhE2ovIehFJE5HHClnmZhFZIyKrRWTCmeyECh33tK1H7UqleHDKcvK0QB3sTYNp/aH7SKhUz3Ya5Usi1m4qK2qx8uaef/9Z4PWWgAHaFvyAiLiBocA1wHZgkYjMMMasybdMfeBx4FJjzJ8iUqWY+VWIERFe7t6M3h/8zJtfb+CBaxvajmTPkf0woQe0fRrqXmk7jfKHEzeV+XceiSJtzRhz1Rms+0IgzRizGUBEJgFdgDX5lhkIDDXG/OnZzu4z2I4KMTGRbobfkkC3d3+gbuVYurasbjuS/+Uccyadv6AjJKTYTqP8JRB7BCLSxxjzkYg8cLL3jTFDTvHx6sC2fM+3AxcVWKaBZzs/AG7gWWPM7NOmViGvUmw0I1NakTziJ2qUL0Fi7TA6N24MzPwHRJeGq/9lO43yJ0tlJk43RlDK82/pQh5nKwKoD7QBkoH3RaRcwYVEZJCIpIpI6p49e7ywWRUMGpxTmtdvbs4d45ewbf8R23H858f/ws7lcOP7zh8GFT4CsUdgjBnu+fdMvpbsAGrme17D81p+24GfjTHZwBYR2YDTMCwqkGMEMAIgMTFRRxDDSJuGVbj7qnrcNnoR0+68hDIxkbYj+da6mfDTuzDga4iOtZ1G+ZvLZaUhKOoNZZVF5AkRGSEio44/TvOxRUB9EakjIlFAEjCjwDKf4vQGEJFKOKeKNhdrD1TIS7mkNhefX5F7JiwlJ5QL1P2+HGbcA0njoWwN22mUDZZuKivq5aOfAWWBr4GZ+R6FMsbkAHcDc4C1wBRjzGoReU5EOnsWmwPsE5E1wHzgYWOMzlii/uaZTo3JM4YXZq61HcU3Dv4OE3tBx9ehut60H7Ys3VQmRan6KCLLjDEt/JDntBITE01qaqrtGMqCg5nZdH/3R265+Dz6XlzbdhzvOXYERndwrhC64uEzXo3kKzuh1VyD1OuNYMBXvuoRFlqXpKg9gi9EpIOXwih1RsrERDIypRX/nZfGtxtC5KKBvDz4dDBUagCXP2Q7jbLNUo/glA2BiBwSkYPAfTiNwVEROZjvdaX8qlbFkrzbO54HJi9j465DtuOcvfkvwqFdztwCWkhOBeLlo8aY0saYMp5/XcaYEvmel/FXSKXya1W7Ak92bMRtYxaxLyPLdpwzt3wSrPzYGRyOiLadRgUCsTM5TVGvGrpUREp5fu4jIkNEpJZvoylVuBvja9CleXVuH7eYrJwgLFD360KY8yT0mgylKtlOowJFIPYI8hkGHBGR5sCDwCZgnM9SKVUED1zTgCplonl82srgGhzdvwU+ToEbh0OVRrbTqEBi6YayojYEOcb5TesCvGOMGYp37ixW6oy5XMLrPVqQtieDofPTbMcpmsx0mNDTuTqo3tW206hAE+A9gkMi8jjQB5gpIi4gxG/xVMGgRJSbD/omMuHn35i54nfbcU4tNwc+7udUEr1woO00KhBJAN9ZDPQEsoD+xpg/cMpFvOqzVEoVQ5UyMbyfksjTn61i+bYDtuMUbvZjgMB1L9lOogJVIF4+CifmFZhojBlyfJYyY8xvxpixPk+nVBE1qVaW/9wYx6Bxqew8cNR2nL/7eQRs/Q56fAhu/9aaV0EkUEtMGGNygTwRKeuHPEqdsWubVKX/ZXXoPyaVw1kBNJPqxq/hu9ecK4Ri9NdInYKlHkFRv5pkACtF5Cvg8PEXjTH3+iSVUmdo4OV12bT7MPdNWsbwWxJwuyzfpLVrDUy/3blXoHxtu1lU4AvUHoHHJ8DTwAJgcb6HUgFFRHi+a1MysrJ5efY6u2Ey9sDEnnDdv6FWa7tZVHAI5B6BMWaMiJQAahlj1vs4k1JnJSrCxXt9Euj27o/UrVSKpAst3PuYnQmTe0OzntC8p/+3r4KTuAK3RyAiNwDLgNme5y1EpODcAkoFjHIloxiZkshrX67nx017/btxY5x5BUqfC22e8O+2VXBzRQRuiQngWZzJ6A8AGGOWAXV9lEkpr6hbOZa3k1py78SlbN6T4b8NL3gN9qVB12HOjFNKFVWA31CWbYxJL/BaCE8VpULFJfUq8dC1Dek/JpUDR475foOrPoHFoyF5IkSV9P32VGgJ8BITq0WkF+AWkfoi8l/gRx/mUsprki6sxdWNqnDHR0s4luPD7y/bF8Osh5xGoHRV321Hha4A7xHcAzTBubt4InAQuN9XoZTytseub0SpaDdPf7rKNwXqDmxzBoc7vwPnNvP++lV4COQSE8aYI8aYJ4F2wFXGmCeNMZm+jaaU97hdwltJLVmxI50Pvtvi3ZVnHYKJSXDxXXCBTuSnzkIg9whEpJWIrARW4NxYtlxEdIZtFVRKRUcwMiWRD77fzFdrdnlnpXm5MG0gVI+Hi+/2zjpV+ArwMYKRwJ3GmNrGmNrAXcCHPkullI9UK1eC4bck8ui0FazeWfD6hzPw1TNwLAM6vK5TTaqzF6hF5zxyjxecAzDGfA8EUDEXpYquRc1yPNelCQPHpLL74Fmc4Vw8Gtb/D24eCxFRXsunwlgglpgQkXgRiQe+FZHhItJGRK4UkXeBb/ySUCkf6NSsGskX1mLg2FSOHjuDX7zN38C8F6DXFChZwev5VJhy2RksPl2JidcLPP9nvp+DaG5Apf7u7rb12LQngwc/XsY7yfG4ilqgbu9GmDYAbhoFler5NqQKL5Z6BKdsCIwxV/kriFL+JiL8p3szen/wM298vYEHr214+g8d2Q8Tboa2T0OdK3wfUoUXV0RA9ggAEJFyQF+gdv7PaBlqFexiIt0MvyWBbu/+QN3KpejWskbhC+ccg8m3wAUdISHFfyFV+HC5wfi/aENR5yOYBfwErERLS6gQUyk2mpEprUge8RM1y5cksfZJzvkbAzP/4Uwsc/W//B9ShQdLl48WtSGIMcY84NMkSlnU4JzSDOnZgjvGL2Ha4EuoVbFAnaAf34bfl8Ots51vbUr5QiDfUAaME5GBInKuiFQ4/vBpMqX87MoGlbmnbT36j1nEwczs/39j7Rfw03uQPBmiY+0FVKEvkEtMAMeAV4GF/P/sZKm+CqWULX0vrs0l51fk7glLycnNc3oBn9/rTDVZtrrteCrUBXiP4EGgnufO4jqeh85HoELS050aA/Dm9G9hYjJ0HOKUkFDK1wK8xEQacMSXQZQKFBFuF+/0aEjnNQ+xpMqN0KSr7UgqXATynMXAYWCZiMzHKUUN6OWjKkTl5VFm1t24G7SgTdqVvLp+N20aVrGdSoUDcUNe9umX87KiNgSfeh5Khb75L0DGbkqlzGDY9sPcPm4xEwe1psE5pW0nU6HO5YKcAD01ZIwZA0wBfjLGjDn+ON3nRKS9iKwXkTQReewUy3UXESMiiUWPrpQPLJsIq6Y5g8MR0STWrsBTnRrRf8wi9mZknf7zSp2NQCw6d5yI3AAsA2Z7nrcQkRmn+YwbGApcDzQGkkWk8UmWKw3cB/xcvOhKedmvP8KXTzmXiZaqdOLlbi1r0LVFdW4ft5jMbP//kqowEuBlqJ8FLgQOABhjlgGnu2roQiDNGLPZGHMMmAR0OclyzwMvAzrjmbJn/2aYkgI3DocqF/zt7X9c3YCqZWJ4bNoK30x1qRQ4tYYslJgoakOQbYwpOIvH6dJWB7ble77d89oJnhLXNY0xM4uYQynvO3oAJiTBlY9AvatPuojLJbzWozlb9h7mnXlpfg6owkaAXz66WkR6AW4RqS8i/wV+PJsNi4gLGIJzj8Lplh0kIqkikrpnz56z2axSf5WbAx/3g7pt4MKBp1y0RJSb9/smMvGX3/hixU5/pFPhJsBvKLsHaIJz6ehE4CBw/2k+swOome95Dc9rx5UGmgLfiMhWoDUw42QDxsaYEcaYRGNMYuXKlYsYWanTMAb+94jzy3fdv4v0kSplYng/JZFnPlvNsm0HfBxQhZ1ALjFhjDlijHnSGNPK8wf5SWPM6c7pLwLqi0gdEYkCkoATA8zGmHRjTKV88yD/BHQ2xmjpCuUfv4xwBohvGgXuol5JDU2qleXl7s24fVwqOw4c9WFAFXYs9QhO+b//dFcGGWM6n+K9HBG5G5gDuIFRxpjVIvIckGqMOeW6lfKpjV/Bd69D/y+d0tLFdE3jc9i69zD9Ry9i6h2XEBtd9IZEqUKJG/ICbz6Ci3EGfCfiXN5ZxLn8HMaYWThzGeR/7ZlClm1TnHUrdcZ2rYHpgyFpApSvfcarGXB5HTbtyeD+SUsZfksi7qJOdalUYVxuyMvx/2ZP835V4Amcc/lvAdcAe40x3xpjvvV1OKW8LmMPTOwJ7V+CWhed1apEhOe6NOVwVi7/+d9aLwVUYS0QbygzxuQaY2YbY1JwBnPTcAZ37/ZLOqW8KTsTJvWCZknQ7GavrDIqwsWwPvF8vXY3E3/5zSvrVGEsUIvOiUg00BFIxpmz+G1gum9jKeVlxsCMu505Bdo87tVVlysZxciURG4evpDzKpTkknqVTv8hpU5GXIHXIxCRsTiT0cQD//JcNfS8MWbHqT6nVMBZ8Kpz93DXYU5hLy+rWzmWt5Nbcu+kpWzek+H19aswEaAlJvoA9XFqAf0oIgc9j0MictD38ZTyglXTYMlYSJoIkSV8tplLzq/EQ9c25LbRi/jz8DGfbUeFsEAsMWGMcRljSnseZfI9ShtjyvgrpFJnbHsqzHoYkidC6XN8vrmkC2txbZOq3DF+Mcdy/P8LrYJcgJeYUCr4HNgGk/tAl6FQNc5vm320/QXERkfy1KcrtUCdKp4ALzGhVHDJOgQTk+Diu6Hh9X7dtNslvJXUgpU7DvL+d5v9um0V5AK5xIRSQSUvF6YNgOoJcPFdViKUio5gZEoiI7/fwper/7CSQQUh7REo5SVfPQPZR6Dj6yD27vatVq4EI25J5LFPVrJqR8Eq7kqdhKUSE9oQqNCS+iFsmA03jwV3pO00NK9Zjue7NGXQ2FR2HdS5l9RpBGiJCaWCx+ZvYP6L0GsKlChvO80JHZudS6+LajFwbCpHj+lUl+oUArHEhFJBY88GmNofbvoQKp5vO83f3HVVPc6vHMuDHy8jL0+vJFKFCNAbypQKfEf2w4Sb4ep/Qp3Lbac5KRHhP93j2H0wiyFfbbAdRwWqQCwxoVTAyznm3CvQ6AaI72s7zSlFR7gZfksCny3fwSdLttuOowKRSweLlSoeY+CLf0BMObj6WdtpiqRibDSjUlrx4sy1LNq633YcFWh0jECpYvrhLfhjBXR/3/kmFSTqn1OaIT1bcOf4Jfy274jtOCqQuCJ0jECpIlv7Ofw8HJInQVQp22mK7coGlbm3bT1uG7OIg5nZtuOoQKE3lClVRDuXwef3QdJ4Z36BIHXLxbW5rF4l7hq/hJxcLVCn0BITShXJwZ3OLGOd3oDq8bbTnLWnOjbCJcJzX6yxHUUFAu0RKHUaxw47heRa9YfGXWyn8YoIt4v/9mrJT5v3MebHrbbjKNu0xIRSp5CXB9NvhyqN4bIHbKfxqjIxkYxMacXQ+WnMX7/bdhxlk/YIlDqFec/D4b1ww1tWC8n5Ss0KJRnWJ56Hpixn/R+HbMdRtojWGlLq5JZNgNWfQM/xEBFtO43PJJxXgac7Nab/mEXszciyHUfZoCUmlDqJX3+EL592CsmVqmg7jc91bVmdG1tWZ9DYVDKztUBd2NESE0oVsH8zTEmBG0dA5Ya20/jN/Vc34NxyJXh02gqd6jLcaIkJpfI5egAm9IQ2j0K9drbT+JXLJbzeozlb9x3hv/PSbMdR/qQlJpTyyM2Gj/vB+W2h1QDbaayIiXTzft8EJi/axufLd9qOo/xFS0wohVNI7n+POL8Q175oO41VVUrH8H7fRP45YzVLf/vTdhzlD3r5qFI49YN+XZhXU9MAABS8SURBVAg3jQJ3hO001jWuVoZXujdj8EeL2XHgqO04ytdErxpS4W7Dl/D9G9BrMsSUsZ0mYFzd+BwGXl6X/qMXkZHl/2vMlR+5XIBxesb+3Kxft6ZUYXathk/vcCadL3+e7TQBp/9ldWhZqxz3TVxKrk51Gdos9Aq0IVD2ZeyGCUnQ/j9Q6yLbaQKSiPBcl6Yczc7lpVlrbcdRvmRhnEAbAmVXdqZTTbRFMjTrYTtNQIt0uxjWO4F563Yz4effbMdRvhJqPQIRaS8i60UkTUQeO8n7D4jIGhFZISJzRUTPCYQTY+Czu6BsTWjzuO00QaFsyUhG9mvFkK/W80PaXttxlC+4/F9vyGcNgYi4gaHA9UBjIFlEGhdYbCmQaIxpBkwFXvFVHhWAvn0F/twCXd8NyUJyvlKnUin+mxzPfZOWsmlPhu04ytss3FTmyx7BhUCaMWazMeYYMAn4SxF5Y8x8Y8zxSVt/Amr4MI8KJCunwtJxkDQRIkvYThN0Lj6/Ig9f15D+oxfx5+FjtuMob3K5/F5mwpcNQXVgW77n2z2vFaY/8D8f5lGBYtsi56ax5ElQ+hzbaYJWz1a1uK5JVQZ/tJhjOTrVZcgIsR5BkYlIHyAReLWQ9weJSKqIpO7Zs8e/4ZR3HfgNJveBLu9C1aa20wS9R9pfQJkSkTz16UrbUZS3WChF7cuGYAdQM9/zGp7X/kJErgaeBDobY05ahN0YM8IYk2iMSaxcubJPwio/yDrkXCZ66b3QsL3tNCHB7RLe7NmCVTsO2o6ivMUVEVI9gkVAfRGpIyJRQBIwI/8CItISGI7TCOgcfaEsLxem9oearaD1nbbThJRS0RGM7JdoO4byllC6fNQYkwPcDcwB1gJTjDGrReQ5EensWexVIBb4WESWiciMQlangt2XT0POUejwml4h5APnltUB95Dh8v/kND6t6mWMmQXMKvDaM/l+vtqX21cBInUUbJwDA74Gd6TtNGFh18FMzikTYzuGOhPi/8lpQqK8Y25uLvv37yc7O9t2FL+LjIykQoUKuN1u21FObtN8mP8S3DYbSpS3nSZsDBiTypTbL6ZEVID+v1CFs1BiIiQagv379xMTE0OlSpWQMDrtYIwhIyOD/fv3E5CD6Hs2wCcDocdoqHi+7TRhpX6VWB6YsoyhveJxucLndyIkhNIYgT9lZ2cTGxsbVo0AOIXIYmNjA7MndHgfTLgZrn4Wal9mO03Yeal7HHsOZfH6V+ttR1HFFUolJvwtVBuBoUOHkpFReBmBgNzvnCznXoHGnaFlH9tpwlJ0hJvhtyTw+fLfmbZ4u+04qjjE/4PFIdMQ2BYbG+v1dX700Ufs27fPJ+v2GWPg8/uhZAVo96ztNGGtYmw0I1MS+festfyyZb/tOKqoXP4fLNaGIIDl5uby9NNP245RPD+8CbtWwY0jPLMtKZvqn1OaN3q24K4JS/h132HbcVRRhGuJiVCSkZFBu3btiI+PJy4ujs8++wyAw4cP07FjR5o3b07Tpk2ZPHkyAI899hiNGzemWbNmPPTQQwD069ePqVOnkpKScmIcICismQE/j3CmmowqZTuN8riiQWXubVef/mNSST8agONJ6q8slJgIiauGAklMTAzTp0+nTJky7N27l9atW9O5c2dmz55NtWrVmDlzJgDp6ens27eP6dOns27dOkSEAwcOWE5/FnYuhS/uhz7ToEw122lUAbe0Po9NuzO4e8ISRvVrRaRbvwMGLAslJkKyIaj92Eyvr3PrfzoWaTljDE888QQLFizA5XKxY8cOdu3aRVxcHA8++CCPPvoonTp14vLLLycnJ4eYmBj69+9Pp06d6NSpk9dz+8XBnTCpN3R6E6q1tJ1GFeKpjo0YMDaVZ2es5oWuTQPzQgPlDBZrj+DsFfWPti+MHz+ePXv2sHjxYiIjI6lduzaZmZk0aNCAJUuWMGvWLJ566inatWvHM888wy+//MLcuXOZOnUq77zzDvPmzSMiIoI8z2BRXl4ex44FcL35Y4dhYhK0GuBcJaQCVoTbxX+TW9J92I+M/nErt15ax3YkdTI6Z3HwS09Pp0qVKkRGRjJ//nx+/fVXAHbu3EnJkiXp06cPDz/8MEuWLCEjI4P09HQ6dOjAG2+8wfLlywGoXbs2ixcvBmDGjBmBeZ8AOFc2fDIIqjSBy/5hO40qgtIxkYxMacWwbzYxf53WeQxIWmIi+PXu3ZsbbriBuLg4EhMTueCCCwBYuXIlDz/8MC6Xi8jISIYNG8ahQ4fo0qULmZmZGGMYMmQIAAMHDqRLly40b96c9u3bU6pUgA68znsOjuyHm0ZpIbkgUrNCSYb1iWfQ2MWMH3gRF1QtYzuSys9Cj0CMMX7d4NlKTEw0qampf3lt586dVKsWvgOUVvZ/6XhY8AoMmAelKvp32+qk8p/zL8rv9WfLdvDK7PV8etelVC4d7ctoqjgmJEF8X7igg7fXXOi3NT01pIpv6w/w1TPQa4o2AkGsS4vqdE+owaBxqWRm+/cbqDoFHSNQAW/fJvi4H3R/Hyo3tJ1GnaV/XF2f6uVK8MjUFUXqRSg/EJfWGlIB7OifMKEntHkMzm9rO43yAhHhtR7N+XX/Ed6em2Y7jgK9oUwFsNxsmNQHKtWHsjVgwxzbidSpFOP4xADvX2ro9vkB6uSk0bmufj+06sh+MHrVkAo0xsAXD0BWOjS90bmBTAW2Yh6jKsAHF7vpvaA8NeQA8RX9e2pC5ZObpfMRqAD00zDYPB+a93bOX6qQ1KhcLq8mHmTwwrJsP6zH2R4tQ60CzYY5sOBVSOgHkToHbqhrV+0YgxocYcCP5cjI1ntDrLBQYkIbggCWm2v5kr5dq507h+NvgZJ6mWi46F//KC0rZHPvz2XI1QuJ/E9EewTB7Pnnn6dhw4ZcdtllJCcn8/LLLxMfH3/i/Y0bN554PnfuXFq2bElcXBy33XYbWVlZgFNe4tFHHyU+Pp6PP/6Yt99++0SZ6qSkJP/tTMZu+OgmaHQDlNeaNOFEBJ5reYjMXOHfK4KkBHoo0aJzwWvRokVMmzaN5cuXk52dTXx8PAkJCZQtW5Zly5bRokULPvzwQ2699VYyMzPp168fc+fOpUGDBvTt25dhw4Zx//33A1CxYkWWLFkCQLVq1diyZQvR0dH+K1OdfRTG3wznNofqCf7ZpgookS4YdnE63eaVp27pGHrXzbQdKYyIXjXkFc+W9cE600/59g8//ECXLl2IiYkhJiaGG264AYABAwbw4YcfMmTIECZPnswvv/zC+vXrqVOnDg0aNAAgJSWFoUOHnmgIevbseWK9zZo1o3fv3nTt2pWuXbt6f78KMgam3w7uCKh/re+3pwJW2SjDyEvT6fFNOc4rlctl5wRo8cNQI6I9Aq84zR9tf+revTv/+te/aNu2LQkJCVSsWJHt2089mXj+InMzZ85kwYIFfP7557z44ousXLmSiAgfHrb5L8Efq+Ci27WQnKJO6VzeaX2Qu38qy6Qr/6ReGS1F4XM6RhC8Lr30Uj7//HMyMzPJyMjgiy++AJwZy6677jruuOMObr31VgAaNmzI1q1bSUtz7uQcN24cV1555d/WmZeXx7Zt27jqqqt4+eWXSU9PJyMjw3c7sXIqLB4F8SngjvLddlRQaV05m0fiMuj/Q1n+zNIvB76nJSaCVqtWrejcuTPNmjXj+uuvJy4ujrJlnVNUvXv3xuVyce21zqmWmJgYPvzwQ3r06EFcXBwul4vBgwf/bZ25ubn06dOHuLg4WrZsyb333ku5cuV8swPbFsHMByHhVojRssTqr26unUn76lncvrAsx/x7+jr8CHpqKJg99NBDPPvssxw5coQrrriChARnoPX777/n1ltvxe12n1i2Xbt2LF269G/r2Lp164mfIyMj+f77732emwO/ObOMxfXQ+YZVoR6NO8zghWV5cklpXkk4pGcOfUVcOlgczAYNGsSaNWvIzMwkJSWF+Ph4unXrxqZNm5g3b57teCeXeRA+6g51LodzmthOowKYS+DNC9Pp8U15hm8oyeCGR2xHClE6WBzUJkyY8LfXpk+fbiFJEeXlwscpEHsO1L7CdhoVBEpGwAeXpNNtfnlqx+bQvnoAz6cdrER0jED50ezH4dAf0LirXiGkiuzcknmMuDidJxaXYdWf+l3S67TExJkL10k1zni/f/kA1n0OLfo49c+VKoZmFXJ4Mf4QA38syx9HQ+bPSGAQLTp3RiIjI8nIyAi7xsAYQ0ZGBpGRkcX74Kb5MP8F5wqhqJK+CadC3vU1suhz/lEG/FCWI1q12nsszFAWEv26ChUqsH//fg4dOmQ7it9FRkZSoUKFon9gzwZnqsmWfaBUZZ/lUuHhzoZH2HTIzQOLyvBu64O49Azj2Qu1WkMi0h54C3ADHxhj/lPg/WhgLJAA7AN6GmO2Fnc7brebypX1j9ppHd4HH90IDa+HivVsp1EhQAReij9EnwXleG1VKR6JO2w7UvALpTuLRcQNDAWuBxoDySLSuMBi/YE/jTH1gDeAl32VJ+zlZMHEnlD5Aqh5ke00KoREu2H4Jel8sT2GqVt1zoqzFmKDxRcCacaYzcaYY8AkoEuBZboAYzw/TwXaiejlK15nDMy4G3JznN6AUl5WIdow6tIDvLQylp/3FHPMSv1ViI0RVAe25Xu+HSj4VfTEMsaYHBFJByoCewtd6/7NMKFnoW+rk8g6BBm74MpHIUK/sYUFCxMJ1SsJb15uuPP7crSo5PfNh4zLMsvR+einbFt3nVfX2+LROYW+FxSDxSIyCBjkeZolvaesspnHyypxqobPq/zSgPpxf/wiKPdHmhTsfJ/gl/1Z4usN/L+gPD6nUGnUif3Z5N01PyazjTHtT/aWLxuCHUDNfM9reF472TLbRSQCKIszaPwXxpgRwAgAEUk1xiT6JLEFuj+BTfcnsOn+eIcvxwgWAfVFpI6IRAFJwIwCy8wAUjw/3wTMM+F2M4BSSlnmsx6B55z/3cAcnMtHRxljVovIc0CqMWYGMBIYJyJpwH6cxkIppZQf+XSMwBgzC5hV4LVn8v2cCfQo5mpHeCFaINH9CWy6P4FN98cLRM/EKKVUeAuJWkNKKaXOXFA1BCLSXkTWi0iaiDxmO09xiEhNEZkvImtEZLWI3Od5vYKIfCUiGz3/lredtThExC0iS0XkC8/zOiLys+cYTfZcKBAURKSciEwVkXUislZELg7m4yMi//D8X1slIhNFJCaYjo+IjBKR3SKyKt9rJz0e4njbs18rRCTeXvKTK2R/XvX8f1shItNFpFy+9x737M96EfHuTQUFBE1DUMSSFYEsB3jQGNMYaA3c5cn/GDDXGFMfmOt5HkzuA9bme/4y8IanbMifOGVEgsVbwGxjzAVAc5z9CsrjIyLVgXuBRGNMU5wLNpIIruMzGih43Xthx+N6oL7nMQgY5qeMxTGav+/PV0BTY0wzYAPwOIDnb0MS0MTzmXc9fwN9ImgaAopWsiJgGWN+N8Ys8fx8COePTHX+WmZjDNDVTsLiE5EaQEfgA89zAdrilAuBINofESkLXIFzJRvGmGPGmAME8fHBuRikhOcenZLA7wTR8THGLMC5mjC/wo5HF2CscfwElBORc/2TtGhOtj/GmC+NMcfrSfyEc78VOPszyRiTZYzZAqTh/A30iWBqCE5WsqK6pSxnRURqAy2Bn4FzjDG/e976AzjHUqwz8SbwCHB8pu2KwIF8/7GD6RjVAfYAH3pOdX0gIqUI0uNjjNkBvAb8htMApAOLCd7jc1xhxyMU/j7cBvzP87Nf9yeYGoKQICKxwDTgfmPMwfzveW6mC4rLuESkE7DbGLPYdhYviQDigWHGmJbAYQqcBgqy41Me51tlHaAaUIq/n5YIasF0PE5HRJ7EOX083sb2g6khKErJioAmIpE4jcB4Y8wnnpd3He/Cev7dbStfMV0KdBaRrTin6drinGMv5zkVAcF1jLYD240xP3ueT8VpGIL1+FwNbDHG7DHGZAOf4ByzYD0+xxV2PIL274OI9AM6Ab3zVVbw6/4EU0NQlJIVActz/nwksNYYMyTfW/nLbKQAn/k725kwxjxujKlhjKmNcyzmGWN6A/NxyoVAcO3PH8A2EWnoeakdsIYgPT44p4Rai0hJz/+94/sTlMcnn8KOxwygr+fqodZAer5TSAFLnMm7HgE6G2OO5HtrBpAkItEiUgdnEPwXnwUxxgTNA+iAM7K+CXjSdp5iZr8Mpxu7AljmeXTAOa8+F9gIfA1UsJ31DPatDfCF5+e6nv+wacDHQLTtfMXYjxZAqucYfQqUD+bjA/wLWAesAsYB0cF0fICJOOMb2Tg9tv6FHQ9AcK4q3ASsxLlayvo+FGF/0nDGAo7/TXgv3/JPevZnPXC9L7PpncVKKRXmgunUkFJKKR/QhkAppcKcNgRKKRXmtCFQSqkwpw2BUkqFOW0IlLJIRL4RkZCZc1cFJ20IlFIqzGlDoFQBIlJKRGaKyHJPLf+eIrJVRF4RkZUi8ouI1PMsW1lEponIIs/j0nzrGOVZdqmIdPG8XkJEJnnmO5gOlLC4q0oBPp6zWKkg1R7YaYzpCCdKVL+MU7YgTkT64lRe7YRTX+kNY8z3IlILmAM0wrkrdJ4x5jbPZCO/iMjXwO3AEWNMIxFpBizx+94pVYDeWaxUASLSAPgSmIxTOuM7T3G9tsaYzZ7igX8YYyqKyG5gZ76PVwYaAt8AMTgVJQEqANcBLwFvG2Pmeba1BBhkjEn1/Z4pdXLaI1CqAGPMBs9Uhx2AF0Rk7vG38i/m+dcFtDbGZOZfh6fQW3djzPoCr/sotVJnTscIlCpARKrhnL75CHgVpxw1QM98/y70/PwlcE++z7bw/DgHuMfTICAiLT2vLwB6eV5rCjTz0W4oVWTaI1Dq7+KAV0UkD6dS5B048xOUF5EVQBaQ7Fn2XmCo5/UInD/0g4HnccYRVoiIC9iCM6YwDGcWtLU405WGysQ+KojpGIFSReAZI0g0xuy1nUUpb9NTQ0opFea0R6CUUmFOewRKKRXmtCFQSqkwpw2BUkqFOW0IlFIqzGlDoJRSYU4bAqWUCnP/B3l4dZbtV5yMAAAAAElFTkSuQmCC\n",
                "text/plain": "<Figure size 432x288 with 1 Axes>"
              },
              {
                "output_type": "display_data",
                "metadata": {
                  "tags": [],
                  "needs_background": "light"
                },
                "image/png": "iVBORw0KGgoAAAANSUhEUgAAAYgAAAEICAYAAABF82P+AAAABHNCSVQICAgIfAhkiAAAAAlwSFlzAAALEgAACxIB0t1+/AAAADh0RVh0U29mdHdhcmUAbWF0cGxvdGxpYiB2ZXJzaW9uMy4yLjIsIGh0dHA6Ly9tYXRwbG90bGliLm9yZy+WH4yJAAAgAElEQVR4nO3dd3hUZd7/8fed3hspdAjpgDQpKkVIYEXX8qxbXX123V31cde2u/581l3XCqz1sWDDzrr2VddCkB5ApEsnIYUQQkJLKCGVtPv3xwyKGMhMMpP7TOb7uq65ZCZnznwSYb45Z875HKW1RgghhDiTj+kAQgghrEkGhBBCiDbJgBBCCNEmGRBCCCHaJANCCCFEm2RACCGEaJPbBoRS6nWl1GGl1I6zfF0ppWYrpYqUUtuUUqPclUUIIYTz3LkFMReYfo6vXwqk2G83AS86stLp06drQG5yk5vc5ObczWluGxBa65XA0XMschXwprZZC0QppXq1t97KykpXRRRCCHEOJj+D6APsO+1+mf0x4UVydh3m5y+tobW1Q7/gCFdraYJXsqBklekkwgI84kNqpdRNSqmNSqmNFRUVpuMIF2luaWVmdi4lR2r5ZEu56TgC4Ou5cKIcFt4Dra2m0wjDTA6IcqDfaff72h/7Hq31y1rr0Vrr0XFxcV0STrjfBxvLiA8P4tlrRvF/iwpoaGoxHcm7nayGFY/BNe+BUrDzY9OJhGF+Bl/7M+BWpdR7wDigSmt9wGAe0YXqGpt5ZmkBr/xqNMP6RpHRK4J/rdnLjZMGmY7mvVY/C0lToPcImPYQfHYbZFwBfoGmkzmspaWFo0eP0tTUZDqKMf7+/sTExODr69vpdbltQCil3gUmA7FKqTLgfsAfQGs9B5gPXAYUAXXAb9yVRVjPq1/uYWxiD4b1jQLgL9PT+PnLa/nZ6H5EhvgbTueFqg/C+pfhphW2+4mTIDYVNr4OF/zebDYnHD16lKCgIGJjY1FKmY7T5bTW1NTUcPToUVyxt8VtA0JrfU07X9fALe56fWFdlTUneeOrPXx6y4RvHktJCOeSIQm8sLyIv16WYTCdl1r+CIy4FqIHfPvY1AfhzSthxC8hKNJcNic0NTV57XAAUEoRFhZGdXW1S9bnER9Si+4lLjyILfdfwoDYUEqP1H1z++n5/Xh3Qynlx+tNR/QulYWQ9xlMvPO7jycMhpRLYNXTZnJ1kLcOh1Nc+f3LgBBdak9l7Xfuryqq/Oa262A1owfE8NiCXYbSeaklD8BFt0NIzPe/NuVv8PUbcGJ/l8cS8NprrzF37lyuuOIKI+eAyYAQXeqRL/LO+fUJybEsz68gd/+JLkrk5UrXwv4tMO5/2v56ZB84/3rI+UeXxvJks2fPJiMjg2uvvbbNry9fvpzLL78cgAceeIAnnniizeVaW1uZP38+MTExXHrppcTGxrot89mYPIpJeJnNpcfYUHKuk+shyN+XSamxzJqfy9s3XNBFybyU1rD4Psi8B/yDz77c+D/Cc6PhcB7Ey+dD7XnhhRdYsmQJffv27dR6fHx8+Oijj1yUqoMZjL668Bpaa2bMy2Vyany7y44ZGEPhoRq+KpJaFbfalQ0na2DYz8+9XHAUTPiTbVeUOKebb76Z4uJiLr30UmbNmsVvf/tbxo4dy8iRI/n000/bfE5ubi6TJ09m0KBBzJ49+5vHn3zySYYOHcrQoUN5+mnb50C1tbX88Ic/ZPjw4QwdOpT333/frd+PDAjRJZbtOszBEw2M7B/d7rJ+Pj5kpsczY16uVHC4S0uz7Q1/2oPg48Dx8mNugMO5UsHRjjlz5tC7d29ycnKora0lMzOT9evXk5OTw1133UVtbe33nrNr1y4WLlzI+vXrefDBB2lqauLrr7/mjTfeYN26daxdu5ZXXnmFzZs3s2DBAnr37s3WrVvZsWMH06efqw+182QXk3A7W6VGHlPTE/D1cewIi6F9IllbfITPt+3nqhFS0eVym9+EiF6QPNWx5f0CIfM+WHQv3LjMdqa1Bxh4d7bL11nyyA8dWm7RokV89tln33zG0NDQQGlp6feW++EPf0hgYCCBgYHEx8dz6NAhVq1axY9+9CNCQ0MBuPrqq/nyyy+ZPn06d955J3/5y1+4/PLLmThxouu+sTbIgBBu99GmMvx8FGk9wx1+jo9STM1I4JEvdjF9aE8C/Tp/VqiwO1kDyx+Fa9517o1+6I9hzbOw8z8w9Gr35XMhR9/M3UFrzUcffURaWtp3Hj906NB37gcGfnumuq+vL83NzWddZ2pqKps2bWL+/Pn8/e9/Jysri/vuu8+1wU8ju5iEW9U3tvD4wnymZiQ4fXz2oLgwokMD+NeavW5K56XWPA8Dx0MfJ6/R5eNjO3lu6UPQ3OiebN3IJZdcwrPPPovtnGDYvHmzw8+dOHEin3zyCXV1ddTW1vKf//yHiRMnsn//fkJCQrjuuuu466672LRpk7viA7IFIdzs1VXF9I0OoV9MSIeePzUjgedyivjp6H5EBksFR6fVVMC6F+HGnI49P2kKxAyytb6Ou8ml0bqbe++9lz/+8Y8MGzaM1tZWEhMTmTdvnkPPHTVqFNdffz1jx44F4IYbbmDkyJEsXLiQu+66Cx8fH/z9/XnxRYeus9Zh6tR08xSjR4/WGzduNB1DOOBobSOTH8/hxomD6BH27Wb0tRd8W+fw9tr2tw4+2VzGyP7RUsHhCtn/D3z84NJHOr6Og9vhX1fDbV9DUITrsrnA/v376d27t+kYxp3l5+D0B0eyi0m4zTNLChjaJ/I7w6EjpqQn8M66Ug5USQVHpxzZDTs+gkl3dW49Pc+DpExYPbv9ZYVHkwEh3KL0SB0fby5nclr75z20JzLYn9EDo3l8Yb4LknmxpQ/CRbdCaI/OryvzHtjwqq0FVnRbMiCEWzz8RR4XDIohLNA1H3NNSI5jSe4h8g+6pqXS6+zbYLuNc1F1d1R/GHkdLH/YNesTliQDQrjctrLjrCk+wvgk1139LzjAl4kpcczMznXZOr3GqUqNKX+FgI4dLNCmCX+GvM+hQrbsuisZEMKlTlVqTEmLJ8DPtX+9xiXGkHfgBGt2H3Hperu9ggVQfwyG/9K16w2JsfU0LXnQtesVliEDQrjU8oIKyo7VM8qBSg1n+fn6kJmewIx5uXja0XfGnKrUmPoA+LrhqPaxN8HBbbZWWNHtyIAQLtPSqpk1L48sJyo1nDWsbyQ1J5vJ3i6XL3fIlrchpAekXuKe9fsHwZR7bBUcMrS7HRkQwmU+3lSGRpPRy/FKDWedquB4eP4uGptb3fY63UJjne1SotNmuLc7adjPoKne9nmE6FZkQAiXaGjqeKWGs5Ljw4gM9uOddVLBcU5rX4B+Y6Hv+e59HR9fmPaA7TDalib3vpbFlZSUkJGRwY033siQIUP4wQ9+QH19Pa+88gpjxoxh+PDh/PjHP6aurg6A66+/nptvvpnRo0eTmpr6zZnWDQ0N/OY3v+G8885j5MiR5OTYznzfuXMnY8eOZcSIEQwbNozCwkK3fj8yIIRLvPHVHnpFBjGgR2iXvF5WRgLPLC2kusG735DOqrbS1rmU5b4it+9IyoKIPrDpza55PQsrLCzklltuYefOnURFRfHRRx9x9dVXs2HDBrZu3UpGRgavvfbaN8uXlJSwfv16srOzufnmm2loaOD5559HKcX27dt59913+fWvf01DQwNz5szhjjvuYMuWLWzcuLHTFyVqj3QxiU47VtvInBXF/HZ8Ype9Zq/IYJLiw5izfDd3TU/vstf1GCsfh/N+Aj2Suub1lIJpD8E7P7NdgCgwrGtetz0PRLphnVXn/HJiYiIjRowA4Pzzz6ekpIQdO3bw97//nePHj1NTU8Mll3z7mdDPfvYzfHx8SElJYdCgQezatYtVq1Zx2223AZCens6AAQMoKCjgwgsvZNasWZSVlXH11VeTkpLi+u/vNDIgRKfNXlbI4F4RxIV3rlLDWZlp8by4Yje/umggCRFBXfralna0GLa9D7ds6NrX7T0CEifBmudg8t1d+9pn086buTucWd9dX1/P9ddfzyeffMLw4cOZO3cuy5cv/2aZM3fJnmsX7S9/+UvGjRtHdnY2l112GS+99BKZmZku/x5OkV1MolP2Ha3jw41lTE5z3UlxjooKCWBU/2ieWCQnan3H0hlwwR8grOv/n5D5d1g3B6oPtb+sF6murqZXr140NTXx9ttvf+dr//73v2ltbWX37t0UFxeTlpbGxIkTv1muoKCA0tJS0tLSKC4uZtCgQdx+++1cddVVbNu2za25ZUCITnls4S7GDYohPMhMFfeklDgW7jhI0WGp4ACg/GsoXQMX3mLm9aMH2k7IW9GJtthuaMaMGYwbN47x48eTnv7dXaL9+/dn7NixXHrppcyZM4egoCD+8Ic/0NraynnnncfPf/5z5s6dS2BgIB988AFDhw5lxIgR7Nixg1/96lduzS1136LDdpRXcd2r67gjK4VAf8ev+OZs3Xd7VhVWUN/Uwhu/GdvpdXk0reGfV9iu/Db6N+Zy1B2F50bDbxdCrHv3kZ/J0+q+r7/+ei6//HJ+8pOfuHS9UvctjJuZncek1DinhoM7jBvUg21lVWwoOWo0h3GFi6HmEIz8b7M5QmLgwltth70KjyYDQnTIyoIK9lTWMGZgjOko+Pv6kJkez0Ofe3EFR2sLLLnffZUazrrg91C+CfatN53E0ubOnevyrQdXkgEhnNbaaivkc2elhrOG94vieF0jC3d66fUJtr4LgRGQdpnpJDb+wTDlb7YW2S4e2l77S4KdK79/GRDCaZ9sKae5VTOkt3UuN+mjFFkZCczKzqOpxcsqOJrqIecf8AM3V2o4a/g10FAF+fO77CX9/f2pqanx2iGhtaampgZ/f9ccNGKBbVHhSRqaWnhsQT5XDO/t9koNZ6XEh7G2+AjvrS/lvy8caDpO11k3B/qMstVqWImPL0x9EBbdAymXdMmur5iYGI4ePUp1tfce1ebv709MjGt2/cqAEE55c3UJseEBJMZ2TaWGM5R9K+KpJYX8aFRfl13NztLqjsJXs+F3i0wnaVvKNNu1q7e8Bedf7/aX8/X1JS7OwPkf3ZTsYhIOq6pr4vnlu8lKTzAd5az6RAWT2COUl1bsNh2la6x8Aob8V5cfTuowpWDag7ZW2cZa02mEk2RACIc9m1NIRs9wy9daTEmPZ+7qEg5XN5iO4l7HSmDrOzD5r6aTnFuf86H/hbDmBdNJhJPcOiCUUtOVUvlKqSKl1PfKWZRS/ZVSOUqpzUqpbUopixyCIc5Ufrye99fvY3JavOko7YoJDWBEvyieXFRgOop7LZsJ426GMOv/PyHrXlv9eG2l6STCCW4bEEopX+B54FJgMHCNUmrwGYv9HfhAaz0S+AUgv2JY1GMLdjEmMYaIYDOVGs66OCWO+dsPsLuixnQU99i/BfZ8aTshzRPEDLJdWGjFY6aTCCe4cwtiLFCktS7WWjcC7wFXnbGMBk4dKxkJ7HdjHtFBuftPsDy/ggnJsaajOCwk0I+LkmL5x/w801FcT2vb+QUX32WdWm1HTLoLtv8bjnjJ50PdgDsHRB9g32n3y+yPne4B4DqlVBkwH7jNjXlEB82an8uk1FiCDFdqOOvCpB5sKT3O13u7WQXH7qVwohxG/dp0EueExtpKBJfNMJ1EOMj0h9TXAHO11n2By4B/KaW+l0kpdZNSaqNSamNFRUWXh/RmXxVVUnjIGpUazvL39WFyWjwz5uV1nxOnWlth8QOQdT/4esbuvu+44A9Qug7KvjadRDjAnQOiHOh32v2+9sdO9zvgAwCt9RogCPjefgyt9cta69Fa69FyjHPXOVWpkZkej5+P6d8lOmZk/ygqa06yOLebXJ9g+we2GouMK0wn6ZiAENvFhAxUcAjnufNf/QYgRSmVqJQKwPYh9GdnLFMKZAEopTKwDQjZRLCIz7ftp6GphfP6uOGyjV3ERymy0hOYNT+PZk+v4GhqsB25NO0ha1VqOGvEtVBbAYUWPblPfMNtA0Jr3QzcCiwE8rAdrbRTKfWQUupK+2J3AjcqpbYC7wLX626zL8CznWxu4ZEvdjE1I8FylRrOSk0II9DPh/c37mt/YStb/zL0HAYDLjSdpHN8/Wwnzy2+39ZCKyzLrfsNtNbztdapWuskrfUs+2P3aa0/s/85V2s9Xms9XGs9Qmstv1JYxL/W7CUmNIBBcR50lMxZKKWYmpHAk4sLqGtsNh2nY+qOwldPw9T7TSdxjdTpEBwNW94xnUScg2fuWBZuVVXfxHPLisjKsG6lhrP6RocwICaEl1cWm47SMauehPTLIS7NdBLXUMrWPpvzD2isM51GnIUMCPE9L+QUkZoQRk+LV2o4KzM9gddX7aGy5qTpKM45vg82v2X9Sg1n9R1tu6170XQScRYyIMR3HKiq5511pUyxcCFfR8WEBjCsbxRPL/GwCo6cWTDmBojoZTqJ62XdD6ufg9ojppOINsiAEN/xxMJ8Rg+MJtJDKjWcdXFqHJ9u2U9JpYc0ix7cDkVL4aLbTSdxj9hkGHo1fPmE6SSiDTIgxDfyD1azOPcQE5K777kmoYF+XJTUg4e/8JAKjsX3w6T/B0HWuXqfy138F9slU4/uMZ1EnEEGhPjGrOxcJqbEERzgWZUazrpwUCwbSo6yZd9x01HOrXg5HC2G839jOol7hcXbWmmXzTSdRJxBBoQAYM3uI+QeOMG4RM+r1HBWgJ8Pk1Pjeejzndat4GhttZ1tnHUf+AWYTuN+F94KJatg/2bTScRpZEAItD5VqZGAn693/JUYNSCagycaWLbrsOkobdvxEShfGPIj00m6RmAYXPy/UsFhMd7xbiDOKXv7AWpONjOsr+dWajjrVAXHzGwLVnA0n4RlD3l+pYazRv0KTuy3fSgvLEEGhJdrbG7l4fm2Sg0fb3ozAtJ7huPno/hoU5npKN+14TWIy4DEiaaTdC1ff5j6ACyRCg6rkAHh5d5et5eIYD+S4z2/UsNZpyo4Hl+YT32jRd6Q6o/Dl/9ne6P0RumXQ0AobHvfdBKBDAivVt3QxOylhUztRpUazuoXE0Lf6BBeXWWRCo6vnoa06ZBw5tV5vYRStl1ry2bZ2muFUTIgvNic5btJig+jV2Sw6ShGZaXH88rKYo6YruCoKoev58Lkv5nNYVr/C6D3CFj/kukkXk8GhJc6dKKBN9fuJTMt3nQU43qEBTK0TySzlxaaDbL8H7ZzHiLPvDKvF8q6H756xtZiK4yRAeGlnliUz6j+0USFeMEx9g6YnBbPx5vLKT1iqFn0UC4ULIQJfzTz+lYTlwoZV9o+jxHGyIDwQkWHq1m44yCTUrpvpYazwgL9uGBQjLkKjiUPwMQ7Ich7DjVu1+S7YcvbcGyv6SReSwaEF5qZnceE5NhuX6nhrPFJcawpPsLWrq7g2PMlVOyC0b/t2te1uvCeMOZGW5utMEIGhJfZUHKU7WVVjBvUw3QUywnw82FKWjwzs3O7roJD69MqNQK75jU9yfjbbZ1UB7aZTuKVZEB4Ea01D32eS2Z6PP5eUqnhrFH9oyk7Vs/y/IquecGd/wHdCkOu7prX8zSB4TDpLtsQFV1O3iW8yIIdBzle18jwflGmo1iWr48iK922FdHS6uatiOZGWGqv1PCRf4pndf71cHwv7F5mOonXkb+VXqKppZV/zM8jywsrNZyV0SsCDXzs7gqOr9+AHkkw6GL3vo6n8/W3Hfa6+H5by63oMjIgvMR760sJDfQjxQsrNZyllGKavYKjoclNFRwNJ2Dl4zD1Qfesv7sZfBX4BsCOD00n8SoyILxAzclmnlpSSFZGAkq2HhwyoEcoPSODeH2Vm65y9tUzkDwNeg51z/q7m1MVHEtnSAVHF5IB4QVeWrGbxB6h9Iny7koNZ2WlJ/DSymKO1Ta6dsUn9sPG12CKl1dqOGvgeEgYAhteNZ3Ea8iA6OYOVzcwd3UJU9KlUsNZceGBDO4VwexlLq7gWP6w7doHUf1cu15vMPUBWPUU1B8zncQryIDo5p5cVMCIflHEhEqlRkdMTovjw41l7DvqogqOw7tg13yY8CfXrM/bxKdD+mW2ISHcTgZEN7a7oobs7Qe4WCo1Oiw8yJ9xg2J4dMEu16xwyQO2vqXgaNeszxtN/htsehOqLHahp25IBkQ39vD8PMYnxRIS6Gc6ikcbnxTLqsJKdpRXdW5Fe1fDoZ22+gjRcRG9YPTvIOcfppN0ezIguqmv9x5jU+lxLkySSo3OCvT3ZVJqHDOzO1HkpzUsuhcy/w7+Qa4L563G3wGFi20DV7iNDIhuyFapsZMpaXFSqeEiYwbGsKeyhpUFHazgyP0UWk7CeT91bTBvFRRha79dfL/pJN2aU+8eSqkIpVS4u8II11ice4jKmkZG9pf93K5iq+BIYGZ2Lq3OVnC0NEmlhjuM/i0cKYQ9K00n6bYc+tuqlBqjlNoObAN2KKW2KqXOd2800RHNLa3Mmp/H1Ix4qdRwsSG9I2hq0Xyypdy5J349F6L6Q1KmW3J5Lb8AWwvuonulgsNNHP115jXgD1rrgVrrAcAtwBvuiyU66v2N+wj08yE1QTb0XE0pxdSMBB5b4EQFx8lqW6XGNKnUcIvBPwLlAzs/Np2kW3J0QLRorb88dUdrvQpodk8k0VF1jc08ubiAqVKp4TaJsaHEhgfy5uoSx56w+lkYNBl6DXdjKi/m42PbdbdsBjSfNJ2m23F0QKxQSr2klJqslLpYKfUCsFwpNUopNepsT1JKTVdK5SulipRSd59lmZ8ppXKVUjuVUu905JsQNq+s3MOAmBD6RoeYjtKtZaXH8/zy3VTVNZ17wepDsP5lmHJP1wTzVokTITYVNr5uOkm34+gB8qd+/TnzkIGRgAa+t3NVKeULPA9MA8qADUqpz7TWuactkwL8FRivtT6mlJI+iA6qrDnJa6uKuWlSkuko3V5CRBDpPcN5LqeQe344+OwLrngERlwL0QO6Lpy3mvoAvHkVjPilXNfbhRwaEFrrKR1Y91igSGtdDKCUeg+4Csg9bZkbgee11sfsr3O4A68jgKeXFDCsr1RqdJUpafE8n1PE9eMT2y5BrCy0Hdp668auD+eNEoZAyiWw6mmYKoe+uso5dzEppa6z//fPbd3aWXcfYN9p98vsj50uFUhVSn2llFqrlJru7DcgoKSylk+37OfiVKnU6CoRwf6MSYzh8bNVcCx5AC66HUJiujSXV5vyN9tFmE7sN52k22jvM4hQ+3/Dz3LrLD8gBZgMXAO8opT63vUwlVI3KaU2KqU2VlR00bWCPcgjX+zioqQehEqlRpeakBxLTn4FeQdOfPcLpetg/xYY9z9mgnmryD4w6tdSweFC53xH0Vq/ZP9vR47RKwdO7zPua3/sdGXAOq11E7BHKVWAbWBsOCPHy8DLAKNHj3bzhYI9y5Z9x1lfcoTbM1NNR/E6Qf6+TEqNZWZ2Lm/fcIHtQa1h8b2QeQ/4y/U3utyEP8Gz58PhPIjPMJ3G4zl6olycUupvSqmXlVKvn7q187QNQIpSKlEpFQD8AvjsjGU+wbb1gFIqFtsup2KnvgMvprVmxrxcJqfGE+AnZ+iaMGZgDIWHaviqqNL2wK5sOFkDw35uNpi3Co6CiX+27eITnebou8qnQCSwBMg+7XZWWutm4FZgIZAHfKC13qmUekgpdaV9sYXAEaVULpAD3KW1PuL8t+Gdlu06zIGqeqnUMMjPx4fM9HhmzMultbnJ9sY07UHw8TUdzXuNuQEO50LJKtNJPJ6jO61DtNZ/cXblWuv5wPwzHrvvtD9r4M/2m3BCS6tmVnYeWekJ+PrISXEmDe0TyZriI2z7/FlGhPeE5KmmI3k3v0DIvBcW3wc3LLVdz1p0iKNbEPOUUpe5NYlwykdfl+Hro0jvKZUapvkoxaWp4fTZOpvGzAfkDckKhv7EVpK48z+mk3i09g5zrVZKnQDuwDYk6pVSJ057XBhQ39jCYwt3SaWGhVxW/RE7A87jzb1yWKslnKrgWPoQNDeaTuOxzjkgtNbhWusI+399tNbBp92P6KqQ4rteW1VM3+gQ+sVIpYYVBJ48Qtret9l93p94LqeIEw3tVHCIrpE0BWIG2dp0RYc4ehTTeKVUqP3P1ymlnlRK9XdvNNGWo7WNvLyymKx0aSWxivOK5rCn9xUExyeTGh/GCzlFpiOJU6Y9aGvTbZAdHh3h6GcQLwJ1SqnhwJ3AbuBfbkslzuqZJQUM7RNJj7BA01EEEF67l/4HFrAz+SYApqQn8PbaUg5U1RtOJgDoeZ7tOhyrZ5tO4pEcHRDN9iOOrgKe01o/j2vOpBZOKD1Sx8eby5mcJlsPVjG84Bl2Jf6akwG2Q40jg/0ZPTCaJxbmG04mvpF5D2x4FaoPmk7icRwdENVKqb8C1wHZSikfwN99sURbHv4ijwsGxRAmlRqW0OP4NmKPbSV/4LXfeXxCchyLcw+Rf7DaUDLxHVH9YeR1sPxh00k8jqMD4ufASeB3WuuD2GozHndbKvE928qOs6b4COOTpJDPErRmxK4n2ZZyCy2+363UCA7wZWJKHLPm557lyaLLTbwT8j6HCtmyc0a7A8J+XYd3tdZPnrqqnNa6VGv9ptvTCeDbSo0paVKpYRV9Dq8gsKmKPX2ubPPr4xJjyN1/grXFUgxgCcHRMP6PsEQu/eqMdt9ttNYtQKtSSq7CYcjyggrKjtUzSio1LEG1NjO84Gm2pP0R7dP27j4/Xx8y0xOYMS8X28d3wrixN8HBbVC61nQSj+Hor6M1wHal1GtKqdmnbu4MJmxaWjWz5uWRlR4vlRoWkVj+GSf9o9gfN+mcyw3rG0l1QzPzt8uHo5bgH2S7/Ouie22tu6Jdjg6Ij4F7gZXA16fdhJt9vKkMjSajl5yXaAW+LfUMK3yeLel3tlup4aMUUzMS+Mf8PBqbW7sooTinYT+Dpnrb5xGiXQ4NCK31P4EPgLVa63+eurk3mmhoauHxhflSqWEhaSVvURE9giNR5zm0fHJ8GBHBfryzbq+bkwmH+PjCtAdg6YO2riZxTo6eSX0FsAVYYL8/Qil15rUdhIu98dHsvoIAACAASURBVNUeekYGMaBHaPsLC7cLPHmU9D1vsi31dqeeNzUjgWeWFlItFRzWkJQFEX1gkxxn0x5HdzE9AIwFjgNorbcAg9yUSQDHahuZs6KYrPQE01GE3dDdL1PaazrVoQOcel6vyGCS4sKYs3y3m5IJpyhlq+BY8ajt4k7irBwdEE1a66ozHpOdqm40e1khg3tFEBculRpWEFq3jwH7s9mefHOHnj8lPZ431+7l8IkGFycTHdJ7JCROgjXPmU5iaY4OiJ1KqV8CvkqpFKXUs8BqN+byavuO1vHhxjImp8lJcVYxvOBZCgZey8nAHh16fnRIACP7R/HEIjlRyzIy/w7r5kDNYdNJLMvRAXEbMATb2dTvAieAP7orlLd7dMEuxg2KITxI2kysIOb4DuKPbiRv4K86tZ5JKXEs2HGQosNSwWEJ0QNh+DWw/BHTSSzL0aOY6rTW9wBZwBSt9T1aa9lWdoMd5VWsKqxkfFKs6SgCbJUa+U+xPfn3tPh17vobIQF+TEiOZWZ2novCiU6bdJftqnOVhaaTWJKjRzGNUUptB7ZhO2Fuq1LqfPdG804z5+UyKTWOQH+56L0V9K74kuCThynu+yOXrG/coB5sL6tiQ8lRl6xPdFJIDFx0m+2wV/E9ju5ieg34g9Z6oNZ6IHAL8IbbUnmplQUV7DlSy5iBctlKK1C6hRH5T7H1HJUazvL39SEzPZ6HPpcKDsu44PdQvgn2rTedxHIcHRAtp4r6ALTWq4Bm90TyTq2tmpnZuWSlJ0ilhkUMLP+cRv9wyuIzXbre4f2iOF7XyMKdUsFhCf7BMOVvsPg+qeA4wzkHhFJqlFJqFLBCKfWSUmqyUupipdQLwPIuSeglPt1aTlOLZkhvqdSwAt+WBlulRtqf263UcNapCo5Z83fR1CJHi1vC8GugoQryvzCdxFLa227+vzPu33/an2XUukhDUwuPfpHPFcN7S6WGRaSWvM2RyKFURo9wy/pTEsJZU3yE99aX8t8XDnTLawgn+PjC1Adh0T2Q8gPwlYtyQTsDQms9pauCeLM3V5cQGx5IYqxUalhBQONxMvb8k8UXuLdubGpGAk8vKeTqUX0JlasEmpcyzXbt6i1vwfnXm05jCY4exRSllLpdKfWk1H27VlVdE88v301Wulxn2iqG7H6FfT2nUR2W6NbX6R0VzMDYUOaskAoOSzhVwbH8EWisNZ3GEhz9kHo+MBDYjtR9u9SzOYVk9AonISLIdBQBhNaVM6j8U7an/L5LXi8zLZ5/ri7hcLWcVmQJfc6H/hfCmhdMJ7EERwdEkNb6z1rrN6Tu23XKj9fz/vp9TE6VrQerGFb4LAUDfklDYNecqBgdGsCIflE8tbigS15POCDrXlj7AtRWmk5inKMD4l9KqRuVUr2UUjGnbm5N5gUeX7CLMYkxRARLpYYVRFfl0fPIOvISf92lrzspJY7sbQfYXSHNopYQMwjO+ymseMx0EuMcHRCNwOPAGr7dvbTRXaG8Qe7+E+TkVzAhWSo1rGJE/pPsSPofmv269mCBkEA/LkqK5eH5UsFhGRf/L2z/Nxzx7s+HHB0QdwLJ9jOpE+03uR5EJ8yan8uk1FiCpFLDEnpWrCa0/gBF/X5s5PUvTOrB5tLjfL33mJHXF2cIjYUL/wDLZphOYpSjA6IIqHNnEG+yuqiSwkM1UqlhFbrVXqlxB9rHzO4+f18fJqfFM2OeVHBYxgV/gNK1UOa9x+M4OiBqgS32s6nlMNdOaG3VPDQvl8z0ePx8HP3xC3cauD+bVt8A9iVMNZpjZP8oKmtOsjj3kNEcwi4gFCbf7dUVHI6+Q30CzMJ2kSA5zLUTPt+2n4amFob2iTQdRQA+LScZVvgcm9PudHmlhtNZlCIrPYFZ8/NolgoOaxhxHdRWQOEi00mMcPR6EP8EPgDWOnOYq1JqulIqXylVpJS6+xzL/VgppZVSox2P7nlONrfwyBe7mJqRgI9UalhCaul7HA9PpSJmlOkoAKQmhBHo58P7G/eZjiLAVrkx9QFYfD+0tphO0+UcPZP6CmALsMB+f4RS6rN2nuMLPA9cCgwGrlFKDW5juXDgDmCdc9E9z7/W7CU6NIBBcWGmowjAv6mKwbtfY0van0xH+YayF/k9ubiAukYpTLaEtEshOAq2vGM6SZdzdBfTA8BY4DiA1noL0N5RTGOBIq11sda6EXgPuKqN5WYAjwLd+lTSEw1NPJdTxNSMBNNRhN2Q3a9R1jOTE2HWOiCvb3QIA2JCeHllsekoAuwVHDNg+cPQ6F3H6jg6IJq01lVnPNbeTtI+wOnbyWX2x75hrxLvp7XOdjCHx3ohp4jU+DB6SqWGJYTUHyCp7GO2J//BdJQ2ZaYn8NqqPVTWnDQdRQD0G2Or4Vj3oukkXcrRAbFTKfVLwFcplaKUehbbB9YdppTyAZ7Edo5Fe8vepJTaqJTaWFFR0ZmXNeJAVT1vry1lSrpsPVjFsMLnKOz/c+qDrFlzEhMawPC+kVLBYSVZ98Pq56D2iOkkXcbRAXEbMAQ4CbwLnAD+2M5zyoF+p93va3/slHBgKLBcKVUCXAB81tYH1Vrrl7XWo7XWo+Pi4hyMbB1PLMxn9MBoIqVSwxKiTuTTq+IrchN/YzrKOU1KjeezrfvZUynNopYQmwxDr4YvnzCdpMs4ehRTndb6Hq31GPsb9T1a6/Y+M9gApCilEpVSAcAvgG8+2NZaV2mtY0+7zvVa4Eqtdbeq8Mg/WM3i3ENMSPa8wdZdjch/ip3JN9Hsb+2DBcIC/bgoqQePfCEVHJZx8V9g67twrMR0ki5xzquUtHekktb6ynN8rVkpdSuwEPAFXtda71RKPQRs1Fqfc93dxazsXCamxBEcIJUaVpBQuZbwulKK+v3UdBSHXDgoltnLCthceoyR/aNNxxFh8TDuZlg6A37ymuk0btfeZawuxPZB87vYDkN16uB9rfV8bNeSOP2x+86y7GRn1u0J1hYfIffACW7PTDEdRQDoVkbmP8mW1DtoNVSp4awAPx8mp9oqOD76/UVySVoruPBWePZ82L8Zeo80ncat2tvF1BP4G7bPCp4BpgGVWusVWusV7g7nybTWzJiXS2Z6An6+UqlhBQMOLKBV+bGv5w9MR3HKyP7RHDzRwNK8w6ajCIDAMFvbqxdUcJzznUtr3aK1XqC1/jW2D5GLsH2ofGuXpPNg2dsPUN3QzLC+UqlhBT4tjQwvmG07Kc7Dfgv39ZEKDssZ9Ss4cQCKlppO4lbt/mqrlApUSl0NvAXcAswG/uPuYJ6ssbmVh+dLpYaVpJS+T1VYMod7jDEdpUPSe4bj56P4aFOZ6SgCwNcfpt4PS7p3Bcc5B4RS6k1sFwkaBTxoP4pphta6/FzP83bvrNtLRLAfyfHWPkrGW/g3nWBI8atsSWvvyGzrOlXB8fjCfOobu+8bkkdJv9zW+LrtA9NJ3Ka9LYjrgBRsXUmrlVIn7LdqpdQJ98fzPNUNTTyztFAqNSxkcPHrlMdfTFV4sukondIvJoS+0cG8tkoqOCzhVAVHzixo6p5NQe19BuGjtQ633yJOu4VrrSO6KqQnmbN8N0nxYfSKDDYdRQDB9QdJ3vch2yxaqeGszPQEXl5ZzNHaRtNRBED/cdBrOKx/yXQSt5DDa1zo8IkG3ly7l8w0a9Y3eKNhhc9T1O+n1Af3NB3FJWLDAhnaJ5JnlkgFh2Vk3Q9fPQN1R00ncTkZEC70xKJ8RvaPIiokwHQUAURWF9C7YiW5g35rOopLTU6L5+PN5ZQe8a5mUcuKS4WMK2HVk6aTuJwMCBcpOlzNgh0HuThFth6sYkT+0+Qm3UiTf7jpKC4VFujHBYNieFgqOKxj8l9h89twvNR0EpeSAeEis7LzmJAcK5UaFhF/ZD2RNcUU9vuZ6ShuMT4pjjXFR9hWdtx0FAEQngBjb4Rls0wncSkZEC6woeQo28qqGDeoh+koAr6p1Niaejutvt1zd5+tgiOOGfNy0d38bF6PcdFtUJwDB7aZTuIyMiA6SWvNQ5/nMiU9Hn+p1LCE/gcXgdbs7TXddBS3On9ADPuO1bO8wPOukdItBYbDpLtsJ891E/KO1kkLdx7keF0jI/pFmY4iAJ/WJlulRvqfQXXvv96+Poqp6fHMmpdHS6tsRVjC+dfDsb2we5npJC7Rvf8FuVlTSyuzsvPIkkoNy0gu/YDqkP4c6jHOdJQukdErAo3mY6ngsAZff8i6DxbfD62e35slA6IT3ltfSkiAHylSqWEJfk01DNn9sq2Qz0ucXsHR0CQVHJYw+CrwDYAdH5pO0mkyIDqo5mQzTy0pZOrgBOnot4jBe17nQNwEjkekmY7SpQb0CKVnZBBvfLXHdBQB9gqOh2wXFfLwCg4ZEB300ordJPYIpU+UVGpYQXDDIVJKP2Bbinc20WelJzBnRTHHpILDGgaOh4QhsOFV00k6RQZEBxyubmDu6hKmpMtJcVZxXuGL7O57NXXBvUxHMSIuPJDBvSKYvazQdBRxytQHYNVTUH/MdJIOkwHRAU8tLmBEvyhiQrvnMfaeJqJ6N30P57Az6Xemoxg1OS2ODzeWse+oVHBYQnw6pF9mGxIeSgaEk3ZX1DBv2wEuTokzHUXYjSh4mtxBv6XJ37uv3hce5M+4QTE8umCX6SjilMl/g01vwvF9ppN0iAwIJz08P4/xSbGEBPqZjiKAuKNfE1VdQEH/X5iOYgnjk2JZVVjJjvIq01EEQEQvGP07yPmH6SQdIgPCCV/vPcam0uNcmCSVGpagNSPzn2Rbyq20+gaaTmMJgf6+TEqNY2a2FPlZxvg7oGgxHNxhOonTZEA4SGvNjHm5TEmTSg2r6HdoCT4tjZT0/qHpKJYyZmAMeyprWCkVHNYQFAET/x8secB0EqfJO52DFuceorLmJCP7S6WGFajWJobnP8OW9D91+0oNZ/n6KLLSE5iZnUurVHBYw+jfwpFCKF5hOolT5F+WA5pbWpk1P4+sdKnUsIrkfR9RG9ybg7EXmY5iSUN6R9DUovl0a7npKALAL8BewXGfR1VwyIBwwAcb9xHo50NqglRqWIFfcy1Dd7/kVZUazjpVwfHoF1LBYRmDf2Q7y3rnx6aTOEwGRDvqGpv5v8UFTM2QSg2ryNgzl4M9xnEsMsN0FEtLjA0lNjyAN1eXmI4iAHx87BUcD0HzSdNpHCIDoh2vrNzDgJgQ+kaHmI4igKCTlaTufZdtKbeZjuIRstITeH75bqrqmkxHEQCJkyAuDTa+bjqJQ2RAnENlzUleW1VMZnqC6SjC7rzCFynucxW1IX1MR/EICRFBpPcM57kcqeCwjKkPwJf/Bw3WP1dFBsQ5PL2kgGF9I6VSwyLCa/bQ7+BidibdaDqKR5mSFs976/dRfrzedBQBthK/lB/AqqdNJ2mXDIiz2FNZy6db9jMpVQr5rGJEwTPkDbqexgA51NgZEcH+jEmM4XGp4LCOKX+Dr9+AE/tNJzknGRBn8cgXeVyU1IMwqdSwhNhjW4ip2knBgF+ajuKRJiTHkpNfQd6BE6ajCIDIvjDq15Azy3SSc5IB0YbNpcfYUHKUCwfFmo4iwFapsev/2JZyCy2+QabTeKQgf18mpsQyMzvXdBRxyoQ/Qf4COGzdWhQZEGc4VakxOTWeAD/58VhB38PL8GuppaTPFaajeLSxiTEUHqphdVGl6SgCIDgKJv7Z0hUcbn0HVEpNV0rlK6WKlFJ3t/H1PyulcpVS25RSS5VSA9yZxxHLdh3m4IkGRvaPNh1FAKq1meH5T7Ml7U9o5Ws6jkfz8/EhMz2eh+ZJBYdljLkBDudCySrTSdrktgGhlPIFngcuBQYD1yilBp+x2GZgtNZ6GPAh8Ji78jiiuaWVmdm2Sg1fHzkpzgqSyj6mPjCeA7ETTEfpFob2iaS+qYXPt1n7w1Gv4RcImffaKji09Ya2O7cgxgJFWutirXUj8B5w1ekLaK1ztNanLn+1Fujrxjzt+mhTGX4+ivSe4SZjCDvf5jqGFs1hS/qfbRUFotN87BUcj3yxi5PNUsFhCUN/Ai1NkPuJ6STf484B0Qc4/TJKZfbHzuZ3wBduzHNO9Y0tPL4wXyo1LCSj5E0Ox4zmaOQQ01G6laS4MKJDA/jXmr2mowj4toJjyYPQ3Gg6zXdY4lNYpdR1wGjg8bN8/Sal1Eal1MaKCvd03L+6qpi+0SH0i5FKDSsIPHmEtJK32JoqlRruMDUjgedyijjRIBUclpA0BWIGwddzTSf5DncOiHKg32n3+9of+w6l1FTgHuBKrXWbDVZa65e11qO11qPj4lx/LeijtY28srKYrHQ5Kc4qziuaw57eV1Ab0q/9hYXTekYEkRofxgs5RaajiFOmPQgrH4cG65yr4s4BsQFIUUolKqUCgF8An52+gFJqJPAStuFw2I1ZzumZJQUM7RNJjzC5bKUVhNfupf+BBexMvsl0lG5tSnoCb68t5WBVg+koAqDneZCUCaufNZ3kG24bEFrrZuBWYCGQB3ygtd6plHpIKXWlfbHHgTDg30qpLUqpz86yOrcpPVLHx5vLmZwmWw9WMaxgNrsSf8XJADnU2J0ig/05f2A0TyzKNx1FnJJ5D2x4BaoPmk4CuPkzCK31fK11qtY6SWs9y/7YfVrrz+x/nqq1TtBaj7Dfrjz3Gl3v4S/yuGBQjFRqWESP49uIO7aF/IHXmY7iFSYmx7Fo50EKDlWbjiIAovrDyOtg+cOmkwAW+ZDalO1lVawpPsL4JNd/riE6QGtG7HrSXqkRbDqNVwgO8GViSpxUcFjJhD9D3udQYX7LzmsHhNaah+btZHJqnFRqWETvipUENh1nT58u35D0auMSY8jdf4K1xUdMRxEAITEw/g7blecM89p3xuUFFew7Vs/5A2JMRxHYKjVG5D9lq9Twkd19XcnP14fM9ARmzMtFW/BsXq809n/gwFYoXWs0hlcOiJZWzax5eUxNj5dKDYtILP+Mk/5R7I+bZDqKVxrWN5Lqhmbmb7fGh6Nezz8IptwDi+41WsHhlQPi401ltKLJ6BVhOooAfFvqGVb4vFRqGHSqguMf8/NobG41HUcADPsZNNXZPo8wxOsGREOTrVJjmlRqWEZayVtURg/nSNQw01G8WnJ8GOFBfryzTio4LMHHF6Y+CEsftHU1mYhg5FUNeuOrPfSMDGJAj1DTUQQQ2HiM9D1vsjX1DtNRBLYKjmeWFlItFRzWkJwFEX1g0z+NvLxXDYhjtY3MWVFMplRqWMbQopco7TWd6lDjlwIRQO+oYJLiwpizfLfpKAJsu1ynPQQrHoOTNV3+8l41IGYvK2Rwrwjiw+WylVYxYH8225NvNh1DnGZKejxvrt3L4RNSwWEJvUdA4iRY81yXv7TXDIh9R+v4cGMZk9PkpDgrKRh4LScDe5iOIU4THRLAyP5RUsFhJZl/h3VzoKZrK+u8ZkA8umAX4wbFEB7kbzqKOE3ewF+ZjiDacHFKPAt2HKTosFRwWEL0QBh+DSx/pEtf1isGxI7yKlYVVjI+KdZ0FHGGFj+5/oYVBQf4MiE5llnZeaajiFMm3WW76lxl11W0e8WAmJmdx6TUOAL95aL3Qjhq3KAebC+vYkPJUdNRBNgqOC681XbYaxfp9p0GKwsq2FNZww/P62U6igCU/u51kPseXGIoiXDEj3sGMfPfX/HJZVrOYbSCyP6w9nnYtwH6jXH7y3XrAdHaqpmZnUtWeoJUaljEwPLvnhUa2HjMUBLhiMkRsPhAEAuLGpjep80LPoquljwNFtwNNyxxe/NAt97F9OnWcppaNEN6S6WGFfi2NDC8YLbpGMIJPgp+0fsQD28LoUkaOKyh7xioOQT5X7j9pbrtgGhoauHRL/KZKpUalpFa8jb1QXKSoqcZHlFHtF8T7+2Ra3RYgvKB1Omw6B5oaXbrS3XbAfHm6hJiwwNJjJVKDSsIaDzO4OLXKYu72HQU0QG/6H2Ip3NDqGmSX7YsIX4w+AbC5rfc+jLdckBU1TXx/PLdZEmlhmUMLXqJYxHpNATKocaeKDHkJEPCanm5QLYiLEEpSLsUcmZCY63bXqZbDojncgpJ7xlOQoRUalhBaF05g8o/YX/sBNNRRCf8tFcFc4uCOdzQLd82PE9Uf4gaAKvdV8HR7f5Plx+v5731+5iSJlsPVjE8/2kOR4+myT/MdBTRCfGBTUyKqeKpnXJyo2WkXmI77LW20i2r73YD4vEFuxiTGENEsFRqWEF0VR69jqzhQI9xpqMIF/ivnpXMLwtkd7WcdGoJoXHQeyQsf9gtq+9WAyLvwAly8iuYkCz7ua1i1K7H2R87nlbfQNNRhAuE+7VyefwRHtkmB39YRtJU2PYBHHF9RXu3GhAzs3OZmBJLkFRqWELPitWE1+6lInqk6SjChabHH2PLUT++ruzW59l6jsAwSJwIS+53+aq7zYD4qqiSwkM1jE2MMR1FAOhWRu16jLL4i9FKBnZ3EuCj+UnPCmZuC0Nr02kEAAMnQclXUPa1S1fbLQZEa6tmxrxcMtPj8fPpFt+Sxxu4Pxsf3cyx8HTTUYQbTOpRxbEGzaL9AaajCAC/QEiZBgv/iiundrd4N/18237qm1oY2ifSdBQB+LScZET+0+yLm+L2rhhhhq2C4zCPbAulWSo4rKHvWKgqg8JFLlulxw+Ik80tPPLFLqZmJOAjb0aWkLr3HeoD46gJ7W86inCjERG1hPs28X6JnG9kCT6+kHopLLwHWlvaX96RVbpkLQa9tWYv0aEBJMXJMfZW4N9UxZDiVymLn2Q6inAzZd+KeHpnCHXurQQSjkoYYvsfs/Vdl6zOowfEiYYmns0pYmpGgukowm5o0cscD0+jIVCu/e0NkkIbSA+r45UCOXnOEpSCtMtg6UPQWNfp1Xn0gHghp4jU+DB6SqWGJYTUHyCp7GPKpVLDq/y0VwWvFwZT2SC7eC0heiBE9oW1L3Z6VR47IA5WNfD22lKmpMvWg1UML3iGw9Hn0+QfbjqK6EIJgU2Mjz7B07myFWEZKZfA6meg9kinVuOxA+LxhbsYPTCaSKnUsISoE/n0rviSgz0uMB1FGPCjnpV8vi+IPVLBYQ1h8dBrOKx4tFOr8cgBkX+wmsW5h5iQLPu5rWLkric4EDueFqnU8EoR/i1cFn+UR7fLVoRlJE+zfVh9rKTDq3DrgFBKTVdK5SulipRSd7fx9UCl1Pv2r69TSg10ZL2zsnOZmBJHcID8tmIFCZVriazZzeGoUaajCIMujT/Kxkp/thyVCg5LCAyHgeNhcccrONw2IJRSvsDzwKXAYOAapdTgMxb7HXBMa50MPAW0uz1Ue7KZ3AMnGCeVGtZgr9Qoj5uE9pGB7c0CfTQ/7lXBrK2hUsFhFYmTYc9K2L+5Q0935xbEWKBIa12stW4E3gOuOmOZq4B/2v/8IZCl2rmA9P6qBjLTE/Dz9ci9Y93OgAML8G05ydGIM2e/8EYX96jiUJ0i56BUcFiCXyAkZ8GCv3Xs6S6Oc7o+wL7T7pcBZ14U4JtltNbNSqkqoAdw1qtf9G7Zz52V96I69+G8cJGoI1vZm3wdAZEd+zwoIEKq2bub65IbuHtTJOf1MJ1EAPjqy3nw+F/p1YHnKu2mbUGl1E+A6VrrG+z3/xsYp7W+9bRldtiXKbPf321fpvKMdd0E3GS/OxTY4ZbQnieWcwxTLyM/i2/Jz+Jb8rP4VpDWeqgzT3DnFkQ50O+0+33tj7W1TJlSyg+IBL63baC1fhl4GUAptVFrPdotiT2M/Cy+JT+Lb8nP4lvys/iWUmqjs89x5478DUCKUipRKRUA/AL47IxlPgN+bf/zT4Bl2l2bNEIIIZziti0I+2cKtwILAV/gda31TqXUQ8BGrfVnwGvAv5RSRcBRbENECCGEBbj1gGWt9Xxg/hmP3XfanxuAnzq52pddEK27kJ/Ft+Rn8S35WXxLfhbfcvpn4bYPqYUQQng2OZlACCFEmzxqQLRX3eEtlFL9lFI5SqlcpdROpdQdpjOZpJTyVUptVkrNM53FNKVUlFLqQ6XULqVUnlLqQtOZTFBK/cn+b2OHUupdpZRXXRNAKfW6Uuqw/VSCU4/FKKUWK6UK7f+Nbm89HjMgHKzu8BbNwJ1a68HABcAtXvyzALgDyDMdwiKeARZordOB4Xjhz0Up1Qe4HRhtP+7fF+87AGYuMP2Mx+4GlmqtU4Cl9vvn5DEDAseqO7yC1vqA1nqT/c/V2N4E+phNZYZSqi/wQ+BV01lMU0pFApOwHR2I1rpRa33cbCpj/IBg+/lVIcB+w3m6lNZ6JbYjQ093erXRP4H/am89njQg2qru8Mo3xdPZG3BHAuvMJjHmaeB/gVbTQSwgEagA3rDvcntVKRVqOlRX01qXA08ApcABoEprvchsKktI0FofsP/5INDu1dY8aUCIMyilwoCPgD9qrU+YztPVlFKXA4e11l+bzmIRfsAo4EWt9UigFgd2I3Q39n3rV2EbmL2BUKXUdWZTWYv9hOR2D2H1pAHhSHWH11BK+WMbDm9rrT82nceQ8cCVSqkSbLscM5VSb5mNZFQZUKa1PrU1+SG2geFtpgJ7tNYVWusm4GPgIsOZrOCQUqoXgP2/h9t7gicNCEeqO7yCvRL9NSBPa/2k6TymaK3/qrXuq7UeiO3vwzKttdf+pqi1PgjsU0ql2R/KAnINRjKlFLhAKRVi/7eShRd+WN+G06uNfg182t4TPObST2er7jAcy5TxwH8D25VSW+yP/c1+5rrwbrcBb9t/iSoGfmM4T5fTWq9TSn0IbMJ2xN9mvOyMaqXUu8BkIFYpVQbcDzwCfKCU+h2wF/hZu+uRM6mFEEK0xZN2MQkhhOhCMiCEEEK0SQaEEEKINsmAEEII0SYZEEIIIdokA0KITlJKlSilYk3nEMLVZEAIIYRokwwIIZyglApVSmUrpbbarzXw89O+FqyU+kIpt/U7NwAAAUBJREFU9T/2zv04++M+9muYxJlLLoTzZEAI4ZzpwH6t9XD7tQYW2B8PAz4H3tVavwS8BVxr/9pUYKvWuqLL0wrRCTIghHDOdmCaUupRpdRErXWV/fFPgTe01m/a778O/Mr+598Cb3RxTiE6TQaEEE7QWhdga0jdDsxUSt1n/9JXwHR7ORxa633Y2jMzsV3s6gsTeYXoDBkQQjhBKdUbqNNavwU8zrd12vcBx7BdFveUV7Htavq31rqlS4MK4QJS1ieEE5RSl2AbDK1AE/B7bNddGA0cwbZrqUJr/b/2a3YcAcZqrXcZiixEh8mAEMJNlFKjgae01hNNZxGiIzzmehBCeBKl1N3Yti6ubW9ZIaxKtiCEEEK0ST6kFkII0SYZEEIIIdokA0IIIUSbZEAIIYRokwwIIYQQbZIBIYQQok3/H94gJz8xOIlmAAAAAElFTkSuQmCC\n",
                "text/plain": "<Figure size 432x288 with 1 Axes>"
              },
              {
                "output_type": "display_data",
                "metadata": {
                  "tags": [],
                  "needs_background": "light"
                },
                "image/png": "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\n",
                "text/plain": "<Figure size 432x288 with 1 Axes>"
              }
            ],
            "_view_module": "@jupyter-widgets/output",
            "_model_module_version": "1.0.0",
            "_view_count": null,
            "_view_module_version": "1.0.0",
            "layout": "IPY_MODEL_34ad1558bd004898aaadaf4474593c59",
            "_model_module": "@jupyter-widgets/output"
          }
        },
        "c0fb13f0e6c348ac95c4a83a485deb3d": {
          "model_module": "@jupyter-widgets/controls",
          "model_name": "SliderStyleModel",
          "state": {
            "_view_name": "StyleView",
            "handle_color": null,
            "_model_name": "SliderStyleModel",
            "description_width": "",
            "_view_module": "@jupyter-widgets/base",
            "_model_module_version": "1.5.0",
            "_view_count": null,
            "_view_module_version": "1.2.0",
            "_model_module": "@jupyter-widgets/controls"
          }
        },
        "4b520b98655c48ef87b21cbcc8594b84": {
          "model_module": "@jupyter-widgets/base",
          "model_name": "LayoutModel",
          "state": {
            "_view_name": "LayoutView",
            "grid_template_rows": null,
            "right": null,
            "justify_content": null,
            "_view_module": "@jupyter-widgets/base",
            "overflow": null,
            "_model_module_version": "1.2.0",
            "_view_count": null,
            "flex_flow": null,
            "width": null,
            "min_width": null,
            "border": null,
            "align_items": null,
            "bottom": null,
            "_model_module": "@jupyter-widgets/base",
            "top": null,
            "grid_column": null,
            "overflow_y": null,
            "overflow_x": null,
            "grid_auto_flow": null,
            "grid_area": null,
            "grid_template_columns": null,
            "flex": null,
            "_model_name": "LayoutModel",
            "justify_items": null,
            "grid_row": null,
            "max_height": null,
            "align_content": null,
            "visibility": null,
            "align_self": null,
            "height": null,
            "min_height": null,
            "padding": null,
            "grid_auto_rows": null,
            "grid_gap": null,
            "max_width": null,
            "order": null,
            "_view_module_version": "1.2.0",
            "grid_template_areas": null,
            "object_position": null,
            "object_fit": null,
            "grid_auto_columns": null,
            "margin": null,
            "display": null,
            "left": null
          }
        },
        "11d9cd592b134cf6a88c9f4799889eab": {
          "model_module": "@jupyter-widgets/controls",
          "model_name": "SliderStyleModel",
          "state": {
            "_view_name": "StyleView",
            "handle_color": null,
            "_model_name": "SliderStyleModel",
            "description_width": "",
            "_view_module": "@jupyter-widgets/base",
            "_model_module_version": "1.5.0",
            "_view_count": null,
            "_view_module_version": "1.2.0",
            "_model_module": "@jupyter-widgets/controls"
          }
        },
        "15cccd37d8e34c8089486722e285b67e": {
          "model_module": "@jupyter-widgets/base",
          "model_name": "LayoutModel",
          "state": {
            "_view_name": "LayoutView",
            "grid_template_rows": null,
            "right": null,
            "justify_content": null,
            "_view_module": "@jupyter-widgets/base",
            "overflow": null,
            "_model_module_version": "1.2.0",
            "_view_count": null,
            "flex_flow": null,
            "width": null,
            "min_width": null,
            "border": null,
            "align_items": null,
            "bottom": null,
            "_model_module": "@jupyter-widgets/base",
            "top": null,
            "grid_column": null,
            "overflow_y": null,
            "overflow_x": null,
            "grid_auto_flow": null,
            "grid_area": null,
            "grid_template_columns": null,
            "flex": null,
            "_model_name": "LayoutModel",
            "justify_items": null,
            "grid_row": null,
            "max_height": null,
            "align_content": null,
            "visibility": null,
            "align_self": null,
            "height": null,
            "min_height": null,
            "padding": null,
            "grid_auto_rows": null,
            "grid_gap": null,
            "max_width": null,
            "order": null,
            "_view_module_version": "1.2.0",
            "grid_template_areas": null,
            "object_position": null,
            "object_fit": null,
            "grid_auto_columns": null,
            "margin": null,
            "display": null,
            "left": null
          }
        },
        "b9c26c09f8954918ab137253d90fc64a": {
          "model_module": "@jupyter-widgets/controls",
          "model_name": "DescriptionStyleModel",
          "state": {
            "_view_name": "StyleView",
            "_model_name": "DescriptionStyleModel",
            "description_width": "",
            "_view_module": "@jupyter-widgets/base",
            "_model_module_version": "1.5.0",
            "_view_count": null,
            "_view_module_version": "1.2.0",
            "_model_module": "@jupyter-widgets/controls"
          }
        },
        "347832ec1e1649b5a9c4763cf87c1803": {
          "model_module": "@jupyter-widgets/base",
          "model_name": "LayoutModel",
          "state": {
            "_view_name": "LayoutView",
            "grid_template_rows": null,
            "right": null,
            "justify_content": null,
            "_view_module": "@jupyter-widgets/base",
            "overflow": null,
            "_model_module_version": "1.2.0",
            "_view_count": null,
            "flex_flow": null,
            "width": null,
            "min_width": null,
            "border": null,
            "align_items": null,
            "bottom": null,
            "_model_module": "@jupyter-widgets/base",
            "top": null,
            "grid_column": null,
            "overflow_y": null,
            "overflow_x": null,
            "grid_auto_flow": null,
            "grid_area": null,
            "grid_template_columns": null,
            "flex": null,
            "_model_name": "LayoutModel",
            "justify_items": null,
            "grid_row": null,
            "max_height": null,
            "align_content": null,
            "visibility": null,
            "align_self": null,
            "height": null,
            "min_height": null,
            "padding": null,
            "grid_auto_rows": null,
            "grid_gap": null,
            "max_width": null,
            "order": null,
            "_view_module_version": "1.2.0",
            "grid_template_areas": null,
            "object_position": null,
            "object_fit": null,
            "grid_auto_columns": null,
            "margin": null,
            "display": null,
            "left": null
          }
        },
        "34ad1558bd004898aaadaf4474593c59": {
          "model_module": "@jupyter-widgets/base",
          "model_name": "LayoutModel",
          "state": {
            "_view_name": "LayoutView",
            "grid_template_rows": null,
            "right": null,
            "justify_content": null,
            "_view_module": "@jupyter-widgets/base",
            "overflow": null,
            "_model_module_version": "1.2.0",
            "_view_count": null,
            "flex_flow": null,
            "width": null,
            "min_width": null,
            "border": null,
            "align_items": null,
            "bottom": null,
            "_model_module": "@jupyter-widgets/base",
            "top": null,
            "grid_column": null,
            "overflow_y": null,
            "overflow_x": null,
            "grid_auto_flow": null,
            "grid_area": null,
            "grid_template_columns": null,
            "flex": null,
            "_model_name": "LayoutModel",
            "justify_items": null,
            "grid_row": null,
            "max_height": null,
            "align_content": null,
            "visibility": null,
            "align_self": null,
            "height": null,
            "min_height": null,
            "padding": null,
            "grid_auto_rows": null,
            "grid_gap": null,
            "max_width": null,
            "order": null,
            "_view_module_version": "1.2.0",
            "grid_template_areas": null,
            "object_position": null,
            "object_fit": null,
            "grid_auto_columns": null,
            "margin": null,
            "display": null,
            "left": null
          }
        }
      }
    }
  },
  "cells": [
    {
      "cell_type": "markdown",
      "metadata": {
        "id": "view-in-github",
        "colab_type": "text"
      },
      "source": [
        "<a href=\"https://colab.research.google.com/github/JoDeMiro/Ember/blob/main/Python_Fuzzy_Bemutat%C3%B3_a_Tan%C3%A1rn%C5%91nek_2.ipynb\" target=\"_parent\"><img src=\"https://colab.research.google.com/assets/colab-badge.svg\" alt=\"Open In Colab\"/></a>"
      ]
    },
    {
      "cell_type": "code",
      "metadata": {
        "id": "xTfoP7EFHY0U"
      },
      "source": [
        ""
      ],
      "execution_count": null,
      "outputs": []
    },
    {
      "cell_type": "code",
      "metadata": {
        "id": "oTiYmaDzHaPZ"
      },
      "source": [
        "%%capture\n",
        "!pip install scikit-fuzzy"
      ],
      "execution_count": null,
      "outputs": []
    },
    {
      "cell_type": "code",
      "metadata": {
        "id": "ydkfi6qxHaNF"
      },
      "source": [
        "import numpy as np\n",
        "import skfuzzy as fuzzy\n",
        "from skfuzzy import control as ctrl\n",
        "\n",
        "import ipywidgets as widgets\n",
        "\n",
        "from ipywidgets import IntSlider\n",
        "from ipywidgets import HTML\n",
        "from ipywidgets import interact, interactive, fixed, interact_manual"
      ],
      "execution_count": null,
      "outputs": []
    },
    {
      "cell_type": "code",
      "metadata": {
        "id": "P1P81zecHaKt"
      },
      "source": [
        ""
      ],
      "execution_count": null,
      "outputs": []
    },
    {
      "cell_type": "code",
      "metadata": {
        "id": "gYmj8D3pHaIh"
      },
      "source": [
        "# Create universe\n",
        "\n",
        "Felhőtakaró = ctrl.Antecedent(np.arange(0, 10.1, 0.1), 'sky')\n",
        "\n",
        "Hőmérséklet = ctrl.Antecedent(np.arange(-30, 50.1, 0.1), 'temperature')\n",
        "\n",
        "Sebesség    = ctrl.Consequent(np.arange(0, 130, 1), 'speed')"
      ],
      "execution_count": null,
      "outputs": []
    },
    {
      "cell_type": "code",
      "metadata": {
        "colab": {
          "base_uri": "https://localhost:8080/",
          "height": 298
        },
        "id": "8hmGjmLOHaGL",
        "outputId": "6dc72519-8d85-4c7b-c311-a17ab82aa1b3"
      },
      "source": [
        "Felhőtakaró.view()"
      ],
      "execution_count": null,
      "outputs": [
        {
          "output_type": "stream",
          "text": [
            "No handles with labels found to put in legend.\n"
          ],
          "name": "stderr"
        },
        {
          "output_type": "display_data",
          "data": {
            "image/png": "[encoded data removed]",
            "text/plain": [
              "<Figure size 432x288 with 1 Axes>"
            ]
          },
          "metadata": {
            "tags": [],
            "needs_background": "light"
          }
        }
      ]
    },
    {
      "cell_type": "code",
      "metadata": {
        "colab": {
          "base_uri": "https://localhost:8080/"
        },
        "id": "DaVjIzfXHaDv",
        "outputId": "c9ffc23a-a6c1-4e7d-f874-675b73459ad9"
      },
      "source": [
        "Felhőtakaró.universe"
      ],
      "execution_count": null,
      "outputs": [
        {
          "output_type": "execute_result",
          "data": {
            "text/plain": [
              "array([ 0. ,  0.1,  0.2,  0.3,  0.4,  0.5,  0.6,  0.7,  0.8,  0.9,  1. ,\n",
              "        1.1,  1.2,  1.3,  1.4,  1.5,  1.6,  1.7,  1.8,  1.9,  2. ,  2.1,\n",
              "        2.2,  2.3,  2.4,  2.5,  2.6,  2.7,  2.8,  2.9,  3. ,  3.1,  3.2,\n",
              "        3.3,  3.4,  3.5,  3.6,  3.7,  3.8,  3.9,  4. ,  4.1,  4.2,  4.3,\n",
              "        4.4,  4.5,  4.6,  4.7,  4.8,  4.9,  5. ,  5.1,  5.2,  5.3,  5.4,\n",
              "        5.5,  5.6,  5.7,  5.8,  5.9,  6. ,  6.1,  6.2,  6.3,  6.4,  6.5,\n",
              "        6.6,  6.7,  6.8,  6.9,  7. ,  7.1,  7.2,  7.3,  7.4,  7.5,  7.6,\n",
              "        7.7,  7.8,  7.9,  8. ,  8.1,  8.2,  8.3,  8.4,  8.5,  8.6,  8.7,\n",
              "        8.8,  8.9,  9. ,  9.1,  9.2,  9.3,  9.4,  9.5,  9.6,  9.7,  9.8,\n",
              "        9.9, 10. ])"
            ]
          },
          "metadata": {
            "tags": []
          },
          "execution_count": 5
        }
      ]
    },
    {
      "cell_type": "code",
      "metadata": {
        "id": "yZDRcyHyHmsV"
      },
      "source": [
        "# Határozzuk meg a tagsági függvényeket (ez esetben most a felhőtakaró{felhős})\n",
        "\n",
        "Felhőtakaró['felhős'] = fuzzy.trimf(Felhőtakaró.universe, [0, 3.5, 7])"
      ],
      "execution_count": null,
      "outputs": []
    },
    {
      "cell_type": "code",
      "metadata": {
        "colab": {
          "base_uri": "https://localhost:8080/",
          "height": 281
        },
        "id": "_jXxlWShHmqI",
        "outputId": "b82cf6db-1ad4-46c6-df3a-be931a8c966a"
      },
      "source": [
        "Felhőtakaró.view()"
      ],
      "execution_count": null,
      "outputs": [
        {
          "output_type": "display_data",
          "data": {
            "image/png": "[encoded data removed]",
            "text/plain": [
              "<Figure size 432x288 with 1 Axes>"
            ]
          },
          "metadata": {
            "tags": [],
            "needs_background": "light"
          }
        }
      ]
    },
    {
      "cell_type": "code",
      "metadata": {
        "id": "r94HIFJdHmn9"
      },
      "source": [
        "# Határozzuk meg a tagsági függvényeket (ez esetben most a felhőtakaró{napos})\n",
        "\n",
        "Felhőtakaró['napos'] = fuzzy.trimf(Felhőtakaró.universe, [3, 6.5, 10])"
      ],
      "execution_count": null,
      "outputs": []
    },
    {
      "cell_type": "code",
      "metadata": {
        "id": "YxwvN9GcHmln"
      },
      "source": [
        "# Eddig megvagyunk a Felhőtakaró változó tagsági fűggvényeivel {felhős, napos}\n",
        "\n",
        "# Most készítsük el a Hőmérséklet tagsági függvényeit is {hideg, meleg}\n",
        "\n",
        "# Itt direkt más tagsági függvényt használnok (trampf)\n",
        "\n",
        "Hőmérséklet['hideg'] = fuzzy.trapmf(Hőmérséklet.universe, [-30, -30, 0, 30])\n",
        "\n",
        "Hőmérséklet['meleg'] = fuzzy.trapmf(Hőmérséklet.universe, [0, 30, 50, 50])"
      ],
      "execution_count": null,
      "outputs": []
    },
    {
      "cell_type": "code",
      "metadata": {
        "colab": {
          "base_uri": "https://localhost:8080/",
          "height": 281
        },
        "id": "v5g9nW56Hmjk",
        "outputId": "b272ad1b-44b6-4d3d-d237-7b0d7a2dba1e"
      },
      "source": [
        "Hőmérséklet.view()"
      ],
      "execution_count": null,
      "outputs": [
        {
          "output_type": "display_data",
          "data": {
            "image/png": "[encoded data removed]",
            "text/plain": [
              "<Figure size 432x288 with 1 Axes>"
            ]
          },
          "metadata": {
            "tags": [],
            "needs_background": "light"
          }
        }
      ]
    },
    {
      "cell_type": "code",
      "metadata": {
        "colab": {
          "base_uri": "https://localhost:8080/",
          "height": 281
        },
        "id": "0REoqn5pHmhI",
        "outputId": "c3f039df-6bc4-4a0e-87e6-883c7b773b62"
      },
      "source": [
        "# Most készítsük el a Sebesség változó tagsági függvyényeit is {Lassú, Gyors}\n",
        "\n",
        "Sebesség['lassú'] = fuzzy.trapmf(Sebesség.universe, [0, 0, 20, 90])\n",
        "Sebesség['gyors'] = fuzzy.trapmf(Sebesség.universe, [30, 100, 120, 120])\n",
        "\n",
        "Sebesség.view()"
      ],
      "execution_count": null,
      "outputs": [
        {
          "output_type": "display_data",
          "data": {
            "image/png": "[encoded data removed]",
            "text/plain": [
              "<Figure size 432x288 with 1 Axes>"
            ]
          },
          "metadata": {
            "tags": [],
            "needs_background": "light"
          }
        }
      ]
    },
    {
      "cell_type": "code",
      "metadata": {
        "id": "3vH53stFHme1"
      },
      "source": [
        "# Direkt csak az egyik szabályt írom meg, szóval a sebesség soha sem lehet lassú (mert ehhez most nem rendelek semmilyen szabályt)\n",
        "\n",
        "# Más szavakkal nincs olyan szabály aminek a kimenete Sebesség{'lassú'}\n",
        "\n",
        "rule1 = ctrl.Rule(antecedent= Felhőtakaró['napos'] & Hőmérséklet['meleg'], consequent = Sebesség['gyors'])\n",
        "\n",
        "# Ebben az esetben, ahogy már mondtan az AND logikai kapcsoló a max(Felhőtakaró['napos'], Hőmérséklet['meleg']) tagságii függvény értéket fogja hozzárendelni a Sebesség['gyors'] értékhez.\n",
        "\n",
        "# Helyesebben egyébként ez sem igaz, mert a Felhőtakaró és a Hőmérséklet tagsági függvények középértékét fogja venni olyan arányban amennyire az adott bemenet alapján része a tagsági függvénynek."
      ],
      "execution_count": null,
      "outputs": []
    },
    {
      "cell_type": "code",
      "metadata": {
        "id": "cVotXkqMHZ73"
      },
      "source": [
        "def setRules(rule_type = 'and'):\n",
        "\n",
        "  if( rule_type == 'and'):\n",
        "    rule1 = ctrl.Rule(antecedent= Felhőtakaró['napos'] & Hőmérséklet['meleg'], consequent = Sebesség['gyors'])\n",
        "  elif( rule_type == 'or'):\n",
        "    rule1 = ctrl.Rule(antecedent= Felhőtakaró['napos'] | Hőmérséklet['meleg'], consequent = Sebesség['gyors'])\n",
        "  \n",
        "  return rule1"
      ],
      "execution_count": null,
      "outputs": []
    },
    {
      "cell_type": "code",
      "metadata": {
        "id": "96UnchBkH5fs"
      },
      "source": [
        "def fuzzyDemo(Felhőtakaró_ = 8.0, Hőmérséklet_ = 30, Type = ['and','or']):\n",
        "\n",
        "  rule1 = setRules(Type)\n",
        "\n",
        "  # csak egy szabályunk van\n",
        "  print(rule1)\n",
        "\n",
        "  # csak egy szabályunk van\n",
        "  system = ctrl.ControlSystem([rule1])\n",
        "\n",
        "  simulation = ctrl.ControlSystemSimulation(system)\n",
        "\n",
        "  simulation.input['sky'] = Felhőtakaró_\n",
        "  simulation.input['temperature'] = Hőmérséklet_\n",
        "\n",
        "  simulation.compute()\n",
        "\n",
        "  print('----------------------------')\n",
        "  print('y  :', simulation.output['speed'])\n",
        "  print('----------------------------')\n",
        "  print(simulation.input)\n",
        "\n",
        "  Sebesség.view(sim = simulation)\n",
        "  Felhőtakaró.view(sim = simulation)\n",
        "  Hőmérséklet.view(sim = simulation)\n",
        "  "
      ],
      "execution_count": null,
      "outputs": []
    },
    {
      "cell_type": "code",
      "metadata": {
        "colab": {
          "base_uri": "https://localhost:8080/",
          "height": 1000,
          "referenced_widgets": [
            "b9859eec489e47aa84a297c3760ef4be",
            "f7aecc6fccfb4ccfb5d1d2b578b098d4",
            "4cc1c3052ed94e46b187cf076a6472b6",
            "b0d4ab4ff4594462bf12e81d9fffe0e6",
            "10f6006f4305406aa67ed9adb1fb38af",
            "b6734565c7d548f191e0b902961909d6",
            "c0fb13f0e6c348ac95c4a83a485deb3d",
            "4b520b98655c48ef87b21cbcc8594b84",
            "11d9cd592b134cf6a88c9f4799889eab",
            "15cccd37d8e34c8089486722e285b67e",
            "b9c26c09f8954918ab137253d90fc64a",
            "347832ec1e1649b5a9c4763cf87c1803",
            "34ad1558bd004898aaadaf4474593c59"
          ]
        },
        "id": "Bb1l9EKHH5dd",
        "outputId": "cb896bc5-a141-4c91-cf29-74654bb3ffe1"
      },
      "source": [
        "interact(fuzzyDemo, Felhőtakaró_=(0.0,10.0), Hőmérséklet_=(-30,50))"
      ],
      "execution_count": null,
      "outputs": [
        {
          "output_type": "display_data",
          "data": {
            "application/vnd.jupyter.widget-view+json": {
              "model_id": "b9859eec489e47aa84a297c3760ef4be",
              "version_minor": 0,
              "version_major": 2
            },
            "text/plain": [
              "interactive(children=(FloatSlider(value=8.0, description='Felhőtakaró_', max=10.0), IntSlider(value=30, descri…"
            ]
          },
          "metadata": {
            "tags": []
          }
        },
        {
          "output_type": "execute_result",
          "data": {
            "text/plain": [
              "<function __main__.fuzzyDemo>"
            ]
          },
          "metadata": {
            "tags": []
          },
          "execution_count": 45
        }
      ]
    },
    {
      "cell_type": "code",
      "metadata": {
        "id": "RU1-YHnhH5bO"
      },
      "source": [
        ""
      ],
      "execution_count": null,
      "outputs": []
    },
    {
      "cell_type": "code",
      "metadata": {
        "id": "sg6ZDf4yH5OP"
      },
      "source": [
        ""
      ],
      "execution_count": null,
      "outputs": []
    }
  ]
}