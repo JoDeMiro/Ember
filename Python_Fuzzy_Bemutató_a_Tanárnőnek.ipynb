{
  "nbformat": 4,
  "nbformat_minor": 0,
  "metadata": {
    "colab": {
      "name": "Python Fuzzy - Bemutató a Tanárnőnek.ipynb",
      "provenance": [],
      "collapsed_sections": [],
      "authorship_tag": "ABX9TyMrbmvSE1EGaF+xJSDifs8M",
      "include_colab_link": true
    },
    "kernelspec": {
      "name": "python3",
      "display_name": "Python 3"
    },
    "language_info": {
      "name": "python"
    },
    "widgets": {
      "application/vnd.jupyter.widget-state+json": {
        "51a6367b1a0e4f84ad2e3aa1731758eb": {
          "model_module": "@jupyter-widgets/controls",
          "model_name": "VBoxModel",
          "state": {
            "_view_name": "VBoxView",
            "_dom_classes": [
              "widget-interact"
            ],
            "_model_name": "VBoxModel",
            "_view_module": "@jupyter-widgets/controls",
            "_model_module_version": "1.5.0",
            "_view_count": null,
            "_view_module_version": "1.5.0",
            "box_style": "",
            "layout": "IPY_MODEL_2ce3306aaaec444d9e99ee398cde298f",
            "_model_module": "@jupyter-widgets/controls",
            "children": [
              "IPY_MODEL_18f904ede2b343c38b43b64593aee9b2",
              "IPY_MODEL_34b30fef151a4222a15dd2bde59d153e",
              "IPY_MODEL_a8646145c8f54d1ea05b41acb1c6a19d",
              "IPY_MODEL_53857447576b4f3eb2086123ecddbdc3"
            ]
          }
        },
        "2ce3306aaaec444d9e99ee398cde298f": {
          "model_module": "@jupyter-widgets/base",
          "model_name": "LayoutModel",
          "state": {
            "_view_name": "LayoutView",
            "grid_template_rows": null,
            "right": null,
            "justify_content": null,
            "_view_module": "@jupyter-widgets/base",
            "overflow": null,
            "_model_module_version": "1.2.0",
            "_view_count": null,
            "flex_flow": null,
            "width": null,
            "min_width": null,
            "border": null,
            "align_items": null,
            "bottom": null,
            "_model_module": "@jupyter-widgets/base",
            "top": null,
            "grid_column": null,
            "overflow_y": null,
            "overflow_x": null,
            "grid_auto_flow": null,
            "grid_area": null,
            "grid_template_columns": null,
            "flex": null,
            "_model_name": "LayoutModel",
            "justify_items": null,
            "grid_row": null,
            "max_height": null,
            "align_content": null,
            "visibility": null,
            "align_self": null,
            "height": null,
            "min_height": null,
            "padding": null,
            "grid_auto_rows": null,
            "grid_gap": null,
            "max_width": null,
            "order": null,
            "_view_module_version": "1.2.0",
            "grid_template_areas": null,
            "object_position": null,
            "object_fit": null,
            "grid_auto_columns": null,
            "margin": null,
            "display": null,
            "left": null
          }
        },
        "18f904ede2b343c38b43b64593aee9b2": {
          "model_module": "@jupyter-widgets/controls",
          "model_name": "FloatSliderModel",
          "state": {
            "_view_name": "FloatSliderView",
            "style": "IPY_MODEL_bce9f75a94e14a17b5c7eea5ab8da1f0",
            "_dom_classes": [],
            "description": "input1",
            "step": 0.1,
            "_model_name": "FloatSliderModel",
            "orientation": "horizontal",
            "max": 10,
            "_view_module": "@jupyter-widgets/controls",
            "_model_module_version": "1.5.0",
            "value": 8,
            "_view_count": null,
            "disabled": false,
            "_view_module_version": "1.5.0",
            "min": 0,
            "continuous_update": true,
            "readout_format": ".2f",
            "description_tooltip": null,
            "readout": true,
            "_model_module": "@jupyter-widgets/controls",
            "layout": "IPY_MODEL_1cd4505c717444ca9afe14546aa660d7"
          }
        },
        "34b30fef151a4222a15dd2bde59d153e": {
          "model_module": "@jupyter-widgets/controls",
          "model_name": "IntSliderModel",
          "state": {
            "_view_name": "IntSliderView",
            "style": "IPY_MODEL_59e233c426d149799aea86ab6c00d4b7",
            "_dom_classes": [],
            "description": "input2",
            "step": 1,
            "_model_name": "IntSliderModel",
            "orientation": "horizontal",
            "max": 50,
            "_view_module": "@jupyter-widgets/controls",
            "_model_module_version": "1.5.0",
            "value": 13,
            "_view_count": null,
            "disabled": false,
            "_view_module_version": "1.5.0",
            "min": -30,
            "continuous_update": true,
            "readout_format": "d",
            "description_tooltip": null,
            "readout": true,
            "_model_module": "@jupyter-widgets/controls",
            "layout": "IPY_MODEL_4b83c27d672946f69dca1c97555c11e6"
          }
        },
        "a8646145c8f54d1ea05b41acb1c6a19d": {
          "model_module": "@jupyter-widgets/controls",
          "model_name": "DropdownModel",
          "state": {
            "_options_labels": [
              "and",
              "or"
            ],
            "_view_name": "DropdownView",
            "style": "IPY_MODEL_1eb85dc895a04f9ea25a95638ff1dc1a",
            "_dom_classes": [],
            "description": "Type",
            "_model_name": "DropdownModel",
            "index": 1,
            "_view_module": "@jupyter-widgets/controls",
            "_model_module_version": "1.5.0",
            "_view_count": null,
            "disabled": false,
            "_view_module_version": "1.5.0",
            "description_tooltip": null,
            "_model_module": "@jupyter-widgets/controls",
            "layout": "IPY_MODEL_6e5f3cc780ba4cd99583a55d0e3fffe6"
          }
        },
        "53857447576b4f3eb2086123ecddbdc3": {
          "model_module": "@jupyter-widgets/output",
          "model_name": "OutputModel",
          "state": {
            "_view_name": "OutputView",
            "msg_id": "",
            "_dom_classes": [],
            "_model_name": "OutputModel",
            "outputs": [
              {
                "output_type": "stream",
                "metadata": {
                  "tags": []
                },
                "text": "IF sky[napos] OR temperature[meleg] THEN speed[gyors]\n\tAND aggregation function : fmin\n\tOR aggregation function  : fmax\n----------------------------\ny  : 79.99999999999994\n----------------------------\nsky : 8.0\ntemperature : 13\n\n",
                "stream": "stdout"
              },
              {
                "output_type": "display_data",
                "metadata": {
                  "tags": [],
                  "needs_background": "light"
                },
                "image/png": "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\n",
                "text/plain": "<Figure size 432x288 with 1 Axes>"
              },
              {
                "output_type": "display_data",
                "metadata": {
                  "tags": [],
                  "needs_background": "light"
                },
                "image/png": "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\n",
                "text/plain": "<Figure size 432x288 with 1 Axes>"
              },
              {
                "output_type": "display_data",
                "metadata": {
                  "tags": [],
                  "needs_background": "light"
                },
                "image/png": "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\n",
                "text/plain": "<Figure size 432x288 with 1 Axes>"
              }
            ],
            "_view_module": "@jupyter-widgets/output",
            "_model_module_version": "1.0.0",
            "_view_count": null,
            "_view_module_version": "1.0.0",
            "layout": "IPY_MODEL_a8ecead61fc941eba59a2e4c2c534567",
            "_model_module": "@jupyter-widgets/output"
          }
        },
        "bce9f75a94e14a17b5c7eea5ab8da1f0": {
          "model_module": "@jupyter-widgets/controls",
          "model_name": "SliderStyleModel",
          "state": {
            "_view_name": "StyleView",
            "handle_color": null,
            "_model_name": "SliderStyleModel",
            "description_width": "",
            "_view_module": "@jupyter-widgets/base",
            "_model_module_version": "1.5.0",
            "_view_count": null,
            "_view_module_version": "1.2.0",
            "_model_module": "@jupyter-widgets/controls"
          }
        },
        "1cd4505c717444ca9afe14546aa660d7": {
          "model_module": "@jupyter-widgets/base",
          "model_name": "LayoutModel",
          "state": {
            "_view_name": "LayoutView",
            "grid_template_rows": null,
            "right": null,
            "justify_content": null,
            "_view_module": "@jupyter-widgets/base",
            "overflow": null,
            "_model_module_version": "1.2.0",
            "_view_count": null,
            "flex_flow": null,
            "width": null,
            "min_width": null,
            "border": null,
            "align_items": null,
            "bottom": null,
            "_model_module": "@jupyter-widgets/base",
            "top": null,
            "grid_column": null,
            "overflow_y": null,
            "overflow_x": null,
            "grid_auto_flow": null,
            "grid_area": null,
            "grid_template_columns": null,
            "flex": null,
            "_model_name": "LayoutModel",
            "justify_items": null,
            "grid_row": null,
            "max_height": null,
            "align_content": null,
            "visibility": null,
            "align_self": null,
            "height": null,
            "min_height": null,
            "padding": null,
            "grid_auto_rows": null,
            "grid_gap": null,
            "max_width": null,
            "order": null,
            "_view_module_version": "1.2.0",
            "grid_template_areas": null,
            "object_position": null,
            "object_fit": null,
            "grid_auto_columns": null,
            "margin": null,
            "display": null,
            "left": null
          }
        },
        "59e233c426d149799aea86ab6c00d4b7": {
          "model_module": "@jupyter-widgets/controls",
          "model_name": "SliderStyleModel",
          "state": {
            "_view_name": "StyleView",
            "handle_color": null,
            "_model_name": "SliderStyleModel",
            "description_width": "",
            "_view_module": "@jupyter-widgets/base",
            "_model_module_version": "1.5.0",
            "_view_count": null,
            "_view_module_version": "1.2.0",
            "_model_module": "@jupyter-widgets/controls"
          }
        },
        "4b83c27d672946f69dca1c97555c11e6": {
          "model_module": "@jupyter-widgets/base",
          "model_name": "LayoutModel",
          "state": {
            "_view_name": "LayoutView",
            "grid_template_rows": null,
            "right": null,
            "justify_content": null,
            "_view_module": "@jupyter-widgets/base",
            "overflow": null,
            "_model_module_version": "1.2.0",
            "_view_count": null,
            "flex_flow": null,
            "width": null,
            "min_width": null,
            "border": null,
            "align_items": null,
            "bottom": null,
            "_model_module": "@jupyter-widgets/base",
            "top": null,
            "grid_column": null,
            "overflow_y": null,
            "overflow_x": null,
            "grid_auto_flow": null,
            "grid_area": null,
            "grid_template_columns": null,
            "flex": null,
            "_model_name": "LayoutModel",
            "justify_items": null,
            "grid_row": null,
            "max_height": null,
            "align_content": null,
            "visibility": null,
            "align_self": null,
            "height": null,
            "min_height": null,
            "padding": null,
            "grid_auto_rows": null,
            "grid_gap": null,
            "max_width": null,
            "order": null,
            "_view_module_version": "1.2.0",
            "grid_template_areas": null,
            "object_position": null,
            "object_fit": null,
            "grid_auto_columns": null,
            "margin": null,
            "display": null,
            "left": null
          }
        },
        "1eb85dc895a04f9ea25a95638ff1dc1a": {
          "model_module": "@jupyter-widgets/controls",
          "model_name": "DescriptionStyleModel",
          "state": {
            "_view_name": "StyleView",
            "_model_name": "DescriptionStyleModel",
            "description_width": "",
            "_view_module": "@jupyter-widgets/base",
            "_model_module_version": "1.5.0",
            "_view_count": null,
            "_view_module_version": "1.2.0",
            "_model_module": "@jupyter-widgets/controls"
          }
        },
        "6e5f3cc780ba4cd99583a55d0e3fffe6": {
          "model_module": "@jupyter-widgets/base",
          "model_name": "LayoutModel",
          "state": {
            "_view_name": "LayoutView",
            "grid_template_rows": null,
            "right": null,
            "justify_content": null,
            "_view_module": "@jupyter-widgets/base",
            "overflow": null,
            "_model_module_version": "1.2.0",
            "_view_count": null,
            "flex_flow": null,
            "width": null,
            "min_width": null,
            "border": null,
            "align_items": null,
            "bottom": null,
            "_model_module": "@jupyter-widgets/base",
            "top": null,
            "grid_column": null,
            "overflow_y": null,
            "overflow_x": null,
            "grid_auto_flow": null,
            "grid_area": null,
            "grid_template_columns": null,
            "flex": null,
            "_model_name": "LayoutModel",
            "justify_items": null,
            "grid_row": null,
            "max_height": null,
            "align_content": null,
            "visibility": null,
            "align_self": null,
            "height": null,
            "min_height": null,
            "padding": null,
            "grid_auto_rows": null,
            "grid_gap": null,
            "max_width": null,
            "order": null,
            "_view_module_version": "1.2.0",
            "grid_template_areas": null,
            "object_position": null,
            "object_fit": null,
            "grid_auto_columns": null,
            "margin": null,
            "display": null,
            "left": null
          }
        },
        "a8ecead61fc941eba59a2e4c2c534567": {
          "model_module": "@jupyter-widgets/base",
          "model_name": "LayoutModel",
          "state": {
            "_view_name": "LayoutView",
            "grid_template_rows": null,
            "right": null,
            "justify_content": null,
            "_view_module": "@jupyter-widgets/base",
            "overflow": null,
            "_model_module_version": "1.2.0",
            "_view_count": null,
            "flex_flow": null,
            "width": null,
            "min_width": null,
            "border": null,
            "align_items": null,
            "bottom": null,
            "_model_module": "@jupyter-widgets/base",
            "top": null,
            "grid_column": null,
            "overflow_y": null,
            "overflow_x": null,
            "grid_auto_flow": null,
            "grid_area": null,
            "grid_template_columns": null,
            "flex": null,
            "_model_name": "LayoutModel",
            "justify_items": null,
            "grid_row": null,
            "max_height": null,
            "align_content": null,
            "visibility": null,
            "align_self": null,
            "height": null,
            "min_height": null,
            "padding": null,
            "grid_auto_rows": null,
            "grid_gap": null,
            "max_width": null,
            "order": null,
            "_view_module_version": "1.2.0",
            "grid_template_areas": null,
            "object_position": null,
            "object_fit": null,
            "grid_auto_columns": null,
            "margin": null,
            "display": null,
            "left": null
          }
        }
      }
    }
  },
  "cells": [
    {
      "cell_type": "markdown",
      "metadata": {
        "id": "view-in-github",
        "colab_type": "text"
      },
      "source": [
        "<a href=\"https://colab.research.google.com/github/JoDeMiro/Ember/blob/main/Python_Fuzzy_Bemutat%C3%B3_a_Tan%C3%A1rn%C5%91nek.ipynb\" target=\"_parent\"><img src=\"https://colab.research.google.com/assets/colab-badge.svg\" alt=\"Open In Colab\"/></a>"
      ]
    },
    {
      "cell_type": "code",
      "metadata": {
        "id": "tw9BAP3xbRqP"
      },
      "source": [
        ""
      ],
      "execution_count": null,
      "outputs": []
    },
    {
      "cell_type": "code",
      "metadata": {
        "id": "JpDLR3BubRn0"
      },
      "source": [
        "%%capture\n",
        "!pip install scikit-fuzzy"
      ],
      "execution_count": null,
      "outputs": []
    },
    {
      "cell_type": "code",
      "metadata": {
        "id": "id9cmYk2bRlh"
      },
      "source": [
        "import numpy as np\n",
        "import skfuzzy as fuzzy\n",
        "from skfuzzy import control as ctrl\n",
        "\n",
        "import ipywidgets as widgets\n",
        "\n",
        "from ipywidgets import IntSlider\n",
        "from ipywidgets import HTML\n",
        "from ipywidgets import interact, interactive, fixed, interact_manual"
      ],
      "execution_count": null,
      "outputs": []
    },
    {
      "cell_type": "code",
      "metadata": {
        "id": "ZfnewoMAbsKn"
      },
      "source": [
        ""
      ],
      "execution_count": null,
      "outputs": []
    },
    {
      "cell_type": "code",
      "metadata": {
        "id": "Q0050hGybsIE"
      },
      "source": [
        ""
      ],
      "execution_count": null,
      "outputs": []
    },
    {
      "cell_type": "code",
      "metadata": {
        "id": "37fNFNH0cCYL"
      },
      "source": [
        "# Create universe\n",
        "\n",
        "Felhőtakaró = ctrl.Antecedent(np.arange(0, 10.1, 0.1), 'sky')\n",
        "\n",
        "Hőmérséklet = ctrl.Antecedent(np.arange(-30, 50.1, 0.1), 'temperature')\n",
        "\n",
        "Sebesség    = ctrl.Consequent(np.arange(0, 130, 1), 'speed')"
      ],
      "execution_count": null,
      "outputs": []
    },
    {
      "cell_type": "code",
      "metadata": {
        "colab": {
          "base_uri": "https://localhost:8080/",
          "height": 298
        },
        "id": "EsSqPvaYcCVu",
        "outputId": "c375556b-483e-4188-a4d4-838342db8ea1"
      },
      "source": [
        "Felhőtakaró.view()"
      ],
      "execution_count": null,
      "outputs": [
        {
          "output_type": "stream",
          "text": [
            "No handles with labels found to put in legend.\n"
          ],
          "name": "stderr"
        },
        {
          "output_type": "display_data",
          "data": {
            "image/png": "[encoded data removed]",
            "text/plain": [
              "<Figure size 432x288 with 1 Axes>"
            ]
          },
          "metadata": {
            "tags": [],
            "needs_background": "light"
          }
        }
      ]
    },
    {
      "cell_type": "code",
      "metadata": {
        "colab": {
          "base_uri": "https://localhost:8080/"
        },
        "id": "bTOA7jgKcCTY",
        "outputId": "1b23d7db-6990-4c0d-e457-742be60e9a06"
      },
      "source": [
        "Felhőtakaró.universe"
      ],
      "execution_count": null,
      "outputs": [
        {
          "output_type": "execute_result",
          "data": {
            "text/plain": [
              "array([ 0. ,  0.1,  0.2,  0.3,  0.4,  0.5,  0.6,  0.7,  0.8,  0.9,  1. ,\n",
              "        1.1,  1.2,  1.3,  1.4,  1.5,  1.6,  1.7,  1.8,  1.9,  2. ,  2.1,\n",
              "        2.2,  2.3,  2.4,  2.5,  2.6,  2.7,  2.8,  2.9,  3. ,  3.1,  3.2,\n",
              "        3.3,  3.4,  3.5,  3.6,  3.7,  3.8,  3.9,  4. ,  4.1,  4.2,  4.3,\n",
              "        4.4,  4.5,  4.6,  4.7,  4.8,  4.9,  5. ,  5.1,  5.2,  5.3,  5.4,\n",
              "        5.5,  5.6,  5.7,  5.8,  5.9,  6. ,  6.1,  6.2,  6.3,  6.4,  6.5,\n",
              "        6.6,  6.7,  6.8,  6.9,  7. ,  7.1,  7.2,  7.3,  7.4,  7.5,  7.6,\n",
              "        7.7,  7.8,  7.9,  8. ,  8.1,  8.2,  8.3,  8.4,  8.5,  8.6,  8.7,\n",
              "        8.8,  8.9,  9. ,  9.1,  9.2,  9.3,  9.4,  9.5,  9.6,  9.7,  9.8,\n",
              "        9.9, 10. ])"
            ]
          },
          "metadata": {
            "tags": []
          },
          "execution_count": 5
        }
      ]
    },
    {
      "cell_type": "code",
      "metadata": {
        "id": "EMQBh14CbsF3"
      },
      "source": [
        "# Határozzuk meg a tagsági függvényeket (ez esetben most a felhőtakaró{felhős})\n",
        "\n",
        "Felhőtakaró['felhős'] = fuzzy.trimf(Felhőtakaró.universe, [0, 3.5, 7])"
      ],
      "execution_count": null,
      "outputs": []
    },
    {
      "cell_type": "code",
      "metadata": {
        "colab": {
          "base_uri": "https://localhost:8080/",
          "height": 281
        },
        "id": "OfYj-OEpbq9I",
        "outputId": "28eb490a-5843-4bef-b81e-8e4a477a8579"
      },
      "source": [
        "Felhőtakaró.view()"
      ],
      "execution_count": null,
      "outputs": [
        {
          "output_type": "display_data",
          "data": {
            "image/png": "[encoded data removed]",
            "text/plain": [
              "<Figure size 432x288 with 1 Axes>"
            ]
          },
          "metadata": {
            "tags": [],
            "needs_background": "light"
          }
        }
      ]
    },
    {
      "cell_type": "code",
      "metadata": {
        "id": "fI58z2rBdIXC"
      },
      "source": [
        "# Határozzuk meg a tagsági függvényeket (ez esetben most a felhőtakaró{napos})\n",
        "\n",
        "Felhőtakaró['napos'] = fuzzy.trimf(Felhőtakaró.universe, [3, 6.5, 10])"
      ],
      "execution_count": null,
      "outputs": []
    },
    {
      "cell_type": "code",
      "metadata": {
        "colab": {
          "base_uri": "https://localhost:8080/",
          "height": 281
        },
        "id": "hzEu1W7LdT1o",
        "outputId": "f456c673-9831-440b-bc1c-0fd528c1d13d"
      },
      "source": [
        "Felhőtakaró.view()"
      ],
      "execution_count": null,
      "outputs": [
        {
          "output_type": "display_data",
          "data": {
            "image/png": "[encoded data removed]",
            "text/plain": [
              "<Figure size 432x288 with 1 Axes>"
            ]
          },
          "metadata": {
            "tags": [],
            "needs_background": "light"
          }
        }
      ]
    },
    {
      "cell_type": "code",
      "metadata": {
        "id": "W88nXgfwdUgH"
      },
      "source": [
        "# Eddig megvagyunk a Felhőtakaró változó tagsági fűggvényeivel {felhős, napos}\n",
        "\n",
        "# Most készítsük el a Hőmérséklet tagsági függvényeit is {hideg, meleg}\n",
        "\n",
        "# Itt direkt más tagsági függvényt használnok (trampf)\n",
        "\n",
        "Hőmérséklet['hideg'] = fuzzy.trapmf(Hőmérséklet.universe, [-30, -30, 0, 30])\n",
        "\n",
        "Hőmérséklet['meleg'] = fuzzy.trapmf(Hőmérséklet.universe, [0, 30, 50, 50])"
      ],
      "execution_count": null,
      "outputs": []
    },
    {
      "cell_type": "code",
      "metadata": {
        "colab": {
          "base_uri": "https://localhost:8080/",
          "height": 281
        },
        "id": "Q9UR8zzTf0bo",
        "outputId": "96495407-7c37-4019-df9b-8ba1ed82a402"
      },
      "source": [
        "Hőmérséklet.view()"
      ],
      "execution_count": null,
      "outputs": [
        {
          "output_type": "display_data",
          "data": {
            "image/png": "[encoded data removed]",
            "text/plain": [
              "<Figure size 432x288 with 1 Axes>"
            ]
          },
          "metadata": {
            "tags": [],
            "needs_background": "light"
          }
        }
      ]
    },
    {
      "cell_type": "code",
      "metadata": {
        "colab": {
          "base_uri": "https://localhost:8080/",
          "height": 281
        },
        "id": "A4-TmRYcgl59",
        "outputId": "8591c7f1-bfa5-4ccc-a9be-cad459be90e1"
      },
      "source": [
        "# Most készítsük el a Sebesség változó tagsági függvyényeit is {Lassú, Gyors}\n",
        "\n",
        "Sebesség['lassú'] = fuzzy.trimf(Sebesség.universe, [0, 40, 80])\n",
        "Sebesség['gyors'] = fuzzy.trimf(Sebesség.universe, [40, 80, 120])\n",
        "\n",
        "Sebesség.view()"
      ],
      "execution_count": null,
      "outputs": [
        {
          "output_type": "display_data",
          "data": {
            "image/png": "[encoded data removed]",
            "text/plain": [
              "<Figure size 432x288 with 1 Axes>"
            ]
          },
          "metadata": {
            "tags": [],
            "needs_background": "light"
          }
        }
      ]
    },
    {
      "cell_type": "code",
      "metadata": {
        "id": "wcW3HtlBhPMG"
      },
      "source": [
        "# Direkt csak az egyik szabályt írom meg, szóval a sebesség soha sem lehet lassú (mert ehhez most nem rendelek semmilyen szabályt)\n",
        "\n",
        "# Más szavakkal nincs olyan szabály aminek a kimenete Sebesség{'lassú'}\n",
        "\n",
        "rule1 = ctrl.Rule(antecedent= Felhőtakaró['napos'] & Hőmérséklet['meleg'], consequent = Sebesség['gyors'])\n",
        "\n",
        "# Ebben az esetben, ahogy már mondtan az AND logikai kapcsoló a max(Felhőtakaró['napos'], Hőmérséklet['meleg']) tagságii függvény értéket fogja hozzárendelni a Sebesség['gyors'] értékhez.\n",
        "\n",
        "# Helyesebben egyébként ez sem igaz, mert a Felhőtakaró és a Hőmérséklet tagsági függvények középértékét fogja venni olyan arányban amennyire az adott bemenet alapján része a tagsági függvénynek.\n"
      ],
      "execution_count": null,
      "outputs": []
    },
    {
      "cell_type": "code",
      "metadata": {
        "id": "MpW6oIo_lq5X"
      },
      "source": [
        "def setRules(rule_type = 'and'):\n",
        "\n",
        "  if( rule_type == 'and'):\n",
        "    rule1 = ctrl.Rule(antecedent= Felhőtakaró['napos'] & Hőmérséklet['meleg'], consequent = Sebesség['gyors'])\n",
        "  elif( rule_type == 'or'):\n",
        "    rule1 = ctrl.Rule(antecedent= Felhőtakaró['napos'] | Hőmérséklet['meleg'], consequent = Sebesség['gyors'])\n",
        "  \n",
        "  return rule1"
      ],
      "execution_count": null,
      "outputs": []
    },
    {
      "cell_type": "code",
      "metadata": {
        "id": "O2Dpty23hPlC"
      },
      "source": [
        "def fuzzyDemo(input1 = 8.0, input2 = 30, Type = ['and','or']):\n",
        "\n",
        "  rule1 = setRules(Type)\n",
        "\n",
        "  # csak egy szabályunk van\n",
        "  print(rule1)\n",
        "\n",
        "  # csak egy szabályunk van\n",
        "  system = ctrl.ControlSystem([rule1])\n",
        "\n",
        "  simulation = ctrl.ControlSystemSimulation(system)\n",
        "\n",
        "  simulation.input['sky'] = input1\n",
        "  simulation.input['temperature'] = input2\n",
        "\n",
        "  simulation.compute()\n",
        "\n",
        "  print('----------------------------')\n",
        "  print('y  :', simulation.output['speed'])\n",
        "  print('----------------------------')\n",
        "  print(simulation.input)\n",
        "\n",
        "  Sebesség.view(sim = simulation)\n",
        "  Felhőtakaró.view(sim = simulation)\n",
        "  Hőmérséklet.view(sim = simulation)\n",
        "  "
      ],
      "execution_count": null,
      "outputs": []
    },
    {
      "cell_type": "code",
      "metadata": {
        "colab": {
          "base_uri": "https://localhost:8080/",
          "height": 1000,
          "referenced_widgets": [
            "51a6367b1a0e4f84ad2e3aa1731758eb",
            "2ce3306aaaec444d9e99ee398cde298f",
            "18f904ede2b343c38b43b64593aee9b2",
            "34b30fef151a4222a15dd2bde59d153e",
            "a8646145c8f54d1ea05b41acb1c6a19d",
            "53857447576b4f3eb2086123ecddbdc3",
            "bce9f75a94e14a17b5c7eea5ab8da1f0",
            "1cd4505c717444ca9afe14546aa660d7",
            "59e233c426d149799aea86ab6c00d4b7",
            "4b83c27d672946f69dca1c97555c11e6",
            "1eb85dc895a04f9ea25a95638ff1dc1a",
            "6e5f3cc780ba4cd99583a55d0e3fffe6",
            "a8ecead61fc941eba59a2e4c2c534567"
          ]
        },
        "id": "xmMP23f6j6EX",
        "outputId": "8fe07038-b960-41df-b79a-788023e5bc66"
      },
      "source": [
        "interact(fuzzyDemo, input1=(0.0,10.0), input2=(-30,50))"
      ],
      "execution_count": null,
      "outputs": [
        {
          "output_type": "display_data",
          "data": {
            "application/vnd.jupyter.widget-view+json": {
              "model_id": "51a6367b1a0e4f84ad2e3aa1731758eb",
              "version_minor": 0,
              "version_major": 2
            },
            "text/plain": [
              "interactive(children=(FloatSlider(value=8.0, description='input1', max=10.0), IntSlider(value=30, description=…"
            ]
          },
          "metadata": {
            "tags": []
          }
        },
        {
          "output_type": "execute_result",
          "data": {
            "text/plain": [
              "<function __main__.fuzzyDemo>"
            ]
          },
          "metadata": {
            "tags": []
          },
          "execution_count": 16
        }
      ]
    },
    {
      "cell_type": "code",
      "metadata": {
        "colab": {
          "base_uri": "https://localhost:8080/",
          "height": 103
        },
        "id": "A8ll4itubRjc",
        "outputId": "62287763-ffaa-46b8-9cc1-8fcbc0d093b0"
      },
      "source": [
        "\"\"\"\n",
        "https://youtu.be/DnfWFgovIeU?t=24\n",
        "Example of Fuzzy Logic calculation\n",
        "\n",
        "Ez az egész egyébként a következő módon érdekes. Tegyük fel hogy a kocsi megfelelő sebességét akarjuk megválasztani,\n",
        "és két bemeneti változónk van amely alapján ezt megmondjuk. A Felhőtakaró mértéke (I) és a Hőmérséklet (II).\n",
        "Mindkét változó két-két tagsági függvénnyel rendelkezik a Felhőtakaró{napos, felhős} a Hőmérséklet{hideg, meleg}.\n",
        "Fontos megjeyezni, hogy alapvetően mindkét változó bemeneti értéke folytonos változó. Felhőtakaró mérték[1-10]\n",
        "Hőmérséklet[(-30)-(+50)]. Ezekhez az értékekhez rendelünk tagsági függvényeket {napos, felhős}, {hideg, meleg}\n",
        "\n",
        "A végeredményt, vagyis hogy milyen gyorsan hajtson a kocsi ennek a kettőnek a kapcsolata alapján fogjuk meghatározni,\n",
        "de hogyan? Erről fogok most írni.\n",
        "\n",
        "A két változó kapcsolatát az aggregáció írja le. Például így ->\n",
        "Ha Felhő(napos) ÉS Hőmérséklet(Meleg) AKKOR Sebbesség(Gyors)\n",
        "De figyelük meg, hogy ugyan ezekkel a változókkal leírhatunk egy másfajta kapcsolatot is és ennek függvényében más lesz az eredmény.\n",
        "Ha Felhő(napos) VAGY Hőmérséklet(Meleg) AKKOR Sebesség(Gyors)\n",
        "\n",
        "Igen ám de miért lesz különböző a kimenet mikor szinte minden ugyan az a két szabályban. Hát mégsem. Mert ha a két változó\n",
        "Felhőtakaró mértéke és Hőmérséklet közötti kapcsolat ÉS akkor a két tagsági függvény közül a nagyobb értékét fogja venni.\n",
        "Felhőtakaró mértéke és Hőmérséklet közötti kapcsolat VAGY akkor két tagsági függvény közül a kisebbi értéket fogja venni.\n",
        "\n",
        "Néhhük meg ezt egy példán.\n",
        "\n",
        "Tegyük fel a Felhőtakaró mértéke (8) az ehhez tartozó tagsági függvény érték {Napos} méghozzá [0.7] mértékben.\n",
        "Tegyük fel a Hőmérséklet mértéke (30) a ehhze tartozó tagsági függvény érték {Meleg} méghozzá [0.9] mértékben.\n",
        "\n",
        "Ha a két szabály közt ÉS kapcsolat van akkor az aggregáció eredményeképpen a Sebesség{Gyors}[0.7] mértékben.\n",
        "A defuzzyfikáció után ehhez tegyük fel 60 km/h sebesség fog tartozni.\n",
        "\n",
        "Ha a két szabály közt VAGY kapclat van akkor az aggregáció eredményeképpen a Sebesség{Gyors}[0.9] mértékben.\n",
        "A defuzzyfikáció után ehhez tegyük fel 120 km/h sebesség fog tartozni.\n",
        "\n",
        "Ugye látszik hogy a bemeneti változók Felhőtakaró mértéke és a Hőmérséklet nem változott, sőt a tagsági függvényük értéke\n",
        "sem változótt a kimenet mégis más. Méghozzá az AGGREGÁCIÓ (a két változó kapcsolatát leíró szabály miatt)\n",
        "\"\"\""
      ],
      "execution_count": null,
      "outputs": [
        {
          "output_type": "execute_result",
          "data": {
            "application/vnd.google.colaboratory.intrinsic+json": {
              "type": "string"
            },
            "text/plain": [
              "'\\nhttps://youtu.be/DnfWFgovIeU?t=24\\nExample of Fuzzy Logic calculation\\n\\nEz az egész egyébként a következő módon érdekes. Tegyük fel hogy a kocsi megfelelő sebességét akarjuk megválasztani,\\nés két bemeneti változónk van amely alapján ezt megmondjuk. A Felhőtakaró mértéke (I) és a Hőmérséklet (II).\\nMindkét változó két-két tagsági függvénnyel rendelkezik a Felhőtakaró{napos, felhős} a Hőmérséklet{hideg, meleg}.\\nFontos megjeyezni, hogy alapvetően mindkét változó bemeneti értéke folytonos változó. Felhőtakaró mérték[1-10]\\nHőmérséklet[(-30)-(+50)]. Ezekhez az értékekhez rendelünk tagsági függvényeket {napos, felhős}, {hideg, meleg}\\n\\nA végeredményt, vagyis hogy milyen gyorsan hajtson a kocsi ennek a kettőnek a kapcsolata alapján fogjuk meghatározni,\\nde hogyan? Erről fogok most írni.\\n\\nA két változó kapcsolatát az aggregáció írja le. Például így ->\\nHa Felhő(napos) ÉS Hőmérséklet(Meleg) AKKOR Sebbesség(Gyors)\\nDe figyelük meg, hogy ugyan ezekkel a változókkal leírhatunk egy másfajta kapcsolatot is és ennek függvényében más lesz az eredmény.\\nHa Felhő(napos) VAGY Hőmérséklet(Meleg) AKKOR Sebesség(Gyors)\\n\\nIgen ám de miért lesz különböző a kimenet mikor szinte minden ugyan az a két szabályban. Hát mégsem. Mert ha a két változó\\nFelhőtakaró mértéke és Hőmérséklet közötti kapcsolat ÉS akkor a két tagsági függvény közül a nagyobb értékét fogja venni.\\nFelhőtakaró mértéke és Hőmérséklet közötti kapcsolat VAGY akkor két tagsági függvény közül a kisebbi értéket fogja venni.\\n\\nNéhhük meg ezt egy példán.\\n\\nTegyük fel a Felhőtakaró mértéke (8) az ehhez tartozó tagsági függvény érték {Napos} méghozzá [0.7] mértékben.\\nTegyük fel a Hőmérséklet mértéke (30) a ehhze tartozó tagsági függvény érték {Meleg} méghozzá [0.9] mértékben.\\n\\nHa a két szabály közt ÉS kapcsolat van akkor az aggregáció eredményeképpen a Sebesség{Gyors}[0.7] mértékben.\\nA defuzzyfikáció után ehhez tegyük fel 60 km/h sebesség fog tartozni.\\n\\nHa a két szabály közt VAGY kapclat van akkor az aggregáció eredményeképpen a Sebesség{Gyors}[0.9] mértékben.\\nA defuzzyfikáció után ehhez tegyük fel 120 km/h sebesség fog tartozni.\\n\\nUgye látszik hogy a bemeneti változók Felhőtakaró mértéke és a Hőmérséklet nem változott, sőt a tagsági függvényük értéke\\nsem változótt a kimenet mégis más. Méghozzá az AGGREGÁCIÓ (a két változó kapcsolatát leíró szabály miatt)\\n'"
            ]
          },
          "metadata": {
            "tags": []
          },
          "execution_count": 17
        }
      ]
    },
    {
      "cell_type": "code",
      "metadata": {
        "id": "9f3t3KnsbRg6"
      },
      "source": [
        ""
      ],
      "execution_count": null,
      "outputs": []
    },
    {
      "cell_type": "code",
      "metadata": {
        "id": "LgCT_XBjbRZQ"
      },
      "source": [
        ""
      ],
      "execution_count": null,
      "outputs": []
    },
    {
      "cell_type": "code",
      "metadata": {
        "id": "66Hi5N7YbKPe"
      },
      "source": [
        ""
      ],
      "execution_count": null,
      "outputs": []
    }
  ]
}