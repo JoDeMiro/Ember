{
  "nbformat": 4,
  "nbformat_minor": 0,
  "metadata": {
    "colab": {
      "name": "Time Series Prediction with LSTM.ipynb",
      "provenance": [],
      "collapsed_sections": [],
      "authorship_tag": "ABX9TyOmDqXGQPYI5IPQN3SvI3sP",
      "include_colab_link": true
    },
    "kernelspec": {
      "name": "python3",
      "display_name": "Python 3"
    },
    "language_info": {
      "name": "python"
    }
  },
  "cells": [
    {
      "cell_type": "markdown",
      "metadata": {
        "id": "view-in-github",
        "colab_type": "text"
      },
      "source": [
        "<a href=\"https://colab.research.google.com/github/JoDeMiro/Ember/blob/main/Time_Series_Prediction_with_LSTM.ipynb\" target=\"_parent\"><img src=\"https://colab.research.google.com/assets/colab-badge.svg\" alt=\"Open In Colab\"/></a>"
      ]
    },
    {
      "cell_type": "code",
      "metadata": {
        "id": "-EE5chgcBGZ8"
      },
      "source": [
        "# https://www.youtube.com/watch?v=QIUxPv5PJOY"
      ],
      "execution_count": null,
      "outputs": []
    },
    {
      "cell_type": "markdown",
      "metadata": {
        "id": "4mGGiNLsN1s-"
      },
      "source": [
        "## Description\n",
        "\n",
        "This program uses an artificial recurrent neural network called Long Short Term Memory (LSTM) to predict the closing stock price of a corporation (Apple Inc.) using the past 60 day stock price."
      ]
    },
    {
      "cell_type": "code",
      "metadata": {
        "id": "YCslMhaRBNgl"
      },
      "source": [
        "import math\n",
        "import pandas_datareader as web\n",
        "import numpy as np\n",
        "import pandas as pd\n",
        "import matplotlib.pyplot as plt\n",
        "\n",
        "from sklearn.preprocessing import MinMaxScaler\n",
        "from keras.models import Sequential\n",
        "from keras.layers import Dense, LSTM\n",
        "\n",
        "plt.style.use('fivethirtyeight')"
      ],
      "execution_count": null,
      "outputs": []
    },
    {
      "cell_type": "markdown",
      "metadata": {
        "id": "oqM-CapFOpz-"
      },
      "source": [
        "## Get the Stock quote"
      ]
    },
    {
      "cell_type": "code",
      "metadata": {
        "id": "3dUmEYihOWvU"
      },
      "source": [
        " df = web.DataReader('AAPL', data_source='yahoo', start='2012-01-01', end='2019-12-17')"
      ],
      "execution_count": null,
      "outputs": []
    },
    {
      "cell_type": "code",
      "metadata": {
        "colab": {
          "base_uri": "https://localhost:8080/",
          "height": 450
        },
        "id": "PcXWM_lWO9AV",
        "outputId": "ed738911-0c85-40c0-acd6-7c9049b48e28"
      },
      "source": [
        "df"
      ],
      "execution_count": null,
      "outputs": [
        {
          "output_type": "execute_result",
          "data": {
            "text/html": [
              "<div>\n",
              "<style scoped>\n",
              "    .dataframe tbody tr th:only-of-type {\n",
              "        vertical-align: middle;\n",
              "    }\n",
              "\n",
              "    .dataframe tbody tr th {\n",
              "        vertical-align: top;\n",
              "    }\n",
              "\n",
              "    .dataframe thead th {\n",
              "        text-align: right;\n",
              "    }\n",
              "</style>\n",
              "<table border=\"1\" class=\"dataframe\">\n",
              "  <thead>\n",
              "    <tr style=\"text-align: right;\">\n",
              "      <th></th>\n",
              "      <th>High</th>\n",
              "      <th>Low</th>\n",
              "      <th>Open</th>\n",
              "      <th>Close</th>\n",
              "      <th>Volume</th>\n",
              "      <th>Adj Close</th>\n",
              "    </tr>\n",
              "    <tr>\n",
              "      <th>Date</th>\n",
              "      <th></th>\n",
              "      <th></th>\n",
              "      <th></th>\n",
              "      <th></th>\n",
              "      <th></th>\n",
              "      <th></th>\n",
              "    </tr>\n",
              "  </thead>\n",
              "  <tbody>\n",
              "    <tr>\n",
              "      <th>2012-01-03</th>\n",
              "      <td>14.732143</td>\n",
              "      <td>14.607143</td>\n",
              "      <td>14.621429</td>\n",
              "      <td>14.686786</td>\n",
              "      <td>302220800.0</td>\n",
              "      <td>12.650659</td>\n",
              "    </tr>\n",
              "    <tr>\n",
              "      <th>2012-01-04</th>\n",
              "      <td>14.810000</td>\n",
              "      <td>14.617143</td>\n",
              "      <td>14.642857</td>\n",
              "      <td>14.765714</td>\n",
              "      <td>260022000.0</td>\n",
              "      <td>12.718646</td>\n",
              "    </tr>\n",
              "    <tr>\n",
              "      <th>2012-01-05</th>\n",
              "      <td>14.948214</td>\n",
              "      <td>14.738214</td>\n",
              "      <td>14.819643</td>\n",
              "      <td>14.929643</td>\n",
              "      <td>271269600.0</td>\n",
              "      <td>12.859850</td>\n",
              "    </tr>\n",
              "    <tr>\n",
              "      <th>2012-01-06</th>\n",
              "      <td>15.098214</td>\n",
              "      <td>14.972143</td>\n",
              "      <td>14.991786</td>\n",
              "      <td>15.085714</td>\n",
              "      <td>318292800.0</td>\n",
              "      <td>12.994284</td>\n",
              "    </tr>\n",
              "    <tr>\n",
              "      <th>2012-01-09</th>\n",
              "      <td>15.276786</td>\n",
              "      <td>15.048214</td>\n",
              "      <td>15.196429</td>\n",
              "      <td>15.061786</td>\n",
              "      <td>394024400.0</td>\n",
              "      <td>12.973674</td>\n",
              "    </tr>\n",
              "    <tr>\n",
              "      <th>...</th>\n",
              "      <td>...</td>\n",
              "      <td>...</td>\n",
              "      <td>...</td>\n",
              "      <td>...</td>\n",
              "      <td>...</td>\n",
              "      <td>...</td>\n",
              "    </tr>\n",
              "    <tr>\n",
              "      <th>2019-12-11</th>\n",
              "      <td>67.775002</td>\n",
              "      <td>67.125000</td>\n",
              "      <td>67.202499</td>\n",
              "      <td>67.692497</td>\n",
              "      <td>78756800.0</td>\n",
              "      <td>67.012764</td>\n",
              "    </tr>\n",
              "    <tr>\n",
              "      <th>2019-12-12</th>\n",
              "      <td>68.139999</td>\n",
              "      <td>66.830002</td>\n",
              "      <td>66.945000</td>\n",
              "      <td>67.864998</td>\n",
              "      <td>137310400.0</td>\n",
              "      <td>67.183548</td>\n",
              "    </tr>\n",
              "    <tr>\n",
              "      <th>2019-12-13</th>\n",
              "      <td>68.824997</td>\n",
              "      <td>67.732498</td>\n",
              "      <td>67.864998</td>\n",
              "      <td>68.787498</td>\n",
              "      <td>133587600.0</td>\n",
              "      <td>68.096771</td>\n",
              "    </tr>\n",
              "    <tr>\n",
              "      <th>2019-12-16</th>\n",
              "      <td>70.197502</td>\n",
              "      <td>69.245003</td>\n",
              "      <td>69.250000</td>\n",
              "      <td>69.964996</td>\n",
              "      <td>128186000.0</td>\n",
              "      <td>69.262459</td>\n",
              "    </tr>\n",
              "    <tr>\n",
              "      <th>2019-12-17</th>\n",
              "      <td>70.442497</td>\n",
              "      <td>69.699997</td>\n",
              "      <td>69.892502</td>\n",
              "      <td>70.102501</td>\n",
              "      <td>114158400.0</td>\n",
              "      <td>69.398575</td>\n",
              "    </tr>\n",
              "  </tbody>\n",
              "</table>\n",
              "<p>2003 rows × 6 columns</p>\n",
              "</div>"
            ],
            "text/plain": [
              "                 High        Low       Open      Close       Volume  Adj Close\n",
              "Date                                                                          \n",
              "2012-01-03  14.732143  14.607143  14.621429  14.686786  302220800.0  12.650659\n",
              "2012-01-04  14.810000  14.617143  14.642857  14.765714  260022000.0  12.718646\n",
              "2012-01-05  14.948214  14.738214  14.819643  14.929643  271269600.0  12.859850\n",
              "2012-01-06  15.098214  14.972143  14.991786  15.085714  318292800.0  12.994284\n",
              "2012-01-09  15.276786  15.048214  15.196429  15.061786  394024400.0  12.973674\n",
              "...               ...        ...        ...        ...          ...        ...\n",
              "2019-12-11  67.775002  67.125000  67.202499  67.692497   78756800.0  67.012764\n",
              "2019-12-12  68.139999  66.830002  66.945000  67.864998  137310400.0  67.183548\n",
              "2019-12-13  68.824997  67.732498  67.864998  68.787498  133587600.0  68.096771\n",
              "2019-12-16  70.197502  69.245003  69.250000  69.964996  128186000.0  69.262459\n",
              "2019-12-17  70.442497  69.699997  69.892502  70.102501  114158400.0  69.398575\n",
              "\n",
              "[2003 rows x 6 columns]"
            ]
          },
          "metadata": {
            "tags": []
          },
          "execution_count": 6
        }
      ]
    },
    {
      "cell_type": "markdown",
      "metadata": {
        "id": "NIBiN9XjPIYp"
      },
      "source": [
        "### Get the number of rows and columns in the data set"
      ]
    },
    {
      "cell_type": "code",
      "metadata": {
        "colab": {
          "base_uri": "https://localhost:8080/"
        },
        "id": "NQKXz87uO947",
        "outputId": "ccc94f9c-3ef2-40e3-b92b-5882bb097ccf"
      },
      "source": [
        "df.shape"
      ],
      "execution_count": null,
      "outputs": [
        {
          "output_type": "execute_result",
          "data": {
            "text/plain": [
              "(2003, 6)"
            ]
          },
          "metadata": {
            "tags": []
          },
          "execution_count": 7
        }
      ]
    },
    {
      "cell_type": "code",
      "metadata": {
        "id": "Y1bHr5AzPD7Y"
      },
      "source": [
        ""
      ],
      "execution_count": null,
      "outputs": []
    },
    {
      "cell_type": "markdown",
      "metadata": {
        "id": "rSbaK7AAPOGA"
      },
      "source": [
        "### Visualize"
      ]
    },
    {
      "cell_type": "code",
      "metadata": {
        "colab": {
          "base_uri": "https://localhost:8080/",
          "height": 558
        },
        "id": "XSAYggr7PPlr",
        "outputId": "c933fcde-374e-437e-e416-b5e86f3ce07c"
      },
      "source": [
        "plt.figure(figsize=(16,8))\n",
        "plt.title('Close Price History')\n",
        "plt.plot(df['Close'])\n",
        "plt.xlabel('Date')\n",
        "plt.ylabel('Close Price USD')\n",
        "plt.show()"
      ],
      "execution_count": null,
      "outputs": [
        {
          "output_type": "display_data",
          "data": {
            "image/png": "[encoded data removed]",
            "text/plain": [
              "<Figure size 1152x576 with 1 Axes>"
            ]
          },
          "metadata": {
            "tags": []
          }
        }
      ]
    },
    {
      "cell_type": "markdown",
      "metadata": {
        "id": "C3JJfnNpP5bA"
      },
      "source": [
        "### Create a new dataframe with only the 'Close' column"
      ]
    },
    {
      "cell_type": "code",
      "metadata": {
        "id": "FcBxR-vfPaoz"
      },
      "source": [
        "data = df.filter(['Close'])"
      ],
      "execution_count": null,
      "outputs": []
    },
    {
      "cell_type": "markdown",
      "metadata": {
        "id": "eyWM3cEyQFfK"
      },
      "source": [
        "### Convert the dataframe to a numpy array"
      ]
    },
    {
      "cell_type": "code",
      "metadata": {
        "id": "z10guJ-dQBMg"
      },
      "source": [
        "dataset = data.values"
      ],
      "execution_count": null,
      "outputs": []
    },
    {
      "cell_type": "markdown",
      "metadata": {
        "id": "LRU3PcIiQROZ"
      },
      "source": [
        "### Get the number of rows to train the model on"
      ]
    },
    {
      "cell_type": "code",
      "metadata": {
        "colab": {
          "base_uri": "https://localhost:8080/"
        },
        "id": "cahhv4EdQLAz",
        "outputId": "d4816507-12a5-4b27-a6b6-2db23305f30e"
      },
      "source": [
        "training_data_len = math.ceil(len(dataset) *.8)\n",
        "\n",
        "training_data_len"
      ],
      "execution_count": null,
      "outputs": [
        {
          "output_type": "execute_result",
          "data": {
            "text/plain": [
              "1603"
            ]
          },
          "metadata": {
            "tags": []
          },
          "execution_count": 18
        }
      ]
    },
    {
      "cell_type": "markdown",
      "metadata": {
        "id": "wfNiSucWQlKP"
      },
      "source": [
        "### Scale the data"
      ]
    },
    {
      "cell_type": "code",
      "metadata": {
        "id": "OfkaRVMhQaUA"
      },
      "source": [
        "scaler = MinMaxScaler(feature_range=(0,1))"
      ],
      "execution_count": null,
      "outputs": []
    },
    {
      "cell_type": "code",
      "metadata": {
        "id": "nWWd_p_NQu70"
      },
      "source": [
        "scaled_data = scaler.fit_transform(dataset)"
      ],
      "execution_count": null,
      "outputs": []
    },
    {
      "cell_type": "markdown",
      "metadata": {
        "id": "nHlP0y3WRK7e"
      },
      "source": [
        "### Na itt elcsúszott az egész, mivel a MinMax átalakítást az egész mintán végezte el és csak most fogja leválogatni tanuló és teszt mintára"
      ]
    },
    {
      "cell_type": "code",
      "metadata": {
        "id": "tGzNRNpuRH65"
      },
      "source": [
        "train_data = scaled_data[0:training_data_len, :]"
      ],
      "execution_count": null,
      "outputs": []
    },
    {
      "cell_type": "markdown",
      "metadata": {
        "id": "W05o6Zw2RkLo"
      },
      "source": [
        "### Split the data into x_train and y_train data sets"
      ]
    },
    {
      "cell_type": "code",
      "metadata": {
        "id": "r1ODrGixReXq"
      },
      "source": [
        "x_train = []\n",
        "y_train = []\n",
        "\n",
        "for i in range(60, len(train_data)):\n",
        "  x_train.append(train_data[i-60:i, 0])\n",
        "  y_train.append(train_data[i,0])"
      ],
      "execution_count": null,
      "outputs": []
    },
    {
      "cell_type": "code",
      "metadata": {
        "colab": {
          "base_uri": "https://localhost:8080/"
        },
        "id": "Rdl6Ldi4Rreu",
        "outputId": "680d9742-b950-4fef-aa01-233943cc048a"
      },
      "source": [
        "print(type(x_train))\n",
        "print(type(x_train[1]))\n",
        "print(x_train[1].shape)\n",
        "print(x_train[1])"
      ],
      "execution_count": null,
      "outputs": [
        {
          "output_type": "stream",
          "text": [
            "<class 'list'>\n",
            "<class 'numpy.ndarray'>\n",
            "(60,)\n",
            "[0.01457063 0.01748985 0.02026915 0.01984303 0.02080338 0.02036454\n",
            " 0.01962679 0.01862191 0.02173194 0.02453668 0.02367172 0.01893355\n",
            " 0.02345548 0.01900352 0.03569838 0.03440732 0.0360927  0.03973694\n",
            " 0.04194384 0.0417594  0.0410789  0.04397903 0.04670744 0.04979839\n",
            " 0.05479095 0.0652785  0.06543749 0.07127594 0.07563885 0.06814049\n",
            " 0.07102789 0.07097066 0.07906688 0.07791571 0.08004628 0.08387497\n",
            " 0.08600558 0.09214292 0.09661394 0.09790501 0.09835659 0.09071194\n",
            " 0.08886753 0.08914103 0.09632778 0.09835024 0.10269409 0.11293358\n",
            " 0.12659476 0.12403805 0.1240444  0.13392141 0.13701237 0.13481179\n",
            " 0.13280207 0.13070964 0.13766105 0.14243103 0.14442805 0.13949272]\n"
          ],
          "name": "stdout"
        }
      ]
    },
    {
      "cell_type": "code",
      "metadata": {
        "colab": {
          "base_uri": "https://localhost:8080/"
        },
        "id": "nJcnKPSHSSm4",
        "outputId": "2376a3ae-d5ad-401e-b445-486d15cf87ad"
      },
      "source": [
        "print(type(y_train))\n",
        "print(type(y_train[1]))\n",
        "print(y_train[0].shape)\n",
        "print(y_train[0])\n",
        "print(y_train[1])"
      ],
      "execution_count": null,
      "outputs": [
        {
          "output_type": "stream",
          "text": [
            "<class 'list'>\n",
            "<class 'numpy.float64'>\n",
            "()\n",
            "0.13949272033425864\n",
            "0.13293562570222134\n"
          ],
          "name": "stdout"
        }
      ]
    },
    {
      "cell_type": "markdown",
      "metadata": {
        "id": "0Q2KiZKCTmm3"
      },
      "source": [
        "### Convert the x_train and y_train to numpy array"
      ]
    },
    {
      "cell_type": "code",
      "metadata": {
        "id": "uKFhCue4SowH"
      },
      "source": [
        "x_train, y_train = np.array(x_train), np.array(y_train)"
      ],
      "execution_count": null,
      "outputs": []
    },
    {
      "cell_type": "code",
      "metadata": {
        "colab": {
          "base_uri": "https://localhost:8080/"
        },
        "id": "0q5rvyuKTy7D",
        "outputId": "762ce2e8-7d8b-4b2f-dfca-041037697815"
      },
      "source": [
        "print(x_train.shape)\n",
        "print(y_train.shape)"
      ],
      "execution_count": null,
      "outputs": [
        {
          "output_type": "stream",
          "text": [
            "(1543, 60)\n",
            "(1543,)\n"
          ],
          "name": "stdout"
        }
      ]
    },
    {
      "cell_type": "markdown",
      "metadata": {
        "id": "nnT-T7-YT6o_"
      },
      "source": [
        "### Reshape the data"
      ]
    },
    {
      "cell_type": "code",
      "metadata": {
        "colab": {
          "base_uri": "https://localhost:8080/"
        },
        "id": "i2hZVu6dT1tZ",
        "outputId": "01e32d5b-fc56-4503-f585-57cd23f0e823"
      },
      "source": [
        "x_train = np.reshape(x_train, (x_train.shape[0], x_train.shape[1], 1))\n",
        "\n",
        "x_train.shape"
      ],
      "execution_count": null,
      "outputs": [
        {
          "output_type": "execute_result",
          "data": {
            "text/plain": [
              "(1543, 60, 1)"
            ]
          },
          "metadata": {
            "tags": []
          },
          "execution_count": 42
        }
      ]
    },
    {
      "cell_type": "code",
      "metadata": {
        "colab": {
          "base_uri": "https://localhost:8080/"
        },
        "id": "1D1qTAwTUOR5",
        "outputId": "150c0bca-a2bd-472d-a830-92bba08d021b"
      },
      "source": [
        "print(x_train[1][1:10])"
      ],
      "execution_count": null,
      "outputs": [
        {
          "output_type": "stream",
          "text": [
            "[[0.01748985]\n",
            " [0.02026915]\n",
            " [0.01984303]\n",
            " [0.02080338]\n",
            " [0.02036454]\n",
            " [0.01962679]\n",
            " [0.01862191]\n",
            " [0.02173194]\n",
            " [0.02453668]]\n"
          ],
          "name": "stdout"
        }
      ]
    },
    {
      "cell_type": "markdown",
      "metadata": {
        "id": "2bYWkzyzUwCT"
      },
      "source": [
        "### Build the LSTM model"
      ]
    },
    {
      "cell_type": "code",
      "metadata": {
        "id": "2khlpj21UUxI"
      },
      "source": [
        "model = Sequential()\n",
        "\n",
        "model.add(LSTM(50, return_sequences=True, input_shape = (x_train.shape[1], 1)))\n",
        "model.add(LSTM(50, return_sequences=False))\n",
        "model.add(Dense(25))\n",
        "model.add(Dense(25))\n",
        "model.add(Dense(1))"
      ],
      "execution_count": null,
      "outputs": []
    },
    {
      "cell_type": "markdown",
      "metadata": {
        "id": "fDvkBmJFVgXy"
      },
      "source": [
        "### Compile the model"
      ]
    },
    {
      "cell_type": "code",
      "metadata": {
        "id": "nHueN8-dUucU"
      },
      "source": [
        "model.compile(optimizer='adam', loss='mean_squared_error')"
      ],
      "execution_count": null,
      "outputs": []
    },
    {
      "cell_type": "code",
      "metadata": {
        "colab": {
          "base_uri": "https://localhost:8080/"
        },
        "id": "xradwruzVrwR",
        "outputId": "8e6a8f52-a26a-4c03-8b45-733b6c129346"
      },
      "source": [
        "model.summary()"
      ],
      "execution_count": null,
      "outputs": [
        {
          "output_type": "stream",
          "text": [
            "Model: \"sequential_1\"\n",
            "_________________________________________________________________\n",
            "Layer (type)                 Output Shape              Param #   \n",
            "=================================================================\n",
            "lstm_1 (LSTM)                (None, 60, 50)            10400     \n",
            "_________________________________________________________________\n",
            "lstm_2 (LSTM)                (None, 50)                20200     \n",
            "_________________________________________________________________\n",
            "dense (Dense)                (None, 25)                1275      \n",
            "_________________________________________________________________\n",
            "dense_1 (Dense)              (None, 25)                650       \n",
            "_________________________________________________________________\n",
            "dense_2 (Dense)              (None, 1)                 26        \n",
            "=================================================================\n",
            "Total params: 32,551\n",
            "Trainable params: 32,551\n",
            "Non-trainable params: 0\n",
            "_________________________________________________________________\n"
          ],
          "name": "stdout"
        }
      ]
    },
    {
      "cell_type": "markdown",
      "metadata": {
        "id": "QAtJBr-AV2_H"
      },
      "source": [
        "### Train the model"
      ]
    },
    {
      "cell_type": "code",
      "metadata": {
        "colab": {
          "base_uri": "https://localhost:8080/"
        },
        "id": "r6D_w0VrVvqq",
        "outputId": "139476a8-b73c-4ef8-91ad-8a4a8fa3b010"
      },
      "source": [
        "model.fit(x_train, y_train, batch_size=1, epochs=1)"
      ],
      "execution_count": null,
      "outputs": [
        {
          "output_type": "stream",
          "text": [
            "1543/1543 [==============================] - 35s 21ms/step - loss: 0.0028\n"
          ],
          "name": "stdout"
        },
        {
          "output_type": "execute_result",
          "data": {
            "text/plain": [
              "<tensorflow.python.keras.callbacks.History at 0x7f6c4d3627d0>"
            ]
          },
          "metadata": {
            "tags": []
          },
          "execution_count": 55
        }
      ]
    },
    {
      "cell_type": "markdown",
      "metadata": {
        "id": "MlzIsxwQWHdN"
      },
      "source": [
        "### Create the testing data set"
      ]
    },
    {
      "cell_type": "code",
      "metadata": {
        "id": "gXII0dAQV8Dn"
      },
      "source": [
        "# Create a new array containing scaled values from index 1543 to 2003"
      ],
      "execution_count": null,
      "outputs": []
    },
    {
      "cell_type": "code",
      "metadata": {
        "id": "irBNjb86WTBG"
      },
      "source": [
        "test_data = scaled_data[training_data_len - 60: , :]"
      ],
      "execution_count": null,
      "outputs": []
    },
    {
      "cell_type": "code",
      "metadata": {
        "colab": {
          "base_uri": "https://localhost:8080/"
        },
        "id": "uBdQmTKxWdhf",
        "outputId": "970eead1-e6fc-451d-aad4-5fc87b14f39e"
      },
      "source": [
        "print(type(scaled_data))\n",
        "print(type(test_data))\n",
        "print(scaled_data.shape)\n",
        "print(test_data.shape)"
      ],
      "execution_count": null,
      "outputs": [
        {
          "output_type": "stream",
          "text": [
            "<class 'numpy.ndarray'>\n",
            "<class 'numpy.ndarray'>\n",
            "(2003, 1)\n",
            "(460, 1)\n"
          ],
          "name": "stdout"
        }
      ]
    },
    {
      "cell_type": "markdown",
      "metadata": {
        "id": "60WDCM-DWtgC"
      },
      "source": [
        "### Create the data sets x_test and y_test"
      ]
    },
    {
      "cell_type": "code",
      "metadata": {
        "id": "GOO9qx88WfUl"
      },
      "source": [
        "x_test = []\n",
        "y_test = dataset[training_data_len: , :]\n",
        "\n",
        "for i in range(60, len(test_data)):\n",
        "  x_test.append(test_data[i-60:i, 0])"
      ],
      "execution_count": null,
      "outputs": []
    },
    {
      "cell_type": "code",
      "metadata": {
        "colab": {
          "base_uri": "https://localhost:8080/"
        },
        "id": "qC27jw0LXCJD",
        "outputId": "adb4c344-1f54-4fd5-a18a-2ea4b529ec3b"
      },
      "source": [
        "print(type(y_test))\n",
        "print(y_test.shape)\n",
        "print(y_test[1])\n",
        "\n",
        "print(type(x_test))\n",
        "print(x_test[1].shape)\n",
        "print(x_test[1])"
      ],
      "execution_count": null,
      "outputs": [
        {
          "output_type": "stream",
          "text": [
            "<class 'numpy.ndarray'>\n",
            "(400, 1)\n",
            "[46.57749939]\n",
            "<class 'list'>\n",
            "(60,)\n",
            "[0.51958863 0.53294452 0.54839284 0.54581069 0.54460864 0.53071854\n",
            " 0.53610544 0.53882114 0.53815331 0.53085209 0.53935536 0.55288929\n",
            " 0.56063573 0.5528448  0.5460333  0.54696818 0.54416348 0.53205414\n",
            " 0.53178703 0.51411273 0.50333899 0.4859318  0.52079068 0.50106844\n",
            " 0.49278779 0.49857536 0.49367817 0.50129106 0.51562638 0.52092423\n",
            " 0.50124656 0.50868133 0.5229276  0.51932152 0.52688985 0.52951649\n",
            " 0.53436918 0.54514292 0.5433621  0.52092423 0.48940432 0.4872674\n",
            " 0.47702787 0.48018873 0.48272638 0.47426767 0.48735639 0.50445198\n",
            " 0.53770815 0.53913274 0.57002938 0.5759505  0.57991274 0.5857448\n",
            " 0.59767603 0.5912207  0.58926183 0.58164901 0.58939538 0.5840976 ]\n"
          ],
          "name": "stdout"
        }
      ]
    },
    {
      "cell_type": "markdown",
      "metadata": {
        "id": "H5epe_f4YOYU"
      },
      "source": [
        "### Convert the data to a numpy array"
      ]
    },
    {
      "cell_type": "code",
      "metadata": {
        "id": "KvqKB0KLXEcD"
      },
      "source": [
        "x_test = np.array(x_test)"
      ],
      "execution_count": null,
      "outputs": []
    },
    {
      "cell_type": "markdown",
      "metadata": {
        "id": "nQPx9aaLYYO2"
      },
      "source": [
        "### Reshape the data"
      ]
    },
    {
      "cell_type": "code",
      "metadata": {
        "id": "oTjENj4SYXQF"
      },
      "source": [
        "x_test = np.reshape(x_test, (x_test.shape[0], x_test.shape[1], 1))"
      ],
      "execution_count": null,
      "outputs": []
    },
    {
      "cell_type": "code",
      "metadata": {
        "colab": {
          "base_uri": "https://localhost:8080/"
        },
        "id": "dbQ0MJrqYlQF",
        "outputId": "806f1d7f-f382-481d-e1e3-19ef34039008"
      },
      "source": [
        "print(type(x_test))\n",
        "print(x_test.shape)\n",
        "print(x_test[1][1:5])"
      ],
      "execution_count": null,
      "outputs": [
        {
          "output_type": "stream",
          "text": [
            "<class 'numpy.ndarray'>\n",
            "(400, 60, 1)\n",
            "[[0.53294452]\n",
            " [0.54839284]\n",
            " [0.54581069]\n",
            " [0.54460864]]\n"
          ],
          "name": "stdout"
        }
      ]
    },
    {
      "cell_type": "markdown",
      "metadata": {
        "id": "0hrZu8sJYz3i"
      },
      "source": [
        "### Get the models predicted price values"
      ]
    },
    {
      "cell_type": "code",
      "metadata": {
        "id": "RP0HuJwmYoBy"
      },
      "source": [
        "predictions = model.predict(x_test)"
      ],
      "execution_count": null,
      "outputs": []
    },
    {
      "cell_type": "markdown",
      "metadata": {
        "id": "kvBrspx0Y-6f"
      },
      "source": [
        "### Invert the scaled values to the original"
      ]
    },
    {
      "cell_type": "code",
      "metadata": {
        "id": "bx8VL3K5Y7Gi"
      },
      "source": [
        "predictions = scaler.inverse_transform(predictions)"
      ],
      "execution_count": null,
      "outputs": []
    },
    {
      "cell_type": "markdown",
      "metadata": {
        "id": "zBupKrDpZRgh"
      },
      "source": [
        "### Measure the error of the prediction"
      ]
    },
    {
      "cell_type": "code",
      "metadata": {
        "id": "lScjEkeSZWOu"
      },
      "source": [
        "root_mean_square_error = np.sqrt( np.mean( predictions - y_test )**2 )"
      ],
      "execution_count": null,
      "outputs": []
    },
    {
      "cell_type": "code",
      "metadata": {
        "colab": {
          "base_uri": "https://localhost:8080/"
        },
        "id": "2N4GYSRYZh_8",
        "outputId": "e0bb45cc-f13b-447b-b32f-bb0186a61078"
      },
      "source": [
        "root_mean_square_error"
      ],
      "execution_count": null,
      "outputs": [
        {
          "output_type": "execute_result",
          "data": {
            "text/plain": [
              "1.384296751022339"
            ]
          },
          "metadata": {
            "tags": []
          },
          "execution_count": 78
        }
      ]
    },
    {
      "cell_type": "markdown",
      "metadata": {
        "id": "0DvEi2wHZqz_"
      },
      "source": [
        "### Plot the data"
      ]
    },
    {
      "cell_type": "code",
      "metadata": {
        "colab": {
          "base_uri": "https://localhost:8080/"
        },
        "id": "hTU_NjcLZsVi",
        "outputId": "6994ca65-7018-4b91-f476-cae8e60849e6"
      },
      "source": [
        "train = data[:training_data_len]\n",
        "valid = data[training_data_len:]\n",
        "\n",
        "print(type(valid))\n",
        "print(valid.shape)\n",
        "print(valid.columns)\n",
        "\n",
        "valid['Predictions'] = predictions\n",
        "\n",
        "print(valid.shape)\n",
        "print(valid.columns)"
      ],
      "execution_count": null,
      "outputs": [
        {
          "output_type": "stream",
          "text": [
            "<class 'pandas.core.frame.DataFrame'>\n",
            "(400, 1)\n",
            "Index(['Close'], dtype='object')\n",
            "(400, 2)\n",
            "Index(['Close', 'Predictions'], dtype='object')\n"
          ],
          "name": "stdout"
        },
        {
          "output_type": "stream",
          "text": [
            "/usr/local/lib/python3.7/dist-packages/ipykernel_launcher.py:8: SettingWithCopyWarning: \n",
            "A value is trying to be set on a copy of a slice from a DataFrame.\n",
            "Try using .loc[row_indexer,col_indexer] = value instead\n",
            "\n",
            "See the caveats in the documentation: https://pandas.pydata.org/pandas-docs/stable/user_guide/indexing.html#returning-a-view-versus-a-copy\n",
            "  \n"
          ],
          "name": "stderr"
        }
      ]
    },
    {
      "cell_type": "markdown",
      "metadata": {
        "id": "vOFeykIhmu15"
      },
      "source": [
        "### Visualize the data"
      ]
    },
    {
      "cell_type": "code",
      "metadata": {
        "colab": {
          "base_uri": "https://localhost:8080/",
          "height": 558
        },
        "id": "ajk8tP3CmxTy",
        "outputId": "c70cf7d3-c9b1-48d2-b8e7-e64b359c92c3"
      },
      "source": [
        "plt.figure(figsize=(16,8))\n",
        "plt.title('Model')\n",
        "plt.xlabel('Date')\n",
        "plt.ylabel('Close Prece USD')\n",
        "plt.plot(train['Close'])\n",
        "plt.plot(valid[['Close', 'Predictions']])\n",
        "plt.legend(['Train', 'Val', 'Predictions'], loc='lower right')\n",
        "plt.show()"
      ],
      "execution_count": null,
      "outputs": [
        {
          "output_type": "display_data",
          "data": {
            "image/png": "[encoded data removed]",
            "text/plain": [
              "<Figure size 1152x576 with 1 Axes>"
            ]
          },
          "metadata": {
            "tags": []
          }
        }
      ]
    },
    {
      "cell_type": "markdown",
      "metadata": {
        "id": "jDCfnNfzoEPu"
      },
      "source": [
        "### Show the valid and predicted prices"
      ]
    },
    {
      "cell_type": "code",
      "metadata": {
        "colab": {
          "base_uri": "https://localhost:8080/",
          "height": 450
        },
        "id": "GFrGjyWwnPW4",
        "outputId": "028bcff9-33a5-4b5a-b637-c117b0a97402"
      },
      "source": [
        "valid"
      ],
      "execution_count": null,
      "outputs": [
        {
          "output_type": "execute_result",
          "data": {
            "text/html": [
              "<div>\n",
              "<style scoped>\n",
              "    .dataframe tbody tr th:only-of-type {\n",
              "        vertical-align: middle;\n",
              "    }\n",
              "\n",
              "    .dataframe tbody tr th {\n",
              "        vertical-align: top;\n",
              "    }\n",
              "\n",
              "    .dataframe thead th {\n",
              "        text-align: right;\n",
              "    }\n",
              "</style>\n",
              "<table border=\"1\" class=\"dataframe\">\n",
              "  <thead>\n",
              "    <tr style=\"text-align: right;\">\n",
              "      <th></th>\n",
              "      <th>Close</th>\n",
              "      <th>Predictions</th>\n",
              "    </tr>\n",
              "    <tr>\n",
              "      <th>Date</th>\n",
              "      <th></th>\n",
              "      <th></th>\n",
              "    </tr>\n",
              "  </thead>\n",
              "  <tbody>\n",
              "    <tr>\n",
              "      <th>2018-05-17</th>\n",
              "      <td>46.747501</td>\n",
              "      <td>46.093700</td>\n",
              "    </tr>\n",
              "    <tr>\n",
              "      <th>2018-05-18</th>\n",
              "      <td>46.577499</td>\n",
              "      <td>46.150467</td>\n",
              "    </tr>\n",
              "    <tr>\n",
              "      <th>2018-05-21</th>\n",
              "      <td>46.907501</td>\n",
              "      <td>46.140762</td>\n",
              "    </tr>\n",
              "    <tr>\n",
              "      <th>2018-05-22</th>\n",
              "      <td>46.790001</td>\n",
              "      <td>46.128853</td>\n",
              "    </tr>\n",
              "    <tr>\n",
              "      <th>2018-05-23</th>\n",
              "      <td>47.090000</td>\n",
              "      <td>46.105247</td>\n",
              "    </tr>\n",
              "    <tr>\n",
              "      <th>...</th>\n",
              "      <td>...</td>\n",
              "      <td>...</td>\n",
              "    </tr>\n",
              "    <tr>\n",
              "      <th>2019-12-11</th>\n",
              "      <td>67.692497</td>\n",
              "      <td>63.319012</td>\n",
              "    </tr>\n",
              "    <tr>\n",
              "      <th>2019-12-12</th>\n",
              "      <td>67.864998</td>\n",
              "      <td>63.519093</td>\n",
              "    </tr>\n",
              "    <tr>\n",
              "      <th>2019-12-13</th>\n",
              "      <td>68.787498</td>\n",
              "      <td>63.735813</td>\n",
              "    </tr>\n",
              "    <tr>\n",
              "      <th>2019-12-16</th>\n",
              "      <td>69.964996</td>\n",
              "      <td>64.028038</td>\n",
              "    </tr>\n",
              "    <tr>\n",
              "      <th>2019-12-17</th>\n",
              "      <td>70.102501</td>\n",
              "      <td>64.439346</td>\n",
              "    </tr>\n",
              "  </tbody>\n",
              "</table>\n",
              "<p>400 rows × 2 columns</p>\n",
              "</div>"
            ],
            "text/plain": [
              "                Close  Predictions\n",
              "Date                              \n",
              "2018-05-17  46.747501    46.093700\n",
              "2018-05-18  46.577499    46.150467\n",
              "2018-05-21  46.907501    46.140762\n",
              "2018-05-22  46.790001    46.128853\n",
              "2018-05-23  47.090000    46.105247\n",
              "...               ...          ...\n",
              "2019-12-11  67.692497    63.319012\n",
              "2019-12-12  67.864998    63.519093\n",
              "2019-12-13  68.787498    63.735813\n",
              "2019-12-16  69.964996    64.028038\n",
              "2019-12-17  70.102501    64.439346\n",
              "\n",
              "[400 rows x 2 columns]"
            ]
          },
          "metadata": {
            "tags": []
          },
          "execution_count": 92
        }
      ]
    },
    {
      "cell_type": "code",
      "metadata": {
        "colab": {
          "base_uri": "https://localhost:8080/"
        },
        "id": "bPyME75noJM1",
        "outputId": "d1477ca6-e790-48d9-a426-32dec68d1db6"
      },
      "source": [
        "# Get the quote\n",
        "apple_quote = web.DataReader('AAPL', data_source='yahoo', start='2012-01-01', end='2019-12-17')\n",
        "# Create a new data frame\n",
        "new_df = apple_quote.filter(['Close'])\n",
        "# Get the last 60 day closing price values and covert the dataframe to an array\n",
        "last_60_days = new_df[-60:].values\n",
        "# Scale the data to be values between 0 and 1\n",
        "last_60_days_scaled = scaler.transform(last_60_days)\n",
        "# Create an empty list\n",
        "X_test = []\n",
        "# Append the past 60 days\n",
        "X_test.append(last_60_days_scaled)\n",
        "# Convert the X_test data set to a numpy array\n",
        "X_test = np.array(X_test)\n",
        "# Reshape the dat\n",
        "X_test = np.reshape(X_test, (X_test.shape[0], X_test.shape[1], 1))\n",
        "# Get the predicted scaled price\n",
        "predicted_price = model.predict(X_test)\n",
        "# Invert the scaling\n",
        "predicted_price = scaler.inverse_transform(predicted_price)\n",
        "# Print the result\n",
        "print(predicted_price)\n"
      ],
      "execution_count": null,
      "outputs": [
        {
          "output_type": "stream",
          "text": [
            "[[64.87381]]\n"
          ],
          "name": "stdout"
        }
      ]
    },
    {
      "cell_type": "markdown",
      "metadata": {
        "id": "f2xo8cokqNtq"
      },
      "source": [
        "### Get the next day"
      ]
    },
    {
      "cell_type": "code",
      "metadata": {
        "colab": {
          "base_uri": "https://localhost:8080/"
        },
        "id": "4LuWSvE8pV6A",
        "outputId": "76ccd17f-2ad5-4568-cd08-1d472920ffa2"
      },
      "source": [
        "# Get the quote\n",
        "apple_quote_next_day = web.DataReader('AAPL', data_source='yahoo', start='2019-12-18', end='2019-12-18')\n",
        "\n",
        "print(apple_quote_next_day['Close'])"
      ],
      "execution_count": null,
      "outputs": [
        {
          "output_type": "stream",
          "text": [
            "Date\n",
            "2019-12-18    69.934998\n",
            "Name: Close, dtype: float64\n"
          ],
          "name": "stdout"
        }
      ]
    },
    {
      "cell_type": "code",
      "metadata": {
        "id": "Y0O0Du6tqQnp"
      },
      "source": [
        ""
      ],
      "execution_count": null,
      "outputs": []
    }
  ]
}