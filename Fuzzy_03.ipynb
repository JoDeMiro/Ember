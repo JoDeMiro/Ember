{
  "nbformat": 4,
  "nbformat_minor": 0,
  "metadata": {
    "colab": {
      "name": "Fuzzy 03.ipynb",
      "provenance": [],
      "collapsed_sections": [],
      "authorship_tag": "ABX9TyM37ZQNyH5Aeap+DWL4qkSi",
      "include_colab_link": true
    },
    "kernelspec": {
      "name": "python3",
      "display_name": "Python 3"
    },
    "language_info": {
      "name": "python"
    }
  },
  "cells": [
    {
      "cell_type": "markdown",
      "metadata": {
        "id": "view-in-github",
        "colab_type": "text"
      },
      "source": [
        "<a href=\"https://colab.research.google.com/github/JoDeMiro/Ember/blob/main/Fuzzy_03.ipynb\" target=\"_parent\"><img src=\"https://colab.research.google.com/assets/colab-badge.svg\" alt=\"Open In Colab\"/></a>"
      ]
    },
    {
      "cell_type": "code",
      "metadata": {
        "id": "0KEufYvDDCS_"
      },
      "source": [
        "# https://www.youtube.com/watch?v=qUQf1JxnTnY"
      ],
      "execution_count": null,
      "outputs": []
    },
    {
      "cell_type": "markdown",
      "metadata": {
        "id": "38eDDlqsDlkq"
      },
      "source": [
        "## Scikit-Fuzzy Demo\n",
        "\n",
        "### Procedure\n",
        "In this demo we're going to translate a conceptual example, predicting expected custormer in an ice cream shop given a particular outside temperature. This example moder flrom Fuyy Logi in Decision Making and Signal Processing by Pant and Holbert\n",
        "\n",
        "Recall fuzzy siystems consist of:\n",
        "- if premise(anicenment) then conclusion (consequent)\n",
        "\n",
        "Consider an ice cream panor with a non-computer iterate propreator. He tells you:\n",
        "- if themerature is hot then ice cream panor is crowded.\n",
        "- if tempereature is moderate thaen ice cream parto is bussy.\n",
        "- if tempereature is <b>cool</b> then ice cream partor is quite.\n",
        "\n",
        "For this system we have two universe varianbles: temp and n_customers\n",
        "\n",
        "Note how pythonic, simple, and intuitive this systa is!\n"
      ]
    },
    {
      "cell_type": "code",
      "metadata": {
        "id": "3EYgY0EOFQrq"
      },
      "source": [
        "%%capture\n",
        "!pip install scikit-fuzzy"
      ],
      "execution_count": null,
      "outputs": []
    },
    {
      "cell_type": "code",
      "metadata": {
        "id": "2pO-F9bdDidN"
      },
      "source": [
        "import numpy as np\n",
        "import skfuzzy as fuzz\n",
        "import matplotlib.pyplot as plt"
      ],
      "execution_count": null,
      "outputs": []
    },
    {
      "cell_type": "markdown",
      "metadata": {
        "id": "YE13xiMAFgve"
      },
      "source": [
        "## Describe Fuzzy System\n",
        "\n",
        "First creates fuzzy membership function whichh represent change of thruth related to a continous variable."
      ]
    },
    {
      "cell_type": "code",
      "metadata": {
        "colab": {
          "base_uri": "https://localhost:8080/"
        },
        "id": "l2L1E78tFf5N",
        "outputId": "5ee23884-0b0d-4d1f-8a76-69a39ac2c1d7"
      },
      "source": [
        "# Generata universe functions\n",
        "temperature = np.arange(30, 101, 1)\n",
        "customers   = np.arange(0, 36, 1)\n",
        "\n",
        "print(temperature)"
      ],
      "execution_count": null,
      "outputs": [
        {
          "output_type": "stream",
          "text": [
            "[ 30  31  32  33  34  35  36  37  38  39  40  41  42  43  44  45  46  47\n",
            "  48  49  50  51  52  53  54  55  56  57  58  59  60  61  62  63  64  65\n",
            "  66  67  68  69  70  71  72  73  74  75  76  77  78  79  80  81  82  83\n",
            "  84  85  86  87  88  89  90  91  92  93  94  95  96  97  98  99 100]\n"
          ],
          "name": "stdout"
        }
      ]
    },
    {
      "cell_type": "code",
      "metadata": {
        "id": "ToNeTjvCDkRh"
      },
      "source": [
        "# Membership function for heat\n",
        "\n",
        "temperature_hot      = fuzz.trimf(temperature, [65, 100, 100])\n",
        "temperature_moderate = fuzz.trimf(temperature, [30, 65, 100])\n",
        "temperature_cool     = fuzz.trapmf(temperature, [20, 20, 30, 65])\n",
        "\n",
        "# Membership functions for customers\n",
        "\n",
        "customers_crowded   = fuzz.trimf(customers, [24, 35, 35])\n",
        "customers_busy      = fuzz.trimf(customers, [0, 24, 35])\n",
        "customers_quiet     = fuzz.trimf(customers, [0, 0, 24])"
      ],
      "execution_count": null,
      "outputs": []
    },
    {
      "cell_type": "markdown",
      "metadata": {
        "id": "lyBp39gsHbdN"
      },
      "source": [
        "**Note** in sckit-fuzzy all membership functions are raw NumPy arrays. This means in many functions you must manually specifiy both the universe variable (here temperature) and the membership function. The universe variable and membership functions arrays must have identical shape."
      ]
    },
    {
      "cell_type": "markdown",
      "metadata": {
        "id": "4HmK2S1DH82R"
      },
      "source": [
        "## Visualize Fuzzy System"
      ]
    },
    {
      "cell_type": "code",
      "metadata": {
        "colab": {
          "base_uri": "https://localhost:8080/",
          "height": 282
        },
        "id": "he8LaTfEHYDi",
        "outputId": "74de1cae-a9de-4874-d656-14d8a46c58ab"
      },
      "source": [
        "# Vizualize membership function for temperature\n",
        "fig, ax = plt.subplots()\n",
        "\n",
        "ax.plot(temperature, temperature_hot, 'r', temperature, temperature_moderate, 'm', temperature, temperature_cool, 'b')\n",
        "ax.set_ylabel = ('Fuzzy membership')\n",
        "ax.set_xlabel = ('Temp (Farenheit)')\n",
        "ax.set_ylim(-0.05, 1.05)"
      ],
      "execution_count": null,
      "outputs": [
        {
          "output_type": "execute_result",
          "data": {
            "text/plain": [
              "(-0.05, 1.05)"
            ]
          },
          "metadata": {
            "tags": []
          },
          "execution_count": 149
        },
        {
          "output_type": "display_data",
          "data": {
            "image/png": "[encoded data removed]",
            "text/plain": [
              "<Figure size 432x288 with 1 Axes>"
            ]
          },
          "metadata": {
            "tags": [],
            "needs_background": "light"
          }
        }
      ]
    },
    {
      "cell_type": "code",
      "metadata": {
        "colab": {
          "base_uri": "https://localhost:8080/",
          "height": 282
        },
        "id": "c0YIx2DWJaVE",
        "outputId": "d688242c-dd7d-4774-c927-1f1df18fcb54"
      },
      "source": [
        "# Vizualize membership function for customers\n",
        "fig, ax = plt.subplots()\n",
        "\n",
        "ax.plot(customers, customers_quiet, 'c', customers, customers_busy, 'm', customers, customers_crowded, 'b')\n",
        "ax.set_ylabel = ('Fuzzy membership')\n",
        "ax.set_xlabel = ('Customers (n)')\n",
        "ax.set_ylim(-0.05, 1.05)"
      ],
      "execution_count": null,
      "outputs": [
        {
          "output_type": "execute_result",
          "data": {
            "text/plain": [
              "(-0.05, 1.05)"
            ]
          },
          "metadata": {
            "tags": []
          },
          "execution_count": 150
        },
        {
          "output_type": "display_data",
          "data": {
            "image/png": "[encoded data removed]",
            "text/plain": [
              "<Figure size 432x288 with 1 Axes>"
            ]
          },
          "metadata": {
            "tags": [],
            "needs_background": "light"
          }
        }
      ]
    },
    {
      "cell_type": "markdown",
      "metadata": {
        "id": "8Me0qsa5LoCp"
      },
      "source": [
        "Next, we use fuzzy impication via the Product relation. This is doen separately for each statment in the fuzzy system, so we will hamve 3 separate fuzzy matrices"
      ]
    },
    {
      "cell_type": "code",
      "metadata": {
        "id": "r4oeSQUbK6Jl"
      },
      "source": [
        "# Fuzzy relation\n",
        "rule1 = fuzz.relation_product(temperature_hot, customers_crowded)\n",
        "rule2 = fuzz.relation_product(temperature_moderate, customers_busy)\n",
        "rule3 = fuzz.relation_product(temperature_cool, customers_quiet)\n",
        "\n",
        "# Combine fuzzy relations into aggregate relation\n",
        "rule_combined = np.fmax(rule1, np.fmax(rule2, rule2))"
      ],
      "execution_count": null,
      "outputs": []
    },
    {
      "cell_type": "code",
      "metadata": {
        "colab": {
          "base_uri": "https://localhost:8080/"
        },
        "id": "cEA-75Xoc_iR",
        "outputId": "f12eaeda-9898-4c77-ab67-755180083591"
      },
      "source": [
        "rule_combined[1,1]\n",
        "rule_combined[30,20]"
      ],
      "execution_count": null,
      "outputs": [
        {
          "output_type": "execute_result",
          "data": {
            "text/plain": [
              "0.7142857142857143"
            ]
          },
          "metadata": {
            "tags": []
          },
          "execution_count": 152
        }
      ]
    },
    {
      "cell_type": "markdown",
      "metadata": {
        "id": "TCsf7Qx5TEf1"
      },
      "source": [
        "Visualize"
      ]
    },
    {
      "cell_type": "code",
      "metadata": {
        "colab": {
          "base_uri": "https://localhost:8080/",
          "height": 300
        },
        "id": "0tBsMqtPTAfr",
        "outputId": "10be8f91-0cf7-43e7-b535-158c14c2cdea"
      },
      "source": [
        "plt.imshow(rule_combined)\n",
        "cbar = plt.colorbar()\n",
        "cbar.set_label('Fuzzy membership')\n",
        "plt.yticks([i * 10 for i in range(8)], [str( i * 10 + 30) for i in range(8)])\n",
        "plt.ylabel('Temperature')\n",
        "plt.xlabel('Customers')"
      ],
      "execution_count": null,
      "outputs": [
        {
          "output_type": "execute_result",
          "data": {
            "text/plain": [
              "Text(0.5, 0, 'Customers')"
            ]
          },
          "metadata": {
            "tags": []
          },
          "execution_count": 153
        },
        {
          "output_type": "display_data",
          "data": {
            "image/png": "[encoded data removed]",
            "text/plain": [
              "<Figure size 432x288 with 2 Axes>"
            ]
          },
          "metadata": {
            "tags": [],
            "needs_background": "light"
          }
        }
      ]
    },
    {
      "cell_type": "markdown",
      "metadata": {
        "id": "8KIRimmOWycZ"
      },
      "source": [
        "## Defuzzification\n",
        "\n",
        "The fuzzy relation metirces show how the system responds for all temperatures and all customers. But we need to make a specific prediction for a specific temperature. We need to return from the fuzzy domain back to crisp logic. <b>This know as defuzzification.</b>"
      ]
    },
    {
      "cell_type": "code",
      "metadata": {
        "colab": {
          "base_uri": "https://localhost:8080/"
        },
        "id": "lGguTEl-YGUq",
        "outputId": "d3e79046-664d-41bd-c264-98d314cfadf9"
      },
      "source": [
        "print(customers.shape)\n",
        "print(rule_combined.shape)\n",
        "print(predicted_customers.shape)\n",
        "print(rule_combined[1,:].shape)"
      ],
      "execution_count": null,
      "outputs": [
        {
          "output_type": "stream",
          "text": [
            "(36,)\n",
            "(71, 36)\n",
            "(71,)\n",
            "(36,)\n"
          ],
          "name": "stdout"
        }
      ]
    },
    {
      "cell_type": "code",
      "metadata": {
        "colab": {
          "base_uri": "https://localhost:8080/"
        },
        "id": "8jH7bBmHZExS",
        "outputId": "ddf2d4e7-8982-4a0f-850a-6c60071ba0f8"
      },
      "source": [
        "fuzz.defuzz(customers, rule_combined[1,:], 'centroid')\n",
        "\n",
        "fuzz.defuzz(customers, rule_combined[60,:], 'centroid')"
      ],
      "execution_count": null,
      "outputs": [
        {
          "output_type": "execute_result",
          "data": {
            "text/plain": [
              "24.239401496259347"
            ]
          },
          "metadata": {
            "tags": []
          },
          "execution_count": 156
        }
      ]
    },
    {
      "cell_type": "code",
      "metadata": {
        "id": "0_3UK1aaTIex"
      },
      "source": [
        "# Defuzzify to generate scisp solution\n",
        "\n",
        "predicted_customers = np.zeros_like(temperature)\n",
        "\n",
        "for i in range(len(predicted_customers) - 1):\n",
        "  i = i + 1\n",
        "  predicted_customers[i] = fuzz.defuzz(customers, rule_combined[i,:], mode = 'centroid')"
      ],
      "execution_count": null,
      "outputs": []
    },
    {
      "cell_type": "code",
      "metadata": {
        "colab": {
          "base_uri": "https://localhost:8080/"
        },
        "id": "fHV3NaGNeCMA",
        "outputId": "7825a840-71f0-4a06-ddb4-51c60c43a869"
      },
      "source": [
        "predicted_customers"
      ],
      "execution_count": null,
      "outputs": [
        {
          "output_type": "execute_result",
          "data": {
            "text/plain": [
              "array([ 0, 19, 19, 19, 19, 19, 19, 19, 19, 19, 19, 19, 19, 19, 19, 19, 19,\n",
              "       19, 19, 19, 19, 19, 19, 19, 19, 19, 19, 19, 19, 19, 19, 19, 19, 19,\n",
              "       19, 19, 19, 19, 19, 19, 19, 19, 19, 19, 20, 20, 20, 20, 20, 20, 20,\n",
              "       21, 21, 21, 21, 22, 22, 22, 23, 23, 24, 24, 25, 25, 26, 27, 27, 28,\n",
              "       29, 30, 31])"
            ]
          },
          "metadata": {
            "tags": []
          },
          "execution_count": 158
        }
      ]
    },
    {
      "cell_type": "markdown",
      "metadata": {
        "id": "xlPDKNcqZVHI"
      },
      "source": [
        "## Results"
      ]
    },
    {
      "cell_type": "markdown",
      "metadata": {
        "id": "52pPcAIMgZB3"
      },
      "source": [
        "Explanation: https://youtu.be/qUQf1JxnTnY?t=600"
      ]
    },
    {
      "cell_type": "code",
      "metadata": {
        "colab": {
          "base_uri": "https://localhost:8080/",
          "height": 296
        },
        "id": "VWNKPNIrXb8B",
        "outputId": "e42ce2a7-e42d-4127-f2ad-1126263e1460"
      },
      "source": [
        "# Member of cutomers on our hypothetical Farenheit degrees day\n",
        "\n",
        "plt.plot(temperature, predicted_customers, 'k')\n",
        "plt.vlines(75, 0, predicted_customers[temperature == 75], color='DarkOrange', linestyles='dashed', lw = 2)\n",
        "plt.hlines(predicted_customers[temperature == 75], 30, 75, color = 'DarkOrange', linestyles='dashed', lw=2)\n",
        "plt.xlabel('Temperature')\n",
        "plt.ylabel('Customers')"
      ],
      "execution_count": null,
      "outputs": [
        {
          "output_type": "execute_result",
          "data": {
            "text/plain": [
              "Text(0, 0.5, 'Customers')"
            ]
          },
          "metadata": {
            "tags": []
          },
          "execution_count": 167
        },
        {
          "output_type": "display_data",
          "data": {
            "image/png": "[encoded data removed]",
            "text/plain": [
              "<Figure size 432x288 with 1 Axes>"
            ]
          },
          "metadata": {
            "tags": [],
            "needs_background": "light"
          }
        }
      ]
    },
    {
      "cell_type": "code",
      "metadata": {
        "colab": {
          "base_uri": "https://localhost:8080/",
          "height": 296
        },
        "id": "MB_KX9YaZnNd",
        "outputId": "91a9c747-8f7f-44f4-e7ad-bd45f092a5f6"
      },
      "source": [
        "# Member of cutomers on our hypothetical Farenheit degrees day\n",
        "\n",
        "plt.plot(temperature, predicted_customers, 'k')\n",
        "plt.vlines(95, 0, predicted_customers[temperature == 95], color='DarkOrange', linestyles='dashed', lw = 2)\n",
        "plt.hlines(predicted_customers[temperature == 95], 30, 95, color = 'DarkOrange', linestyles='dashed', lw=2)\n",
        "plt.xlabel('Temperature')\n",
        "plt.ylabel('Customers')"
      ],
      "execution_count": null,
      "outputs": [
        {
          "output_type": "execute_result",
          "data": {
            "text/plain": [
              "Text(0, 0.5, 'Customers')"
            ]
          },
          "metadata": {
            "tags": []
          },
          "execution_count": 169
        },
        {
          "output_type": "display_data",
          "data": {
            "image/png": "[encoded data removed]",
            "text/plain": [
              "<Figure size 432x288 with 1 Axes>"
            ]
          },
          "metadata": {
            "tags": [],
            "needs_background": "light"
          }
        }
      ]
    },
    {
      "cell_type": "code",
      "metadata": {
        "id": "plE3bkAag-fG"
      },
      "source": [
        ""
      ],
      "execution_count": null,
      "outputs": []
    }
  ]
}