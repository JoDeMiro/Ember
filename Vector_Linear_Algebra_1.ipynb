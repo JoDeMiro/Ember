{
  "nbformat": 4,
  "nbformat_minor": 0,
  "metadata": {
    "colab": {
      "name": "Vector - Linear Algebra 1.ipynb",
      "provenance": [],
      "collapsed_sections": [],
      "authorship_tag": "ABX9TyNpVXvckqaEt+tsccian9nn",
      "include_colab_link": true
    },
    "kernelspec": {
      "name": "python3",
      "display_name": "Python 3"
    },
    "language_info": {
      "name": "python"
    },
    "widgets": {
      "application/vnd.jupyter.widget-state+json": {
        "ef77c2befb77457a895d67322f4ca58a": {
          "model_module": "@jupyter-widgets/controls",
          "model_name": "VBoxModel",
          "state": {
            "_view_name": "VBoxView",
            "_dom_classes": [
              "widget-interact"
            ],
            "_model_name": "VBoxModel",
            "_view_module": "@jupyter-widgets/controls",
            "_model_module_version": "1.5.0",
            "_view_count": null,
            "_view_module_version": "1.5.0",
            "box_style": "",
            "layout": "IPY_MODEL_f0efcd4fc39247db90c600fcf0352265",
            "_model_module": "@jupyter-widgets/controls",
            "children": [
              "IPY_MODEL_318beee167ee4cdb99188dcec2b974ec",
              "IPY_MODEL_c96d5d2ff76149f0b31a865b58e65c88",
              "IPY_MODEL_ceff386c23af417ba1c55ce2fe122742"
            ]
          }
        },
        "f0efcd4fc39247db90c600fcf0352265": {
          "model_module": "@jupyter-widgets/base",
          "model_name": "LayoutModel",
          "state": {
            "_view_name": "LayoutView",
            "grid_template_rows": null,
            "right": null,
            "justify_content": null,
            "_view_module": "@jupyter-widgets/base",
            "overflow": null,
            "_model_module_version": "1.2.0",
            "_view_count": null,
            "flex_flow": null,
            "width": null,
            "min_width": null,
            "border": null,
            "align_items": null,
            "bottom": null,
            "_model_module": "@jupyter-widgets/base",
            "top": null,
            "grid_column": null,
            "overflow_y": null,
            "overflow_x": null,
            "grid_auto_flow": null,
            "grid_area": null,
            "grid_template_columns": null,
            "flex": null,
            "_model_name": "LayoutModel",
            "justify_items": null,
            "grid_row": null,
            "max_height": null,
            "align_content": null,
            "visibility": null,
            "align_self": null,
            "height": null,
            "min_height": null,
            "padding": null,
            "grid_auto_rows": null,
            "grid_gap": null,
            "max_width": null,
            "order": null,
            "_view_module_version": "1.2.0",
            "grid_template_areas": null,
            "object_position": null,
            "object_fit": null,
            "grid_auto_columns": null,
            "margin": null,
            "display": null,
            "left": null
          }
        },
        "318beee167ee4cdb99188dcec2b974ec": {
          "model_module": "@jupyter-widgets/controls",
          "model_name": "IntSliderModel",
          "state": {
            "_view_name": "IntSliderView",
            "style": "IPY_MODEL_8680a4c524a846b58ecc2510d453951d",
            "_dom_classes": [],
            "description": "x",
            "step": 1,
            "_model_name": "IntSliderModel",
            "orientation": "horizontal",
            "max": 15,
            "_view_module": "@jupyter-widgets/controls",
            "_model_module_version": "1.5.0",
            "value": 3,
            "_view_count": null,
            "disabled": false,
            "_view_module_version": "1.5.0",
            "min": -5,
            "continuous_update": true,
            "readout_format": "d",
            "description_tooltip": null,
            "readout": true,
            "_model_module": "@jupyter-widgets/controls",
            "layout": "IPY_MODEL_2d581a47ec2644b39b06ddb40aa5261c"
          }
        },
        "c96d5d2ff76149f0b31a865b58e65c88": {
          "model_module": "@jupyter-widgets/controls",
          "model_name": "IntSliderModel",
          "state": {
            "_view_name": "IntSliderView",
            "style": "IPY_MODEL_4bfd58bca32347c1b3d76313aa9bb448",
            "_dom_classes": [],
            "description": "y",
            "step": 1,
            "_model_name": "IntSliderModel",
            "orientation": "horizontal",
            "max": 9,
            "_view_module": "@jupyter-widgets/controls",
            "_model_module_version": "1.5.0",
            "value": 3,
            "_view_count": null,
            "disabled": false,
            "_view_module_version": "1.5.0",
            "min": -3,
            "continuous_update": true,
            "readout_format": "d",
            "description_tooltip": null,
            "readout": true,
            "_model_module": "@jupyter-widgets/controls",
            "layout": "IPY_MODEL_8cd0ffccbb994382962f5dfaa6a8b876"
          }
        },
        "ceff386c23af417ba1c55ce2fe122742": {
          "model_module": "@jupyter-widgets/output",
          "model_name": "OutputModel",
          "state": {
            "_view_name": "OutputView",
            "msg_id": "",
            "_dom_classes": [],
            "_model_name": "OutputModel",
            "outputs": [
              {
                "output_type": "stream",
                "metadata": {
                  "tags": []
                },
                "text": "3 3\n",
                "stream": "stdout"
              },
              {
                "output_type": "display_data",
                "metadata": {
                  "tags": []
                },
                "text/plain": "array([3, 3])"
              }
            ],
            "_view_module": "@jupyter-widgets/output",
            "_model_module_version": "1.0.0",
            "_view_count": null,
            "_view_module_version": "1.0.0",
            "layout": "IPY_MODEL_0788fcc0661049f4a509f9cbda8622a8",
            "_model_module": "@jupyter-widgets/output"
          }
        },
        "8680a4c524a846b58ecc2510d453951d": {
          "model_module": "@jupyter-widgets/controls",
          "model_name": "SliderStyleModel",
          "state": {
            "_view_name": "StyleView",
            "handle_color": null,
            "_model_name": "SliderStyleModel",
            "description_width": "",
            "_view_module": "@jupyter-widgets/base",
            "_model_module_version": "1.5.0",
            "_view_count": null,
            "_view_module_version": "1.2.0",
            "_model_module": "@jupyter-widgets/controls"
          }
        },
        "2d581a47ec2644b39b06ddb40aa5261c": {
          "model_module": "@jupyter-widgets/base",
          "model_name": "LayoutModel",
          "state": {
            "_view_name": "LayoutView",
            "grid_template_rows": null,
            "right": null,
            "justify_content": null,
            "_view_module": "@jupyter-widgets/base",
            "overflow": null,
            "_model_module_version": "1.2.0",
            "_view_count": null,
            "flex_flow": null,
            "width": null,
            "min_width": null,
            "border": null,
            "align_items": null,
            "bottom": null,
            "_model_module": "@jupyter-widgets/base",
            "top": null,
            "grid_column": null,
            "overflow_y": null,
            "overflow_x": null,
            "grid_auto_flow": null,
            "grid_area": null,
            "grid_template_columns": null,
            "flex": null,
            "_model_name": "LayoutModel",
            "justify_items": null,
            "grid_row": null,
            "max_height": null,
            "align_content": null,
            "visibility": null,
            "align_self": null,
            "height": null,
            "min_height": null,
            "padding": null,
            "grid_auto_rows": null,
            "grid_gap": null,
            "max_width": null,
            "order": null,
            "_view_module_version": "1.2.0",
            "grid_template_areas": null,
            "object_position": null,
            "object_fit": null,
            "grid_auto_columns": null,
            "margin": null,
            "display": null,
            "left": null
          }
        },
        "4bfd58bca32347c1b3d76313aa9bb448": {
          "model_module": "@jupyter-widgets/controls",
          "model_name": "SliderStyleModel",
          "state": {
            "_view_name": "StyleView",
            "handle_color": null,
            "_model_name": "SliderStyleModel",
            "description_width": "",
            "_view_module": "@jupyter-widgets/base",
            "_model_module_version": "1.5.0",
            "_view_count": null,
            "_view_module_version": "1.2.0",
            "_model_module": "@jupyter-widgets/controls"
          }
        },
        "8cd0ffccbb994382962f5dfaa6a8b876": {
          "model_module": "@jupyter-widgets/base",
          "model_name": "LayoutModel",
          "state": {
            "_view_name": "LayoutView",
            "grid_template_rows": null,
            "right": null,
            "justify_content": null,
            "_view_module": "@jupyter-widgets/base",
            "overflow": null,
            "_model_module_version": "1.2.0",
            "_view_count": null,
            "flex_flow": null,
            "width": null,
            "min_width": null,
            "border": null,
            "align_items": null,
            "bottom": null,
            "_model_module": "@jupyter-widgets/base",
            "top": null,
            "grid_column": null,
            "overflow_y": null,
            "overflow_x": null,
            "grid_auto_flow": null,
            "grid_area": null,
            "grid_template_columns": null,
            "flex": null,
            "_model_name": "LayoutModel",
            "justify_items": null,
            "grid_row": null,
            "max_height": null,
            "align_content": null,
            "visibility": null,
            "align_self": null,
            "height": null,
            "min_height": null,
            "padding": null,
            "grid_auto_rows": null,
            "grid_gap": null,
            "max_width": null,
            "order": null,
            "_view_module_version": "1.2.0",
            "grid_template_areas": null,
            "object_position": null,
            "object_fit": null,
            "grid_auto_columns": null,
            "margin": null,
            "display": null,
            "left": null
          }
        },
        "0788fcc0661049f4a509f9cbda8622a8": {
          "model_module": "@jupyter-widgets/base",
          "model_name": "LayoutModel",
          "state": {
            "_view_name": "LayoutView",
            "grid_template_rows": null,
            "right": null,
            "justify_content": null,
            "_view_module": "@jupyter-widgets/base",
            "overflow": null,
            "_model_module_version": "1.2.0",
            "_view_count": null,
            "flex_flow": null,
            "width": null,
            "min_width": null,
            "border": null,
            "align_items": null,
            "bottom": null,
            "_model_module": "@jupyter-widgets/base",
            "top": null,
            "grid_column": null,
            "overflow_y": null,
            "overflow_x": null,
            "grid_auto_flow": null,
            "grid_area": null,
            "grid_template_columns": null,
            "flex": null,
            "_model_name": "LayoutModel",
            "justify_items": null,
            "grid_row": null,
            "max_height": null,
            "align_content": null,
            "visibility": null,
            "align_self": null,
            "height": null,
            "min_height": null,
            "padding": null,
            "grid_auto_rows": null,
            "grid_gap": null,
            "max_width": null,
            "order": null,
            "_view_module_version": "1.2.0",
            "grid_template_areas": null,
            "object_position": null,
            "object_fit": null,
            "grid_auto_columns": null,
            "margin": null,
            "display": null,
            "left": null
          }
        },
        "60f55bb92a2c40c99e663ad1625b4b5b": {
          "model_module": "@jupyter-widgets/controls",
          "model_name": "VBoxModel",
          "state": {
            "_view_name": "VBoxView",
            "_dom_classes": [
              "widget-interact"
            ],
            "_model_name": "VBoxModel",
            "_view_module": "@jupyter-widgets/controls",
            "_model_module_version": "1.5.0",
            "_view_count": null,
            "_view_module_version": "1.5.0",
            "box_style": "",
            "layout": "IPY_MODEL_6dedec6d8c4e4a75b1ec98840b825b92",
            "_model_module": "@jupyter-widgets/controls",
            "children": [
              "IPY_MODEL_d988f7c0281040e29fb33e0a4b944729",
              "IPY_MODEL_9ae841de019d4cf88e8af4f5f89a7fdc",
              "IPY_MODEL_f080757469214c51868de5a29aaf1c0c",
              "IPY_MODEL_4c8a20f45803441bb2736a4bb4878514",
              "IPY_MODEL_a9920dd609394bf5b1842c3fa56e2818"
            ]
          }
        },
        "6dedec6d8c4e4a75b1ec98840b825b92": {
          "model_module": "@jupyter-widgets/base",
          "model_name": "LayoutModel",
          "state": {
            "_view_name": "LayoutView",
            "grid_template_rows": null,
            "right": null,
            "justify_content": null,
            "_view_module": "@jupyter-widgets/base",
            "overflow": null,
            "_model_module_version": "1.2.0",
            "_view_count": null,
            "flex_flow": null,
            "width": null,
            "min_width": null,
            "border": null,
            "align_items": null,
            "bottom": null,
            "_model_module": "@jupyter-widgets/base",
            "top": null,
            "grid_column": null,
            "overflow_y": null,
            "overflow_x": null,
            "grid_auto_flow": null,
            "grid_area": null,
            "grid_template_columns": null,
            "flex": null,
            "_model_name": "LayoutModel",
            "justify_items": null,
            "grid_row": null,
            "max_height": null,
            "align_content": null,
            "visibility": null,
            "align_self": null,
            "height": null,
            "min_height": null,
            "padding": null,
            "grid_auto_rows": null,
            "grid_gap": null,
            "max_width": null,
            "order": null,
            "_view_module_version": "1.2.0",
            "grid_template_areas": null,
            "object_position": null,
            "object_fit": null,
            "grid_auto_columns": null,
            "margin": null,
            "display": null,
            "left": null
          }
        },
        "d988f7c0281040e29fb33e0a4b944729": {
          "model_module": "@jupyter-widgets/controls",
          "model_name": "IntSliderModel",
          "state": {
            "_view_name": "IntSliderView",
            "style": "IPY_MODEL_14df093cc008442a9856b2f19ef74b20",
            "_dom_classes": [],
            "description": "x1",
            "step": 1,
            "_model_name": "IntSliderModel",
            "orientation": "horizontal",
            "max": 3,
            "_view_module": "@jupyter-widgets/controls",
            "_model_module_version": "1.5.0",
            "value": 1,
            "_view_count": null,
            "disabled": false,
            "_view_module_version": "1.5.0",
            "min": -1,
            "continuous_update": true,
            "readout_format": "d",
            "description_tooltip": null,
            "readout": true,
            "_model_module": "@jupyter-widgets/controls",
            "layout": "IPY_MODEL_a38dfa210a4743ccb572f87cbcf52fdb"
          }
        },
        "9ae841de019d4cf88e8af4f5f89a7fdc": {
          "model_module": "@jupyter-widgets/controls",
          "model_name": "IntSliderModel",
          "state": {
            "_view_name": "IntSliderView",
            "style": "IPY_MODEL_f66c4b19a9884d1e946db54ee0a03da4",
            "_dom_classes": [],
            "description": "y1",
            "step": 1,
            "_model_name": "IntSliderModel",
            "orientation": "horizontal",
            "max": 6,
            "_view_module": "@jupyter-widgets/controls",
            "_model_module_version": "1.5.0",
            "value": 2,
            "_view_count": null,
            "disabled": false,
            "_view_module_version": "1.5.0",
            "min": -2,
            "continuous_update": true,
            "readout_format": "d",
            "description_tooltip": null,
            "readout": true,
            "_model_module": "@jupyter-widgets/controls",
            "layout": "IPY_MODEL_6c23b4987e984ea490d1f6dce4238aaf"
          }
        },
        "f080757469214c51868de5a29aaf1c0c": {
          "model_module": "@jupyter-widgets/controls",
          "model_name": "IntSliderModel",
          "state": {
            "_view_name": "IntSliderView",
            "style": "IPY_MODEL_33ec4c95f87a4c9eaf2baeaa5f734529",
            "_dom_classes": [],
            "description": "x2",
            "step": 1,
            "_model_name": "IntSliderModel",
            "orientation": "horizontal",
            "max": 9,
            "_view_module": "@jupyter-widgets/controls",
            "_model_module_version": "1.5.0",
            "value": 3,
            "_view_count": null,
            "disabled": false,
            "_view_module_version": "1.5.0",
            "min": -3,
            "continuous_update": true,
            "readout_format": "d",
            "description_tooltip": null,
            "readout": true,
            "_model_module": "@jupyter-widgets/controls",
            "layout": "IPY_MODEL_b06e2088a4f241f78a2b0d2e2e50235e"
          }
        },
        "4c8a20f45803441bb2736a4bb4878514": {
          "model_module": "@jupyter-widgets/controls",
          "model_name": "IntSliderModel",
          "state": {
            "_view_name": "IntSliderView",
            "style": "IPY_MODEL_0497dc1a87274fbfa4a14fa13df61e80",
            "_dom_classes": [],
            "description": "y2",
            "step": 1,
            "_model_name": "IntSliderModel",
            "orientation": "horizontal",
            "max": 12,
            "_view_module": "@jupyter-widgets/controls",
            "_model_module_version": "1.5.0",
            "value": 4,
            "_view_count": null,
            "disabled": false,
            "_view_module_version": "1.5.0",
            "min": -4,
            "continuous_update": true,
            "readout_format": "d",
            "description_tooltip": null,
            "readout": true,
            "_model_module": "@jupyter-widgets/controls",
            "layout": "IPY_MODEL_e58a121295ab45029a8db258792b70c1"
          }
        },
        "a9920dd609394bf5b1842c3fa56e2818": {
          "model_module": "@jupyter-widgets/output",
          "model_name": "OutputModel",
          "state": {
            "_view_name": "OutputView",
            "msg_id": "",
            "_dom_classes": [],
            "_model_name": "OutputModel",
            "outputs": [
              {
                "output_type": "display_data",
                "metadata": {
                  "tags": []
                },
                "text/plain": "(array([1, 2]), array([3, 4]))"
              }
            ],
            "_view_module": "@jupyter-widgets/output",
            "_model_module_version": "1.0.0",
            "_view_count": null,
            "_view_module_version": "1.0.0",
            "layout": "IPY_MODEL_2d6f1619e2114d619410f682376c96fd",
            "_model_module": "@jupyter-widgets/output"
          }
        },
        "14df093cc008442a9856b2f19ef74b20": {
          "model_module": "@jupyter-widgets/controls",
          "model_name": "SliderStyleModel",
          "state": {
            "_view_name": "StyleView",
            "handle_color": null,
            "_model_name": "SliderStyleModel",
            "description_width": "",
            "_view_module": "@jupyter-widgets/base",
            "_model_module_version": "1.5.0",
            "_view_count": null,
            "_view_module_version": "1.2.0",
            "_model_module": "@jupyter-widgets/controls"
          }
        },
        "a38dfa210a4743ccb572f87cbcf52fdb": {
          "model_module": "@jupyter-widgets/base",
          "model_name": "LayoutModel",
          "state": {
            "_view_name": "LayoutView",
            "grid_template_rows": null,
            "right": null,
            "justify_content": null,
            "_view_module": "@jupyter-widgets/base",
            "overflow": null,
            "_model_module_version": "1.2.0",
            "_view_count": null,
            "flex_flow": null,
            "width": null,
            "min_width": null,
            "border": null,
            "align_items": null,
            "bottom": null,
            "_model_module": "@jupyter-widgets/base",
            "top": null,
            "grid_column": null,
            "overflow_y": null,
            "overflow_x": null,
            "grid_auto_flow": null,
            "grid_area": null,
            "grid_template_columns": null,
            "flex": null,
            "_model_name": "LayoutModel",
            "justify_items": null,
            "grid_row": null,
            "max_height": null,
            "align_content": null,
            "visibility": null,
            "align_self": null,
            "height": null,
            "min_height": null,
            "padding": null,
            "grid_auto_rows": null,
            "grid_gap": null,
            "max_width": null,
            "order": null,
            "_view_module_version": "1.2.0",
            "grid_template_areas": null,
            "object_position": null,
            "object_fit": null,
            "grid_auto_columns": null,
            "margin": null,
            "display": null,
            "left": null
          }
        },
        "f66c4b19a9884d1e946db54ee0a03da4": {
          "model_module": "@jupyter-widgets/controls",
          "model_name": "SliderStyleModel",
          "state": {
            "_view_name": "StyleView",
            "handle_color": null,
            "_model_name": "SliderStyleModel",
            "description_width": "",
            "_view_module": "@jupyter-widgets/base",
            "_model_module_version": "1.5.0",
            "_view_count": null,
            "_view_module_version": "1.2.0",
            "_model_module": "@jupyter-widgets/controls"
          }
        },
        "6c23b4987e984ea490d1f6dce4238aaf": {
          "model_module": "@jupyter-widgets/base",
          "model_name": "LayoutModel",
          "state": {
            "_view_name": "LayoutView",
            "grid_template_rows": null,
            "right": null,
            "justify_content": null,
            "_view_module": "@jupyter-widgets/base",
            "overflow": null,
            "_model_module_version": "1.2.0",
            "_view_count": null,
            "flex_flow": null,
            "width": null,
            "min_width": null,
            "border": null,
            "align_items": null,
            "bottom": null,
            "_model_module": "@jupyter-widgets/base",
            "top": null,
            "grid_column": null,
            "overflow_y": null,
            "overflow_x": null,
            "grid_auto_flow": null,
            "grid_area": null,
            "grid_template_columns": null,
            "flex": null,
            "_model_name": "LayoutModel",
            "justify_items": null,
            "grid_row": null,
            "max_height": null,
            "align_content": null,
            "visibility": null,
            "align_self": null,
            "height": null,
            "min_height": null,
            "padding": null,
            "grid_auto_rows": null,
            "grid_gap": null,
            "max_width": null,
            "order": null,
            "_view_module_version": "1.2.0",
            "grid_template_areas": null,
            "object_position": null,
            "object_fit": null,
            "grid_auto_columns": null,
            "margin": null,
            "display": null,
            "left": null
          }
        },
        "33ec4c95f87a4c9eaf2baeaa5f734529": {
          "model_module": "@jupyter-widgets/controls",
          "model_name": "SliderStyleModel",
          "state": {
            "_view_name": "StyleView",
            "handle_color": null,
            "_model_name": "SliderStyleModel",
            "description_width": "",
            "_view_module": "@jupyter-widgets/base",
            "_model_module_version": "1.5.0",
            "_view_count": null,
            "_view_module_version": "1.2.0",
            "_model_module": "@jupyter-widgets/controls"
          }
        },
        "b06e2088a4f241f78a2b0d2e2e50235e": {
          "model_module": "@jupyter-widgets/base",
          "model_name": "LayoutModel",
          "state": {
            "_view_name": "LayoutView",
            "grid_template_rows": null,
            "right": null,
            "justify_content": null,
            "_view_module": "@jupyter-widgets/base",
            "overflow": null,
            "_model_module_version": "1.2.0",
            "_view_count": null,
            "flex_flow": null,
            "width": null,
            "min_width": null,
            "border": null,
            "align_items": null,
            "bottom": null,
            "_model_module": "@jupyter-widgets/base",
            "top": null,
            "grid_column": null,
            "overflow_y": null,
            "overflow_x": null,
            "grid_auto_flow": null,
            "grid_area": null,
            "grid_template_columns": null,
            "flex": null,
            "_model_name": "LayoutModel",
            "justify_items": null,
            "grid_row": null,
            "max_height": null,
            "align_content": null,
            "visibility": null,
            "align_self": null,
            "height": null,
            "min_height": null,
            "padding": null,
            "grid_auto_rows": null,
            "grid_gap": null,
            "max_width": null,
            "order": null,
            "_view_module_version": "1.2.0",
            "grid_template_areas": null,
            "object_position": null,
            "object_fit": null,
            "grid_auto_columns": null,
            "margin": null,
            "display": null,
            "left": null
          }
        },
        "0497dc1a87274fbfa4a14fa13df61e80": {
          "model_module": "@jupyter-widgets/controls",
          "model_name": "SliderStyleModel",
          "state": {
            "_view_name": "StyleView",
            "handle_color": null,
            "_model_name": "SliderStyleModel",
            "description_width": "",
            "_view_module": "@jupyter-widgets/base",
            "_model_module_version": "1.5.0",
            "_view_count": null,
            "_view_module_version": "1.2.0",
            "_model_module": "@jupyter-widgets/controls"
          }
        },
        "e58a121295ab45029a8db258792b70c1": {
          "model_module": "@jupyter-widgets/base",
          "model_name": "LayoutModel",
          "state": {
            "_view_name": "LayoutView",
            "grid_template_rows": null,
            "right": null,
            "justify_content": null,
            "_view_module": "@jupyter-widgets/base",
            "overflow": null,
            "_model_module_version": "1.2.0",
            "_view_count": null,
            "flex_flow": null,
            "width": null,
            "min_width": null,
            "border": null,
            "align_items": null,
            "bottom": null,
            "_model_module": "@jupyter-widgets/base",
            "top": null,
            "grid_column": null,
            "overflow_y": null,
            "overflow_x": null,
            "grid_auto_flow": null,
            "grid_area": null,
            "grid_template_columns": null,
            "flex": null,
            "_model_name": "LayoutModel",
            "justify_items": null,
            "grid_row": null,
            "max_height": null,
            "align_content": null,
            "visibility": null,
            "align_self": null,
            "height": null,
            "min_height": null,
            "padding": null,
            "grid_auto_rows": null,
            "grid_gap": null,
            "max_width": null,
            "order": null,
            "_view_module_version": "1.2.0",
            "grid_template_areas": null,
            "object_position": null,
            "object_fit": null,
            "grid_auto_columns": null,
            "margin": null,
            "display": null,
            "left": null
          }
        },
        "2d6f1619e2114d619410f682376c96fd": {
          "model_module": "@jupyter-widgets/base",
          "model_name": "LayoutModel",
          "state": {
            "_view_name": "LayoutView",
            "grid_template_rows": null,
            "right": null,
            "justify_content": null,
            "_view_module": "@jupyter-widgets/base",
            "overflow": null,
            "_model_module_version": "1.2.0",
            "_view_count": null,
            "flex_flow": null,
            "width": null,
            "min_width": null,
            "border": null,
            "align_items": null,
            "bottom": null,
            "_model_module": "@jupyter-widgets/base",
            "top": null,
            "grid_column": null,
            "overflow_y": null,
            "overflow_x": null,
            "grid_auto_flow": null,
            "grid_area": null,
            "grid_template_columns": null,
            "flex": null,
            "_model_name": "LayoutModel",
            "justify_items": null,
            "grid_row": null,
            "max_height": null,
            "align_content": null,
            "visibility": null,
            "align_self": null,
            "height": null,
            "min_height": null,
            "padding": null,
            "grid_auto_rows": null,
            "grid_gap": null,
            "max_width": null,
            "order": null,
            "_view_module_version": "1.2.0",
            "grid_template_areas": null,
            "object_position": null,
            "object_fit": null,
            "grid_auto_columns": null,
            "margin": null,
            "display": null,
            "left": null
          }
        },
        "8ffdf41bb3e24da3ac69fdb350b04cfd": {
          "model_module": "@jupyter-widgets/controls",
          "model_name": "VBoxModel",
          "state": {
            "_view_name": "VBoxView",
            "_dom_classes": [
              "widget-interact"
            ],
            "_model_name": "VBoxModel",
            "_view_module": "@jupyter-widgets/controls",
            "_model_module_version": "1.5.0",
            "_view_count": null,
            "_view_module_version": "1.5.0",
            "box_style": "",
            "layout": "IPY_MODEL_deac651bdd194af9a0e5c51c45e72a31",
            "_model_module": "@jupyter-widgets/controls",
            "children": [
              "IPY_MODEL_098b31996a4d44f1bf3696cb513965ca",
              "IPY_MODEL_0974506ba5ce481aa5d89974a964d2b4",
              "IPY_MODEL_d5ddb4ec6c5a4a2bbd73559665e53d90",
              "IPY_MODEL_4fa7a575170a4328abe3a880a565a836",
              "IPY_MODEL_22f8f0a43ea849a1ab92f0ebdee14e5b"
            ]
          }
        },
        "deac651bdd194af9a0e5c51c45e72a31": {
          "model_module": "@jupyter-widgets/base",
          "model_name": "LayoutModel",
          "state": {
            "_view_name": "LayoutView",
            "grid_template_rows": null,
            "right": null,
            "justify_content": null,
            "_view_module": "@jupyter-widgets/base",
            "overflow": null,
            "_model_module_version": "1.2.0",
            "_view_count": null,
            "flex_flow": null,
            "width": null,
            "min_width": null,
            "border": null,
            "align_items": null,
            "bottom": null,
            "_model_module": "@jupyter-widgets/base",
            "top": null,
            "grid_column": null,
            "overflow_y": null,
            "overflow_x": null,
            "grid_auto_flow": null,
            "grid_area": null,
            "grid_template_columns": null,
            "flex": null,
            "_model_name": "LayoutModel",
            "justify_items": null,
            "grid_row": null,
            "max_height": null,
            "align_content": null,
            "visibility": null,
            "align_self": null,
            "height": null,
            "min_height": null,
            "padding": null,
            "grid_auto_rows": null,
            "grid_gap": null,
            "max_width": null,
            "order": null,
            "_view_module_version": "1.2.0",
            "grid_template_areas": null,
            "object_position": null,
            "object_fit": null,
            "grid_auto_columns": null,
            "margin": null,
            "display": null,
            "left": null
          }
        },
        "098b31996a4d44f1bf3696cb513965ca": {
          "model_module": "@jupyter-widgets/controls",
          "model_name": "FloatSliderModel",
          "state": {
            "_view_name": "FloatSliderView",
            "style": "IPY_MODEL_381ad410b43f433aa3099171da08ffff",
            "_dom_classes": [],
            "description": "x1",
            "step": 0.1,
            "_model_name": "FloatSliderModel",
            "orientation": "horizontal",
            "max": 15,
            "_view_module": "@jupyter-widgets/controls",
            "_model_module_version": "1.5.0",
            "value": 5,
            "_view_count": null,
            "disabled": false,
            "_view_module_version": "1.5.0",
            "min": -5,
            "continuous_update": true,
            "readout_format": ".2f",
            "description_tooltip": null,
            "readout": true,
            "_model_module": "@jupyter-widgets/controls",
            "layout": "IPY_MODEL_c4310d1edd874a7ea9afb554dfc9c2c4"
          }
        },
        "0974506ba5ce481aa5d89974a964d2b4": {
          "model_module": "@jupyter-widgets/controls",
          "model_name": "FloatSliderModel",
          "state": {
            "_view_name": "FloatSliderView",
            "style": "IPY_MODEL_eee7dc45f5974d669731aaeba075b5b0",
            "_dom_classes": [],
            "description": "y1",
            "step": 0.1,
            "_model_name": "FloatSliderModel",
            "orientation": "horizontal",
            "max": 9,
            "_view_module": "@jupyter-widgets/controls",
            "_model_module_version": "1.5.0",
            "value": 3,
            "_view_count": null,
            "disabled": false,
            "_view_module_version": "1.5.0",
            "min": -3,
            "continuous_update": true,
            "readout_format": ".2f",
            "description_tooltip": null,
            "readout": true,
            "_model_module": "@jupyter-widgets/controls",
            "layout": "IPY_MODEL_21399b4f917241ee908699e451fb203e"
          }
        },
        "d5ddb4ec6c5a4a2bbd73559665e53d90": {
          "model_module": "@jupyter-widgets/controls",
          "model_name": "FloatSliderModel",
          "state": {
            "_view_name": "FloatSliderView",
            "style": "IPY_MODEL_cb8779804c5d48948047b4a50166eafb",
            "_dom_classes": [],
            "description": "x2",
            "step": 0.1,
            "_model_name": "FloatSliderModel",
            "orientation": "horizontal",
            "max": 6,
            "_view_module": "@jupyter-widgets/controls",
            "_model_module_version": "1.5.0",
            "value": 2,
            "_view_count": null,
            "disabled": false,
            "_view_module_version": "1.5.0",
            "min": -2,
            "continuous_update": true,
            "readout_format": ".2f",
            "description_tooltip": null,
            "readout": true,
            "_model_module": "@jupyter-widgets/controls",
            "layout": "IPY_MODEL_b51c09d54dbb46c7a4ca1f4ce7a34d32"
          }
        },
        "4fa7a575170a4328abe3a880a565a836": {
          "model_module": "@jupyter-widgets/controls",
          "model_name": "FloatSliderModel",
          "state": {
            "_view_name": "FloatSliderView",
            "style": "IPY_MODEL_04f2eed94e8e450f83d6f2b468482091",
            "_dom_classes": [],
            "description": "y2",
            "step": 0.1,
            "_model_name": "FloatSliderModel",
            "orientation": "horizontal",
            "max": 12,
            "_view_module": "@jupyter-widgets/controls",
            "_model_module_version": "1.5.0",
            "value": 4,
            "_view_count": null,
            "disabled": false,
            "_view_module_version": "1.5.0",
            "min": -4,
            "continuous_update": true,
            "readout_format": ".2f",
            "description_tooltip": null,
            "readout": true,
            "_model_module": "@jupyter-widgets/controls",
            "layout": "IPY_MODEL_5ca23333f542463d90b145fc8f16e10a"
          }
        },
        "22f8f0a43ea849a1ab92f0ebdee14e5b": {
          "model_module": "@jupyter-widgets/output",
          "model_name": "OutputModel",
          "state": {
            "_view_name": "OutputView",
            "msg_id": "",
            "_dom_classes": [],
            "_model_name": "OutputModel",
            "outputs": [
              {
                "output_type": "display_data",
                "metadata": {
                  "tags": [],
                  "needs_background": "light"
                },
                "image/png": "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\n",
                "text/plain": "<Figure size 576x576 with 1 Axes>"
              }
            ],
            "_view_module": "@jupyter-widgets/output",
            "_model_module_version": "1.0.0",
            "_view_count": null,
            "_view_module_version": "1.0.0",
            "layout": "IPY_MODEL_300b4a29d5094803ae3bf33c374459c7",
            "_model_module": "@jupyter-widgets/output"
          }
        },
        "381ad410b43f433aa3099171da08ffff": {
          "model_module": "@jupyter-widgets/controls",
          "model_name": "SliderStyleModel",
          "state": {
            "_view_name": "StyleView",
            "handle_color": null,
            "_model_name": "SliderStyleModel",
            "description_width": "",
            "_view_module": "@jupyter-widgets/base",
            "_model_module_version": "1.5.0",
            "_view_count": null,
            "_view_module_version": "1.2.0",
            "_model_module": "@jupyter-widgets/controls"
          }
        },
        "c4310d1edd874a7ea9afb554dfc9c2c4": {
          "model_module": "@jupyter-widgets/base",
          "model_name": "LayoutModel",
          "state": {
            "_view_name": "LayoutView",
            "grid_template_rows": null,
            "right": null,
            "justify_content": null,
            "_view_module": "@jupyter-widgets/base",
            "overflow": null,
            "_model_module_version": "1.2.0",
            "_view_count": null,
            "flex_flow": null,
            "width": null,
            "min_width": null,
            "border": null,
            "align_items": null,
            "bottom": null,
            "_model_module": "@jupyter-widgets/base",
            "top": null,
            "grid_column": null,
            "overflow_y": null,
            "overflow_x": null,
            "grid_auto_flow": null,
            "grid_area": null,
            "grid_template_columns": null,
            "flex": null,
            "_model_name": "LayoutModel",
            "justify_items": null,
            "grid_row": null,
            "max_height": null,
            "align_content": null,
            "visibility": null,
            "align_self": null,
            "height": null,
            "min_height": null,
            "padding": null,
            "grid_auto_rows": null,
            "grid_gap": null,
            "max_width": null,
            "order": null,
            "_view_module_version": "1.2.0",
            "grid_template_areas": null,
            "object_position": null,
            "object_fit": null,
            "grid_auto_columns": null,
            "margin": null,
            "display": null,
            "left": null
          }
        },
        "eee7dc45f5974d669731aaeba075b5b0": {
          "model_module": "@jupyter-widgets/controls",
          "model_name": "SliderStyleModel",
          "state": {
            "_view_name": "StyleView",
            "handle_color": null,
            "_model_name": "SliderStyleModel",
            "description_width": "",
            "_view_module": "@jupyter-widgets/base",
            "_model_module_version": "1.5.0",
            "_view_count": null,
            "_view_module_version": "1.2.0",
            "_model_module": "@jupyter-widgets/controls"
          }
        },
        "21399b4f917241ee908699e451fb203e": {
          "model_module": "@jupyter-widgets/base",
          "model_name": "LayoutModel",
          "state": {
            "_view_name": "LayoutView",
            "grid_template_rows": null,
            "right": null,
            "justify_content": null,
            "_view_module": "@jupyter-widgets/base",
            "overflow": null,
            "_model_module_version": "1.2.0",
            "_view_count": null,
            "flex_flow": null,
            "width": null,
            "min_width": null,
            "border": null,
            "align_items": null,
            "bottom": null,
            "_model_module": "@jupyter-widgets/base",
            "top": null,
            "grid_column": null,
            "overflow_y": null,
            "overflow_x": null,
            "grid_auto_flow": null,
            "grid_area": null,
            "grid_template_columns": null,
            "flex": null,
            "_model_name": "LayoutModel",
            "justify_items": null,
            "grid_row": null,
            "max_height": null,
            "align_content": null,
            "visibility": null,
            "align_self": null,
            "height": null,
            "min_height": null,
            "padding": null,
            "grid_auto_rows": null,
            "grid_gap": null,
            "max_width": null,
            "order": null,
            "_view_module_version": "1.2.0",
            "grid_template_areas": null,
            "object_position": null,
            "object_fit": null,
            "grid_auto_columns": null,
            "margin": null,
            "display": null,
            "left": null
          }
        },
        "cb8779804c5d48948047b4a50166eafb": {
          "model_module": "@jupyter-widgets/controls",
          "model_name": "SliderStyleModel",
          "state": {
            "_view_name": "StyleView",
            "handle_color": null,
            "_model_name": "SliderStyleModel",
            "description_width": "",
            "_view_module": "@jupyter-widgets/base",
            "_model_module_version": "1.5.0",
            "_view_count": null,
            "_view_module_version": "1.2.0",
            "_model_module": "@jupyter-widgets/controls"
          }
        },
        "b51c09d54dbb46c7a4ca1f4ce7a34d32": {
          "model_module": "@jupyter-widgets/base",
          "model_name": "LayoutModel",
          "state": {
            "_view_name": "LayoutView",
            "grid_template_rows": null,
            "right": null,
            "justify_content": null,
            "_view_module": "@jupyter-widgets/base",
            "overflow": null,
            "_model_module_version": "1.2.0",
            "_view_count": null,
            "flex_flow": null,
            "width": null,
            "min_width": null,
            "border": null,
            "align_items": null,
            "bottom": null,
            "_model_module": "@jupyter-widgets/base",
            "top": null,
            "grid_column": null,
            "overflow_y": null,
            "overflow_x": null,
            "grid_auto_flow": null,
            "grid_area": null,
            "grid_template_columns": null,
            "flex": null,
            "_model_name": "LayoutModel",
            "justify_items": null,
            "grid_row": null,
            "max_height": null,
            "align_content": null,
            "visibility": null,
            "align_self": null,
            "height": null,
            "min_height": null,
            "padding": null,
            "grid_auto_rows": null,
            "grid_gap": null,
            "max_width": null,
            "order": null,
            "_view_module_version": "1.2.0",
            "grid_template_areas": null,
            "object_position": null,
            "object_fit": null,
            "grid_auto_columns": null,
            "margin": null,
            "display": null,
            "left": null
          }
        },
        "04f2eed94e8e450f83d6f2b468482091": {
          "model_module": "@jupyter-widgets/controls",
          "model_name": "SliderStyleModel",
          "state": {
            "_view_name": "StyleView",
            "handle_color": null,
            "_model_name": "SliderStyleModel",
            "description_width": "",
            "_view_module": "@jupyter-widgets/base",
            "_model_module_version": "1.5.0",
            "_view_count": null,
            "_view_module_version": "1.2.0",
            "_model_module": "@jupyter-widgets/controls"
          }
        },
        "5ca23333f542463d90b145fc8f16e10a": {
          "model_module": "@jupyter-widgets/base",
          "model_name": "LayoutModel",
          "state": {
            "_view_name": "LayoutView",
            "grid_template_rows": null,
            "right": null,
            "justify_content": null,
            "_view_module": "@jupyter-widgets/base",
            "overflow": null,
            "_model_module_version": "1.2.0",
            "_view_count": null,
            "flex_flow": null,
            "width": null,
            "min_width": null,
            "border": null,
            "align_items": null,
            "bottom": null,
            "_model_module": "@jupyter-widgets/base",
            "top": null,
            "grid_column": null,
            "overflow_y": null,
            "overflow_x": null,
            "grid_auto_flow": null,
            "grid_area": null,
            "grid_template_columns": null,
            "flex": null,
            "_model_name": "LayoutModel",
            "justify_items": null,
            "grid_row": null,
            "max_height": null,
            "align_content": null,
            "visibility": null,
            "align_self": null,
            "height": null,
            "min_height": null,
            "padding": null,
            "grid_auto_rows": null,
            "grid_gap": null,
            "max_width": null,
            "order": null,
            "_view_module_version": "1.2.0",
            "grid_template_areas": null,
            "object_position": null,
            "object_fit": null,
            "grid_auto_columns": null,
            "margin": null,
            "display": null,
            "left": null
          }
        },
        "300b4a29d5094803ae3bf33c374459c7": {
          "model_module": "@jupyter-widgets/base",
          "model_name": "LayoutModel",
          "state": {
            "_view_name": "LayoutView",
            "grid_template_rows": null,
            "right": null,
            "justify_content": null,
            "_view_module": "@jupyter-widgets/base",
            "overflow": null,
            "_model_module_version": "1.2.0",
            "_view_count": null,
            "flex_flow": null,
            "width": null,
            "min_width": null,
            "border": null,
            "align_items": null,
            "bottom": null,
            "_model_module": "@jupyter-widgets/base",
            "top": null,
            "grid_column": null,
            "overflow_y": null,
            "overflow_x": null,
            "grid_auto_flow": null,
            "grid_area": null,
            "grid_template_columns": null,
            "flex": null,
            "_model_name": "LayoutModel",
            "justify_items": null,
            "grid_row": null,
            "max_height": null,
            "align_content": null,
            "visibility": null,
            "align_self": null,
            "height": null,
            "min_height": null,
            "padding": null,
            "grid_auto_rows": null,
            "grid_gap": null,
            "max_width": null,
            "order": null,
            "_view_module_version": "1.2.0",
            "grid_template_areas": null,
            "object_position": null,
            "object_fit": null,
            "grid_auto_columns": null,
            "margin": null,
            "display": null,
            "left": null
          }
        },
        "d832ee6db24d4d09b79c7b5f4fa00b55": {
          "model_module": "@jupyter-widgets/controls",
          "model_name": "HBoxModel",
          "state": {
            "_view_name": "HBoxView",
            "_dom_classes": [],
            "_model_name": "HBoxModel",
            "_view_module": "@jupyter-widgets/controls",
            "_model_module_version": "1.5.0",
            "_view_count": null,
            "_view_module_version": "1.5.0",
            "box_style": "",
            "layout": "IPY_MODEL_7cbbfb5b2b8d40949d11ef2d2e695d5e",
            "_model_module": "@jupyter-widgets/controls",
            "children": [
              "IPY_MODEL_225fd8d52a8d40c49be76b20cbe78957",
              "IPY_MODEL_fe864dbeab6243799f35b5c69ed52b20"
            ]
          }
        },
        "7cbbfb5b2b8d40949d11ef2d2e695d5e": {
          "model_module": "@jupyter-widgets/base",
          "model_name": "LayoutModel",
          "state": {
            "_view_name": "LayoutView",
            "grid_template_rows": null,
            "right": null,
            "justify_content": null,
            "_view_module": "@jupyter-widgets/base",
            "overflow": null,
            "_model_module_version": "1.2.0",
            "_view_count": null,
            "flex_flow": null,
            "width": null,
            "min_width": null,
            "border": null,
            "align_items": null,
            "bottom": null,
            "_model_module": "@jupyter-widgets/base",
            "top": null,
            "grid_column": null,
            "overflow_y": null,
            "overflow_x": null,
            "grid_auto_flow": null,
            "grid_area": null,
            "grid_template_columns": null,
            "flex": null,
            "_model_name": "LayoutModel",
            "justify_items": null,
            "grid_row": null,
            "max_height": null,
            "align_content": null,
            "visibility": null,
            "align_self": null,
            "height": null,
            "min_height": null,
            "padding": null,
            "grid_auto_rows": null,
            "grid_gap": null,
            "max_width": null,
            "order": null,
            "_view_module_version": "1.2.0",
            "grid_template_areas": null,
            "object_position": null,
            "object_fit": null,
            "grid_auto_columns": null,
            "margin": null,
            "display": null,
            "left": null
          }
        },
        "225fd8d52a8d40c49be76b20cbe78957": {
          "model_module": "@jupyter-widgets/controls",
          "model_name": "FloatSliderModel",
          "state": {
            "_view_name": "FloatSliderView",
            "style": "IPY_MODEL_5bb042d8a0374972b8389740f5e295fc",
            "_dom_classes": [],
            "description": " a[x] :",
            "step": 0.1,
            "_model_name": "FloatSliderModel",
            "orientation": "horizontal",
            "max": 8,
            "_view_module": "@jupyter-widgets/controls",
            "_model_module_version": "1.5.0",
            "value": 0,
            "_view_count": null,
            "disabled": false,
            "_view_module_version": "1.5.0",
            "min": -8,
            "continuous_update": true,
            "readout_format": ".2f",
            "description_tooltip": null,
            "readout": true,
            "_model_module": "@jupyter-widgets/controls",
            "layout": "IPY_MODEL_23142fff765d457ba252104cc523f44a"
          }
        },
        "fe864dbeab6243799f35b5c69ed52b20": {
          "model_module": "@jupyter-widgets/controls",
          "model_name": "FloatSliderModel",
          "state": {
            "_view_name": "FloatSliderView",
            "style": "IPY_MODEL_a58b9b6be1724ed083cca77bd5d60aa3",
            "_dom_classes": [],
            "description": " b[x] :",
            "step": 0.1,
            "_model_name": "FloatSliderModel",
            "orientation": "horizontal",
            "max": 8,
            "_view_module": "@jupyter-widgets/controls",
            "_model_module_version": "1.5.0",
            "value": 0,
            "_view_count": null,
            "disabled": false,
            "_view_module_version": "1.5.0",
            "min": -8,
            "continuous_update": true,
            "readout_format": ".2f",
            "description_tooltip": null,
            "readout": true,
            "_model_module": "@jupyter-widgets/controls",
            "layout": "IPY_MODEL_04f165f856d746bdb53dfe3d22f4f467"
          }
        },
        "5bb042d8a0374972b8389740f5e295fc": {
          "model_module": "@jupyter-widgets/controls",
          "model_name": "SliderStyleModel",
          "state": {
            "_view_name": "StyleView",
            "handle_color": null,
            "_model_name": "SliderStyleModel",
            "description_width": "",
            "_view_module": "@jupyter-widgets/base",
            "_model_module_version": "1.5.0",
            "_view_count": null,
            "_view_module_version": "1.2.0",
            "_model_module": "@jupyter-widgets/controls"
          }
        },
        "23142fff765d457ba252104cc523f44a": {
          "model_module": "@jupyter-widgets/base",
          "model_name": "LayoutModel",
          "state": {
            "_view_name": "LayoutView",
            "grid_template_rows": null,
            "right": null,
            "justify_content": null,
            "_view_module": "@jupyter-widgets/base",
            "overflow": null,
            "_model_module_version": "1.2.0",
            "_view_count": null,
            "flex_flow": null,
            "width": null,
            "min_width": null,
            "border": null,
            "align_items": null,
            "bottom": null,
            "_model_module": "@jupyter-widgets/base",
            "top": null,
            "grid_column": null,
            "overflow_y": null,
            "overflow_x": null,
            "grid_auto_flow": null,
            "grid_area": null,
            "grid_template_columns": null,
            "flex": null,
            "_model_name": "LayoutModel",
            "justify_items": null,
            "grid_row": null,
            "max_height": null,
            "align_content": null,
            "visibility": null,
            "align_self": null,
            "height": null,
            "min_height": null,
            "padding": null,
            "grid_auto_rows": null,
            "grid_gap": null,
            "max_width": null,
            "order": null,
            "_view_module_version": "1.2.0",
            "grid_template_areas": null,
            "object_position": null,
            "object_fit": null,
            "grid_auto_columns": null,
            "margin": null,
            "display": null,
            "left": null
          }
        },
        "a58b9b6be1724ed083cca77bd5d60aa3": {
          "model_module": "@jupyter-widgets/controls",
          "model_name": "SliderStyleModel",
          "state": {
            "_view_name": "StyleView",
            "handle_color": null,
            "_model_name": "SliderStyleModel",
            "description_width": "",
            "_view_module": "@jupyter-widgets/base",
            "_model_module_version": "1.5.0",
            "_view_count": null,
            "_view_module_version": "1.2.0",
            "_model_module": "@jupyter-widgets/controls"
          }
        },
        "04f165f856d746bdb53dfe3d22f4f467": {
          "model_module": "@jupyter-widgets/base",
          "model_name": "LayoutModel",
          "state": {
            "_view_name": "LayoutView",
            "grid_template_rows": null,
            "right": null,
            "justify_content": null,
            "_view_module": "@jupyter-widgets/base",
            "overflow": null,
            "_model_module_version": "1.2.0",
            "_view_count": null,
            "flex_flow": null,
            "width": null,
            "min_width": null,
            "border": null,
            "align_items": null,
            "bottom": null,
            "_model_module": "@jupyter-widgets/base",
            "top": null,
            "grid_column": null,
            "overflow_y": null,
            "overflow_x": null,
            "grid_auto_flow": null,
            "grid_area": null,
            "grid_template_columns": null,
            "flex": null,
            "_model_name": "LayoutModel",
            "justify_items": null,
            "grid_row": null,
            "max_height": null,
            "align_content": null,
            "visibility": null,
            "align_self": null,
            "height": null,
            "min_height": null,
            "padding": null,
            "grid_auto_rows": null,
            "grid_gap": null,
            "max_width": null,
            "order": null,
            "_view_module_version": "1.2.0",
            "grid_template_areas": null,
            "object_position": null,
            "object_fit": null,
            "grid_auto_columns": null,
            "margin": null,
            "display": null,
            "left": null
          }
        },
        "2da054f1a2ed4f2e8b4c6721b94dd138": {
          "model_module": "@jupyter-widgets/controls",
          "model_name": "HBoxModel",
          "state": {
            "_view_name": "HBoxView",
            "_dom_classes": [],
            "_model_name": "HBoxModel",
            "_view_module": "@jupyter-widgets/controls",
            "_model_module_version": "1.5.0",
            "_view_count": null,
            "_view_module_version": "1.5.0",
            "box_style": "",
            "layout": "IPY_MODEL_ee62b635c11b407b8b557d7fc7ceca81",
            "_model_module": "@jupyter-widgets/controls",
            "children": [
              "IPY_MODEL_b403042e58f44d11acc8b28345de170e",
              "IPY_MODEL_46e0846c49bd412f9df27f9cf1c751f1"
            ]
          }
        },
        "ee62b635c11b407b8b557d7fc7ceca81": {
          "model_module": "@jupyter-widgets/base",
          "model_name": "LayoutModel",
          "state": {
            "_view_name": "LayoutView",
            "grid_template_rows": null,
            "right": null,
            "justify_content": null,
            "_view_module": "@jupyter-widgets/base",
            "overflow": null,
            "_model_module_version": "1.2.0",
            "_view_count": null,
            "flex_flow": null,
            "width": null,
            "min_width": null,
            "border": null,
            "align_items": null,
            "bottom": null,
            "_model_module": "@jupyter-widgets/base",
            "top": null,
            "grid_column": null,
            "overflow_y": null,
            "overflow_x": null,
            "grid_auto_flow": null,
            "grid_area": null,
            "grid_template_columns": null,
            "flex": null,
            "_model_name": "LayoutModel",
            "justify_items": null,
            "grid_row": null,
            "max_height": null,
            "align_content": null,
            "visibility": null,
            "align_self": null,
            "height": null,
            "min_height": null,
            "padding": null,
            "grid_auto_rows": null,
            "grid_gap": null,
            "max_width": null,
            "order": null,
            "_view_module_version": "1.2.0",
            "grid_template_areas": null,
            "object_position": null,
            "object_fit": null,
            "grid_auto_columns": null,
            "margin": null,
            "display": null,
            "left": null
          }
        },
        "b403042e58f44d11acc8b28345de170e": {
          "model_module": "@jupyter-widgets/controls",
          "model_name": "FloatSliderModel",
          "state": {
            "_view_name": "FloatSliderView",
            "style": "IPY_MODEL_58579bfddf8a42f4a7da1e0b12d5582d",
            "_dom_classes": [],
            "description": " a[y] :",
            "step": 0.1,
            "_model_name": "FloatSliderModel",
            "orientation": "horizontal",
            "max": 8,
            "_view_module": "@jupyter-widgets/controls",
            "_model_module_version": "1.5.0",
            "value": 0,
            "_view_count": null,
            "disabled": false,
            "_view_module_version": "1.5.0",
            "min": -8,
            "continuous_update": true,
            "readout_format": ".2f",
            "description_tooltip": null,
            "readout": true,
            "_model_module": "@jupyter-widgets/controls",
            "layout": "IPY_MODEL_60dc1117ab3545619dd5e950d60ae3d1"
          }
        },
        "46e0846c49bd412f9df27f9cf1c751f1": {
          "model_module": "@jupyter-widgets/controls",
          "model_name": "FloatSliderModel",
          "state": {
            "_view_name": "FloatSliderView",
            "style": "IPY_MODEL_8371d617221541269522ba7f7c5b82ad",
            "_dom_classes": [],
            "description": " b[y] :",
            "step": 0.1,
            "_model_name": "FloatSliderModel",
            "orientation": "horizontal",
            "max": 8,
            "_view_module": "@jupyter-widgets/controls",
            "_model_module_version": "1.5.0",
            "value": 0,
            "_view_count": null,
            "disabled": false,
            "_view_module_version": "1.5.0",
            "min": -8,
            "continuous_update": true,
            "readout_format": ".2f",
            "description_tooltip": null,
            "readout": true,
            "_model_module": "@jupyter-widgets/controls",
            "layout": "IPY_MODEL_b459cc9c51444ddc83f71d488abc4522"
          }
        },
        "58579bfddf8a42f4a7da1e0b12d5582d": {
          "model_module": "@jupyter-widgets/controls",
          "model_name": "SliderStyleModel",
          "state": {
            "_view_name": "StyleView",
            "handle_color": null,
            "_model_name": "SliderStyleModel",
            "description_width": "",
            "_view_module": "@jupyter-widgets/base",
            "_model_module_version": "1.5.0",
            "_view_count": null,
            "_view_module_version": "1.2.0",
            "_model_module": "@jupyter-widgets/controls"
          }
        },
        "60dc1117ab3545619dd5e950d60ae3d1": {
          "model_module": "@jupyter-widgets/base",
          "model_name": "LayoutModel",
          "state": {
            "_view_name": "LayoutView",
            "grid_template_rows": null,
            "right": null,
            "justify_content": null,
            "_view_module": "@jupyter-widgets/base",
            "overflow": null,
            "_model_module_version": "1.2.0",
            "_view_count": null,
            "flex_flow": null,
            "width": null,
            "min_width": null,
            "border": null,
            "align_items": null,
            "bottom": null,
            "_model_module": "@jupyter-widgets/base",
            "top": null,
            "grid_column": null,
            "overflow_y": null,
            "overflow_x": null,
            "grid_auto_flow": null,
            "grid_area": null,
            "grid_template_columns": null,
            "flex": null,
            "_model_name": "LayoutModel",
            "justify_items": null,
            "grid_row": null,
            "max_height": null,
            "align_content": null,
            "visibility": null,
            "align_self": null,
            "height": null,
            "min_height": null,
            "padding": null,
            "grid_auto_rows": null,
            "grid_gap": null,
            "max_width": null,
            "order": null,
            "_view_module_version": "1.2.0",
            "grid_template_areas": null,
            "object_position": null,
            "object_fit": null,
            "grid_auto_columns": null,
            "margin": null,
            "display": null,
            "left": null
          }
        },
        "8371d617221541269522ba7f7c5b82ad": {
          "model_module": "@jupyter-widgets/controls",
          "model_name": "SliderStyleModel",
          "state": {
            "_view_name": "StyleView",
            "handle_color": null,
            "_model_name": "SliderStyleModel",
            "description_width": "",
            "_view_module": "@jupyter-widgets/base",
            "_model_module_version": "1.5.0",
            "_view_count": null,
            "_view_module_version": "1.2.0",
            "_model_module": "@jupyter-widgets/controls"
          }
        },
        "b459cc9c51444ddc83f71d488abc4522": {
          "model_module": "@jupyter-widgets/base",
          "model_name": "LayoutModel",
          "state": {
            "_view_name": "LayoutView",
            "grid_template_rows": null,
            "right": null,
            "justify_content": null,
            "_view_module": "@jupyter-widgets/base",
            "overflow": null,
            "_model_module_version": "1.2.0",
            "_view_count": null,
            "flex_flow": null,
            "width": null,
            "min_width": null,
            "border": null,
            "align_items": null,
            "bottom": null,
            "_model_module": "@jupyter-widgets/base",
            "top": null,
            "grid_column": null,
            "overflow_y": null,
            "overflow_x": null,
            "grid_auto_flow": null,
            "grid_area": null,
            "grid_template_columns": null,
            "flex": null,
            "_model_name": "LayoutModel",
            "justify_items": null,
            "grid_row": null,
            "max_height": null,
            "align_content": null,
            "visibility": null,
            "align_self": null,
            "height": null,
            "min_height": null,
            "padding": null,
            "grid_auto_rows": null,
            "grid_gap": null,
            "max_width": null,
            "order": null,
            "_view_module_version": "1.2.0",
            "grid_template_areas": null,
            "object_position": null,
            "object_fit": null,
            "grid_auto_columns": null,
            "margin": null,
            "display": null,
            "left": null
          }
        },
        "bef0aca4c03c4966a7a82574617ae251": {
          "model_module": "@jupyter-widgets/output",
          "model_name": "OutputModel",
          "state": {
            "_view_name": "OutputView",
            "msg_id": "",
            "_dom_classes": [],
            "_model_name": "OutputModel",
            "outputs": [
              {
                "output_type": "display_data",
                "metadata": {
                  "tags": [],
                  "needs_background": "light"
                },
                "image/png": "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\n",
                "text/plain": "<Figure size 576x576 with 1 Axes>"
              }
            ],
            "_view_module": "@jupyter-widgets/output",
            "_model_module_version": "1.0.0",
            "_view_count": null,
            "_view_module_version": "1.0.0",
            "layout": "IPY_MODEL_d984850824334750a06d7308b47aefc0",
            "_model_module": "@jupyter-widgets/output"
          }
        },
        "d984850824334750a06d7308b47aefc0": {
          "model_module": "@jupyter-widgets/base",
          "model_name": "LayoutModel",
          "state": {
            "_view_name": "LayoutView",
            "grid_template_rows": null,
            "right": null,
            "justify_content": null,
            "_view_module": "@jupyter-widgets/base",
            "overflow": null,
            "_model_module_version": "1.2.0",
            "_view_count": null,
            "flex_flow": null,
            "width": null,
            "min_width": null,
            "border": null,
            "align_items": null,
            "bottom": null,
            "_model_module": "@jupyter-widgets/base",
            "top": null,
            "grid_column": null,
            "overflow_y": null,
            "overflow_x": null,
            "grid_auto_flow": null,
            "grid_area": null,
            "grid_template_columns": null,
            "flex": null,
            "_model_name": "LayoutModel",
            "justify_items": null,
            "grid_row": null,
            "max_height": null,
            "align_content": null,
            "visibility": null,
            "align_self": null,
            "height": null,
            "min_height": null,
            "padding": null,
            "grid_auto_rows": null,
            "grid_gap": null,
            "max_width": null,
            "order": null,
            "_view_module_version": "1.2.0",
            "grid_template_areas": null,
            "object_position": null,
            "object_fit": null,
            "grid_auto_columns": null,
            "margin": null,
            "display": null,
            "left": null
          }
        },
        "62298d67979344118a23fde752fedace": {
          "model_module": "@jupyter-widgets/controls",
          "model_name": "HBoxModel",
          "state": {
            "_view_name": "HBoxView",
            "_dom_classes": [],
            "_model_name": "HBoxModel",
            "_view_module": "@jupyter-widgets/controls",
            "_model_module_version": "1.5.0",
            "_view_count": null,
            "_view_module_version": "1.5.0",
            "box_style": "",
            "layout": "IPY_MODEL_f021d31db83842cea99dba58774468de",
            "_model_module": "@jupyter-widgets/controls",
            "children": [
              "IPY_MODEL_039a1ea26b1e4b2489d3425202ddabed",
              "IPY_MODEL_dd4a94645b384ce5b16464a463abbb79"
            ]
          }
        },
        "f021d31db83842cea99dba58774468de": {
          "model_module": "@jupyter-widgets/base",
          "model_name": "LayoutModel",
          "state": {
            "_view_name": "LayoutView",
            "grid_template_rows": null,
            "right": null,
            "justify_content": null,
            "_view_module": "@jupyter-widgets/base",
            "overflow": null,
            "_model_module_version": "1.2.0",
            "_view_count": null,
            "flex_flow": null,
            "width": null,
            "min_width": null,
            "border": null,
            "align_items": null,
            "bottom": null,
            "_model_module": "@jupyter-widgets/base",
            "top": null,
            "grid_column": null,
            "overflow_y": null,
            "overflow_x": null,
            "grid_auto_flow": null,
            "grid_area": null,
            "grid_template_columns": null,
            "flex": null,
            "_model_name": "LayoutModel",
            "justify_items": null,
            "grid_row": null,
            "max_height": null,
            "align_content": null,
            "visibility": null,
            "align_self": null,
            "height": null,
            "min_height": null,
            "padding": null,
            "grid_auto_rows": null,
            "grid_gap": null,
            "max_width": null,
            "order": null,
            "_view_module_version": "1.2.0",
            "grid_template_areas": null,
            "object_position": null,
            "object_fit": null,
            "grid_auto_columns": null,
            "margin": null,
            "display": null,
            "left": null
          }
        },
        "039a1ea26b1e4b2489d3425202ddabed": {
          "model_module": "@jupyter-widgets/controls",
          "model_name": "FloatSliderModel",
          "state": {
            "_view_name": "FloatSliderView",
            "style": "IPY_MODEL_a687918addd54d24addf6fcb6e2f794c",
            "_dom_classes": [],
            "description": " a[x] :",
            "step": 0.1,
            "_model_name": "FloatSliderModel",
            "orientation": "horizontal",
            "max": 8,
            "_view_module": "@jupyter-widgets/controls",
            "_model_module_version": "1.5.0",
            "value": 2,
            "_view_count": null,
            "disabled": false,
            "_view_module_version": "1.5.0",
            "min": -8,
            "continuous_update": true,
            "readout_format": ".2f",
            "description_tooltip": null,
            "readout": true,
            "_model_module": "@jupyter-widgets/controls",
            "layout": "IPY_MODEL_e2e45e11df6c4b9b80ad66f0d1a4c583"
          }
        },
        "dd4a94645b384ce5b16464a463abbb79": {
          "model_module": "@jupyter-widgets/controls",
          "model_name": "FloatSliderModel",
          "state": {
            "_view_name": "FloatSliderView",
            "style": "IPY_MODEL_ebc2189a3b924b00925563c1d96d453f",
            "_dom_classes": [],
            "description": " b[x] :",
            "step": 0.1,
            "_model_name": "FloatSliderModel",
            "orientation": "horizontal",
            "max": 8,
            "_view_module": "@jupyter-widgets/controls",
            "_model_module_version": "1.5.0",
            "value": 3,
            "_view_count": null,
            "disabled": false,
            "_view_module_version": "1.5.0",
            "min": -8,
            "continuous_update": true,
            "readout_format": ".2f",
            "description_tooltip": null,
            "readout": true,
            "_model_module": "@jupyter-widgets/controls",
            "layout": "IPY_MODEL_cf40eec12e0147d69b14a6c08b98d168"
          }
        },
        "a687918addd54d24addf6fcb6e2f794c": {
          "model_module": "@jupyter-widgets/controls",
          "model_name": "SliderStyleModel",
          "state": {
            "_view_name": "StyleView",
            "handle_color": null,
            "_model_name": "SliderStyleModel",
            "description_width": "",
            "_view_module": "@jupyter-widgets/base",
            "_model_module_version": "1.5.0",
            "_view_count": null,
            "_view_module_version": "1.2.0",
            "_model_module": "@jupyter-widgets/controls"
          }
        },
        "e2e45e11df6c4b9b80ad66f0d1a4c583": {
          "model_module": "@jupyter-widgets/base",
          "model_name": "LayoutModel",
          "state": {
            "_view_name": "LayoutView",
            "grid_template_rows": null,
            "right": null,
            "justify_content": null,
            "_view_module": "@jupyter-widgets/base",
            "overflow": null,
            "_model_module_version": "1.2.0",
            "_view_count": null,
            "flex_flow": null,
            "width": null,
            "min_width": null,
            "border": null,
            "align_items": null,
            "bottom": null,
            "_model_module": "@jupyter-widgets/base",
            "top": null,
            "grid_column": null,
            "overflow_y": null,
            "overflow_x": null,
            "grid_auto_flow": null,
            "grid_area": null,
            "grid_template_columns": null,
            "flex": null,
            "_model_name": "LayoutModel",
            "justify_items": null,
            "grid_row": null,
            "max_height": null,
            "align_content": null,
            "visibility": null,
            "align_self": null,
            "height": null,
            "min_height": null,
            "padding": null,
            "grid_auto_rows": null,
            "grid_gap": null,
            "max_width": null,
            "order": null,
            "_view_module_version": "1.2.0",
            "grid_template_areas": null,
            "object_position": null,
            "object_fit": null,
            "grid_auto_columns": null,
            "margin": null,
            "display": null,
            "left": null
          }
        },
        "ebc2189a3b924b00925563c1d96d453f": {
          "model_module": "@jupyter-widgets/controls",
          "model_name": "SliderStyleModel",
          "state": {
            "_view_name": "StyleView",
            "handle_color": null,
            "_model_name": "SliderStyleModel",
            "description_width": "",
            "_view_module": "@jupyter-widgets/base",
            "_model_module_version": "1.5.0",
            "_view_count": null,
            "_view_module_version": "1.2.0",
            "_model_module": "@jupyter-widgets/controls"
          }
        },
        "cf40eec12e0147d69b14a6c08b98d168": {
          "model_module": "@jupyter-widgets/base",
          "model_name": "LayoutModel",
          "state": {
            "_view_name": "LayoutView",
            "grid_template_rows": null,
            "right": null,
            "justify_content": null,
            "_view_module": "@jupyter-widgets/base",
            "overflow": null,
            "_model_module_version": "1.2.0",
            "_view_count": null,
            "flex_flow": null,
            "width": null,
            "min_width": null,
            "border": null,
            "align_items": null,
            "bottom": null,
            "_model_module": "@jupyter-widgets/base",
            "top": null,
            "grid_column": null,
            "overflow_y": null,
            "overflow_x": null,
            "grid_auto_flow": null,
            "grid_area": null,
            "grid_template_columns": null,
            "flex": null,
            "_model_name": "LayoutModel",
            "justify_items": null,
            "grid_row": null,
            "max_height": null,
            "align_content": null,
            "visibility": null,
            "align_self": null,
            "height": null,
            "min_height": null,
            "padding": null,
            "grid_auto_rows": null,
            "grid_gap": null,
            "max_width": null,
            "order": null,
            "_view_module_version": "1.2.0",
            "grid_template_areas": null,
            "object_position": null,
            "object_fit": null,
            "grid_auto_columns": null,
            "margin": null,
            "display": null,
            "left": null
          }
        },
        "a968cce00af84277a4361cdfbf760d1e": {
          "model_module": "@jupyter-widgets/controls",
          "model_name": "HBoxModel",
          "state": {
            "_view_name": "HBoxView",
            "_dom_classes": [],
            "_model_name": "HBoxModel",
            "_view_module": "@jupyter-widgets/controls",
            "_model_module_version": "1.5.0",
            "_view_count": null,
            "_view_module_version": "1.5.0",
            "box_style": "",
            "layout": "IPY_MODEL_24a22b8ebe664a2da8409fffa88abf4e",
            "_model_module": "@jupyter-widgets/controls",
            "children": [
              "IPY_MODEL_303e92f8c8eb4852938c1d60d3d09803",
              "IPY_MODEL_9b224fb81e3d43c198fcbebcbadf6f0c"
            ]
          }
        },
        "24a22b8ebe664a2da8409fffa88abf4e": {
          "model_module": "@jupyter-widgets/base",
          "model_name": "LayoutModel",
          "state": {
            "_view_name": "LayoutView",
            "grid_template_rows": null,
            "right": null,
            "justify_content": null,
            "_view_module": "@jupyter-widgets/base",
            "overflow": null,
            "_model_module_version": "1.2.0",
            "_view_count": null,
            "flex_flow": null,
            "width": null,
            "min_width": null,
            "border": null,
            "align_items": null,
            "bottom": null,
            "_model_module": "@jupyter-widgets/base",
            "top": null,
            "grid_column": null,
            "overflow_y": null,
            "overflow_x": null,
            "grid_auto_flow": null,
            "grid_area": null,
            "grid_template_columns": null,
            "flex": null,
            "_model_name": "LayoutModel",
            "justify_items": null,
            "grid_row": null,
            "max_height": null,
            "align_content": null,
            "visibility": null,
            "align_self": null,
            "height": null,
            "min_height": null,
            "padding": null,
            "grid_auto_rows": null,
            "grid_gap": null,
            "max_width": null,
            "order": null,
            "_view_module_version": "1.2.0",
            "grid_template_areas": null,
            "object_position": null,
            "object_fit": null,
            "grid_auto_columns": null,
            "margin": null,
            "display": null,
            "left": null
          }
        },
        "303e92f8c8eb4852938c1d60d3d09803": {
          "model_module": "@jupyter-widgets/controls",
          "model_name": "FloatSliderModel",
          "state": {
            "_view_name": "FloatSliderView",
            "style": "IPY_MODEL_c8c7cdc186634bfbb792f9b599057303",
            "_dom_classes": [],
            "description": " a[y] :",
            "step": 0.1,
            "_model_name": "FloatSliderModel",
            "orientation": "horizontal",
            "max": 8,
            "_view_module": "@jupyter-widgets/controls",
            "_model_module_version": "1.5.0",
            "value": 5,
            "_view_count": null,
            "disabled": false,
            "_view_module_version": "1.5.0",
            "min": -8,
            "continuous_update": true,
            "readout_format": ".2f",
            "description_tooltip": null,
            "readout": true,
            "_model_module": "@jupyter-widgets/controls",
            "layout": "IPY_MODEL_7323fa54e37c44d587d2a81afd4812c1"
          }
        },
        "9b224fb81e3d43c198fcbebcbadf6f0c": {
          "model_module": "@jupyter-widgets/controls",
          "model_name": "FloatSliderModel",
          "state": {
            "_view_name": "FloatSliderView",
            "style": "IPY_MODEL_42e5a630448b4f5dae0d966437f073b8",
            "_dom_classes": [],
            "description": " b[y] :",
            "step": 0.1,
            "_model_name": "FloatSliderModel",
            "orientation": "horizontal",
            "max": 8,
            "_view_module": "@jupyter-widgets/controls",
            "_model_module_version": "1.5.0",
            "value": 1,
            "_view_count": null,
            "disabled": false,
            "_view_module_version": "1.5.0",
            "min": -8,
            "continuous_update": true,
            "readout_format": ".2f",
            "description_tooltip": null,
            "readout": true,
            "_model_module": "@jupyter-widgets/controls",
            "layout": "IPY_MODEL_18a4c1916bab4675bb8868556fcb7cdd"
          }
        },
        "c8c7cdc186634bfbb792f9b599057303": {
          "model_module": "@jupyter-widgets/controls",
          "model_name": "SliderStyleModel",
          "state": {
            "_view_name": "StyleView",
            "handle_color": null,
            "_model_name": "SliderStyleModel",
            "description_width": "",
            "_view_module": "@jupyter-widgets/base",
            "_model_module_version": "1.5.0",
            "_view_count": null,
            "_view_module_version": "1.2.0",
            "_model_module": "@jupyter-widgets/controls"
          }
        },
        "7323fa54e37c44d587d2a81afd4812c1": {
          "model_module": "@jupyter-widgets/base",
          "model_name": "LayoutModel",
          "state": {
            "_view_name": "LayoutView",
            "grid_template_rows": null,
            "right": null,
            "justify_content": null,
            "_view_module": "@jupyter-widgets/base",
            "overflow": null,
            "_model_module_version": "1.2.0",
            "_view_count": null,
            "flex_flow": null,
            "width": null,
            "min_width": null,
            "border": null,
            "align_items": null,
            "bottom": null,
            "_model_module": "@jupyter-widgets/base",
            "top": null,
            "grid_column": null,
            "overflow_y": null,
            "overflow_x": null,
            "grid_auto_flow": null,
            "grid_area": null,
            "grid_template_columns": null,
            "flex": null,
            "_model_name": "LayoutModel",
            "justify_items": null,
            "grid_row": null,
            "max_height": null,
            "align_content": null,
            "visibility": null,
            "align_self": null,
            "height": null,
            "min_height": null,
            "padding": null,
            "grid_auto_rows": null,
            "grid_gap": null,
            "max_width": null,
            "order": null,
            "_view_module_version": "1.2.0",
            "grid_template_areas": null,
            "object_position": null,
            "object_fit": null,
            "grid_auto_columns": null,
            "margin": null,
            "display": null,
            "left": null
          }
        },
        "42e5a630448b4f5dae0d966437f073b8": {
          "model_module": "@jupyter-widgets/controls",
          "model_name": "SliderStyleModel",
          "state": {
            "_view_name": "StyleView",
            "handle_color": null,
            "_model_name": "SliderStyleModel",
            "description_width": "",
            "_view_module": "@jupyter-widgets/base",
            "_model_module_version": "1.5.0",
            "_view_count": null,
            "_view_module_version": "1.2.0",
            "_model_module": "@jupyter-widgets/controls"
          }
        },
        "18a4c1916bab4675bb8868556fcb7cdd": {
          "model_module": "@jupyter-widgets/base",
          "model_name": "LayoutModel",
          "state": {
            "_view_name": "LayoutView",
            "grid_template_rows": null,
            "right": null,
            "justify_content": null,
            "_view_module": "@jupyter-widgets/base",
            "overflow": null,
            "_model_module_version": "1.2.0",
            "_view_count": null,
            "flex_flow": null,
            "width": null,
            "min_width": null,
            "border": null,
            "align_items": null,
            "bottom": null,
            "_model_module": "@jupyter-widgets/base",
            "top": null,
            "grid_column": null,
            "overflow_y": null,
            "overflow_x": null,
            "grid_auto_flow": null,
            "grid_area": null,
            "grid_template_columns": null,
            "flex": null,
            "_model_name": "LayoutModel",
            "justify_items": null,
            "grid_row": null,
            "max_height": null,
            "align_content": null,
            "visibility": null,
            "align_self": null,
            "height": null,
            "min_height": null,
            "padding": null,
            "grid_auto_rows": null,
            "grid_gap": null,
            "max_width": null,
            "order": null,
            "_view_module_version": "1.2.0",
            "grid_template_areas": null,
            "object_position": null,
            "object_fit": null,
            "grid_auto_columns": null,
            "margin": null,
            "display": null,
            "left": null
          }
        },
        "86c7af64b920432182988d7ffa655a95": {
          "model_module": "@jupyter-widgets/controls",
          "model_name": "HBoxModel",
          "state": {
            "_view_name": "HBoxView",
            "_dom_classes": [],
            "_model_name": "HBoxModel",
            "_view_module": "@jupyter-widgets/controls",
            "_model_module_version": "1.5.0",
            "_view_count": null,
            "_view_module_version": "1.5.0",
            "box_style": "",
            "layout": "IPY_MODEL_df3e7b9dc2d74db18d054d3057f30d45",
            "_model_module": "@jupyter-widgets/controls",
            "children": [
              "IPY_MODEL_a89e67925d8b459fa4ba0aabba8da216",
              "IPY_MODEL_02f7c3eae5db423bb70d24f7d511d5fa"
            ]
          }
        },
        "df3e7b9dc2d74db18d054d3057f30d45": {
          "model_module": "@jupyter-widgets/base",
          "model_name": "LayoutModel",
          "state": {
            "_view_name": "LayoutView",
            "grid_template_rows": null,
            "right": null,
            "justify_content": null,
            "_view_module": "@jupyter-widgets/base",
            "overflow": null,
            "_model_module_version": "1.2.0",
            "_view_count": null,
            "flex_flow": null,
            "width": null,
            "min_width": null,
            "border": null,
            "align_items": null,
            "bottom": null,
            "_model_module": "@jupyter-widgets/base",
            "top": null,
            "grid_column": null,
            "overflow_y": null,
            "overflow_x": null,
            "grid_auto_flow": null,
            "grid_area": null,
            "grid_template_columns": null,
            "flex": null,
            "_model_name": "LayoutModel",
            "justify_items": null,
            "grid_row": null,
            "max_height": null,
            "align_content": null,
            "visibility": null,
            "align_self": null,
            "height": null,
            "min_height": null,
            "padding": null,
            "grid_auto_rows": null,
            "grid_gap": null,
            "max_width": null,
            "order": null,
            "_view_module_version": "1.2.0",
            "grid_template_areas": null,
            "object_position": null,
            "object_fit": null,
            "grid_auto_columns": null,
            "margin": null,
            "display": null,
            "left": null
          }
        },
        "a89e67925d8b459fa4ba0aabba8da216": {
          "model_module": "@jupyter-widgets/controls",
          "model_name": "FloatSliderModel",
          "state": {
            "_view_name": "FloatSliderView",
            "style": "IPY_MODEL_b9c526717d0f4d6ca57935245918b6d7",
            "_dom_classes": [],
            "description": "  scaler a :",
            "step": 0.1,
            "_model_name": "FloatSliderModel",
            "orientation": "horizontal",
            "max": 3,
            "_view_module": "@jupyter-widgets/controls",
            "_model_module_version": "1.5.0",
            "value": 1.3,
            "_view_count": null,
            "disabled": false,
            "_view_module_version": "1.5.0",
            "min": -3,
            "continuous_update": true,
            "readout_format": ".2f",
            "description_tooltip": null,
            "readout": true,
            "_model_module": "@jupyter-widgets/controls",
            "layout": "IPY_MODEL_14323f5374904d68a3227fada909bcc4"
          }
        },
        "02f7c3eae5db423bb70d24f7d511d5fa": {
          "model_module": "@jupyter-widgets/controls",
          "model_name": "FloatSliderModel",
          "state": {
            "_view_name": "FloatSliderView",
            "style": "IPY_MODEL_03d099ec282a435aafff8978861e218b",
            "_dom_classes": [],
            "description": "  scaler b :",
            "step": 0.1,
            "_model_name": "FloatSliderModel",
            "orientation": "horizontal",
            "max": 3,
            "_view_module": "@jupyter-widgets/controls",
            "_model_module_version": "1.5.0",
            "value": 1,
            "_view_count": null,
            "disabled": false,
            "_view_module_version": "1.5.0",
            "min": -3,
            "continuous_update": true,
            "readout_format": ".2f",
            "description_tooltip": null,
            "readout": true,
            "_model_module": "@jupyter-widgets/controls",
            "layout": "IPY_MODEL_d0fca5b2caac4f8486a0a9f18464b2c6"
          }
        },
        "b9c526717d0f4d6ca57935245918b6d7": {
          "model_module": "@jupyter-widgets/controls",
          "model_name": "SliderStyleModel",
          "state": {
            "_view_name": "StyleView",
            "handle_color": null,
            "_model_name": "SliderStyleModel",
            "description_width": "",
            "_view_module": "@jupyter-widgets/base",
            "_model_module_version": "1.5.0",
            "_view_count": null,
            "_view_module_version": "1.2.0",
            "_model_module": "@jupyter-widgets/controls"
          }
        },
        "14323f5374904d68a3227fada909bcc4": {
          "model_module": "@jupyter-widgets/base",
          "model_name": "LayoutModel",
          "state": {
            "_view_name": "LayoutView",
            "grid_template_rows": null,
            "right": null,
            "justify_content": null,
            "_view_module": "@jupyter-widgets/base",
            "overflow": null,
            "_model_module_version": "1.2.0",
            "_view_count": null,
            "flex_flow": null,
            "width": null,
            "min_width": null,
            "border": null,
            "align_items": null,
            "bottom": null,
            "_model_module": "@jupyter-widgets/base",
            "top": null,
            "grid_column": null,
            "overflow_y": null,
            "overflow_x": null,
            "grid_auto_flow": null,
            "grid_area": null,
            "grid_template_columns": null,
            "flex": null,
            "_model_name": "LayoutModel",
            "justify_items": null,
            "grid_row": null,
            "max_height": null,
            "align_content": null,
            "visibility": null,
            "align_self": null,
            "height": null,
            "min_height": null,
            "padding": null,
            "grid_auto_rows": null,
            "grid_gap": null,
            "max_width": null,
            "order": null,
            "_view_module_version": "1.2.0",
            "grid_template_areas": null,
            "object_position": null,
            "object_fit": null,
            "grid_auto_columns": null,
            "margin": null,
            "display": null,
            "left": null
          }
        },
        "03d099ec282a435aafff8978861e218b": {
          "model_module": "@jupyter-widgets/controls",
          "model_name": "SliderStyleModel",
          "state": {
            "_view_name": "StyleView",
            "handle_color": null,
            "_model_name": "SliderStyleModel",
            "description_width": "",
            "_view_module": "@jupyter-widgets/base",
            "_model_module_version": "1.5.0",
            "_view_count": null,
            "_view_module_version": "1.2.0",
            "_model_module": "@jupyter-widgets/controls"
          }
        },
        "d0fca5b2caac4f8486a0a9f18464b2c6": {
          "model_module": "@jupyter-widgets/base",
          "model_name": "LayoutModel",
          "state": {
            "_view_name": "LayoutView",
            "grid_template_rows": null,
            "right": null,
            "justify_content": null,
            "_view_module": "@jupyter-widgets/base",
            "overflow": null,
            "_model_module_version": "1.2.0",
            "_view_count": null,
            "flex_flow": null,
            "width": null,
            "min_width": null,
            "border": null,
            "align_items": null,
            "bottom": null,
            "_model_module": "@jupyter-widgets/base",
            "top": null,
            "grid_column": null,
            "overflow_y": null,
            "overflow_x": null,
            "grid_auto_flow": null,
            "grid_area": null,
            "grid_template_columns": null,
            "flex": null,
            "_model_name": "LayoutModel",
            "justify_items": null,
            "grid_row": null,
            "max_height": null,
            "align_content": null,
            "visibility": null,
            "align_self": null,
            "height": null,
            "min_height": null,
            "padding": null,
            "grid_auto_rows": null,
            "grid_gap": null,
            "max_width": null,
            "order": null,
            "_view_module_version": "1.2.0",
            "grid_template_areas": null,
            "object_position": null,
            "object_fit": null,
            "grid_auto_columns": null,
            "margin": null,
            "display": null,
            "left": null
          }
        },
        "a4f820d372034c869fbcc0b8db9f84a9": {
          "model_module": "@jupyter-widgets/output",
          "model_name": "OutputModel",
          "state": {
            "_view_name": "OutputView",
            "msg_id": "",
            "_dom_classes": [],
            "_model_name": "OutputModel",
            "outputs": [
              {
                "output_type": "display_data",
                "metadata": {
                  "tags": [],
                  "needs_background": "light"
                },
                "image/png": "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\n",
                "text/plain": "<Figure size 576x576 with 1 Axes>"
              }
            ],
            "_view_module": "@jupyter-widgets/output",
            "_model_module_version": "1.0.0",
            "_view_count": null,
            "_view_module_version": "1.0.0",
            "layout": "IPY_MODEL_0ba48ad12e694048b124ed943dfd46d7",
            "_model_module": "@jupyter-widgets/output"
          }
        },
        "0ba48ad12e694048b124ed943dfd46d7": {
          "model_module": "@jupyter-widgets/base",
          "model_name": "LayoutModel",
          "state": {
            "_view_name": "LayoutView",
            "grid_template_rows": null,
            "right": null,
            "justify_content": null,
            "_view_module": "@jupyter-widgets/base",
            "overflow": null,
            "_model_module_version": "1.2.0",
            "_view_count": null,
            "flex_flow": null,
            "width": null,
            "min_width": null,
            "border": null,
            "align_items": null,
            "bottom": null,
            "_model_module": "@jupyter-widgets/base",
            "top": null,
            "grid_column": null,
            "overflow_y": null,
            "overflow_x": null,
            "grid_auto_flow": null,
            "grid_area": null,
            "grid_template_columns": null,
            "flex": null,
            "_model_name": "LayoutModel",
            "justify_items": null,
            "grid_row": null,
            "max_height": null,
            "align_content": null,
            "visibility": null,
            "align_self": null,
            "height": null,
            "min_height": null,
            "padding": null,
            "grid_auto_rows": null,
            "grid_gap": null,
            "max_width": null,
            "order": null,
            "_view_module_version": "1.2.0",
            "grid_template_areas": null,
            "object_position": null,
            "object_fit": null,
            "grid_auto_columns": null,
            "margin": null,
            "display": null,
            "left": null
          }
        },
        "056a28939913482e9826008ea5dcce85": {
          "model_module": "@jupyter-widgets/controls",
          "model_name": "HBoxModel",
          "state": {
            "_view_name": "HBoxView",
            "_dom_classes": [],
            "_model_name": "HBoxModel",
            "_view_module": "@jupyter-widgets/controls",
            "_model_module_version": "1.5.0",
            "_view_count": null,
            "_view_module_version": "1.5.0",
            "box_style": "",
            "layout": "IPY_MODEL_1706baab806f4c3493a6a967d80d972e",
            "_model_module": "@jupyter-widgets/controls",
            "children": [
              "IPY_MODEL_fc11d7cd4642459789e043a6c88ec4d9",
              "IPY_MODEL_d6e6ebd7f983448a9916adb8dcc09139"
            ]
          }
        },
        "1706baab806f4c3493a6a967d80d972e": {
          "model_module": "@jupyter-widgets/base",
          "model_name": "LayoutModel",
          "state": {
            "_view_name": "LayoutView",
            "grid_template_rows": null,
            "right": null,
            "justify_content": null,
            "_view_module": "@jupyter-widgets/base",
            "overflow": null,
            "_model_module_version": "1.2.0",
            "_view_count": null,
            "flex_flow": null,
            "width": null,
            "min_width": null,
            "border": null,
            "align_items": null,
            "bottom": null,
            "_model_module": "@jupyter-widgets/base",
            "top": null,
            "grid_column": null,
            "overflow_y": null,
            "overflow_x": null,
            "grid_auto_flow": null,
            "grid_area": null,
            "grid_template_columns": null,
            "flex": null,
            "_model_name": "LayoutModel",
            "justify_items": null,
            "grid_row": null,
            "max_height": null,
            "align_content": null,
            "visibility": null,
            "align_self": null,
            "height": null,
            "min_height": null,
            "padding": null,
            "grid_auto_rows": null,
            "grid_gap": null,
            "max_width": null,
            "order": null,
            "_view_module_version": "1.2.0",
            "grid_template_areas": null,
            "object_position": null,
            "object_fit": null,
            "grid_auto_columns": null,
            "margin": null,
            "display": null,
            "left": null
          }
        },
        "fc11d7cd4642459789e043a6c88ec4d9": {
          "model_module": "@jupyter-widgets/controls",
          "model_name": "FloatSliderModel",
          "state": {
            "_view_name": "FloatSliderView",
            "style": "IPY_MODEL_79dec00dcbba44edb30ac31dfbc0618c",
            "_dom_classes": [],
            "description": " vector[x] :",
            "step": 0.1,
            "_model_name": "FloatSliderModel",
            "orientation": "horizontal",
            "max": 8,
            "_view_module": "@jupyter-widgets/controls",
            "_model_module_version": "1.5.0",
            "value": 2,
            "_view_count": null,
            "disabled": false,
            "_view_module_version": "1.5.0",
            "min": -8,
            "continuous_update": true,
            "readout_format": ".2f",
            "description_tooltip": null,
            "readout": true,
            "_model_module": "@jupyter-widgets/controls",
            "layout": "IPY_MODEL_55e4ec42986c44f589913b5b1d275165"
          }
        },
        "d6e6ebd7f983448a9916adb8dcc09139": {
          "model_module": "@jupyter-widgets/controls",
          "model_name": "FloatSliderModel",
          "state": {
            "_view_name": "FloatSliderView",
            "style": "IPY_MODEL_6ee1e97f79594a31b1ce5b6844c25541",
            "_dom_classes": [],
            "description": " vector[y] :",
            "step": 0.1,
            "_model_name": "FloatSliderModel",
            "orientation": "horizontal",
            "max": 8,
            "_view_module": "@jupyter-widgets/controls",
            "_model_module_version": "1.5.0",
            "value": 5,
            "_view_count": null,
            "disabled": false,
            "_view_module_version": "1.5.0",
            "min": -8,
            "continuous_update": true,
            "readout_format": ".2f",
            "description_tooltip": null,
            "readout": true,
            "_model_module": "@jupyter-widgets/controls",
            "layout": "IPY_MODEL_003e11345725428384fefd70d132d858"
          }
        },
        "79dec00dcbba44edb30ac31dfbc0618c": {
          "model_module": "@jupyter-widgets/controls",
          "model_name": "SliderStyleModel",
          "state": {
            "_view_name": "StyleView",
            "handle_color": null,
            "_model_name": "SliderStyleModel",
            "description_width": "",
            "_view_module": "@jupyter-widgets/base",
            "_model_module_version": "1.5.0",
            "_view_count": null,
            "_view_module_version": "1.2.0",
            "_model_module": "@jupyter-widgets/controls"
          }
        },
        "55e4ec42986c44f589913b5b1d275165": {
          "model_module": "@jupyter-widgets/base",
          "model_name": "LayoutModel",
          "state": {
            "_view_name": "LayoutView",
            "grid_template_rows": null,
            "right": null,
            "justify_content": null,
            "_view_module": "@jupyter-widgets/base",
            "overflow": null,
            "_model_module_version": "1.2.0",
            "_view_count": null,
            "flex_flow": null,
            "width": null,
            "min_width": null,
            "border": null,
            "align_items": null,
            "bottom": null,
            "_model_module": "@jupyter-widgets/base",
            "top": null,
            "grid_column": null,
            "overflow_y": null,
            "overflow_x": null,
            "grid_auto_flow": null,
            "grid_area": null,
            "grid_template_columns": null,
            "flex": null,
            "_model_name": "LayoutModel",
            "justify_items": null,
            "grid_row": null,
            "max_height": null,
            "align_content": null,
            "visibility": null,
            "align_self": null,
            "height": null,
            "min_height": null,
            "padding": null,
            "grid_auto_rows": null,
            "grid_gap": null,
            "max_width": null,
            "order": null,
            "_view_module_version": "1.2.0",
            "grid_template_areas": null,
            "object_position": null,
            "object_fit": null,
            "grid_auto_columns": null,
            "margin": null,
            "display": null,
            "left": null
          }
        },
        "6ee1e97f79594a31b1ce5b6844c25541": {
          "model_module": "@jupyter-widgets/controls",
          "model_name": "SliderStyleModel",
          "state": {
            "_view_name": "StyleView",
            "handle_color": null,
            "_model_name": "SliderStyleModel",
            "description_width": "",
            "_view_module": "@jupyter-widgets/base",
            "_model_module_version": "1.5.0",
            "_view_count": null,
            "_view_module_version": "1.2.0",
            "_model_module": "@jupyter-widgets/controls"
          }
        },
        "003e11345725428384fefd70d132d858": {
          "model_module": "@jupyter-widgets/base",
          "model_name": "LayoutModel",
          "state": {
            "_view_name": "LayoutView",
            "grid_template_rows": null,
            "right": null,
            "justify_content": null,
            "_view_module": "@jupyter-widgets/base",
            "overflow": null,
            "_model_module_version": "1.2.0",
            "_view_count": null,
            "flex_flow": null,
            "width": null,
            "min_width": null,
            "border": null,
            "align_items": null,
            "bottom": null,
            "_model_module": "@jupyter-widgets/base",
            "top": null,
            "grid_column": null,
            "overflow_y": null,
            "overflow_x": null,
            "grid_auto_flow": null,
            "grid_area": null,
            "grid_template_columns": null,
            "flex": null,
            "_model_name": "LayoutModel",
            "justify_items": null,
            "grid_row": null,
            "max_height": null,
            "align_content": null,
            "visibility": null,
            "align_self": null,
            "height": null,
            "min_height": null,
            "padding": null,
            "grid_auto_rows": null,
            "grid_gap": null,
            "max_width": null,
            "order": null,
            "_view_module_version": "1.2.0",
            "grid_template_areas": null,
            "object_position": null,
            "object_fit": null,
            "grid_auto_columns": null,
            "margin": null,
            "display": null,
            "left": null
          }
        },
        "fcb5a50e64bb4fc18e45589a7f4f6b30": {
          "model_module": "@jupyter-widgets/controls",
          "model_name": "HBoxModel",
          "state": {
            "_view_name": "HBoxView",
            "_dom_classes": [],
            "_model_name": "HBoxModel",
            "_view_module": "@jupyter-widgets/controls",
            "_model_module_version": "1.5.0",
            "_view_count": null,
            "_view_module_version": "1.5.0",
            "box_style": "",
            "layout": "IPY_MODEL_bcc5978e9d834e019a9d33d064f1a32e",
            "_model_module": "@jupyter-widgets/controls",
            "children": [
              "IPY_MODEL_de33e06ae2894596bab18bb60b3dd874",
              "IPY_MODEL_bdf2c356f920489abe09678aeeaee254"
            ]
          }
        },
        "bcc5978e9d834e019a9d33d064f1a32e": {
          "model_module": "@jupyter-widgets/base",
          "model_name": "LayoutModel",
          "state": {
            "_view_name": "LayoutView",
            "grid_template_rows": null,
            "right": null,
            "justify_content": null,
            "_view_module": "@jupyter-widgets/base",
            "overflow": null,
            "_model_module_version": "1.2.0",
            "_view_count": null,
            "flex_flow": null,
            "width": null,
            "min_width": null,
            "border": null,
            "align_items": null,
            "bottom": null,
            "_model_module": "@jupyter-widgets/base",
            "top": null,
            "grid_column": null,
            "overflow_y": null,
            "overflow_x": null,
            "grid_auto_flow": null,
            "grid_area": null,
            "grid_template_columns": null,
            "flex": null,
            "_model_name": "LayoutModel",
            "justify_items": null,
            "grid_row": null,
            "max_height": null,
            "align_content": null,
            "visibility": null,
            "align_self": null,
            "height": null,
            "min_height": null,
            "padding": null,
            "grid_auto_rows": null,
            "grid_gap": null,
            "max_width": null,
            "order": null,
            "_view_module_version": "1.2.0",
            "grid_template_areas": null,
            "object_position": null,
            "object_fit": null,
            "grid_auto_columns": null,
            "margin": null,
            "display": null,
            "left": null
          }
        },
        "de33e06ae2894596bab18bb60b3dd874": {
          "model_module": "@jupyter-widgets/controls",
          "model_name": "FloatSliderModel",
          "state": {
            "_view_name": "FloatSliderView",
            "style": "IPY_MODEL_df72087785e84024b686125023fcb3b4",
            "_dom_classes": [],
            "description": " matrix[x] :",
            "step": 0.1,
            "_model_name": "FloatSliderModel",
            "orientation": "horizontal",
            "max": 3,
            "_view_module": "@jupyter-widgets/controls",
            "_model_module_version": "1.5.0",
            "value": -1,
            "_view_count": null,
            "disabled": false,
            "_view_module_version": "1.5.0",
            "min": -3,
            "continuous_update": true,
            "readout_format": ".2f",
            "description_tooltip": null,
            "readout": true,
            "_model_module": "@jupyter-widgets/controls",
            "layout": "IPY_MODEL_93e377a33738486197f0661b07715c8b"
          }
        },
        "bdf2c356f920489abe09678aeeaee254": {
          "model_module": "@jupyter-widgets/controls",
          "model_name": "FloatSliderModel",
          "state": {
            "_view_name": "FloatSliderView",
            "style": "IPY_MODEL_a25b95f4bbd1482496e7162f5fa5c579",
            "_dom_classes": [],
            "description": " matrix[y] :",
            "step": 0.1,
            "_model_name": "FloatSliderModel",
            "orientation": "horizontal",
            "max": 3,
            "_view_module": "@jupyter-widgets/controls",
            "_model_module_version": "1.5.0",
            "value": -1,
            "_view_count": null,
            "disabled": false,
            "_view_module_version": "1.5.0",
            "min": -3,
            "continuous_update": true,
            "readout_format": ".2f",
            "description_tooltip": null,
            "readout": true,
            "_model_module": "@jupyter-widgets/controls",
            "layout": "IPY_MODEL_0ba44a1047d14f0f81cff0acaaadd9c5"
          }
        },
        "df72087785e84024b686125023fcb3b4": {
          "model_module": "@jupyter-widgets/controls",
          "model_name": "SliderStyleModel",
          "state": {
            "_view_name": "StyleView",
            "handle_color": null,
            "_model_name": "SliderStyleModel",
            "description_width": "",
            "_view_module": "@jupyter-widgets/base",
            "_model_module_version": "1.5.0",
            "_view_count": null,
            "_view_module_version": "1.2.0",
            "_model_module": "@jupyter-widgets/controls"
          }
        },
        "93e377a33738486197f0661b07715c8b": {
          "model_module": "@jupyter-widgets/base",
          "model_name": "LayoutModel",
          "state": {
            "_view_name": "LayoutView",
            "grid_template_rows": null,
            "right": null,
            "justify_content": null,
            "_view_module": "@jupyter-widgets/base",
            "overflow": null,
            "_model_module_version": "1.2.0",
            "_view_count": null,
            "flex_flow": null,
            "width": null,
            "min_width": null,
            "border": null,
            "align_items": null,
            "bottom": null,
            "_model_module": "@jupyter-widgets/base",
            "top": null,
            "grid_column": null,
            "overflow_y": null,
            "overflow_x": null,
            "grid_auto_flow": null,
            "grid_area": null,
            "grid_template_columns": null,
            "flex": null,
            "_model_name": "LayoutModel",
            "justify_items": null,
            "grid_row": null,
            "max_height": null,
            "align_content": null,
            "visibility": null,
            "align_self": null,
            "height": null,
            "min_height": null,
            "padding": null,
            "grid_auto_rows": null,
            "grid_gap": null,
            "max_width": null,
            "order": null,
            "_view_module_version": "1.2.0",
            "grid_template_areas": null,
            "object_position": null,
            "object_fit": null,
            "grid_auto_columns": null,
            "margin": null,
            "display": null,
            "left": null
          }
        },
        "a25b95f4bbd1482496e7162f5fa5c579": {
          "model_module": "@jupyter-widgets/controls",
          "model_name": "SliderStyleModel",
          "state": {
            "_view_name": "StyleView",
            "handle_color": null,
            "_model_name": "SliderStyleModel",
            "description_width": "",
            "_view_module": "@jupyter-widgets/base",
            "_model_module_version": "1.5.0",
            "_view_count": null,
            "_view_module_version": "1.2.0",
            "_model_module": "@jupyter-widgets/controls"
          }
        },
        "0ba44a1047d14f0f81cff0acaaadd9c5": {
          "model_module": "@jupyter-widgets/base",
          "model_name": "LayoutModel",
          "state": {
            "_view_name": "LayoutView",
            "grid_template_rows": null,
            "right": null,
            "justify_content": null,
            "_view_module": "@jupyter-widgets/base",
            "overflow": null,
            "_model_module_version": "1.2.0",
            "_view_count": null,
            "flex_flow": null,
            "width": null,
            "min_width": null,
            "border": null,
            "align_items": null,
            "bottom": null,
            "_model_module": "@jupyter-widgets/base",
            "top": null,
            "grid_column": null,
            "overflow_y": null,
            "overflow_x": null,
            "grid_auto_flow": null,
            "grid_area": null,
            "grid_template_columns": null,
            "flex": null,
            "_model_name": "LayoutModel",
            "justify_items": null,
            "grid_row": null,
            "max_height": null,
            "align_content": null,
            "visibility": null,
            "align_self": null,
            "height": null,
            "min_height": null,
            "padding": null,
            "grid_auto_rows": null,
            "grid_gap": null,
            "max_width": null,
            "order": null,
            "_view_module_version": "1.2.0",
            "grid_template_areas": null,
            "object_position": null,
            "object_fit": null,
            "grid_auto_columns": null,
            "margin": null,
            "display": null,
            "left": null
          }
        },
        "2b8350cf409448d58680dfb1255ee044": {
          "model_module": "@jupyter-widgets/output",
          "model_name": "OutputModel",
          "state": {
            "_view_name": "OutputView",
            "msg_id": "",
            "_dom_classes": [],
            "_model_name": "OutputModel",
            "outputs": [
              {
                "output_type": "stream",
                "metadata": {
                  "tags": []
                },
                "text": "original vector :  [2. 5.]\noriginal matrix :  [-1. -1.]\nresult   vector :  [-2. -5.]\n",
                "stream": "stdout"
              },
              {
                "output_type": "display_data",
                "metadata": {
                  "tags": [],
                  "needs_background": "light"
                },
                "image/png": "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\n",
                "text/plain": "<Figure size 576x576 with 1 Axes>"
              }
            ],
            "_view_module": "@jupyter-widgets/output",
            "_model_module_version": "1.0.0",
            "_view_count": null,
            "_view_module_version": "1.0.0",
            "layout": "IPY_MODEL_9b83b912d16b4fd6a7e463c150991207",
            "_model_module": "@jupyter-widgets/output"
          }
        },
        "9b83b912d16b4fd6a7e463c150991207": {
          "model_module": "@jupyter-widgets/base",
          "model_name": "LayoutModel",
          "state": {
            "_view_name": "LayoutView",
            "grid_template_rows": null,
            "right": null,
            "justify_content": null,
            "_view_module": "@jupyter-widgets/base",
            "overflow": null,
            "_model_module_version": "1.2.0",
            "_view_count": null,
            "flex_flow": null,
            "width": null,
            "min_width": null,
            "border": null,
            "align_items": null,
            "bottom": null,
            "_model_module": "@jupyter-widgets/base",
            "top": null,
            "grid_column": null,
            "overflow_y": null,
            "overflow_x": null,
            "grid_auto_flow": null,
            "grid_area": null,
            "grid_template_columns": null,
            "flex": null,
            "_model_name": "LayoutModel",
            "justify_items": null,
            "grid_row": null,
            "max_height": null,
            "align_content": null,
            "visibility": null,
            "align_self": null,
            "height": null,
            "min_height": null,
            "padding": null,
            "grid_auto_rows": null,
            "grid_gap": null,
            "max_width": null,
            "order": null,
            "_view_module_version": "1.2.0",
            "grid_template_areas": null,
            "object_position": null,
            "object_fit": null,
            "grid_auto_columns": null,
            "margin": null,
            "display": null,
            "left": null
          }
        }
      }
    }
  },
  "cells": [
    {
      "cell_type": "markdown",
      "metadata": {
        "id": "view-in-github",
        "colab_type": "text"
      },
      "source": [
        "<a href=\"https://colab.research.google.com/github/JoDeMiro/Ember/blob/main/Vector_Linear_Algebra_1.ipynb\" target=\"_parent\"><img src=\"https://colab.research.google.com/assets/colab-badge.svg\" alt=\"Open In Colab\"/></a>"
      ]
    },
    {
      "cell_type": "code",
      "metadata": {
        "id": "QMj992i7DtO1"
      },
      "source": [
        "# https://youtu.be/IrggOvOSZr4?t=549"
      ],
      "execution_count": null,
      "outputs": []
    },
    {
      "cell_type": "code",
      "metadata": {
        "id": "Xg4Xm8KF73vr"
      },
      "source": [
        "import numpy as np\n",
        "import math\n",
        "import matplotlib.pyplot as plt\n",
        "\n",
        "from ipywidgets import IntSlider\n",
        "from ipywidgets import HTML\n",
        "\n",
        "from __future__ import print_function\n",
        "from ipywidgets import interact, interactive, fixed, interact_manual\n",
        "import ipywidgets as widgets"
      ],
      "execution_count": null,
      "outputs": []
    },
    {
      "cell_type": "code",
      "metadata": {
        "id": "-HAOi3hG77KN"
      },
      "source": [
        "# vektor 2D (x, y)\n",
        "\n",
        "v1 = np.array([2,3])"
      ],
      "execution_count": null,
      "outputs": []
    },
    {
      "cell_type": "code",
      "metadata": {
        "colab": {
          "base_uri": "https://localhost:8080/"
        },
        "id": "f5dIToSn8IjS",
        "outputId": "b4ca1ca8-82d9-4fe7-d931-2a0e3677145e"
      },
      "source": [
        "v1"
      ],
      "execution_count": null,
      "outputs": [
        {
          "output_type": "execute_result",
          "data": {
            "text/plain": [
              "array([2, 3])"
            ]
          },
          "metadata": {
            "tags": []
          },
          "execution_count": 22
        }
      ]
    },
    {
      "cell_type": "code",
      "metadata": {
        "colab": {
          "base_uri": "https://localhost:8080/"
        },
        "id": "FCtYJ73u8JqP",
        "outputId": "665c3776-b1a5-4a0c-8010-07b0e8df8f0a"
      },
      "source": [
        "# vektor szorzása scalárral\n",
        "\n",
        "v1 * 2"
      ],
      "execution_count": null,
      "outputs": [
        {
          "output_type": "execute_result",
          "data": {
            "text/plain": [
              "array([4, 6])"
            ]
          },
          "metadata": {
            "tags": []
          },
          "execution_count": 23
        }
      ]
    },
    {
      "cell_type": "code",
      "metadata": {
        "colab": {
          "base_uri": "https://localhost:8080/",
          "height": 500
        },
        "id": "fTPcB1Hi8MUh",
        "outputId": "291af4b5-4d73-45c0-d638-9e2ca0c9fdd5"
      },
      "source": [
        "fig, ax = plt.subplots(figsize=(8,8))\n",
        "\n",
        "x_pos = 0\n",
        "y_pos = 0\n",
        "x_direct = 2\n",
        "y_direct = 2\n",
        "\n",
        "sclae = 10\n",
        "s2 = round(sclae/2)\n",
        "\n",
        "ax.quiver(x_pos, y_pos, x_direct, y_direct, scale = sclae)\n",
        "ax.axis([-s2,s2,-s2,s2])\n",
        "\n",
        "plt.show()"
      ],
      "execution_count": null,
      "outputs": [
        {
          "output_type": "stream",
          "text": [
            "5\n"
          ],
          "name": "stdout"
        },
        {
          "output_type": "display_data",
          "data": {
            "image/png": "[encoded data removed]",
            "text/plain": [
              "<Figure size 576x576 with 1 Axes>"
            ]
          },
          "metadata": {
            "tags": [],
            "needs_background": "light"
          }
        }
      ]
    },
    {
      "cell_type": "code",
      "metadata": {
        "colab": {
          "base_uri": "https://localhost:8080/",
          "height": 483
        },
        "id": "2LmCpmaP86nw",
        "outputId": "39b55b6e-34d5-4175-a19e-e792615f2904"
      },
      "source": [
        "fig, ax = plt.subplots(figsize=(8,8))\n",
        "\n",
        "x_pos = [0, 0]\n",
        "y_pos = [0, 0]\n",
        "x_direct = [3, 0]\n",
        "y_direct = [2, -1]\n",
        "\n",
        "ax.quiver(x_pos,y_pos,x_direct,y_direct, scale=10)\n",
        "ax.axis([-5,5,-5,5])\n",
        "\n",
        "plt.show()"
      ],
      "execution_count": null,
      "outputs": [
        {
          "output_type": "display_data",
          "data": {
            "image/png": "[encoded data removed]",
            "text/plain": [
              "<Figure size 576x576 with 1 Axes>"
            ]
          },
          "metadata": {
            "tags": [],
            "needs_background": "light"
          }
        }
      ]
    },
    {
      "cell_type": "code",
      "metadata": {
        "colab": {
          "base_uri": "https://localhost:8080/",
          "height": 483
        },
        "id": "gqcJMMdTDm_1",
        "outputId": "3ee504fe-030b-445d-9368-d54836e52160"
      },
      "source": [
        "fig, ax = plt.subplots(figsize=(8,8))\n",
        "\n",
        "x_pos = [0, 0]\n",
        "y_pos = [0, 0]\n",
        "x_direct = [3, 0]\n",
        "y_direct = [2, -1]\n",
        "\n",
        "sclae = 10\n",
        "s2 = round(sclae/2)\n",
        "\n",
        "ax.quiver(x_pos, y_pos, x_direct, y_direct, scale = sclae)\n",
        "ax.axis([-s2,s2,-s2,s2])\n",
        "\n",
        "plt.show()"
      ],
      "execution_count": null,
      "outputs": [
        {
          "output_type": "display_data",
          "data": {
            "image/png": "[encoded data removed]",
            "text/plain": [
              "<Figure size 576x576 with 1 Axes>"
            ]
          },
          "metadata": {
            "tags": [],
            "needs_background": "light"
          }
        }
      ]
    },
    {
      "cell_type": "code",
      "metadata": {
        "colab": {
          "base_uri": "https://localhost:8080/",
          "height": 487
        },
        "id": "4MTT5bOR9Olj",
        "outputId": "8e943e28-a27e-4b79-c027-b3345a8a7cae"
      },
      "source": [
        "fig, ax = plt.subplots(figsize=(8,8))\n",
        "\n",
        "x_pos = [0, -0.5]\n",
        "y_pos = [0, 0.5]\n",
        "x_direct = [1, 0]\n",
        "y_direct = [1, -1]\n",
        "\n",
        "\n",
        "ax.quiver(x_pos,y_pos,x_direct,y_direct, color=['red', 'blue'], scale=5)\n",
        "ax.axis([-1.5,1.5,-1.5,1.5])\n",
        "\n",
        "plt.show()"
      ],
      "execution_count": null,
      "outputs": [
        {
          "output_type": "display_data",
          "data": {
            "image/png": "[encoded data removed]",
            "text/plain": [
              "<Figure size 576x576 with 1 Axes>"
            ]
          },
          "metadata": {
            "tags": [],
            "needs_background": "light"
          }
        }
      ]
    },
    {
      "cell_type": "code",
      "metadata": {
        "colab": {
          "base_uri": "https://localhost:8080/",
          "height": 483
        },
        "id": "aXm-jDM2-Iw-",
        "outputId": "609ecf1b-dc71-42e5-9901-96a6fa0eef93"
      },
      "source": [
        "import numpy as np\n",
        "import matplotlib.pyplot as plt\n",
        "\n",
        "V = np.array([[1,1], [-2,2], [4,-7]])\n",
        "origin = np.array([[0, 0, 0],[0, 0, 0]]) # origin point\n",
        "\n",
        "plt.subplots(figsize=(8,8))\n",
        "plt.quiver(*origin, V[:,0], V[:,1], color=['r','b','g'], scale=21)\n",
        "plt.show()"
      ],
      "execution_count": null,
      "outputs": [
        {
          "output_type": "display_data",
          "data": {
            "image/png": "[encoded data removed]",
            "text/plain": [
              "<Figure size 576x576 with 1 Axes>"
            ]
          },
          "metadata": {
            "tags": [],
            "needs_background": "light"
          }
        }
      ]
    },
    {
      "cell_type": "code",
      "metadata": {
        "colab": {
          "base_uri": "https://localhost:8080/",
          "height": 487
        },
        "id": "yeBoECWpEMBq",
        "outputId": "b73b155b-11ea-42eb-a1e5-43fb63ddb26e"
      },
      "source": [
        "\n",
        "plt.subplots(figsize=(8,8))\n",
        "plt.plot(0,0,'ok') #<-- plot a black point at the origin\n",
        "# plt.axis('equal')  #<-- set the axes to the same scale\n",
        "plt.quiver([0, 0, 0], [0, 0, 0], [1, -2, 4], [1, 2, -7], color=['r','g','b'], angles='xy', scale_units='xy', scale=1)\n",
        "plt.xlim(-10, 10)\n",
        "plt.ylim(-10, 10)\n",
        "plt.grid(b=True, which='major') #<-- plot grid lines\n",
        "plt.show()"
      ],
      "execution_count": null,
      "outputs": [
        {
          "output_type": "display_data",
          "data": {
            "image/png": "[encoded data removed]",
            "text/plain": [
              "<Figure size 576x576 with 1 Axes>"
            ]
          },
          "metadata": {
            "tags": [],
            "needs_background": "light"
          }
        }
      ]
    },
    {
      "cell_type": "code",
      "metadata": {
        "id": "zcXEEYr4EOya"
      },
      "source": [
        "def draw(origin, v1, v2, s0):\n",
        "  '''v1 and v2 are vecotor. np.array([1,2]) for example'''\n",
        "  plt.subplots(figsize=(8,8))\n",
        "  plt.xlim(-9, 9)\n",
        "  plt.ylim(-9, 9)\n",
        "  plt.grid(b=True, which='major')\n",
        "\n",
        "  a1 = np.array([v1[0], v2[0], s0[0]])\n",
        "  a2 = np.array([v1[1], v2[1], s0[1]])\n",
        "\n",
        "  plt.quiver(np.array([0,v1[0],0]), np.array([0,v1[1],0]), a1, a2, color=['r', 'b', 'g'], angles='xy', scale_units='xy', scale=1)\n",
        "  plt.show()"
      ],
      "execution_count": null,
      "outputs": []
    },
    {
      "cell_type": "code",
      "metadata": {
        "colab": {
          "base_uri": "https://localhost:8080/",
          "height": 483
        },
        "id": "GvPaNrzvPncC",
        "outputId": "b7dd560c-90f2-4335-d4b4-2481915c6492"
      },
      "source": [
        "# vektor 2D (x, y)\n",
        "\n",
        "origin = np.array([0,0,0])\n",
        "v1 = np.array([2,4])\n",
        "v2 = np.array([5,3])\n",
        "\n",
        "s0 = v1 + v2\n",
        "\n",
        "draw(origin, v1, v2, s0)"
      ],
      "execution_count": null,
      "outputs": [
        {
          "output_type": "display_data",
          "data": {
            "image/png": "[encoded data removed]",
            "text/plain": [
              "<Figure size 576x576 with 1 Axes>"
            ]
          },
          "metadata": {
            "tags": [],
            "needs_background": "light"
          }
        }
      ]
    },
    {
      "cell_type": "code",
      "metadata": {
        "id": "tQqPLoZ9VF2C"
      },
      "source": [
        "def v1(x, y):\n",
        "  print(x, y)\n",
        "  return np.array([x, y])\n",
        "  # return(x, y)"
      ],
      "execution_count": null,
      "outputs": []
    },
    {
      "cell_type": "code",
      "metadata": {
        "id": "ykhJwKivVG_X",
        "colab": {
          "base_uri": "https://localhost:8080/",
          "height": 132,
          "referenced_widgets": [
            "ef77c2befb77457a895d67322f4ca58a",
            "f0efcd4fc39247db90c600fcf0352265",
            "318beee167ee4cdb99188dcec2b974ec",
            "c96d5d2ff76149f0b31a865b58e65c88",
            "ceff386c23af417ba1c55ce2fe122742",
            "8680a4c524a846b58ecc2510d453951d",
            "2d581a47ec2644b39b06ddb40aa5261c",
            "4bfd58bca32347c1b3d76313aa9bb448",
            "8cd0ffccbb994382962f5dfaa6a8b876",
            "0788fcc0661049f4a509f9cbda8622a8"
          ]
        },
        "outputId": "f07f2a43-7b1b-4d58-8299-d92e999ecb58"
      },
      "source": [
        "interact(v1, x=5, y=3)"
      ],
      "execution_count": null,
      "outputs": [
        {
          "output_type": "display_data",
          "data": {
            "application/vnd.jupyter.widget-view+json": {
              "model_id": "ef77c2befb77457a895d67322f4ca58a",
              "version_minor": 0,
              "version_major": 2
            },
            "text/plain": [
              "interactive(children=(IntSlider(value=5, description='x', max=15, min=-5), IntSlider(value=3, description='y',…"
            ]
          },
          "metadata": {
            "tags": []
          }
        },
        {
          "output_type": "execute_result",
          "data": {
            "text/plain": [
              "<function __main__.v1>"
            ]
          },
          "metadata": {
            "tags": []
          },
          "execution_count": 147
        }
      ]
    },
    {
      "cell_type": "code",
      "metadata": {
        "id": "qhZkdtxHWF2J"
      },
      "source": [
        "def draw_add(v1, v2):\n",
        "  '''v1 and v2 are vecotor. np.array([1,2]) for example'''\n",
        "  plt.subplots(figsize=(8,8))\n",
        "  plt.xlim(-9, 9)\n",
        "  plt.ylim(-9, 9)\n",
        "  plt.grid(b=True, which='major')\n",
        "\n",
        "  s0 = v1 + v2\n",
        "\n",
        "  a1 = np.array([v1[0], v2[0], s0[0]])\n",
        "  a2 = np.array([v1[1], v2[1], s0[1]])\n",
        "\n",
        "  plt.quiver(np.array([0,v1[0],0]), np.array([0,v1[1],0]), a1, a2, color=['r', 'b', 'g'], angles='xy', scale_units='xy', scale=1)\n",
        "  plt.show()"
      ],
      "execution_count": null,
      "outputs": []
    },
    {
      "cell_type": "code",
      "metadata": {
        "id": "92gq2QZ4PxoK",
        "colab": {
          "base_uri": "https://localhost:8080/",
          "height": 483
        },
        "outputId": "6a910f68-6386-403f-d791-31bc5d79890e"
      },
      "source": [
        "\n",
        "v1 = np.array([2,4])\n",
        "v2 = np.array([5,3])\n",
        "\n",
        "draw_add(v1, v2)"
      ],
      "execution_count": null,
      "outputs": [
        {
          "output_type": "display_data",
          "data": {
            "image/png": "[encoded data removed]",
            "text/plain": [
              "<Figure size 576x576 with 1 Axes>"
            ]
          },
          "metadata": {
            "tags": [],
            "needs_background": "light"
          }
        }
      ]
    },
    {
      "cell_type": "code",
      "metadata": {
        "id": "bXo4OLqvZzJ7"
      },
      "source": [
        "def vectors(x1, y1, x2, y2):\n",
        "  return np.array([x1, y1]), np.array([x2, y2])"
      ],
      "execution_count": null,
      "outputs": []
    },
    {
      "cell_type": "code",
      "metadata": {
        "colab": {
          "base_uri": "https://localhost:8080/",
          "height": 179,
          "referenced_widgets": [
            "60f55bb92a2c40c99e663ad1625b4b5b",
            "6dedec6d8c4e4a75b1ec98840b825b92",
            "d988f7c0281040e29fb33e0a4b944729",
            "9ae841de019d4cf88e8af4f5f89a7fdc",
            "f080757469214c51868de5a29aaf1c0c",
            "4c8a20f45803441bb2736a4bb4878514",
            "a9920dd609394bf5b1842c3fa56e2818",
            "14df093cc008442a9856b2f19ef74b20",
            "a38dfa210a4743ccb572f87cbcf52fdb",
            "f66c4b19a9884d1e946db54ee0a03da4",
            "6c23b4987e984ea490d1f6dce4238aaf",
            "33ec4c95f87a4c9eaf2baeaa5f734529",
            "b06e2088a4f241f78a2b0d2e2e50235e",
            "0497dc1a87274fbfa4a14fa13df61e80",
            "e58a121295ab45029a8db258792b70c1",
            "2d6f1619e2114d619410f682376c96fd"
          ]
        },
        "id": "1uxpWYwXaBsy",
        "outputId": "aaee3e16-1c1a-49f9-f08f-c6b5cf5d03e2"
      },
      "source": [
        "interact(vectors, x1=1,y1=2,x2=3,y2=4)"
      ],
      "execution_count": null,
      "outputs": [
        {
          "output_type": "display_data",
          "data": {
            "application/vnd.jupyter.widget-view+json": {
              "model_id": "60f55bb92a2c40c99e663ad1625b4b5b",
              "version_minor": 0,
              "version_major": 2
            },
            "text/plain": [
              "interactive(children=(IntSlider(value=1, description='x1', max=3, min=-1), IntSlider(value=2, description='y1'…"
            ]
          },
          "metadata": {
            "tags": []
          }
        },
        {
          "output_type": "execute_result",
          "data": {
            "text/plain": [
              "<function __main__.vectors>"
            ]
          },
          "metadata": {
            "tags": []
          },
          "execution_count": 153
        }
      ]
    },
    {
      "cell_type": "code",
      "metadata": {
        "id": "6qqvRd3waX7p"
      },
      "source": [
        "def draw_vectors(x1, y1, x2, y2):\n",
        "  '''v1 and v2 are vecotor. np.array([1,2]) for example'''\n",
        "  plt.subplots(figsize=(8,8))\n",
        "  plt.xlim(-9, 9)\n",
        "  plt.ylim(-9, 9)\n",
        "  plt.grid(b=True, which='major')\n",
        "\n",
        "  v1 = np.array([x1, y1])\n",
        "  v2 = np.array([x2, y2])\n",
        "\n",
        "  s0 = v1 + v2\n",
        "\n",
        "  a1 = np.array([v1[0], v2[0], s0[0]])\n",
        "  a2 = np.array([v1[1], v2[1], s0[1]])\n",
        "\n",
        "  plt.quiver(np.array([0,v1[0],0]), np.array([0,v1[1],0]), a1, a2, color=['r', 'r', 'g'], angles='xy', scale_units='xy', scale=1)\n",
        "  plt.show()"
      ],
      "execution_count": null,
      "outputs": []
    },
    {
      "cell_type": "code",
      "metadata": {
        "id": "2BTyRvhCT3QV",
        "colab": {
          "base_uri": "https://localhost:8080/",
          "height": 628,
          "referenced_widgets": [
            "8ffdf41bb3e24da3ac69fdb350b04cfd",
            "deac651bdd194af9a0e5c51c45e72a31",
            "098b31996a4d44f1bf3696cb513965ca",
            "0974506ba5ce481aa5d89974a964d2b4",
            "d5ddb4ec6c5a4a2bbd73559665e53d90",
            "4fa7a575170a4328abe3a880a565a836",
            "22f8f0a43ea849a1ab92f0ebdee14e5b",
            "381ad410b43f433aa3099171da08ffff",
            "c4310d1edd874a7ea9afb554dfc9c2c4",
            "eee7dc45f5974d669731aaeba075b5b0",
            "21399b4f917241ee908699e451fb203e",
            "cb8779804c5d48948047b4a50166eafb",
            "b51c09d54dbb46c7a4ca1f4ce7a34d32",
            "04f2eed94e8e450f83d6f2b468482091",
            "5ca23333f542463d90b145fc8f16e10a",
            "300b4a29d5094803ae3bf33c374459c7"
          ]
        },
        "outputId": "6cc1976e-e984-41b6-d165-75eebf9d9f96"
      },
      "source": [
        "interact(draw_vectors, x1=5.0, y1=3.0, x2=2.0, y2=4.0)"
      ],
      "execution_count": null,
      "outputs": [
        {
          "output_type": "display_data",
          "data": {
            "application/vnd.jupyter.widget-view+json": {
              "model_id": "8ffdf41bb3e24da3ac69fdb350b04cfd",
              "version_minor": 0,
              "version_major": 2
            },
            "text/plain": [
              "interactive(children=(FloatSlider(value=5.0, description='x1', max=15.0, min=-5.0), FloatSlider(value=3.0, des…"
            ]
          },
          "metadata": {
            "tags": []
          }
        },
        {
          "output_type": "execute_result",
          "data": {
            "text/plain": [
              "<function __main__.draw_vectors>"
            ]
          },
          "metadata": {
            "tags": []
          },
          "execution_count": 160
        }
      ]
    },
    {
      "cell_type": "code",
      "metadata": {
        "colab": {
          "base_uri": "https://localhost:8080/",
          "height": 547,
          "referenced_widgets": [
            "d832ee6db24d4d09b79c7b5f4fa00b55",
            "7cbbfb5b2b8d40949d11ef2d2e695d5e",
            "225fd8d52a8d40c49be76b20cbe78957",
            "fe864dbeab6243799f35b5c69ed52b20",
            "5bb042d8a0374972b8389740f5e295fc",
            "23142fff765d457ba252104cc523f44a",
            "a58b9b6be1724ed083cca77bd5d60aa3",
            "04f165f856d746bdb53dfe3d22f4f467",
            "2da054f1a2ed4f2e8b4c6721b94dd138",
            "ee62b635c11b407b8b557d7fc7ceca81",
            "b403042e58f44d11acc8b28345de170e",
            "46e0846c49bd412f9df27f9cf1c751f1",
            "58579bfddf8a42f4a7da1e0b12d5582d",
            "60dc1117ab3545619dd5e950d60ae3d1",
            "8371d617221541269522ba7f7c5b82ad",
            "b459cc9c51444ddc83f71d488abc4522",
            "bef0aca4c03c4966a7a82574617ae251",
            "d984850824334750a06d7308b47aefc0"
          ]
        },
        "id": "4WDaUJblbwlQ",
        "outputId": "10df5196-0a0a-4c54-ad77-36de83926554"
      },
      "source": [
        "a = widgets.FloatSlider(0.0, min=-8, max=8, description=' a[x] :')\n",
        "b = widgets.FloatSlider(0, min=-8, max=8, description=' a[y] :')\n",
        "c = widgets.FloatSlider(0, min=-8, max=8, description=' b[x] :')\n",
        "d = widgets.FloatSlider(0, min=-8, max=8, description=' b[y] :')\n",
        "\n",
        "ui = widgets.HBox([a, c])\n",
        "ua = widgets.HBox([b, d])\n",
        "\n",
        "out = widgets.interactive_output(draw_vectors, {'x1': a, 'y1': b, 'x2': c, 'y2': d})\n",
        "\n",
        "display(ui, ua, out)\n",
        "\n"
      ],
      "execution_count": null,
      "outputs": [
        {
          "output_type": "display_data",
          "data": {
            "application/vnd.jupyter.widget-view+json": {
              "model_id": "d832ee6db24d4d09b79c7b5f4fa00b55",
              "version_minor": 0,
              "version_major": 2
            },
            "text/plain": [
              "HBox(children=(FloatSlider(value=0.0, description=' a[x] :', max=8.0, min=-8.0), FloatSlider(value=0.0, descri…"
            ]
          },
          "metadata": {
            "tags": []
          }
        },
        {
          "output_type": "display_data",
          "data": {
            "application/vnd.jupyter.widget-view+json": {
              "model_id": "2da054f1a2ed4f2e8b4c6721b94dd138",
              "version_minor": 0,
              "version_major": 2
            },
            "text/plain": [
              "HBox(children=(FloatSlider(value=0.0, description=' a[y] :', max=8.0, min=-8.0), FloatSlider(value=0.0, descri…"
            ]
          },
          "metadata": {
            "tags": []
          }
        },
        {
          "output_type": "display_data",
          "data": {
            "application/vnd.jupyter.widget-view+json": {
              "model_id": "bef0aca4c03c4966a7a82574617ae251",
              "version_minor": 0,
              "version_major": 2
            },
            "text/plain": [
              "Output()"
            ]
          },
          "metadata": {
            "tags": []
          }
        }
      ]
    },
    {
      "cell_type": "code",
      "metadata": {
        "id": "4yXy3izfccYt"
      },
      "source": [
        "def draw_vectors_with_scaler(x1, y1, x2, y2, s1, s2):\n",
        "  '''v1 and v2 are vecotor. np.array([1,2]) for example'''\n",
        "  plt.subplots(figsize=(8,8))\n",
        "  plt.xlim(-9, 9)\n",
        "  plt.ylim(-9, 9)\n",
        "  plt.grid(b=True, which='major')\n",
        "\n",
        "  v1 = np.array([x1, y1])\n",
        "  v2 = np.array([x2, y2])\n",
        "\n",
        "  v1 = s1 * v1\n",
        "  v2 = s2 * v2\n",
        "\n",
        "  s0 = v1 + v2\n",
        "\n",
        "  a1 = np.array([v1[0], v2[0], s0[0]])\n",
        "  a2 = np.array([v1[1], v2[1], s0[1]])\n",
        "\n",
        "  plt.quiver(np.array([0,v1[0],0]), np.array([0,v1[1],0]), a1, a2, color=['r', 'r', 'g'], angles='xy', scale_units='xy', scale=1)\n",
        "  plt.show()"
      ],
      "execution_count": null,
      "outputs": []
    },
    {
      "cell_type": "code",
      "metadata": {
        "colab": {
          "base_uri": "https://localhost:8080/",
          "height": 579,
          "referenced_widgets": [
            "62298d67979344118a23fde752fedace",
            "f021d31db83842cea99dba58774468de",
            "039a1ea26b1e4b2489d3425202ddabed",
            "dd4a94645b384ce5b16464a463abbb79",
            "a687918addd54d24addf6fcb6e2f794c",
            "e2e45e11df6c4b9b80ad66f0d1a4c583",
            "ebc2189a3b924b00925563c1d96d453f",
            "cf40eec12e0147d69b14a6c08b98d168",
            "a968cce00af84277a4361cdfbf760d1e",
            "24a22b8ebe664a2da8409fffa88abf4e",
            "303e92f8c8eb4852938c1d60d3d09803",
            "9b224fb81e3d43c198fcbebcbadf6f0c",
            "c8c7cdc186634bfbb792f9b599057303",
            "7323fa54e37c44d587d2a81afd4812c1",
            "42e5a630448b4f5dae0d966437f073b8",
            "18a4c1916bab4675bb8868556fcb7cdd",
            "86c7af64b920432182988d7ffa655a95",
            "df3e7b9dc2d74db18d054d3057f30d45",
            "a89e67925d8b459fa4ba0aabba8da216",
            "02f7c3eae5db423bb70d24f7d511d5fa",
            "b9c526717d0f4d6ca57935245918b6d7",
            "14323f5374904d68a3227fada909bcc4",
            "03d099ec282a435aafff8978861e218b",
            "d0fca5b2caac4f8486a0a9f18464b2c6",
            "a4f820d372034c869fbcc0b8db9f84a9",
            "0ba48ad12e694048b124ed943dfd46d7"
          ]
        },
        "id": "lhdV8JtufXxT",
        "outputId": "97f8e278-7ae5-4dee-edf0-672993dc6f36"
      },
      "source": [
        "a = widgets.FloatSlider(2, min=-8, max=8, description=' a[x] :')\n",
        "b = widgets.FloatSlider(5, min=-8, max=8, description=' a[y] :')\n",
        "c = widgets.FloatSlider(3, min=-8, max=8, description=' b[x] :')\n",
        "d = widgets.FloatSlider(1, min=-8, max=8, description=' b[y] :')\n",
        "u = widgets.FloatSlider(1, min=-3, max=3, description='  scaler a :')\n",
        "v = widgets.FloatSlider(1, min=-3, max=3, description='  scaler b :')\n",
        "\n",
        "ui = widgets.HBox([a, c])\n",
        "ua = widgets.HBox([b, d])\n",
        "ub = widgets.HBox([u, v])\n",
        "\n",
        "out = widgets.interactive_output(\n",
        "    draw_vectors_with_scaler, {'x1': a, 'y1': b,\n",
        "                               'x2': c, 'y2': d,\n",
        "                               's1': u, 's2': v})\n",
        "\n",
        "display(ui, ua, ub, out)\n",
        "\n"
      ],
      "execution_count": null,
      "outputs": [
        {
          "output_type": "display_data",
          "data": {
            "application/vnd.jupyter.widget-view+json": {
              "model_id": "62298d67979344118a23fde752fedace",
              "version_minor": 0,
              "version_major": 2
            },
            "text/plain": [
              "HBox(children=(FloatSlider(value=2.0, description=' a[x] :', max=8.0, min=-8.0), FloatSlider(value=3.0, descri…"
            ]
          },
          "metadata": {
            "tags": []
          }
        },
        {
          "output_type": "display_data",
          "data": {
            "application/vnd.jupyter.widget-view+json": {
              "model_id": "a968cce00af84277a4361cdfbf760d1e",
              "version_minor": 0,
              "version_major": 2
            },
            "text/plain": [
              "HBox(children=(FloatSlider(value=5.0, description=' a[y] :', max=8.0, min=-8.0), FloatSlider(value=1.0, descri…"
            ]
          },
          "metadata": {
            "tags": []
          }
        },
        {
          "output_type": "display_data",
          "data": {
            "application/vnd.jupyter.widget-view+json": {
              "model_id": "86c7af64b920432182988d7ffa655a95",
              "version_minor": 0,
              "version_major": 2
            },
            "text/plain": [
              "HBox(children=(FloatSlider(value=1.0, description='  scaler a :', max=3.0, min=-3.0), FloatSlider(value=1.0, d…"
            ]
          },
          "metadata": {
            "tags": []
          }
        },
        {
          "output_type": "display_data",
          "data": {
            "application/vnd.jupyter.widget-view+json": {
              "model_id": "a4f820d372034c869fbcc0b8db9f84a9",
              "version_minor": 0,
              "version_major": 2
            },
            "text/plain": [
              "Output()"
            ]
          },
          "metadata": {
            "tags": []
          }
        }
      ]
    },
    {
      "cell_type": "code",
      "metadata": {
        "colab": {
          "base_uri": "https://localhost:8080/"
        },
        "id": "jITWKfujdFPG",
        "outputId": "89ebfc49-0ced-4e5e-e21e-519e8c2b542a"
      },
      "source": [
        "vectorA = np.array([3, 4, 5])\n",
        "\n",
        "scaler = 10\n",
        "\n",
        "scalarZ = np.array([1, 1, 10])\n",
        "\n",
        "streched = scaler * vectorA\n",
        "\n",
        "print(streched)"
      ],
      "execution_count": null,
      "outputs": [
        {
          "output_type": "stream",
          "text": [
            "[30 40 50]\n"
          ],
          "name": "stdout"
        }
      ]
    },
    {
      "cell_type": "code",
      "metadata": {
        "colab": {
          "base_uri": "https://localhost:8080/"
        },
        "id": "qDsTMx01dFm0",
        "outputId": "c8ae3029-3592-4b21-dd5d-8ec46359234f"
      },
      "source": [
        "strechedZ = scalarZ * vectorA\n",
        "\n",
        "print(strechedZ)"
      ],
      "execution_count": null,
      "outputs": [
        {
          "output_type": "stream",
          "text": [
            "[ 3  4 50]\n"
          ],
          "name": "stdout"
        }
      ]
    },
    {
      "cell_type": "code",
      "metadata": {
        "id": "nmH2PLYCNoDF"
      },
      "source": [
        "def draw_vectors_multiplied_with_a_matrix(x, y, mx, my):\n",
        "  '''v1 and v2 are vecotor. np.array([1,2]) for example'''\n",
        "  plt.subplots(figsize=(8,8))\n",
        "  plt.xlim(-9, 9)\n",
        "  plt.ylim(-9, 9)\n",
        "  plt.grid(b=True, which='major')\n",
        "\n",
        "  v = np.array([x, y])\n",
        "  m = np.array([mx, my])\n",
        "\n",
        "  r = m * v\n",
        "\n",
        "  a1 = np.array([v[0], m[0], r[0]])\n",
        "  a2 = np.array([v[1], m[1], r[1]])\n",
        "\n",
        "  print('original vector : ', v)\n",
        "  print('original matrix : ', m)\n",
        "  print('result   vector : ', r)\n",
        "\n",
        "  plt.quiver(np.array([0,0,0]), np.array([0,0,0]), a1, a2, color=['r', 'b', 'g'], angles='xy', scale_units='xy', scale=1)\n",
        "  plt.show()"
      ],
      "execution_count": null,
      "outputs": []
    },
    {
      "cell_type": "code",
      "metadata": {
        "colab": {
          "base_uri": "https://localhost:8080/",
          "height": 534
        },
        "id": "nZ_d7kv6O4gp",
        "outputId": "ade84c9c-a26d-4b96-c565-6f0791363572"
      },
      "source": [
        "draw_vectors_multiplied_with_a_matrix(3, 2, 1, 0)"
      ],
      "execution_count": null,
      "outputs": [
        {
          "output_type": "stream",
          "text": [
            "original vector :  [3 2]\n",
            "original matrix :  [1 0]\n",
            "result   vector :  [3 0]\n"
          ],
          "name": "stdout"
        },
        {
          "output_type": "display_data",
          "data": {
            "image/png": "[encoded data removed]",
            "text/plain": [
              "<Figure size 576x576 with 1 Axes>"
            ]
          },
          "metadata": {
            "tags": [],
            "needs_background": "light"
          }
        }
      ]
    },
    {
      "cell_type": "code",
      "metadata": {
        "id": "ZxoFYNZxSds6"
      },
      "source": [
        "# https://youtu.be/IrggOvOSZr4?t=567"
      ],
      "execution_count": null,
      "outputs": []
    },
    {
      "cell_type": "code",
      "metadata": {
        "colab": {
          "base_uri": "https://localhost:8080/",
          "height": 598,
          "referenced_widgets": [
            "056a28939913482e9826008ea5dcce85",
            "1706baab806f4c3493a6a967d80d972e",
            "fc11d7cd4642459789e043a6c88ec4d9",
            "d6e6ebd7f983448a9916adb8dcc09139",
            "79dec00dcbba44edb30ac31dfbc0618c",
            "55e4ec42986c44f589913b5b1d275165",
            "6ee1e97f79594a31b1ce5b6844c25541",
            "003e11345725428384fefd70d132d858",
            "fcb5a50e64bb4fc18e45589a7f4f6b30",
            "bcc5978e9d834e019a9d33d064f1a32e",
            "de33e06ae2894596bab18bb60b3dd874",
            "bdf2c356f920489abe09678aeeaee254",
            "df72087785e84024b686125023fcb3b4",
            "93e377a33738486197f0661b07715c8b",
            "a25b95f4bbd1482496e7162f5fa5c579",
            "0ba44a1047d14f0f81cff0acaaadd9c5",
            "2b8350cf409448d58680dfb1255ee044",
            "9b83b912d16b4fd6a7e463c150991207"
          ]
        },
        "id": "yyVopCbZPGrc",
        "outputId": "7c2ef263-824a-4dfc-ce22-ce34660b92c8"
      },
      "source": [
        "a = widgets.FloatSlider(2, min=-8, max=8, description=' vector[x] :')\n",
        "b = widgets.FloatSlider(5, min=-8, max=8, description=' vector[y] :')\n",
        "u = widgets.FloatSlider(2, min=-3, max=3, description=' matrix[x] :')\n",
        "v = widgets.FloatSlider(1, min=-3, max=3, description=' matrix[y] :')\n",
        "\n",
        "ui = widgets.HBox([a, b])\n",
        "ub = widgets.HBox([u, v])\n",
        "\n",
        "out = widgets.interactive_output(\n",
        "    draw_vectors_multiplied_with_a_matrix, {'x': a, 'y': b,\n",
        "                                            'mx': u, 'my': v})\n",
        "\n",
        "display(ui, ub, out)\n",
        "\n"
      ],
      "execution_count": null,
      "outputs": [
        {
          "output_type": "display_data",
          "data": {
            "application/vnd.jupyter.widget-view+json": {
              "model_id": "056a28939913482e9826008ea5dcce85",
              "version_minor": 0,
              "version_major": 2
            },
            "text/plain": [
              "HBox(children=(FloatSlider(value=2.0, description=' vector[x] :', max=8.0, min=-8.0), FloatSlider(value=5.0, d…"
            ]
          },
          "metadata": {
            "tags": []
          }
        },
        {
          "output_type": "display_data",
          "data": {
            "application/vnd.jupyter.widget-view+json": {
              "model_id": "fcb5a50e64bb4fc18e45589a7f4f6b30",
              "version_minor": 0,
              "version_major": 2
            },
            "text/plain": [
              "HBox(children=(FloatSlider(value=2.0, description=' matrix[x] :', max=3.0, min=-3.0), FloatSlider(value=1.0, d…"
            ]
          },
          "metadata": {
            "tags": []
          }
        },
        {
          "output_type": "display_data",
          "data": {
            "application/vnd.jupyter.widget-view+json": {
              "model_id": "2b8350cf409448d58680dfb1255ee044",
              "version_minor": 0,
              "version_major": 2
            },
            "text/plain": [
              "Output()"
            ]
          },
          "metadata": {
            "tags": []
          }
        }
      ]
    },
    {
      "cell_type": "code",
      "metadata": {
        "colab": {
          "base_uri": "https://localhost:8080/"
        },
        "id": "QhLPtpS0Ppnq",
        "outputId": "461e96e1-e152-4355-f068-bb0e75534c98"
      },
      "source": [
        "identity_matrix = np.array([np.array([1, 0]), np.array([0, 1])])\n",
        "\n",
        "identity_matrix"
      ],
      "execution_count": null,
      "outputs": [
        {
          "output_type": "execute_result",
          "data": {
            "text/plain": [
              "array([[1, 0],\n",
              "       [0, 1]])"
            ]
          },
          "metadata": {
            "tags": []
          },
          "execution_count": 55
        }
      ]
    },
    {
      "cell_type": "code",
      "metadata": {
        "id": "5jDuEndiRvZy"
      },
      "source": [
        "vectorB = np.array([3, 5])"
      ],
      "execution_count": null,
      "outputs": []
    },
    {
      "cell_type": "code",
      "metadata": {
        "colab": {
          "base_uri": "https://localhost:8080/"
        },
        "id": "cadbeu8XSAD7",
        "outputId": "a0d5c087-72b0-404d-9945-276804d39b69"
      },
      "source": [
        "identity_matrix * vectorB"
      ],
      "execution_count": null,
      "outputs": [
        {
          "output_type": "execute_result",
          "data": {
            "text/plain": [
              "array([[3, 0],\n",
              "       [0, 5]])"
            ]
          },
          "metadata": {
            "tags": []
          },
          "execution_count": 59
        }
      ]
    },
    {
      "cell_type": "code",
      "metadata": {
        "colab": {
          "base_uri": "https://localhost:8080/"
        },
        "id": "8tM_kLC4SMWe",
        "outputId": "49d6275f-8008-4bba-8688-a16d84fa7c8b"
      },
      "source": [
        "vectorB * identity_matrix"
      ],
      "execution_count": null,
      "outputs": [
        {
          "output_type": "execute_result",
          "data": {
            "text/plain": [
              "array([[3, 0],\n",
              "       [0, 5]])"
            ]
          },
          "metadata": {
            "tags": []
          },
          "execution_count": 60
        }
      ]
    },
    {
      "cell_type": "markdown",
      "metadata": {
        "id": "ee65Yjt9Ur3u"
      },
      "source": [
        "\n",
        "$$\n",
        "\\begin{bmatrix}\n",
        "1 & 0\\\\\n",
        "0 & 1\n",
        "\\end{bmatrix}\n",
        "*\n",
        "\\begin{bmatrix}\n",
        "x\\\\\n",
        "y\n",
        "\\end{bmatrix}\n",
        "=\n",
        "\\begin{bmatrix}\n",
        "1x\\\\\n",
        "1y\n",
        "\\end{bmatrix}\n",
        "$$\n"
      ]
    },
    {
      "cell_type": "code",
      "metadata": {
        "id": "KPacREwcSTYH"
      },
      "source": [
        ""
      ],
      "execution_count": null,
      "outputs": []
    },
    {
      "cell_type": "code",
      "metadata": {
        "colab": {
          "base_uri": "https://localhost:8080/"
        },
        "id": "J0jnFPq4UmOe",
        "outputId": "7d33a339-ba51-4ec2-80d1-61c33424702c"
      },
      "source": [
        "a = np.array([[ 5, 1 ,3], [ 1, 1 ,1], [ 1, 2 ,1]])\n",
        "b = np.array([1, 2, 3])\n",
        "\n",
        "print(a*b)\n",
        "\n",
        "# What i want is:\n",
        "\n",
        "# [16 6 8]\n",
        "\n",
        "# This occurs because numpy arrays are not matrices,\n",
        "# and the standard operations *, +, -, / work element-wise on arrays.\n",
        "\n",
        "# solution 1\n",
        "print(a @ b)\n",
        "\n",
        "# solution 2\n",
        "print(a.dot(b))\n",
        "\n",
        "# solution 3\n",
        "print(np.einsum('ji,i->j', a, b))\n",
        "\n",
        "# solution 4\n",
        "print(np.matmul(a, b))\n",
        "\n",
        "# solution 5\n",
        "print(np.inner(a, b))\n",
        "\n",
        "# solution 6\n",
        "print(np.tensordot(a, b, axes=1))\n",
        "\n",
        "\n",
        "# https://stackoverflow.com/questions/21562986/numpy-matrix-vector-multiplication"
      ],
      "execution_count": null,
      "outputs": [
        {
          "output_type": "stream",
          "text": [
            "[[5 2 9]\n",
            " [1 2 3]\n",
            " [1 4 3]]\n",
            "[16  6  8]\n",
            "[16  6  8]\n",
            "[16  6  8]\n",
            "[16  6  8]\n",
            "[16  6  8]\n",
            "[16  6  8]\n"
          ],
          "name": "stdout"
        }
      ]
    },
    {
      "cell_type": "markdown",
      "metadata": {
        "id": "cWVb3J3AYaHa"
      },
      "source": [
        "\n",
        "$$\n",
        "\\begin{bmatrix}\n",
        "1 & 0 & 0\\\\\n",
        "0 & 1 & 0\\\\\n",
        "0 & 0 & 1\n",
        "\\end{bmatrix}\n",
        "*\n",
        "\\begin{bmatrix}\n",
        "x\\\\\n",
        "y\\\\\n",
        "z\n",
        "\\end{bmatrix}\n",
        "=\n",
        "\\begin{bmatrix}\n",
        "1x\\\\\n",
        "1y\\\\\n",
        "1z\n",
        "\\end{bmatrix}\n",
        "$$\n"
      ]
    },
    {
      "cell_type": "code",
      "metadata": {
        "colab": {
          "base_uri": "https://localhost:8080/"
        },
        "id": "9gNgBHa9YZTt",
        "outputId": "ce152ec9-aae1-4066-fc9e-f5d0e8615849"
      },
      "source": [
        "matrix = np.array((np.array([0,-1,0]), np.array([-1, 0, 0]), np.array([0, 0, 2])))\n",
        "\n",
        "print(matrix)"
      ],
      "execution_count": null,
      "outputs": [
        {
          "output_type": "stream",
          "text": [
            "[[ 0 -1  0]\n",
            " [-1  0  0]\n",
            " [ 0  0  2]]\n"
          ],
          "name": "stdout"
        }
      ]
    },
    {
      "cell_type": "code",
      "metadata": {
        "colab": {
          "base_uri": "https://localhost:8080/"
        },
        "id": "oxrM3TtOV6FW",
        "outputId": "f915eccd-25c3-4c2e-b7e3-78babf6a4135"
      },
      "source": [
        "matrix = np.array([[0, -1, 0], [-1, 0, 0], [0, 0, 2]])\n",
        "\n",
        "print(matrix)"
      ],
      "execution_count": null,
      "outputs": [
        {
          "output_type": "stream",
          "text": [
            "[[ 0 -1  0]\n",
            " [-1  0  0]\n",
            " [ 0  0  2]]\n"
          ],
          "name": "stdout"
        }
      ]
    },
    {
      "cell_type": "code",
      "metadata": {
        "colab": {
          "base_uri": "https://localhost:8080/"
        },
        "id": "R5h-9jgrbSeU",
        "outputId": "8932bebc-592c-4b0d-f7d2-328fd16e5aa8"
      },
      "source": [
        "vectorC = np.array([0, 1, 0])\n",
        "\n",
        "print(vectorC)"
      ],
      "execution_count": null,
      "outputs": [
        {
          "output_type": "stream",
          "text": [
            "[0 1 0]\n"
          ],
          "name": "stdout"
        }
      ]
    },
    {
      "cell_type": "code",
      "metadata": {
        "colab": {
          "base_uri": "https://localhost:8080/"
        },
        "id": "vPLTc2GIbkSh",
        "outputId": "d8f2a60e-b299-4018-d897-4dec8c7e760f"
      },
      "source": [
        "print(matrix.dot(vectorC))"
      ],
      "execution_count": null,
      "outputs": [
        {
          "output_type": "stream",
          "text": [
            "[-1  0  0]\n"
          ],
          "name": "stdout"
        }
      ]
    },
    {
      "cell_type": "code",
      "metadata": {
        "id": "cWk64p1RbqeX"
      },
      "source": [
        "# https://youtu.be/IrggOvOSZr4?t=799"
      ],
      "execution_count": null,
      "outputs": []
    },
    {
      "cell_type": "markdown",
      "metadata": {
        "id": "WQzWU8OccHA6"
      },
      "source": [
        "\n",
        "$$\n",
        "\\begin{bmatrix}\n",
        "0 & -1 & 0\\\\\n",
        "-1 & 0 & 0\\\\\n",
        "0 & 0 & 2\n",
        "\\end{bmatrix}\n",
        "*\n",
        "\\begin{bmatrix}\n",
        "0\\\\\n",
        "1\\\\\n",
        "0\n",
        "\\end{bmatrix}\n",
        "=\n",
        "\\begin{bmatrix}\n",
        "-1\\\\\n",
        "0\\\\\n",
        "0\n",
        "\\end{bmatrix}\n",
        "$$\n"
      ]
    },
    {
      "cell_type": "code",
      "metadata": {
        "colab": {
          "base_uri": "https://localhost:8080/"
        },
        "id": "g7kYQbsVcBN7",
        "outputId": "cf4d79ad-d6b1-4e0a-c665-d95381c43898"
      },
      "source": [
        "matrix = np.array([[0, -1, 0], [-1, 0, 0], [0, 0, 2]])\n",
        "\n",
        "print(matrix)\n",
        "\n",
        "vectorD = np.array([2, 1, 0])\n",
        "\n",
        "print(vectorD)\n",
        "\n",
        "print(matrix.dot(vectorD))"
      ],
      "execution_count": null,
      "outputs": [
        {
          "output_type": "stream",
          "text": [
            "[[ 0 -1  0]\n",
            " [-1  0  0]\n",
            " [ 0  0  2]]\n",
            "[2 1 0]\n",
            "[-1 -2  0]\n"
          ],
          "name": "stdout"
        }
      ]
    },
    {
      "cell_type": "markdown",
      "metadata": {
        "id": "XUv5xX_ZcyDj"
      },
      "source": [
        "\n",
        "$$\n",
        "\\begin{bmatrix}\n",
        "0 & -1 & 0\\\\\n",
        "-1 & 0 & 0\\\\\n",
        "0 & 0 & 2\n",
        "\\end{bmatrix}\n",
        "*\n",
        "\\begin{bmatrix}\n",
        "2\\\\\n",
        "1\\\\\n",
        "0\n",
        "\\end{bmatrix}\n",
        "=\n",
        "\\begin{bmatrix}\n",
        "-1\\\\\n",
        "-2\\\\\n",
        "0\n",
        "\\end{bmatrix}\n",
        "$$\n"
      ]
    },
    {
      "cell_type": "code",
      "metadata": {
        "colab": {
          "base_uri": "https://localhost:8080/"
        },
        "id": "AL_FR-i0cgKO",
        "outputId": "b43d4ce5-0ca8-492a-b5e3-60b0302dcdcb"
      },
      "source": [
        "# 2 * [0, -1, 0] (első oszlop) + 1 * [-1, 0, 0] (második oszlop) + 0 * [0, 0, 2] (harmadik oszlop) = [-1, -2, 0]\n",
        "\n",
        "\n",
        "y = 2 * np.array([0, -1, 0]) + 1 * np.array([-1, 0, 0]) + 0 * np.array([0, 0, 2])\n",
        "\n",
        "print(y)"
      ],
      "execution_count": null,
      "outputs": [
        {
          "output_type": "stream",
          "text": [
            "[-1 -2  0]\n"
          ],
          "name": "stdout"
        }
      ]
    },
    {
      "cell_type": "code",
      "metadata": {
        "id": "FDJZk_sreHTn"
      },
      "source": [
        "# https://youtu.be/IrggOvOSZr4?t=796"
      ],
      "execution_count": null,
      "outputs": []
    },
    {
      "cell_type": "code",
      "metadata": {
        "colab": {
          "base_uri": "https://localhost:8080/"
        },
        "id": "6_waXVrOecke",
        "outputId": "f1a5b70a-4ff5-4239-b419-ee155dbb1c6b"
      },
      "source": [
        "matrix = np.array([[1, 0, 0], [0, 1, 0], [0, 0, 1]])\n",
        "\n",
        "vectorE = np.array([3, 2, 1])\n",
        "\n",
        "print(matrix.dot(vectorE))"
      ],
      "execution_count": null,
      "outputs": [
        {
          "output_type": "stream",
          "text": [
            "[3 2 1]\n"
          ],
          "name": "stdout"
        }
      ]
    },
    {
      "cell_type": "code",
      "metadata": {
        "id": "I2hG-oFQfKbM"
      },
      "source": [
        ""
      ],
      "execution_count": null,
      "outputs": []
    }
  ]
}