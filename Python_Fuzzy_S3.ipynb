{
  "nbformat": 4,
  "nbformat_minor": 0,
  "metadata": {
    "colab": {
      "name": "Python - Fuzzy S3.ipynb",
      "provenance": [],
      "collapsed_sections": [],
      "authorship_tag": "ABX9TyMzV+B+lJi2yVBySN82zeVE",
      "include_colab_link": true
    },
    "kernelspec": {
      "name": "python3",
      "display_name": "Python 3"
    },
    "language_info": {
      "name": "python"
    },
    "widgets": {
      "application/vnd.jupyter.widget-state+json": {
        "a29dbb5434194172a2b3444c2181d8e6": {
          "model_module": "@jupyter-widgets/controls",
          "model_name": "VBoxModel",
          "state": {
            "_view_name": "VBoxView",
            "_dom_classes": [
              "widget-interact"
            ],
            "_model_name": "VBoxModel",
            "_view_module": "@jupyter-widgets/controls",
            "_model_module_version": "1.5.0",
            "_view_count": null,
            "_view_module_version": "1.5.0",
            "box_style": "",
            "layout": "IPY_MODEL_3142b8ca32b243749298ad2ec23073e9",
            "_model_module": "@jupyter-widgets/controls",
            "children": [
              "IPY_MODEL_7b94e3a632744e1fab37f319c606db95",
              "IPY_MODEL_9d42976fe51f471a86b887da11cbd1ce"
            ]
          }
        },
        "3142b8ca32b243749298ad2ec23073e9": {
          "model_module": "@jupyter-widgets/base",
          "model_name": "LayoutModel",
          "state": {
            "_view_name": "LayoutView",
            "grid_template_rows": null,
            "right": null,
            "justify_content": null,
            "_view_module": "@jupyter-widgets/base",
            "overflow": null,
            "_model_module_version": "1.2.0",
            "_view_count": null,
            "flex_flow": null,
            "width": null,
            "min_width": null,
            "border": null,
            "align_items": null,
            "bottom": null,
            "_model_module": "@jupyter-widgets/base",
            "top": null,
            "grid_column": null,
            "overflow_y": null,
            "overflow_x": null,
            "grid_auto_flow": null,
            "grid_area": null,
            "grid_template_columns": null,
            "flex": null,
            "_model_name": "LayoutModel",
            "justify_items": null,
            "grid_row": null,
            "max_height": null,
            "align_content": null,
            "visibility": null,
            "align_self": null,
            "height": null,
            "min_height": null,
            "padding": null,
            "grid_auto_rows": null,
            "grid_gap": null,
            "max_width": null,
            "order": null,
            "_view_module_version": "1.2.0",
            "grid_template_areas": null,
            "object_position": null,
            "object_fit": null,
            "grid_auto_columns": null,
            "margin": null,
            "display": null,
            "left": null
          }
        },
        "7b94e3a632744e1fab37f319c606db95": {
          "model_module": "@jupyter-widgets/controls",
          "model_name": "FloatSliderModel",
          "state": {
            "_view_name": "FloatSliderView",
            "style": "IPY_MODEL_48404d3819ab4fb19c62a7ff8f06b5fa",
            "_dom_classes": [],
            "description": "number",
            "step": 0.1,
            "_model_name": "FloatSliderModel",
            "orientation": "horizontal",
            "max": 5,
            "_view_module": "@jupyter-widgets/controls",
            "_model_module_version": "1.5.0",
            "value": 3.7,
            "_view_count": null,
            "disabled": false,
            "_view_module_version": "1.5.0",
            "min": 1,
            "continuous_update": true,
            "readout_format": ".2f",
            "description_tooltip": null,
            "readout": true,
            "_model_module": "@jupyter-widgets/controls",
            "layout": "IPY_MODEL_a8a776ba47834692a95de288617be845"
          }
        },
        "9d42976fe51f471a86b887da11cbd1ce": {
          "model_module": "@jupyter-widgets/output",
          "model_name": "OutputModel",
          "state": {
            "_view_name": "OutputView",
            "msg_id": "",
            "_dom_classes": [],
            "_model_name": "OutputModel",
            "outputs": [
              {
                "output_type": "display_data",
                "metadata": {
                  "tags": [],
                  "needs_background": "light"
                },
                "image/png": "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\n",
                "text/plain": "<Figure size 720x432 with 1 Axes>"
              }
            ],
            "_view_module": "@jupyter-widgets/output",
            "_model_module_version": "1.0.0",
            "_view_count": null,
            "_view_module_version": "1.0.0",
            "layout": "IPY_MODEL_e0d8f896445f4ebcbfddb1a531ff0fec",
            "_model_module": "@jupyter-widgets/output"
          }
        },
        "48404d3819ab4fb19c62a7ff8f06b5fa": {
          "model_module": "@jupyter-widgets/controls",
          "model_name": "SliderStyleModel",
          "state": {
            "_view_name": "StyleView",
            "handle_color": null,
            "_model_name": "SliderStyleModel",
            "description_width": "",
            "_view_module": "@jupyter-widgets/base",
            "_model_module_version": "1.5.0",
            "_view_count": null,
            "_view_module_version": "1.2.0",
            "_model_module": "@jupyter-widgets/controls"
          }
        },
        "a8a776ba47834692a95de288617be845": {
          "model_module": "@jupyter-widgets/base",
          "model_name": "LayoutModel",
          "state": {
            "_view_name": "LayoutView",
            "grid_template_rows": null,
            "right": null,
            "justify_content": null,
            "_view_module": "@jupyter-widgets/base",
            "overflow": null,
            "_model_module_version": "1.2.0",
            "_view_count": null,
            "flex_flow": null,
            "width": null,
            "min_width": null,
            "border": null,
            "align_items": null,
            "bottom": null,
            "_model_module": "@jupyter-widgets/base",
            "top": null,
            "grid_column": null,
            "overflow_y": null,
            "overflow_x": null,
            "grid_auto_flow": null,
            "grid_area": null,
            "grid_template_columns": null,
            "flex": null,
            "_model_name": "LayoutModel",
            "justify_items": null,
            "grid_row": null,
            "max_height": null,
            "align_content": null,
            "visibility": null,
            "align_self": null,
            "height": null,
            "min_height": null,
            "padding": null,
            "grid_auto_rows": null,
            "grid_gap": null,
            "max_width": null,
            "order": null,
            "_view_module_version": "1.2.0",
            "grid_template_areas": null,
            "object_position": null,
            "object_fit": null,
            "grid_auto_columns": null,
            "margin": null,
            "display": null,
            "left": null
          }
        },
        "e0d8f896445f4ebcbfddb1a531ff0fec": {
          "model_module": "@jupyter-widgets/base",
          "model_name": "LayoutModel",
          "state": {
            "_view_name": "LayoutView",
            "grid_template_rows": null,
            "right": null,
            "justify_content": null,
            "_view_module": "@jupyter-widgets/base",
            "overflow": null,
            "_model_module_version": "1.2.0",
            "_view_count": null,
            "flex_flow": null,
            "width": null,
            "min_width": null,
            "border": null,
            "align_items": null,
            "bottom": null,
            "_model_module": "@jupyter-widgets/base",
            "top": null,
            "grid_column": null,
            "overflow_y": null,
            "overflow_x": null,
            "grid_auto_flow": null,
            "grid_area": null,
            "grid_template_columns": null,
            "flex": null,
            "_model_name": "LayoutModel",
            "justify_items": null,
            "grid_row": null,
            "max_height": null,
            "align_content": null,
            "visibility": null,
            "align_self": null,
            "height": null,
            "min_height": null,
            "padding": null,
            "grid_auto_rows": null,
            "grid_gap": null,
            "max_width": null,
            "order": null,
            "_view_module_version": "1.2.0",
            "grid_template_areas": null,
            "object_position": null,
            "object_fit": null,
            "grid_auto_columns": null,
            "margin": null,
            "display": null,
            "left": null
          }
        }
      }
    }
  },
  "cells": [
    {
      "cell_type": "markdown",
      "metadata": {
        "id": "view-in-github",
        "colab_type": "text"
      },
      "source": [
        "<a href=\"https://colab.research.google.com/github/JoDeMiro/Ember/blob/main/Python_Fuzzy_S3.ipynb\" target=\"_parent\"><img src=\"https://colab.research.google.com/assets/colab-badge.svg\" alt=\"Open In Colab\"/></a>"
      ]
    },
    {
      "cell_type": "code",
      "metadata": {
        "id": "7mkOIzmjnael"
      },
      "source": [
        "# https://pythonhosted.org/scikit-fuzzy/auto_examples/plot_defuzzify.html"
      ],
      "execution_count": null,
      "outputs": []
    },
    {
      "cell_type": "markdown",
      "metadata": {
        "id": "Ob-7fckMoYPY"
      },
      "source": [
        "##Defuzzification\n",
        "\n",
        "Fuzzy logic calculations are excellent tools, but to use them the fuzzy result<br> must be converted back into a single number. This is known as defuzzification.\n",
        "\n",
        "There are several possible methods for defuzzification, exposed via skfuzzy.defuzz."
      ]
    },
    {
      "cell_type": "code",
      "metadata": {
        "id": "0hKzDZm_oiEj"
      },
      "source": [
        "%%capture\n",
        "!pip install scikit-fuzzy"
      ],
      "execution_count": null,
      "outputs": []
    },
    {
      "cell_type": "code",
      "metadata": {
        "id": "qWinWdJnoynC"
      },
      "source": [
        "import numpy as np\n",
        "import matplotlib.pyplot as plt\n",
        "import skfuzzy as fuzzy"
      ],
      "execution_count": null,
      "outputs": []
    },
    {
      "cell_type": "markdown",
      "metadata": {
        "id": "_6eu4m3Uo0n8"
      },
      "source": [
        "### Generate trapezoidal membership function on range [0, 1]"
      ]
    },
    {
      "cell_type": "code",
      "metadata": {
        "id": "vHXOF6hao3oz"
      },
      "source": [
        "\n",
        "x = np.arange(0, 5.05, 0.1)\n",
        "mfx = fuzzy.trapmf(x, [2, 2.5, 3, 4.5])\n"
      ],
      "execution_count": null,
      "outputs": []
    },
    {
      "cell_type": "code",
      "metadata": {
        "colab": {
          "base_uri": "https://localhost:8080/"
        },
        "id": "SB03oVDQo61L",
        "outputId": "4b01739d-d2ec-4f8b-a04b-4190ec656391"
      },
      "source": [
        "mfx.view()"
      ],
      "execution_count": null,
      "outputs": [
        {
          "output_type": "execute_result",
          "data": {
            "text/plain": [
              "array([0.        , 0.        , 0.        , 0.        , 0.        ,\n",
              "       0.        , 0.        , 0.        , 0.        , 0.        ,\n",
              "       0.        , 0.        , 0.        , 0.        , 0.        ,\n",
              "       0.        , 0.        , 0.        , 0.        , 0.        ,\n",
              "       0.        , 0.2       , 0.4       , 0.6       , 0.8       ,\n",
              "       1.        , 1.        , 1.        , 1.        , 1.        ,\n",
              "       1.        , 0.93333333, 0.86666667, 0.8       , 0.73333333,\n",
              "       0.66666667, 0.6       , 0.53333333, 0.46666667, 0.4       ,\n",
              "       0.33333333, 0.26666667, 0.2       , 0.13333333, 0.06666667,\n",
              "       0.        , 0.        , 0.        , 0.        , 0.        ,\n",
              "       0.        ])"
            ]
          },
          "metadata": {
            "tags": []
          },
          "execution_count": 10
        }
      ]
    },
    {
      "cell_type": "markdown",
      "metadata": {
        "id": "YuSvXx0tpQtO"
      },
      "source": [
        "### Defuzzify this membership function five ways"
      ]
    },
    {
      "cell_type": "code",
      "metadata": {
        "id": "5FaRTEuSpPjS"
      },
      "source": [
        "defuzz_centroid = fuzzy.defuzz(x, mfx, 'centroid')  # Same as skfuzzy.centroid\n",
        "defuzz_bisector = fuzzy.defuzz(x, mfx, 'bisector')\n",
        "defuzz_mom = fuzzy.defuzz(x, mfx, 'mom')\n",
        "defuzz_som = fuzzy.defuzz(x, mfx, 'som')\n",
        "defuzz_lom = fuzzy.defuzz(x, mfx, 'lom')"
      ],
      "execution_count": null,
      "outputs": []
    },
    {
      "cell_type": "code",
      "metadata": {
        "colab": {
          "base_uri": "https://localhost:8080/"
        },
        "id": "tS70eiOMpZIZ",
        "outputId": "a8e82348-9092-43b7-b759-bff56edb310e"
      },
      "source": [
        "\n",
        "names = [defuzz_centroid, defuzz_bisector, defuzz_mom, defuzz_som, defuzz_lom]\n",
        "\n",
        "for name in names:\n",
        "  print(name)\n"
      ],
      "execution_count": null,
      "outputs": [
        {
          "output_type": "stream",
          "text": [
            "3.0555555555555554\n",
            "3.0\n",
            "2.75\n",
            "2.5\n",
            "3.0\n"
          ],
          "name": "stdout"
        }
      ]
    },
    {
      "cell_type": "markdown",
      "metadata": {
        "id": "n-ccUQc0qVfy"
      },
      "source": [
        "### Collect info for vertical lines"
      ]
    },
    {
      "cell_type": "code",
      "metadata": {
        "colab": {
          "base_uri": "https://localhost:8080/"
        },
        "id": "kuuBC4Y-qVIp",
        "outputId": "cf183b5b-86d8-4d38-e304-10f423474134"
      },
      "source": [
        "labels = ['centroid', 'bisector', 'mean of maximum', 'min of maximum',\n",
        "          'max of maximum']\n",
        "xvals = [defuzz_centroid,\n",
        "         defuzz_bisector,\n",
        "         defuzz_mom,\n",
        "         defuzz_som,\n",
        "         defuzz_lom]\n",
        "colors = ['r', 'b', 'g', 'c', 'm']\n",
        "ymax = [fuzzy.interp_membership(x, mfx, i) for i in xvals]\n",
        "\n",
        "print('ymax  =', ymax)\n",
        "print('xvals =', xvals)"
      ],
      "execution_count": null,
      "outputs": [
        {
          "output_type": "stream",
          "text": [
            "ymax  = [0.962962962962963, 1.0, 1.0, 1.0, 1.0]\n",
            "xvals = [3.0555555555555554, 3.0, 2.75, 2.5, 3.0]\n"
          ],
          "name": "stdout"
        }
      ]
    },
    {
      "cell_type": "markdown",
      "metadata": {
        "id": "Tv7T7lcaqdnG"
      },
      "source": [
        "### Display and compare defuzzification results against membership function"
      ]
    },
    {
      "cell_type": "code",
      "metadata": {
        "colab": {
          "base_uri": "https://localhost:8080/",
          "height": 388
        },
        "id": "Rcub5jf9nbOq",
        "outputId": "ccbde36b-b09c-4f37-83f7-0f05782ee7b6"
      },
      "source": [
        "plt.figure(figsize=(10, 6))\n",
        "\n",
        "plt.plot(x, mfx, 'k')\n",
        "for xv, y, label, color in zip(xvals, ymax, labels, colors):\n",
        "    plt.vlines(xv, 0, y, label=label, color=color)\n",
        "plt.ylabel('Fuzzy membership')\n",
        "plt.xlabel('Universe variable (arb)')\n",
        "plt.ylim(-0.1, 1.1)\n",
        "plt.legend(loc=2)\n",
        "\n",
        "plt.show()"
      ],
      "execution_count": null,
      "outputs": [
        {
          "output_type": "display_data",
          "data": {
            "image/png": "[encoded data removed]",
            "text/plain": [
              "<Figure size 720x432 with 1 Axes>"
            ]
          },
          "metadata": {
            "tags": [],
            "needs_background": "light"
          }
        }
      ]
    },
    {
      "cell_type": "code",
      "metadata": {
        "id": "dAR_jALzsXHx"
      },
      "source": [
        "from __future__ import print_function\n",
        "from ipywidgets import interact, interactive, fixed, interact_manual\n",
        "import ipywidgets as widgets"
      ],
      "execution_count": null,
      "outputs": []
    },
    {
      "cell_type": "code",
      "metadata": {
        "id": "WKp94s-0sXmV"
      },
      "source": [
        "def f(number):\n",
        "  plt.figure(figsize=(10, 6))\n",
        "\n",
        "  plt.plot(x, mfx, 'k')\n",
        "  for xv, y, label, color in zip(xvals, ymax, labels, colors):\n",
        "      plt.vlines(xv, 0, y, label=label, color=color)\n",
        "  plt.ylabel('Fuzzy membership')\n",
        "  plt.xlabel('Universe variable (arb)')\n",
        "  plt.ylim(-0.1, 1.1)\n",
        "  plt.legend(loc=2)\n",
        "  plt.vlines(number, 0, 1, colors='k', linestyles='dashed')\n",
        "\n",
        "  plt.show()\n",
        "   # return number"
      ],
      "execution_count": null,
      "outputs": []
    },
    {
      "cell_type": "code",
      "metadata": {
        "colab": {
          "base_uri": "https://localhost:8080/",
          "height": 437,
          "referenced_widgets": [
            "a29dbb5434194172a2b3444c2181d8e6",
            "3142b8ca32b243749298ad2ec23073e9",
            "7b94e3a632744e1fab37f319c606db95",
            "9d42976fe51f471a86b887da11cbd1ce",
            "48404d3819ab4fb19c62a7ff8f06b5fa",
            "a8a776ba47834692a95de288617be845",
            "e0d8f896445f4ebcbfddb1a531ff0fec"
          ]
        },
        "id": "7Xljrmz5sc5i",
        "outputId": "df8598ea-fa13-4e6a-cddf-86bc9585cb47"
      },
      "source": [
        "interact(f, number=(1,5.0,0.1))"
      ],
      "execution_count": null,
      "outputs": [
        {
          "output_type": "display_data",
          "data": {
            "application/vnd.jupyter.widget-view+json": {
              "model_id": "a29dbb5434194172a2b3444c2181d8e6",
              "version_minor": 0,
              "version_major": 2
            },
            "text/plain": [
              "interactive(children=(FloatSlider(value=3.0, description='number', max=5.0, min=1.0), Output()), _dom_classes=…"
            ]
          },
          "metadata": {
            "tags": []
          }
        },
        {
          "output_type": "execute_result",
          "data": {
            "text/plain": [
              "<function __main__.f>"
            ]
          },
          "metadata": {
            "tags": []
          },
          "execution_count": 100
        }
      ]
    },
    {
      "cell_type": "code",
      "metadata": {
        "id": "W7FBKWrssfws"
      },
      "source": [
        ""
      ],
      "execution_count": null,
      "outputs": []
    },
    {
      "cell_type": "code",
      "metadata": {
        "id": "HpCQXxmhsi0q"
      },
      "source": [
        ""
      ],
      "execution_count": null,
      "outputs": []
    }
  ]
}