{
  "nbformat": 4,
  "nbformat_minor": 0,
  "metadata": {
    "colab": {
      "name": "Autograd - mxnet.ipynb",
      "provenance": [],
      "collapsed_sections": [],
      "authorship_tag": "ABX9TyPfM2AUXRjmhim53IBr1eLH",
      "include_colab_link": true
    },
    "kernelspec": {
      "name": "python3",
      "display_name": "Python 3"
    },
    "language_info": {
      "name": "python"
    }
  },
  "cells": [
    {
      "cell_type": "markdown",
      "metadata": {
        "id": "view-in-github",
        "colab_type": "text"
      },
      "source": [
        "<a href=\"https://colab.research.google.com/github/JoDeMiro/Ember/blob/main/Autograd_mxnet.ipynb\" target=\"_parent\"><img src=\"https://colab.research.google.com/assets/colab-badge.svg\" alt=\"Open In Colab\"/></a>"
      ]
    },
    {
      "cell_type": "code",
      "metadata": {
        "id": "5MvO0SWf3GbA"
      },
      "source": [
        "# https://www.youtube.com/watch?v=fRf4l5qaX1M"
      ],
      "execution_count": null,
      "outputs": []
    },
    {
      "cell_type": "markdown",
      "metadata": {
        "id": "PLHlOF0i3J0q"
      },
      "source": [
        "## Automatic Differentiation\n",
        "\n",
        "### Import `autograd` and create variable"
      ]
    },
    {
      "cell_type": "code",
      "metadata": {
        "colab": {
          "base_uri": "https://localhost:8080/"
        },
        "id": "VJ6n17_L3IF8",
        "outputId": "aaa9ff45-9b2a-41e9-9015-07cb747303a2"
      },
      "source": [
        "!pip install mxnet"
      ],
      "execution_count": null,
      "outputs": [
        {
          "output_type": "stream",
          "text": [
            "Collecting mxnet\n",
            "\u001b[?25l  Downloading https://files.pythonhosted.org/packages/30/07/66174e78c12a3048db9039aaa09553e35035ef3a008ba3e0ed8d2aa3c47b/mxnet-1.8.0.post0-py2.py3-none-manylinux2014_x86_64.whl (46.9MB)\n",
            "\u001b[K     |████████████████████████████████| 46.9MB 91kB/s \n",
            "\u001b[?25hCollecting graphviz<0.9.0,>=0.8.1\n",
            "  Downloading https://files.pythonhosted.org/packages/53/39/4ab213673844e0c004bed8a0781a0721a3f6bb23eb8854ee75c236428892/graphviz-0.8.4-py2.py3-none-any.whl\n",
            "Requirement already satisfied: requests<3,>=2.20.0 in /usr/local/lib/python3.7/dist-packages (from mxnet) (2.23.0)\n",
            "Requirement already satisfied: numpy<2.0.0,>1.16.0 in /usr/local/lib/python3.7/dist-packages (from mxnet) (1.19.5)\n",
            "Requirement already satisfied: certifi>=2017.4.17 in /usr/local/lib/python3.7/dist-packages (from requests<3,>=2.20.0->mxnet) (2020.12.5)\n",
            "Requirement already satisfied: chardet<4,>=3.0.2 in /usr/local/lib/python3.7/dist-packages (from requests<3,>=2.20.0->mxnet) (3.0.4)\n",
            "Requirement already satisfied: idna<3,>=2.5 in /usr/local/lib/python3.7/dist-packages (from requests<3,>=2.20.0->mxnet) (2.10)\n",
            "Requirement already satisfied: urllib3!=1.25.0,!=1.25.1,<1.26,>=1.21.1 in /usr/local/lib/python3.7/dist-packages (from requests<3,>=2.20.0->mxnet) (1.24.3)\n",
            "Installing collected packages: graphviz, mxnet\n",
            "  Found existing installation: graphviz 0.10.1\n",
            "    Uninstalling graphviz-0.10.1:\n",
            "      Successfully uninstalled graphviz-0.10.1\n",
            "Successfully installed graphviz-0.8.4 mxnet-1.8.0.post0\n"
          ],
          "name": "stdout"
        }
      ]
    },
    {
      "cell_type": "code",
      "metadata": {
        "id": "VKHP6ooN3dYL"
      },
      "source": [
        "from mxnet import autograd, nd"
      ],
      "execution_count": null,
      "outputs": []
    },
    {
      "cell_type": "code",
      "metadata": {
        "colab": {
          "base_uri": "https://localhost:8080/"
        },
        "id": "mzZuWjYR3iDP",
        "outputId": "ed26bbb3-aa5d-478f-fef4-cb59622c25f7"
      },
      "source": [
        "x = nd.arange(4).reshape((4,1))\n",
        "\n",
        "print(x)"
      ],
      "execution_count": null,
      "outputs": [
        {
          "output_type": "stream",
          "text": [
            "\n",
            "[[0.]\n",
            " [1.]\n",
            " [2.]\n",
            " [3.]]\n",
            "<NDArray 4x1 @cpu(0)>\n"
          ],
          "name": "stdout"
        }
      ]
    },
    {
      "cell_type": "markdown",
      "metadata": {
        "id": "yXjCAtLc3yfl"
      },
      "source": [
        "## Attach gradient to `x`\n",
        "\n",
        "- It allocates memory to store its gradient, which has the same shapes as `x`\n",
        "- It also tell the system that we need to compute its gradient."
      ]
    },
    {
      "cell_type": "code",
      "metadata": {
        "colab": {
          "base_uri": "https://localhost:8080/"
        },
        "id": "ceg1svx93o7P",
        "outputId": "d5a1d4a3-b66f-4795-a14a-caffa1d545df"
      },
      "source": [
        "x.attach_grad()\n",
        "x.grad"
      ],
      "execution_count": null,
      "outputs": [
        {
          "output_type": "execute_result",
          "data": {
            "text/plain": [
              "\n",
              "[[0.]\n",
              " [0.]\n",
              " [0.]\n",
              " [0.]]\n",
              "<NDArray 4x1 @cpu(0)>"
            ]
          },
          "metadata": {
            "tags": []
          },
          "execution_count": 5
        }
      ]
    },
    {
      "cell_type": "markdown",
      "metadata": {
        "id": "-RYnYpbQ4SH9"
      },
      "source": [
        "## Foreward\n",
        "\n",
        "Now compute $ y = 2x^\\mathsf{T}x $\n",
        "\n",
        "by placing code inside a with autograd.record(): block. MXNet will build the according computation graph."
      ]
    },
    {
      "cell_type": "code",
      "metadata": {
        "colab": {
          "base_uri": "https://localhost:8080/"
        },
        "id": "gsFHpdQT4F4J",
        "outputId": "2fba0201-624a-471d-ff3b-17be48c21b54"
      },
      "source": [
        "with autograd.record():\n",
        "  y = 2 * nd.dot(x.T, x)\n",
        "\n",
        "y"
      ],
      "execution_count": null,
      "outputs": [
        {
          "output_type": "execute_result",
          "data": {
            "text/plain": [
              "\n",
              "[[28.]]\n",
              "<NDArray 1x1 @cpu(0)>"
            ]
          },
          "metadata": {
            "tags": []
          },
          "execution_count": 6
        }
      ]
    },
    {
      "cell_type": "markdown",
      "metadata": {
        "id": "Y4qxXimP6GrV"
      },
      "source": [
        "## Backward"
      ]
    },
    {
      "cell_type": "code",
      "metadata": {
        "id": "6fFrqlRX5tyB"
      },
      "source": [
        "y.backward()"
      ],
      "execution_count": null,
      "outputs": []
    },
    {
      "cell_type": "markdown",
      "metadata": {
        "id": "sS6Ay5TJ6fgB"
      },
      "source": [
        "## Get the gradient\n",
        "\n",
        "Given $ y = 2x^\\mathsf{T}x $, we know\n",
        "\n",
        "Partial firt order deivative\t: $$\\frac{\\partial y}{\\partial x} = 4x $$\n",
        "\n",
        "Now verify the result:"
      ]
    },
    {
      "cell_type": "code",
      "metadata": {
        "colab": {
          "base_uri": "https://localhost:8080/"
        },
        "id": "4uNm7uw86I9G",
        "outputId": "13e7bd0a-2641-477f-ae75-31dd1da9cfb1"
      },
      "source": [
        "print((x.grad - 4 * x).norm().asscalar() == 0)\n",
        "print(x.grad)"
      ],
      "execution_count": null,
      "outputs": [
        {
          "output_type": "stream",
          "text": [
            "True\n",
            "\n",
            "[[ 0.]\n",
            " [ 4.]\n",
            " [ 8.]\n",
            " [12.]]\n",
            "<NDArray 4x1 @cpu(0)>\n"
          ],
          "name": "stdout"
        }
      ]
    },
    {
      "cell_type": "markdown",
      "metadata": {
        "id": "-WbAmWm77ogJ"
      },
      "source": [
        "## Backward on non-scalar\n",
        "\n",
        "`y.backward()` equals to `y.sum().backward()`"
      ]
    },
    {
      "cell_type": "code",
      "metadata": {
        "colab": {
          "base_uri": "https://localhost:8080/"
        },
        "id": "_r5Y3gER6aX0",
        "outputId": "d22b7a5b-2330-482f-a6c2-0ddcac1dd7a6"
      },
      "source": [
        "with autograd.record():\n",
        "  y = 2 * x * x\n",
        "\n",
        "print(y.shape)\n",
        "\n",
        "y.backward()\n",
        "\n",
        "print(x.grad)"
      ],
      "execution_count": null,
      "outputs": [
        {
          "output_type": "stream",
          "text": [
            "(4, 1)\n",
            "\n",
            "[[ 0.]\n",
            " [ 4.]\n",
            " [ 8.]\n",
            " [12.]]\n",
            "<NDArray 4x1 @cpu(0)>\n"
          ],
          "name": "stdout"
        }
      ]
    },
    {
      "cell_type": "markdown",
      "metadata": {
        "id": "T7DcCp3T8N9e"
      },
      "source": [
        "Foyltatni\n",
        "\n",
        "https://youtu.be/fRf4l5qaX1M?t=322"
      ]
    },
    {
      "cell_type": "markdown",
      "metadata": {
        "id": "Mn0G2Iow8zVt"
      },
      "source": [
        "## Latex\n",
        "\n",
        "https://towardsdatascience.com/write-markdown-latex-in-the-jupyter-notebook-10985edb91fd"
      ]
    },
    {
      "cell_type": "code",
      "metadata": {
        "id": "Y96u8TH870p1"
      },
      "source": [
        ""
      ],
      "execution_count": null,
      "outputs": []
    }
  ]
}