{
  "nbformat": 4,
  "nbformat_minor": 0,
  "metadata": {
    "colab": {
      "name": "Fuzzy - My own example Interactive.ipynb",
      "provenance": [],
      "collapsed_sections": [],
      "authorship_tag": "ABX9TyN6SP1hrQbcz2o4eASbft7R",
      "include_colab_link": true
    },
    "kernelspec": {
      "name": "python3",
      "display_name": "Python 3"
    },
    "language_info": {
      "name": "python"
    },
    "widgets": {
      "application/vnd.jupyter.widget-state+json": {
        "b3dae91982504e85bc3cfa54af6326e4": {
          "model_module": "@jupyter-widgets/controls",
          "model_name": "IntSliderModel",
          "state": {
            "_view_name": "IntSliderView",
            "style": "IPY_MODEL_b5432be948bb4122b81a032b25b67a75",
            "_dom_classes": [],
            "description": "",
            "step": 1,
            "_model_name": "IntSliderModel",
            "orientation": "horizontal",
            "max": 100,
            "_view_module": "@jupyter-widgets/controls",
            "_model_module_version": "1.5.0",
            "value": 77,
            "_view_count": null,
            "disabled": false,
            "_view_module_version": "1.5.0",
            "min": 0,
            "continuous_update": true,
            "readout_format": "d",
            "description_tooltip": null,
            "readout": true,
            "_model_module": "@jupyter-widgets/controls",
            "layout": "IPY_MODEL_ecea9ac138a849be9890e44d4083decb"
          }
        },
        "b5432be948bb4122b81a032b25b67a75": {
          "model_module": "@jupyter-widgets/controls",
          "model_name": "SliderStyleModel",
          "state": {
            "_view_name": "StyleView",
            "handle_color": null,
            "_model_name": "SliderStyleModel",
            "description_width": "",
            "_view_module": "@jupyter-widgets/base",
            "_model_module_version": "1.5.0",
            "_view_count": null,
            "_view_module_version": "1.2.0",
            "_model_module": "@jupyter-widgets/controls"
          }
        },
        "ecea9ac138a849be9890e44d4083decb": {
          "model_module": "@jupyter-widgets/base",
          "model_name": "LayoutModel",
          "state": {
            "_view_name": "LayoutView",
            "grid_template_rows": null,
            "right": null,
            "justify_content": null,
            "_view_module": "@jupyter-widgets/base",
            "overflow": null,
            "_model_module_version": "1.2.0",
            "_view_count": null,
            "flex_flow": null,
            "width": null,
            "min_width": null,
            "border": null,
            "align_items": null,
            "bottom": null,
            "_model_module": "@jupyter-widgets/base",
            "top": null,
            "grid_column": null,
            "overflow_y": null,
            "overflow_x": null,
            "grid_auto_flow": null,
            "grid_area": null,
            "grid_template_columns": null,
            "flex": null,
            "_model_name": "LayoutModel",
            "justify_items": null,
            "grid_row": null,
            "max_height": null,
            "align_content": null,
            "visibility": null,
            "align_self": null,
            "height": null,
            "min_height": null,
            "padding": null,
            "grid_auto_rows": null,
            "grid_gap": null,
            "max_width": null,
            "order": null,
            "_view_module_version": "1.2.0",
            "grid_template_areas": null,
            "object_position": null,
            "object_fit": null,
            "grid_auto_columns": null,
            "margin": null,
            "display": null,
            "left": null
          }
        },
        "f49ee0bd8a5a4d85a69ee2b19b603fa5": {
          "model_module": "@jupyter-widgets/controls",
          "model_name": "IntSliderModel",
          "state": {
            "_view_name": "IntSliderView",
            "style": "IPY_MODEL_3fea20e0d55145c9be7e5b4e5d4c3056",
            "_dom_classes": [],
            "description": "",
            "step": 1,
            "_model_name": "IntSliderModel",
            "orientation": "horizontal",
            "max": 100,
            "_view_module": "@jupyter-widgets/controls",
            "_model_module_version": "1.5.0",
            "value": 67,
            "_view_count": null,
            "disabled": false,
            "_view_module_version": "1.5.0",
            "min": 0,
            "continuous_update": true,
            "readout_format": "d",
            "description_tooltip": null,
            "readout": true,
            "_model_module": "@jupyter-widgets/controls",
            "layout": "IPY_MODEL_5e25bd95e83e4f069046662b74d2d64a"
          }
        },
        "3fea20e0d55145c9be7e5b4e5d4c3056": {
          "model_module": "@jupyter-widgets/controls",
          "model_name": "SliderStyleModel",
          "state": {
            "_view_name": "StyleView",
            "handle_color": null,
            "_model_name": "SliderStyleModel",
            "description_width": "",
            "_view_module": "@jupyter-widgets/base",
            "_model_module_version": "1.5.0",
            "_view_count": null,
            "_view_module_version": "1.2.0",
            "_model_module": "@jupyter-widgets/controls"
          }
        },
        "5e25bd95e83e4f069046662b74d2d64a": {
          "model_module": "@jupyter-widgets/base",
          "model_name": "LayoutModel",
          "state": {
            "_view_name": "LayoutView",
            "grid_template_rows": null,
            "right": null,
            "justify_content": null,
            "_view_module": "@jupyter-widgets/base",
            "overflow": null,
            "_model_module_version": "1.2.0",
            "_view_count": null,
            "flex_flow": null,
            "width": null,
            "min_width": null,
            "border": null,
            "align_items": null,
            "bottom": null,
            "_model_module": "@jupyter-widgets/base",
            "top": null,
            "grid_column": null,
            "overflow_y": null,
            "overflow_x": null,
            "grid_auto_flow": null,
            "grid_area": null,
            "grid_template_columns": null,
            "flex": null,
            "_model_name": "LayoutModel",
            "justify_items": null,
            "grid_row": null,
            "max_height": null,
            "align_content": null,
            "visibility": null,
            "align_self": null,
            "height": null,
            "min_height": null,
            "padding": null,
            "grid_auto_rows": null,
            "grid_gap": null,
            "max_width": null,
            "order": null,
            "_view_module_version": "1.2.0",
            "grid_template_areas": null,
            "object_position": null,
            "object_fit": null,
            "grid_auto_columns": null,
            "margin": null,
            "display": null,
            "left": null
          }
        },
        "8e71f392c3f547bcbd07a15026eeb36a": {
          "model_module": "@jupyter-widgets/controls",
          "model_name": "HTMLModel",
          "state": {
            "_view_name": "HTMLView",
            "style": "IPY_MODEL_d95f92261ac84bcea3f8ff271e1a13b3",
            "_dom_classes": [],
            "description": "",
            "_model_name": "HTMLModel",
            "placeholder": "​",
            "_view_module": "@jupyter-widgets/controls",
            "_model_module_version": "1.5.0",
            "value": "The slider value is <b>77</b>",
            "_view_count": null,
            "_view_module_version": "1.5.0",
            "description_tooltip": null,
            "_model_module": "@jupyter-widgets/controls",
            "layout": "IPY_MODEL_70249d2d3b9d4d679eff8eca4ae354e3"
          }
        },
        "d95f92261ac84bcea3f8ff271e1a13b3": {
          "model_module": "@jupyter-widgets/controls",
          "model_name": "DescriptionStyleModel",
          "state": {
            "_view_name": "StyleView",
            "_model_name": "DescriptionStyleModel",
            "description_width": "",
            "_view_module": "@jupyter-widgets/base",
            "_model_module_version": "1.5.0",
            "_view_count": null,
            "_view_module_version": "1.2.0",
            "_model_module": "@jupyter-widgets/controls"
          }
        },
        "70249d2d3b9d4d679eff8eca4ae354e3": {
          "model_module": "@jupyter-widgets/base",
          "model_name": "LayoutModel",
          "state": {
            "_view_name": "LayoutView",
            "grid_template_rows": null,
            "right": null,
            "justify_content": null,
            "_view_module": "@jupyter-widgets/base",
            "overflow": null,
            "_model_module_version": "1.2.0",
            "_view_count": null,
            "flex_flow": null,
            "width": null,
            "min_width": null,
            "border": null,
            "align_items": null,
            "bottom": null,
            "_model_module": "@jupyter-widgets/base",
            "top": null,
            "grid_column": null,
            "overflow_y": null,
            "overflow_x": null,
            "grid_auto_flow": null,
            "grid_area": null,
            "grid_template_columns": null,
            "flex": null,
            "_model_name": "LayoutModel",
            "justify_items": null,
            "grid_row": null,
            "max_height": null,
            "align_content": null,
            "visibility": null,
            "align_self": null,
            "height": null,
            "min_height": null,
            "padding": null,
            "grid_auto_rows": null,
            "grid_gap": null,
            "max_width": null,
            "order": null,
            "_view_module_version": "1.2.0",
            "grid_template_areas": null,
            "object_position": null,
            "object_fit": null,
            "grid_auto_columns": null,
            "margin": null,
            "display": null,
            "left": null
          }
        },
        "4aac5358cbea41c18cb55914171352e7": {
          "model_module": "@jupyter-widgets/controls",
          "model_name": "HTMLModel",
          "state": {
            "_view_name": "HTMLView",
            "style": "IPY_MODEL_c2dfae762093485d9c2179744fd6ef0c",
            "_dom_classes": [],
            "description": "",
            "_model_name": "HTMLModel",
            "placeholder": "​",
            "_view_module": "@jupyter-widgets/controls",
            "_model_module_version": "1.5.0",
            "value": "The slider value is <i>67</i>",
            "_view_count": null,
            "_view_module_version": "1.5.0",
            "description_tooltip": null,
            "_model_module": "@jupyter-widgets/controls",
            "layout": "IPY_MODEL_a9bba58b489c48e8bf7cc7bf0e25f82d"
          }
        },
        "c2dfae762093485d9c2179744fd6ef0c": {
          "model_module": "@jupyter-widgets/controls",
          "model_name": "DescriptionStyleModel",
          "state": {
            "_view_name": "StyleView",
            "_model_name": "DescriptionStyleModel",
            "description_width": "",
            "_view_module": "@jupyter-widgets/base",
            "_model_module_version": "1.5.0",
            "_view_count": null,
            "_view_module_version": "1.2.0",
            "_model_module": "@jupyter-widgets/controls"
          }
        },
        "a9bba58b489c48e8bf7cc7bf0e25f82d": {
          "model_module": "@jupyter-widgets/base",
          "model_name": "LayoutModel",
          "state": {
            "_view_name": "LayoutView",
            "grid_template_rows": null,
            "right": null,
            "justify_content": null,
            "_view_module": "@jupyter-widgets/base",
            "overflow": null,
            "_model_module_version": "1.2.0",
            "_view_count": null,
            "flex_flow": null,
            "width": null,
            "min_width": null,
            "border": null,
            "align_items": null,
            "bottom": null,
            "_model_module": "@jupyter-widgets/base",
            "top": null,
            "grid_column": null,
            "overflow_y": null,
            "overflow_x": null,
            "grid_auto_flow": null,
            "grid_area": null,
            "grid_template_columns": null,
            "flex": null,
            "_model_name": "LayoutModel",
            "justify_items": null,
            "grid_row": null,
            "max_height": null,
            "align_content": null,
            "visibility": null,
            "align_self": null,
            "height": null,
            "min_height": null,
            "padding": null,
            "grid_auto_rows": null,
            "grid_gap": null,
            "max_width": null,
            "order": null,
            "_view_module_version": "1.2.0",
            "grid_template_areas": null,
            "object_position": null,
            "object_fit": null,
            "grid_auto_columns": null,
            "margin": null,
            "display": null,
            "left": null
          }
        },
        "f62b1bef38d7440499bfe9556971fbef": {
          "model_module": "@jupyter-widgets/controls",
          "model_name": "VBoxModel",
          "state": {
            "_view_name": "VBoxView",
            "_dom_classes": [
              "widget-interact"
            ],
            "_model_name": "VBoxModel",
            "_view_module": "@jupyter-widgets/controls",
            "_model_module_version": "1.5.0",
            "_view_count": null,
            "_view_module_version": "1.5.0",
            "box_style": "",
            "layout": "IPY_MODEL_0f140c55b14e4ff782ebe8ec6348fffa",
            "_model_module": "@jupyter-widgets/controls",
            "children": [
              "IPY_MODEL_15aa92ff18ac417a8930705364db4d11",
              "IPY_MODEL_fb475174dca5460ab139d2b0d19abce3"
            ]
          }
        },
        "0f140c55b14e4ff782ebe8ec6348fffa": {
          "model_module": "@jupyter-widgets/base",
          "model_name": "LayoutModel",
          "state": {
            "_view_name": "LayoutView",
            "grid_template_rows": null,
            "right": null,
            "justify_content": null,
            "_view_module": "@jupyter-widgets/base",
            "overflow": null,
            "_model_module_version": "1.2.0",
            "_view_count": null,
            "flex_flow": null,
            "width": null,
            "min_width": null,
            "border": null,
            "align_items": null,
            "bottom": null,
            "_model_module": "@jupyter-widgets/base",
            "top": null,
            "grid_column": null,
            "overflow_y": null,
            "overflow_x": null,
            "grid_auto_flow": null,
            "grid_area": null,
            "grid_template_columns": null,
            "flex": null,
            "_model_name": "LayoutModel",
            "justify_items": null,
            "grid_row": null,
            "max_height": null,
            "align_content": null,
            "visibility": null,
            "align_self": null,
            "height": null,
            "min_height": null,
            "padding": null,
            "grid_auto_rows": null,
            "grid_gap": null,
            "max_width": null,
            "order": null,
            "_view_module_version": "1.2.0",
            "grid_template_areas": null,
            "object_position": null,
            "object_fit": null,
            "grid_auto_columns": null,
            "margin": null,
            "display": null,
            "left": null
          }
        },
        "15aa92ff18ac417a8930705364db4d11": {
          "model_module": "@jupyter-widgets/controls",
          "model_name": "IntSliderModel",
          "state": {
            "_view_name": "IntSliderView",
            "style": "IPY_MODEL_d160b04c8d9a4b3893144789621e2733",
            "_dom_classes": [],
            "description": "x",
            "step": 1,
            "_model_name": "IntSliderModel",
            "orientation": "horizontal",
            "max": 30,
            "_view_module": "@jupyter-widgets/controls",
            "_model_module_version": "1.5.0",
            "value": 15,
            "_view_count": null,
            "disabled": false,
            "_view_module_version": "1.5.0",
            "min": -10,
            "continuous_update": true,
            "readout_format": "d",
            "description_tooltip": null,
            "readout": true,
            "_model_module": "@jupyter-widgets/controls",
            "layout": "IPY_MODEL_d88a24f8b71b4803b3a1028617fff239"
          }
        },
        "fb475174dca5460ab139d2b0d19abce3": {
          "model_module": "@jupyter-widgets/output",
          "model_name": "OutputModel",
          "state": {
            "_view_name": "OutputView",
            "msg_id": "",
            "_dom_classes": [],
            "_model_name": "OutputModel",
            "outputs": [
              {
                "output_type": "stream",
                "metadata": {
                  "tags": []
                },
                "text": "15\n",
                "stream": "stdout"
              },
              {
                "output_type": "display_data",
                "metadata": {
                  "tags": []
                },
                "text/plain": "15"
              }
            ],
            "_view_module": "@jupyter-widgets/output",
            "_model_module_version": "1.0.0",
            "_view_count": null,
            "_view_module_version": "1.0.0",
            "layout": "IPY_MODEL_3cfe1e00e31b49d9953141fb60151920",
            "_model_module": "@jupyter-widgets/output"
          }
        },
        "d160b04c8d9a4b3893144789621e2733": {
          "model_module": "@jupyter-widgets/controls",
          "model_name": "SliderStyleModel",
          "state": {
            "_view_name": "StyleView",
            "handle_color": null,
            "_model_name": "SliderStyleModel",
            "description_width": "",
            "_view_module": "@jupyter-widgets/base",
            "_model_module_version": "1.5.0",
            "_view_count": null,
            "_view_module_version": "1.2.0",
            "_model_module": "@jupyter-widgets/controls"
          }
        },
        "d88a24f8b71b4803b3a1028617fff239": {
          "model_module": "@jupyter-widgets/base",
          "model_name": "LayoutModel",
          "state": {
            "_view_name": "LayoutView",
            "grid_template_rows": null,
            "right": null,
            "justify_content": null,
            "_view_module": "@jupyter-widgets/base",
            "overflow": null,
            "_model_module_version": "1.2.0",
            "_view_count": null,
            "flex_flow": null,
            "width": null,
            "min_width": null,
            "border": null,
            "align_items": null,
            "bottom": null,
            "_model_module": "@jupyter-widgets/base",
            "top": null,
            "grid_column": null,
            "overflow_y": null,
            "overflow_x": null,
            "grid_auto_flow": null,
            "grid_area": null,
            "grid_template_columns": null,
            "flex": null,
            "_model_name": "LayoutModel",
            "justify_items": null,
            "grid_row": null,
            "max_height": null,
            "align_content": null,
            "visibility": null,
            "align_self": null,
            "height": null,
            "min_height": null,
            "padding": null,
            "grid_auto_rows": null,
            "grid_gap": null,
            "max_width": null,
            "order": null,
            "_view_module_version": "1.2.0",
            "grid_template_areas": null,
            "object_position": null,
            "object_fit": null,
            "grid_auto_columns": null,
            "margin": null,
            "display": null,
            "left": null
          }
        },
        "3cfe1e00e31b49d9953141fb60151920": {
          "model_module": "@jupyter-widgets/base",
          "model_name": "LayoutModel",
          "state": {
            "_view_name": "LayoutView",
            "grid_template_rows": null,
            "right": null,
            "justify_content": null,
            "_view_module": "@jupyter-widgets/base",
            "overflow": null,
            "_model_module_version": "1.2.0",
            "_view_count": null,
            "flex_flow": null,
            "width": null,
            "min_width": null,
            "border": null,
            "align_items": null,
            "bottom": null,
            "_model_module": "@jupyter-widgets/base",
            "top": null,
            "grid_column": null,
            "overflow_y": null,
            "overflow_x": null,
            "grid_auto_flow": null,
            "grid_area": null,
            "grid_template_columns": null,
            "flex": null,
            "_model_name": "LayoutModel",
            "justify_items": null,
            "grid_row": null,
            "max_height": null,
            "align_content": null,
            "visibility": null,
            "align_self": null,
            "height": null,
            "min_height": null,
            "padding": null,
            "grid_auto_rows": null,
            "grid_gap": null,
            "max_width": null,
            "order": null,
            "_view_module_version": "1.2.0",
            "grid_template_areas": null,
            "object_position": null,
            "object_fit": null,
            "grid_auto_columns": null,
            "margin": null,
            "display": null,
            "left": null
          }
        },
        "91cbb18259304a60acca7f1bd746b47e": {
          "model_module": "@jupyter-widgets/controls",
          "model_name": "VBoxModel",
          "state": {
            "_view_name": "VBoxView",
            "_dom_classes": [
              "widget-interact"
            ],
            "_model_name": "VBoxModel",
            "_view_module": "@jupyter-widgets/controls",
            "_model_module_version": "1.5.0",
            "_view_count": null,
            "_view_module_version": "1.5.0",
            "box_style": "",
            "layout": "IPY_MODEL_364bdf5d75ee496d9659dcc711b01056",
            "_model_module": "@jupyter-widgets/controls",
            "children": [
              "IPY_MODEL_be8a68cc4f4340b58b51bd4fe89a7195",
              "IPY_MODEL_70724811627247aaa61e790a18a7663f",
              "IPY_MODEL_82e91aaa72e94813b1a57cfabdaec7e1"
            ]
          }
        },
        "364bdf5d75ee496d9659dcc711b01056": {
          "model_module": "@jupyter-widgets/base",
          "model_name": "LayoutModel",
          "state": {
            "_view_name": "LayoutView",
            "grid_template_rows": null,
            "right": null,
            "justify_content": null,
            "_view_module": "@jupyter-widgets/base",
            "overflow": null,
            "_model_module_version": "1.2.0",
            "_view_count": null,
            "flex_flow": null,
            "width": null,
            "min_width": null,
            "border": null,
            "align_items": null,
            "bottom": null,
            "_model_module": "@jupyter-widgets/base",
            "top": null,
            "grid_column": null,
            "overflow_y": null,
            "overflow_x": null,
            "grid_auto_flow": null,
            "grid_area": null,
            "grid_template_columns": null,
            "flex": null,
            "_model_name": "LayoutModel",
            "justify_items": null,
            "grid_row": null,
            "max_height": null,
            "align_content": null,
            "visibility": null,
            "align_self": null,
            "height": null,
            "min_height": null,
            "padding": null,
            "grid_auto_rows": null,
            "grid_gap": null,
            "max_width": null,
            "order": null,
            "_view_module_version": "1.2.0",
            "grid_template_areas": null,
            "object_position": null,
            "object_fit": null,
            "grid_auto_columns": null,
            "margin": null,
            "display": null,
            "left": null
          }
        },
        "be8a68cc4f4340b58b51bd4fe89a7195": {
          "model_module": "@jupyter-widgets/controls",
          "model_name": "IntSliderModel",
          "state": {
            "_view_name": "IntSliderView",
            "style": "IPY_MODEL_073e098daa264e288881c5979bb4494d",
            "_dom_classes": [],
            "description": "x",
            "step": 1,
            "_model_name": "IntSliderModel",
            "orientation": "horizontal",
            "max": 30,
            "_view_module": "@jupyter-widgets/controls",
            "_model_module_version": "1.5.0",
            "value": 10,
            "_view_count": null,
            "disabled": false,
            "_view_module_version": "1.5.0",
            "min": -10,
            "continuous_update": true,
            "readout_format": "d",
            "description_tooltip": null,
            "readout": true,
            "_model_module": "@jupyter-widgets/controls",
            "layout": "IPY_MODEL_7271f24f0df341e79c49e2d3a2d62413"
          }
        },
        "70724811627247aaa61e790a18a7663f": {
          "model_module": "@jupyter-widgets/controls",
          "model_name": "IntSliderModel",
          "state": {
            "_view_name": "IntSliderView",
            "style": "IPY_MODEL_81ca0d6ade54468798e326a57c8643d6",
            "_dom_classes": [],
            "description": "y",
            "step": 1,
            "_model_name": "IntSliderModel",
            "orientation": "horizontal",
            "max": 60,
            "_view_module": "@jupyter-widgets/controls",
            "_model_module_version": "1.5.0",
            "value": 57,
            "_view_count": null,
            "disabled": false,
            "_view_module_version": "1.5.0",
            "min": -20,
            "continuous_update": true,
            "readout_format": "d",
            "description_tooltip": null,
            "readout": true,
            "_model_module": "@jupyter-widgets/controls",
            "layout": "IPY_MODEL_a9b92ba0d8b4471f80071bb36d008c2a"
          }
        },
        "82e91aaa72e94813b1a57cfabdaec7e1": {
          "model_module": "@jupyter-widgets/output",
          "model_name": "OutputModel",
          "state": {
            "_view_name": "OutputView",
            "msg_id": "",
            "_dom_classes": [],
            "_model_name": "OutputModel",
            "outputs": [
              {
                "output_type": "stream",
                "metadata": {
                  "tags": []
                },
                "text": "10 57\n",
                "stream": "stdout"
              },
              {
                "output_type": "display_data",
                "metadata": {
                  "tags": []
                },
                "text/plain": "(10, 57)"
              }
            ],
            "_view_module": "@jupyter-widgets/output",
            "_model_module_version": "1.0.0",
            "_view_count": null,
            "_view_module_version": "1.0.0",
            "layout": "IPY_MODEL_58c5feee09624d0aa6ec214a4a2adbbc",
            "_model_module": "@jupyter-widgets/output"
          }
        },
        "073e098daa264e288881c5979bb4494d": {
          "model_module": "@jupyter-widgets/controls",
          "model_name": "SliderStyleModel",
          "state": {
            "_view_name": "StyleView",
            "handle_color": null,
            "_model_name": "SliderStyleModel",
            "description_width": "",
            "_view_module": "@jupyter-widgets/base",
            "_model_module_version": "1.5.0",
            "_view_count": null,
            "_view_module_version": "1.2.0",
            "_model_module": "@jupyter-widgets/controls"
          }
        },
        "7271f24f0df341e79c49e2d3a2d62413": {
          "model_module": "@jupyter-widgets/base",
          "model_name": "LayoutModel",
          "state": {
            "_view_name": "LayoutView",
            "grid_template_rows": null,
            "right": null,
            "justify_content": null,
            "_view_module": "@jupyter-widgets/base",
            "overflow": null,
            "_model_module_version": "1.2.0",
            "_view_count": null,
            "flex_flow": null,
            "width": null,
            "min_width": null,
            "border": null,
            "align_items": null,
            "bottom": null,
            "_model_module": "@jupyter-widgets/base",
            "top": null,
            "grid_column": null,
            "overflow_y": null,
            "overflow_x": null,
            "grid_auto_flow": null,
            "grid_area": null,
            "grid_template_columns": null,
            "flex": null,
            "_model_name": "LayoutModel",
            "justify_items": null,
            "grid_row": null,
            "max_height": null,
            "align_content": null,
            "visibility": null,
            "align_self": null,
            "height": null,
            "min_height": null,
            "padding": null,
            "grid_auto_rows": null,
            "grid_gap": null,
            "max_width": null,
            "order": null,
            "_view_module_version": "1.2.0",
            "grid_template_areas": null,
            "object_position": null,
            "object_fit": null,
            "grid_auto_columns": null,
            "margin": null,
            "display": null,
            "left": null
          }
        },
        "81ca0d6ade54468798e326a57c8643d6": {
          "model_module": "@jupyter-widgets/controls",
          "model_name": "SliderStyleModel",
          "state": {
            "_view_name": "StyleView",
            "handle_color": null,
            "_model_name": "SliderStyleModel",
            "description_width": "",
            "_view_module": "@jupyter-widgets/base",
            "_model_module_version": "1.5.0",
            "_view_count": null,
            "_view_module_version": "1.2.0",
            "_model_module": "@jupyter-widgets/controls"
          }
        },
        "a9b92ba0d8b4471f80071bb36d008c2a": {
          "model_module": "@jupyter-widgets/base",
          "model_name": "LayoutModel",
          "state": {
            "_view_name": "LayoutView",
            "grid_template_rows": null,
            "right": null,
            "justify_content": null,
            "_view_module": "@jupyter-widgets/base",
            "overflow": null,
            "_model_module_version": "1.2.0",
            "_view_count": null,
            "flex_flow": null,
            "width": null,
            "min_width": null,
            "border": null,
            "align_items": null,
            "bottom": null,
            "_model_module": "@jupyter-widgets/base",
            "top": null,
            "grid_column": null,
            "overflow_y": null,
            "overflow_x": null,
            "grid_auto_flow": null,
            "grid_area": null,
            "grid_template_columns": null,
            "flex": null,
            "_model_name": "LayoutModel",
            "justify_items": null,
            "grid_row": null,
            "max_height": null,
            "align_content": null,
            "visibility": null,
            "align_self": null,
            "height": null,
            "min_height": null,
            "padding": null,
            "grid_auto_rows": null,
            "grid_gap": null,
            "max_width": null,
            "order": null,
            "_view_module_version": "1.2.0",
            "grid_template_areas": null,
            "object_position": null,
            "object_fit": null,
            "grid_auto_columns": null,
            "margin": null,
            "display": null,
            "left": null
          }
        },
        "58c5feee09624d0aa6ec214a4a2adbbc": {
          "model_module": "@jupyter-widgets/base",
          "model_name": "LayoutModel",
          "state": {
            "_view_name": "LayoutView",
            "grid_template_rows": null,
            "right": null,
            "justify_content": null,
            "_view_module": "@jupyter-widgets/base",
            "overflow": null,
            "_model_module_version": "1.2.0",
            "_view_count": null,
            "flex_flow": null,
            "width": null,
            "min_width": null,
            "border": null,
            "align_items": null,
            "bottom": null,
            "_model_module": "@jupyter-widgets/base",
            "top": null,
            "grid_column": null,
            "overflow_y": null,
            "overflow_x": null,
            "grid_auto_flow": null,
            "grid_area": null,
            "grid_template_columns": null,
            "flex": null,
            "_model_name": "LayoutModel",
            "justify_items": null,
            "grid_row": null,
            "max_height": null,
            "align_content": null,
            "visibility": null,
            "align_self": null,
            "height": null,
            "min_height": null,
            "padding": null,
            "grid_auto_rows": null,
            "grid_gap": null,
            "max_width": null,
            "order": null,
            "_view_module_version": "1.2.0",
            "grid_template_areas": null,
            "object_position": null,
            "object_fit": null,
            "grid_auto_columns": null,
            "margin": null,
            "display": null,
            "left": null
          }
        },
        "d4b3e9cb20e54aca8b2d7b75c6cecd9b": {
          "model_module": "@jupyter-widgets/controls",
          "model_name": "VBoxModel",
          "state": {
            "_view_name": "VBoxView",
            "_dom_classes": [
              "widget-interact"
            ],
            "_model_name": "VBoxModel",
            "_view_module": "@jupyter-widgets/controls",
            "_model_module_version": "1.5.0",
            "_view_count": null,
            "_view_module_version": "1.5.0",
            "box_style": "",
            "layout": "IPY_MODEL_c1149e91383742a5916d25e2a0806512",
            "_model_module": "@jupyter-widgets/controls",
            "children": [
              "IPY_MODEL_ee5e239710c64077a3874054c07a7257",
              "IPY_MODEL_01f2e2e8265945eeb2f824b4c587bf42",
              "IPY_MODEL_0fb225d208bd41ad9e79a25ec1f4c216"
            ]
          }
        },
        "c1149e91383742a5916d25e2a0806512": {
          "model_module": "@jupyter-widgets/base",
          "model_name": "LayoutModel",
          "state": {
            "_view_name": "LayoutView",
            "grid_template_rows": null,
            "right": null,
            "justify_content": null,
            "_view_module": "@jupyter-widgets/base",
            "overflow": null,
            "_model_module_version": "1.2.0",
            "_view_count": null,
            "flex_flow": null,
            "width": null,
            "min_width": null,
            "border": null,
            "align_items": null,
            "bottom": null,
            "_model_module": "@jupyter-widgets/base",
            "top": null,
            "grid_column": null,
            "overflow_y": null,
            "overflow_x": null,
            "grid_auto_flow": null,
            "grid_area": null,
            "grid_template_columns": null,
            "flex": null,
            "_model_name": "LayoutModel",
            "justify_items": null,
            "grid_row": null,
            "max_height": null,
            "align_content": null,
            "visibility": null,
            "align_self": null,
            "height": null,
            "min_height": null,
            "padding": null,
            "grid_auto_rows": null,
            "grid_gap": null,
            "max_width": null,
            "order": null,
            "_view_module_version": "1.2.0",
            "grid_template_areas": null,
            "object_position": null,
            "object_fit": null,
            "grid_auto_columns": null,
            "margin": null,
            "display": null,
            "left": null
          }
        },
        "ee5e239710c64077a3874054c07a7257": {
          "model_module": "@jupyter-widgets/controls",
          "model_name": "IntSliderModel",
          "state": {
            "_view_name": "IntSliderView",
            "style": "IPY_MODEL_b424a101ea014f15b4d89c96d64a0a28",
            "_dom_classes": [],
            "description": "x",
            "step": 1,
            "_model_name": "IntSliderModel",
            "orientation": "horizontal",
            "max": 60,
            "_view_module": "@jupyter-widgets/controls",
            "_model_module_version": "1.5.0",
            "value": 8,
            "_view_count": null,
            "disabled": false,
            "_view_module_version": "1.5.0",
            "min": -20,
            "continuous_update": true,
            "readout_format": "d",
            "description_tooltip": null,
            "readout": true,
            "_model_module": "@jupyter-widgets/controls",
            "layout": "IPY_MODEL_2746cf6c568e43fe8db64e0d9ca8fb96"
          }
        },
        "01f2e2e8265945eeb2f824b4c587bf42": {
          "model_module": "@jupyter-widgets/controls",
          "model_name": "IntSliderModel",
          "state": {
            "_view_name": "IntSliderView",
            "style": "IPY_MODEL_94177e26f63048e8b0ea9d4e173c6e23",
            "_dom_classes": [],
            "description": "y",
            "step": 1,
            "_model_name": "IntSliderModel",
            "orientation": "horizontal",
            "max": 90,
            "_view_module": "@jupyter-widgets/controls",
            "_model_module_version": "1.5.0",
            "value": 10,
            "_view_count": null,
            "disabled": false,
            "_view_module_version": "1.5.0",
            "min": -30,
            "continuous_update": true,
            "readout_format": "d",
            "description_tooltip": null,
            "readout": true,
            "_model_module": "@jupyter-widgets/controls",
            "layout": "IPY_MODEL_2039af91a6e940a68c8ca2bb1439afc7"
          }
        },
        "0fb225d208bd41ad9e79a25ec1f4c216": {
          "model_module": "@jupyter-widgets/output",
          "model_name": "OutputModel",
          "state": {
            "_view_name": "OutputView",
            "msg_id": "",
            "_dom_classes": [],
            "_model_name": "OutputModel",
            "outputs": [
              {
                "output_type": "stream",
                "metadata": {
                  "tags": []
                },
                "text": "8 10\n",
                "stream": "stdout"
              },
              {
                "output_type": "display_data",
                "metadata": {
                  "tags": []
                },
                "text/plain": "(8, 10)"
              }
            ],
            "_view_module": "@jupyter-widgets/output",
            "_model_module_version": "1.0.0",
            "_view_count": null,
            "_view_module_version": "1.0.0",
            "layout": "IPY_MODEL_d43a430fdf954ed6923a8060d6f76983",
            "_model_module": "@jupyter-widgets/output"
          }
        },
        "b424a101ea014f15b4d89c96d64a0a28": {
          "model_module": "@jupyter-widgets/controls",
          "model_name": "SliderStyleModel",
          "state": {
            "_view_name": "StyleView",
            "handle_color": null,
            "_model_name": "SliderStyleModel",
            "description_width": "",
            "_view_module": "@jupyter-widgets/base",
            "_model_module_version": "1.5.0",
            "_view_count": null,
            "_view_module_version": "1.2.0",
            "_model_module": "@jupyter-widgets/controls"
          }
        },
        "2746cf6c568e43fe8db64e0d9ca8fb96": {
          "model_module": "@jupyter-widgets/base",
          "model_name": "LayoutModel",
          "state": {
            "_view_name": "LayoutView",
            "grid_template_rows": null,
            "right": null,
            "justify_content": null,
            "_view_module": "@jupyter-widgets/base",
            "overflow": null,
            "_model_module_version": "1.2.0",
            "_view_count": null,
            "flex_flow": null,
            "width": null,
            "min_width": null,
            "border": null,
            "align_items": null,
            "bottom": null,
            "_model_module": "@jupyter-widgets/base",
            "top": null,
            "grid_column": null,
            "overflow_y": null,
            "overflow_x": null,
            "grid_auto_flow": null,
            "grid_area": null,
            "grid_template_columns": null,
            "flex": null,
            "_model_name": "LayoutModel",
            "justify_items": null,
            "grid_row": null,
            "max_height": null,
            "align_content": null,
            "visibility": null,
            "align_self": null,
            "height": null,
            "min_height": null,
            "padding": null,
            "grid_auto_rows": null,
            "grid_gap": null,
            "max_width": null,
            "order": null,
            "_view_module_version": "1.2.0",
            "grid_template_areas": null,
            "object_position": null,
            "object_fit": null,
            "grid_auto_columns": null,
            "margin": null,
            "display": null,
            "left": null
          }
        },
        "94177e26f63048e8b0ea9d4e173c6e23": {
          "model_module": "@jupyter-widgets/controls",
          "model_name": "SliderStyleModel",
          "state": {
            "_view_name": "StyleView",
            "handle_color": null,
            "_model_name": "SliderStyleModel",
            "description_width": "",
            "_view_module": "@jupyter-widgets/base",
            "_model_module_version": "1.5.0",
            "_view_count": null,
            "_view_module_version": "1.2.0",
            "_model_module": "@jupyter-widgets/controls"
          }
        },
        "2039af91a6e940a68c8ca2bb1439afc7": {
          "model_module": "@jupyter-widgets/base",
          "model_name": "LayoutModel",
          "state": {
            "_view_name": "LayoutView",
            "grid_template_rows": null,
            "right": null,
            "justify_content": null,
            "_view_module": "@jupyter-widgets/base",
            "overflow": null,
            "_model_module_version": "1.2.0",
            "_view_count": null,
            "flex_flow": null,
            "width": null,
            "min_width": null,
            "border": null,
            "align_items": null,
            "bottom": null,
            "_model_module": "@jupyter-widgets/base",
            "top": null,
            "grid_column": null,
            "overflow_y": null,
            "overflow_x": null,
            "grid_auto_flow": null,
            "grid_area": null,
            "grid_template_columns": null,
            "flex": null,
            "_model_name": "LayoutModel",
            "justify_items": null,
            "grid_row": null,
            "max_height": null,
            "align_content": null,
            "visibility": null,
            "align_self": null,
            "height": null,
            "min_height": null,
            "padding": null,
            "grid_auto_rows": null,
            "grid_gap": null,
            "max_width": null,
            "order": null,
            "_view_module_version": "1.2.0",
            "grid_template_areas": null,
            "object_position": null,
            "object_fit": null,
            "grid_auto_columns": null,
            "margin": null,
            "display": null,
            "left": null
          }
        },
        "d43a430fdf954ed6923a8060d6f76983": {
          "model_module": "@jupyter-widgets/base",
          "model_name": "LayoutModel",
          "state": {
            "_view_name": "LayoutView",
            "grid_template_rows": null,
            "right": null,
            "justify_content": null,
            "_view_module": "@jupyter-widgets/base",
            "overflow": null,
            "_model_module_version": "1.2.0",
            "_view_count": null,
            "flex_flow": null,
            "width": null,
            "min_width": null,
            "border": null,
            "align_items": null,
            "bottom": null,
            "_model_module": "@jupyter-widgets/base",
            "top": null,
            "grid_column": null,
            "overflow_y": null,
            "overflow_x": null,
            "grid_auto_flow": null,
            "grid_area": null,
            "grid_template_columns": null,
            "flex": null,
            "_model_name": "LayoutModel",
            "justify_items": null,
            "grid_row": null,
            "max_height": null,
            "align_content": null,
            "visibility": null,
            "align_self": null,
            "height": null,
            "min_height": null,
            "padding": null,
            "grid_auto_rows": null,
            "grid_gap": null,
            "max_width": null,
            "order": null,
            "_view_module_version": "1.2.0",
            "grid_template_areas": null,
            "object_position": null,
            "object_fit": null,
            "grid_auto_columns": null,
            "margin": null,
            "display": null,
            "left": null
          }
        },
        "de149f924a2749cfa5c82e25e22b7a88": {
          "model_module": "@jupyter-widgets/controls",
          "model_name": "VBoxModel",
          "state": {
            "_view_name": "VBoxView",
            "_dom_classes": [
              "widget-interact"
            ],
            "_model_name": "VBoxModel",
            "_view_module": "@jupyter-widgets/controls",
            "_model_module_version": "1.5.0",
            "_view_count": null,
            "_view_module_version": "1.5.0",
            "box_style": "",
            "layout": "IPY_MODEL_0fb30849237842638382d601a15bc2c4",
            "_model_module": "@jupyter-widgets/controls",
            "children": [
              "IPY_MODEL_f6680cb4bc494531849bc688e03ad400",
              "IPY_MODEL_be3e3dbeba934c758347dcd2a5b4ddda",
              "IPY_MODEL_679248c9ce1f421c8e840669c650cbb6",
              "IPY_MODEL_847c4b7af141414ebc90b0f9fc23e8c0"
            ]
          }
        },
        "0fb30849237842638382d601a15bc2c4": {
          "model_module": "@jupyter-widgets/base",
          "model_name": "LayoutModel",
          "state": {
            "_view_name": "LayoutView",
            "grid_template_rows": null,
            "right": null,
            "justify_content": null,
            "_view_module": "@jupyter-widgets/base",
            "overflow": null,
            "_model_module_version": "1.2.0",
            "_view_count": null,
            "flex_flow": null,
            "width": null,
            "min_width": null,
            "border": null,
            "align_items": null,
            "bottom": null,
            "_model_module": "@jupyter-widgets/base",
            "top": null,
            "grid_column": null,
            "overflow_y": null,
            "overflow_x": null,
            "grid_auto_flow": null,
            "grid_area": null,
            "grid_template_columns": null,
            "flex": null,
            "_model_name": "LayoutModel",
            "justify_items": null,
            "grid_row": null,
            "max_height": null,
            "align_content": null,
            "visibility": null,
            "align_self": null,
            "height": null,
            "min_height": null,
            "padding": null,
            "grid_auto_rows": null,
            "grid_gap": null,
            "max_width": null,
            "order": null,
            "_view_module_version": "1.2.0",
            "grid_template_areas": null,
            "object_position": null,
            "object_fit": null,
            "grid_auto_columns": null,
            "margin": null,
            "display": null,
            "left": null
          }
        },
        "f6680cb4bc494531849bc688e03ad400": {
          "model_module": "@jupyter-widgets/controls",
          "model_name": "FloatSliderModel",
          "state": {
            "_view_name": "FloatSliderView",
            "style": "IPY_MODEL_3d6ba0c7fb5f45bfb2cf5a46bfeed489",
            "_dom_classes": [],
            "description": "input1",
            "step": 0.1,
            "_model_name": "FloatSliderModel",
            "orientation": "horizontal",
            "max": 7,
            "_view_module": "@jupyter-widgets/controls",
            "_model_module_version": "1.5.0",
            "value": 3,
            "_view_count": null,
            "disabled": false,
            "_view_module_version": "1.5.0",
            "min": 0,
            "continuous_update": true,
            "readout_format": ".2f",
            "description_tooltip": null,
            "readout": true,
            "_model_module": "@jupyter-widgets/controls",
            "layout": "IPY_MODEL_2ba9d30b8cce4c72bfb674ce14e4f0de"
          }
        },
        "be3e3dbeba934c758347dcd2a5b4ddda": {
          "model_module": "@jupyter-widgets/controls",
          "model_name": "FloatSliderModel",
          "state": {
            "_view_name": "FloatSliderView",
            "style": "IPY_MODEL_d74784eb48ee4f99a13bdbe1454cb51a",
            "_dom_classes": [],
            "description": "input2",
            "step": 0.1,
            "_model_name": "FloatSliderModel",
            "orientation": "horizontal",
            "max": 7,
            "_view_module": "@jupyter-widgets/controls",
            "_model_module_version": "1.5.0",
            "value": 4,
            "_view_count": null,
            "disabled": false,
            "_view_module_version": "1.5.0",
            "min": 0,
            "continuous_update": true,
            "readout_format": ".2f",
            "description_tooltip": null,
            "readout": true,
            "_model_module": "@jupyter-widgets/controls",
            "layout": "IPY_MODEL_f1756c16e08e465e814d6827c3557965"
          }
        },
        "679248c9ce1f421c8e840669c650cbb6": {
          "model_module": "@jupyter-widgets/controls",
          "model_name": "DropdownModel",
          "state": {
            "_options_labels": [
              "fmax",
              "fmin",
              "multiply"
            ],
            "_view_name": "DropdownView",
            "style": "IPY_MODEL_4451c135626342c9b5c403e511511fa2",
            "_dom_classes": [],
            "description": "Type",
            "_model_name": "DropdownModel",
            "index": 0,
            "_view_module": "@jupyter-widgets/controls",
            "_model_module_version": "1.5.0",
            "_view_count": null,
            "disabled": false,
            "_view_module_version": "1.5.0",
            "description_tooltip": null,
            "_model_module": "@jupyter-widgets/controls",
            "layout": "IPY_MODEL_f675c40513e44dc283bcc5f004c135e0"
          }
        },
        "847c4b7af141414ebc90b0f9fc23e8c0": {
          "model_module": "@jupyter-widgets/output",
          "model_name": "OutputModel",
          "state": {
            "_view_name": "OutputView",
            "msg_id": "",
            "_dom_classes": [],
            "_model_name": "OutputModel",
            "outputs": [
              {
                "output_type": "stream",
                "metadata": {
                  "tags": []
                },
                "text": "IF x1[low] AND x2[small] THEN y[bad]\n\tAND aggregation function : fmax\n\tOR aggregation function  : fmax\nIF x1[high] AND x2[big] THEN y[good]\n\tAND aggregation function : fmax\n\tOR aggregation function  : fmax\n----------------------------\ny  : 2.500000000000001\n----------------------------\nx1 : 3.0\nx2 : 4.0\n\n",
                "stream": "stdout"
              },
              {
                "output_type": "display_data",
                "metadata": {
                  "tags": [],
                  "needs_background": "light"
                },
                "image/png": "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\n",
                "text/plain": "<Figure size 432x288 with 1 Axes>"
              },
              {
                "output_type": "display_data",
                "metadata": {
                  "tags": [],
                  "needs_background": "light"
                },
                "image/png": "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\n",
                "text/plain": "<Figure size 432x288 with 1 Axes>"
              },
              {
                "output_type": "display_data",
                "metadata": {
                  "tags": [],
                  "needs_background": "light"
                },
                "image/png": "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\n",
                "text/plain": "<Figure size 432x288 with 1 Axes>"
              }
            ],
            "_view_module": "@jupyter-widgets/output",
            "_model_module_version": "1.0.0",
            "_view_count": null,
            "_view_module_version": "1.0.0",
            "layout": "IPY_MODEL_1f8ce94f832a45a09447e76a851137b5",
            "_model_module": "@jupyter-widgets/output"
          }
        },
        "3d6ba0c7fb5f45bfb2cf5a46bfeed489": {
          "model_module": "@jupyter-widgets/controls",
          "model_name": "SliderStyleModel",
          "state": {
            "_view_name": "StyleView",
            "handle_color": null,
            "_model_name": "SliderStyleModel",
            "description_width": "",
            "_view_module": "@jupyter-widgets/base",
            "_model_module_version": "1.5.0",
            "_view_count": null,
            "_view_module_version": "1.2.0",
            "_model_module": "@jupyter-widgets/controls"
          }
        },
        "2ba9d30b8cce4c72bfb674ce14e4f0de": {
          "model_module": "@jupyter-widgets/base",
          "model_name": "LayoutModel",
          "state": {
            "_view_name": "LayoutView",
            "grid_template_rows": null,
            "right": null,
            "justify_content": null,
            "_view_module": "@jupyter-widgets/base",
            "overflow": null,
            "_model_module_version": "1.2.0",
            "_view_count": null,
            "flex_flow": null,
            "width": null,
            "min_width": null,
            "border": null,
            "align_items": null,
            "bottom": null,
            "_model_module": "@jupyter-widgets/base",
            "top": null,
            "grid_column": null,
            "overflow_y": null,
            "overflow_x": null,
            "grid_auto_flow": null,
            "grid_area": null,
            "grid_template_columns": null,
            "flex": null,
            "_model_name": "LayoutModel",
            "justify_items": null,
            "grid_row": null,
            "max_height": null,
            "align_content": null,
            "visibility": null,
            "align_self": null,
            "height": null,
            "min_height": null,
            "padding": null,
            "grid_auto_rows": null,
            "grid_gap": null,
            "max_width": null,
            "order": null,
            "_view_module_version": "1.2.0",
            "grid_template_areas": null,
            "object_position": null,
            "object_fit": null,
            "grid_auto_columns": null,
            "margin": null,
            "display": null,
            "left": null
          }
        },
        "d74784eb48ee4f99a13bdbe1454cb51a": {
          "model_module": "@jupyter-widgets/controls",
          "model_name": "SliderStyleModel",
          "state": {
            "_view_name": "StyleView",
            "handle_color": null,
            "_model_name": "SliderStyleModel",
            "description_width": "",
            "_view_module": "@jupyter-widgets/base",
            "_model_module_version": "1.5.0",
            "_view_count": null,
            "_view_module_version": "1.2.0",
            "_model_module": "@jupyter-widgets/controls"
          }
        },
        "f1756c16e08e465e814d6827c3557965": {
          "model_module": "@jupyter-widgets/base",
          "model_name": "LayoutModel",
          "state": {
            "_view_name": "LayoutView",
            "grid_template_rows": null,
            "right": null,
            "justify_content": null,
            "_view_module": "@jupyter-widgets/base",
            "overflow": null,
            "_model_module_version": "1.2.0",
            "_view_count": null,
            "flex_flow": null,
            "width": null,
            "min_width": null,
            "border": null,
            "align_items": null,
            "bottom": null,
            "_model_module": "@jupyter-widgets/base",
            "top": null,
            "grid_column": null,
            "overflow_y": null,
            "overflow_x": null,
            "grid_auto_flow": null,
            "grid_area": null,
            "grid_template_columns": null,
            "flex": null,
            "_model_name": "LayoutModel",
            "justify_items": null,
            "grid_row": null,
            "max_height": null,
            "align_content": null,
            "visibility": null,
            "align_self": null,
            "height": null,
            "min_height": null,
            "padding": null,
            "grid_auto_rows": null,
            "grid_gap": null,
            "max_width": null,
            "order": null,
            "_view_module_version": "1.2.0",
            "grid_template_areas": null,
            "object_position": null,
            "object_fit": null,
            "grid_auto_columns": null,
            "margin": null,
            "display": null,
            "left": null
          }
        },
        "4451c135626342c9b5c403e511511fa2": {
          "model_module": "@jupyter-widgets/controls",
          "model_name": "DescriptionStyleModel",
          "state": {
            "_view_name": "StyleView",
            "_model_name": "DescriptionStyleModel",
            "description_width": "",
            "_view_module": "@jupyter-widgets/base",
            "_model_module_version": "1.5.0",
            "_view_count": null,
            "_view_module_version": "1.2.0",
            "_model_module": "@jupyter-widgets/controls"
          }
        },
        "f675c40513e44dc283bcc5f004c135e0": {
          "model_module": "@jupyter-widgets/base",
          "model_name": "LayoutModel",
          "state": {
            "_view_name": "LayoutView",
            "grid_template_rows": null,
            "right": null,
            "justify_content": null,
            "_view_module": "@jupyter-widgets/base",
            "overflow": null,
            "_model_module_version": "1.2.0",
            "_view_count": null,
            "flex_flow": null,
            "width": null,
            "min_width": null,
            "border": null,
            "align_items": null,
            "bottom": null,
            "_model_module": "@jupyter-widgets/base",
            "top": null,
            "grid_column": null,
            "overflow_y": null,
            "overflow_x": null,
            "grid_auto_flow": null,
            "grid_area": null,
            "grid_template_columns": null,
            "flex": null,
            "_model_name": "LayoutModel",
            "justify_items": null,
            "grid_row": null,
            "max_height": null,
            "align_content": null,
            "visibility": null,
            "align_self": null,
            "height": null,
            "min_height": null,
            "padding": null,
            "grid_auto_rows": null,
            "grid_gap": null,
            "max_width": null,
            "order": null,
            "_view_module_version": "1.2.0",
            "grid_template_areas": null,
            "object_position": null,
            "object_fit": null,
            "grid_auto_columns": null,
            "margin": null,
            "display": null,
            "left": null
          }
        },
        "1f8ce94f832a45a09447e76a851137b5": {
          "model_module": "@jupyter-widgets/base",
          "model_name": "LayoutModel",
          "state": {
            "_view_name": "LayoutView",
            "grid_template_rows": null,
            "right": null,
            "justify_content": null,
            "_view_module": "@jupyter-widgets/base",
            "overflow": null,
            "_model_module_version": "1.2.0",
            "_view_count": null,
            "flex_flow": null,
            "width": null,
            "min_width": null,
            "border": null,
            "align_items": null,
            "bottom": null,
            "_model_module": "@jupyter-widgets/base",
            "top": null,
            "grid_column": null,
            "overflow_y": null,
            "overflow_x": null,
            "grid_auto_flow": null,
            "grid_area": null,
            "grid_template_columns": null,
            "flex": null,
            "_model_name": "LayoutModel",
            "justify_items": null,
            "grid_row": null,
            "max_height": null,
            "align_content": null,
            "visibility": null,
            "align_self": null,
            "height": null,
            "min_height": null,
            "padding": null,
            "grid_auto_rows": null,
            "grid_gap": null,
            "max_width": null,
            "order": null,
            "_view_module_version": "1.2.0",
            "grid_template_areas": null,
            "object_position": null,
            "object_fit": null,
            "grid_auto_columns": null,
            "margin": null,
            "display": null,
            "left": null
          }
        }
      }
    }
  },
  "cells": [
    {
      "cell_type": "markdown",
      "metadata": {
        "id": "view-in-github",
        "colab_type": "text"
      },
      "source": [
        "<a href=\"https://colab.research.google.com/github/JoDeMiro/Ember/blob/main/Fuzzy_My_own_example_Interactive.ipynb\" target=\"_parent\"><img src=\"https://colab.research.google.com/assets/colab-badge.svg\" alt=\"Open In Colab\"/></a>"
      ]
    },
    {
      "cell_type": "code",
      "metadata": {
        "id": "Nz0cWTXv3BhX"
      },
      "source": [
        ""
      ],
      "execution_count": null,
      "outputs": []
    },
    {
      "cell_type": "code",
      "metadata": {
        "id": "Nq1mxd2p3JPm"
      },
      "source": [
        "%%capture\n",
        "!pip install scikit-fuzzy"
      ],
      "execution_count": null,
      "outputs": []
    },
    {
      "cell_type": "code",
      "metadata": {
        "id": "uyJj4OML3JNS"
      },
      "source": [
        "import numpy as np\n",
        "import skfuzzy as fuzzy\n",
        "from skfuzzy import control as ctrl\n",
        "\n",
        "from ipywidgets import IntSlider\n",
        "from ipywidgets import HTML"
      ],
      "execution_count": null,
      "outputs": []
    },
    {
      "cell_type": "code",
      "metadata": {
        "colab": {
          "base_uri": "https://localhost:8080/",
          "height": 49,
          "referenced_widgets": [
            "b3dae91982504e85bc3cfa54af6326e4",
            "b5432be948bb4122b81a032b25b67a75",
            "ecea9ac138a849be9890e44d4083decb"
          ]
        },
        "id": "nm0YItDf3JKy",
        "outputId": "fb10dd53-90a3-4eec-eb32-fe197e111107"
      },
      "source": [
        "slider = IntSlider(value=50)\n",
        "slider"
      ],
      "execution_count": null,
      "outputs": [
        {
          "output_type": "display_data",
          "data": {
            "application/vnd.jupyter.widget-view+json": {
              "model_id": "b3dae91982504e85bc3cfa54af6326e4",
              "version_minor": 0,
              "version_major": 2
            },
            "text/plain": [
              "IntSlider(value=50)"
            ]
          },
          "metadata": {
            "tags": []
          }
        }
      ]
    },
    {
      "cell_type": "code",
      "metadata": {
        "colab": {
          "base_uri": "https://localhost:8080/",
          "height": 49,
          "referenced_widgets": [
            "f49ee0bd8a5a4d85a69ee2b19b603fa5",
            "3fea20e0d55145c9be7e5b4e5d4c3056",
            "5e25bd95e83e4f069046662b74d2d64a"
          ]
        },
        "id": "uDF89DoT5wwa",
        "outputId": "19b9f549-3fde-4e23-c60a-3643a4c7d87c"
      },
      "source": [
        "slider2 = IntSlider(value=30)\n",
        "slider2"
      ],
      "execution_count": null,
      "outputs": [
        {
          "output_type": "display_data",
          "data": {
            "application/vnd.jupyter.widget-view+json": {
              "model_id": "f49ee0bd8a5a4d85a69ee2b19b603fa5",
              "version_minor": 0,
              "version_major": 2
            },
            "text/plain": [
              "IntSlider(value=30)"
            ]
          },
          "metadata": {
            "tags": []
          }
        }
      ]
    },
    {
      "cell_type": "code",
      "metadata": {
        "colab": {
          "base_uri": "https://localhost:8080/",
          "height": 49,
          "referenced_widgets": [
            "8e71f392c3f547bcbd07a15026eeb36a",
            "d95f92261ac84bcea3f8ff271e1a13b3",
            "70249d2d3b9d4d679eff8eca4ae354e3"
          ]
        },
        "id": "gwrOLqy93Rpe",
        "outputId": "53a5977d-f36b-41e8-c6b7-dbbb1aaddcd1"
      },
      "source": [
        "text = HTML(\"The silder value is <b>{}</b>\".format(slider.value))\n",
        "\n",
        "text"
      ],
      "execution_count": null,
      "outputs": [
        {
          "output_type": "display_data",
          "data": {
            "application/vnd.jupyter.widget-view+json": {
              "model_id": "8e71f392c3f547bcbd07a15026eeb36a",
              "version_minor": 0,
              "version_major": 2
            },
            "text/plain": [
              "HTML(value='The silder value is <b>50</b>')"
            ]
          },
          "metadata": {
            "tags": []
          }
        }
      ]
    },
    {
      "cell_type": "code",
      "metadata": {
        "colab": {
          "base_uri": "https://localhost:8080/",
          "height": 49,
          "referenced_widgets": [
            "4aac5358cbea41c18cb55914171352e7",
            "c2dfae762093485d9c2179744fd6ef0c",
            "a9bba58b489c48e8bf7cc7bf0e25f82d"
          ]
        },
        "id": "zfWr4W8D50Lm",
        "outputId": "e39c8a1c-7e05-402f-8561-2e2c84ac204c"
      },
      "source": [
        "text2 = HTML(\"The silder 2 value is <b>{}</b>\".format(slider2.value))\n",
        "\n",
        "text2"
      ],
      "execution_count": null,
      "outputs": [
        {
          "output_type": "display_data",
          "data": {
            "application/vnd.jupyter.widget-view+json": {
              "model_id": "4aac5358cbea41c18cb55914171352e7",
              "version_minor": 0,
              "version_major": 2
            },
            "text/plain": [
              "HTML(value='The silder 2 value is <b>30</b>')"
            ]
          },
          "metadata": {
            "tags": []
          }
        }
      ]
    },
    {
      "cell_type": "code",
      "metadata": {
        "id": "MXQYvzGZ3W6L"
      },
      "source": [
        "def update_html(change):\n",
        "  text.value = \"The slider value is <b>{}</b>\".format(slider.value)\n",
        "  text2.value = \"The slider value is <i>{}</i>\".format(slider2.value)\n",
        "\n",
        "def function():\n",
        "  print(slider2.value * 20)\n",
        "\n",
        "# Execute callback whenever the slider value is changed\n",
        "slider.observe(update_html, 'value')\n",
        "slider2.observe(update_html, 'value')"
      ],
      "execution_count": null,
      "outputs": []
    },
    {
      "cell_type": "code",
      "metadata": {
        "id": "SMUFdvCZ3wS9"
      },
      "source": [
        "from __future__ import print_function\n",
        "from ipywidgets import interact, interactive, fixed, interact_manual\n",
        "import ipywidgets as widgets"
      ],
      "execution_count": null,
      "outputs": []
    },
    {
      "cell_type": "code",
      "metadata": {
        "id": "K0zje_s64FED"
      },
      "source": [
        "def f(x):\n",
        "    print(x)\n",
        "    return x\n",
        "\n",
        "def z(x, y):\n",
        "  print(x, y)\n",
        "  return x, y"
      ],
      "execution_count": null,
      "outputs": []
    },
    {
      "cell_type": "code",
      "metadata": {
        "colab": {
          "base_uri": "https://localhost:8080/",
          "height": 83,
          "referenced_widgets": [
            "f62b1bef38d7440499bfe9556971fbef",
            "0f140c55b14e4ff782ebe8ec6348fffa",
            "15aa92ff18ac417a8930705364db4d11",
            "fb475174dca5460ab139d2b0d19abce3",
            "d160b04c8d9a4b3893144789621e2733",
            "d88a24f8b71b4803b3a1028617fff239",
            "3cfe1e00e31b49d9953141fb60151920"
          ]
        },
        "id": "SFt0TfB77XBx",
        "outputId": "317362b4-4463-45dc-c1af-ca0fc9b9bfe5"
      },
      "source": [
        "interact(f, x=10);"
      ],
      "execution_count": null,
      "outputs": [
        {
          "output_type": "display_data",
          "data": {
            "application/vnd.jupyter.widget-view+json": {
              "model_id": "f62b1bef38d7440499bfe9556971fbef",
              "version_minor": 0,
              "version_major": 2
            },
            "text/plain": [
              "interactive(children=(IntSlider(value=10, description='x', max=30, min=-10), Output()), _dom_classes=('widget-…"
            ]
          },
          "metadata": {
            "tags": []
          }
        }
      ]
    },
    {
      "cell_type": "code",
      "metadata": {
        "colab": {
          "base_uri": "https://localhost:8080/",
          "height": 132,
          "referenced_widgets": [
            "91cbb18259304a60acca7f1bd746b47e",
            "364bdf5d75ee496d9659dcc711b01056",
            "be8a68cc4f4340b58b51bd4fe89a7195",
            "70724811627247aaa61e790a18a7663f",
            "82e91aaa72e94813b1a57cfabdaec7e1",
            "073e098daa264e288881c5979bb4494d",
            "7271f24f0df341e79c49e2d3a2d62413",
            "81ca0d6ade54468798e326a57c8643d6",
            "a9b92ba0d8b4471f80071bb36d008c2a",
            "58c5feee09624d0aa6ec214a4a2adbbc"
          ]
        },
        "id": "3S2J3p5l8Hbp",
        "outputId": "24a0cd52-ed38-4b92-c80a-957bfbd5d6ab"
      },
      "source": [
        "interact(z, x=10, y=20)"
      ],
      "execution_count": null,
      "outputs": [
        {
          "output_type": "display_data",
          "data": {
            "application/vnd.jupyter.widget-view+json": {
              "model_id": "91cbb18259304a60acca7f1bd746b47e",
              "version_minor": 0,
              "version_major": 2
            },
            "text/plain": [
              "interactive(children=(IntSlider(value=10, description='x', max=30, min=-10), IntSlider(value=20, description='…"
            ]
          },
          "metadata": {
            "tags": []
          }
        },
        {
          "output_type": "execute_result",
          "data": {
            "text/plain": [
              "<function __main__.z>"
            ]
          },
          "metadata": {
            "tags": []
          },
          "execution_count": 46
        }
      ]
    },
    {
      "cell_type": "code",
      "metadata": {
        "id": "gVGocR678YZk"
      },
      "source": [
        "def fuzzyDemo(x, y):\n",
        "  print(x, y)\n",
        "  return(x, y)"
      ],
      "execution_count": null,
      "outputs": []
    },
    {
      "cell_type": "code",
      "metadata": {
        "colab": {
          "base_uri": "https://localhost:8080/",
          "height": 132,
          "referenced_widgets": [
            "d4b3e9cb20e54aca8b2d7b75c6cecd9b",
            "c1149e91383742a5916d25e2a0806512",
            "ee5e239710c64077a3874054c07a7257",
            "01f2e2e8265945eeb2f824b4c587bf42",
            "0fb225d208bd41ad9e79a25ec1f4c216",
            "b424a101ea014f15b4d89c96d64a0a28",
            "2746cf6c568e43fe8db64e0d9ca8fb96",
            "94177e26f63048e8b0ea9d4e173c6e23",
            "2039af91a6e940a68c8ca2bb1439afc7",
            "d43a430fdf954ed6923a8060d6f76983"
          ]
        },
        "id": "dI5VzTV_8n4q",
        "outputId": "fa151c64-cc82-4fa1-a460-f0532e86a645"
      },
      "source": [
        "interact(fuzzyDemo, x=20, y=30)"
      ],
      "execution_count": null,
      "outputs": [
        {
          "output_type": "display_data",
          "data": {
            "application/vnd.jupyter.widget-view+json": {
              "model_id": "d4b3e9cb20e54aca8b2d7b75c6cecd9b",
              "version_minor": 0,
              "version_major": 2
            },
            "text/plain": [
              "interactive(children=(IntSlider(value=20, description='x', max=60, min=-20), IntSlider(value=30, description='…"
            ]
          },
          "metadata": {
            "tags": []
          }
        },
        {
          "output_type": "execute_result",
          "data": {
            "text/plain": [
              "<function __main__.fuzzyDemo>"
            ]
          },
          "metadata": {
            "tags": []
          },
          "execution_count": 49
        }
      ]
    },
    {
      "cell_type": "code",
      "metadata": {
        "id": "PD9ORV-gHKkh"
      },
      "source": [
        ""
      ],
      "execution_count": null,
      "outputs": []
    },
    {
      "cell_type": "code",
      "metadata": {
        "id": "KozB2h31HKie"
      },
      "source": [
        ""
      ],
      "execution_count": null,
      "outputs": []
    },
    {
      "cell_type": "code",
      "metadata": {
        "id": "-ZYj9VmDHKf-"
      },
      "source": [
        ""
      ],
      "execution_count": null,
      "outputs": []
    },
    {
      "cell_type": "code",
      "metadata": {
        "id": "xmJdFetbHKWl"
      },
      "source": [
        ""
      ],
      "execution_count": null,
      "outputs": []
    },
    {
      "cell_type": "code",
      "metadata": {
        "id": "tcNq-QTa8r28"
      },
      "source": [
        "x1 = ctrl.Antecedent(np.arange(0, 7.1, 0.1), 'x1')\n",
        "\n",
        "x2 = ctrl.Antecedent(np.arange(0, 7.1, 0.1), 'x2')\n",
        "\n",
        "y  = ctrl.Consequent(np.arange(0, 7.1, 0.1), 'y')"
      ],
      "execution_count": null,
      "outputs": []
    },
    {
      "cell_type": "code",
      "metadata": {
        "colab": {
          "base_uri": "https://localhost:8080/",
          "height": 298
        },
        "id": "A-9LlTgU9It-",
        "outputId": "3dd32f46-d865-4f71-9193-d9ce2c942c05"
      },
      "source": [
        "x1.view()"
      ],
      "execution_count": null,
      "outputs": [
        {
          "output_type": "stream",
          "text": [
            "No handles with labels found to put in legend.\n"
          ],
          "name": "stderr"
        },
        {
          "output_type": "display_data",
          "data": {
            "image/png": "[encoded data removed]",
            "text/plain": [
              "<Figure size 432x288 with 1 Axes>"
            ]
          },
          "metadata": {
            "tags": [],
            "needs_background": "light"
          }
        }
      ]
    },
    {
      "cell_type": "code",
      "metadata": {
        "colab": {
          "base_uri": "https://localhost:8080/"
        },
        "id": "_-7v_6t39QLk",
        "outputId": "f6e98bc5-b03c-4bf8-b3fa-fae84e906025"
      },
      "source": [
        "x1.universe"
      ],
      "execution_count": null,
      "outputs": [
        {
          "output_type": "execute_result",
          "data": {
            "text/plain": [
              "array([0. , 0.1, 0.2, 0.3, 0.4, 0.5, 0.6, 0.7, 0.8, 0.9, 1. , 1.1, 1.2,\n",
              "       1.3, 1.4, 1.5, 1.6, 1.7, 1.8, 1.9, 2. , 2.1, 2.2, 2.3, 2.4, 2.5,\n",
              "       2.6, 2.7, 2.8, 2.9, 3. , 3.1, 3.2, 3.3, 3.4, 3.5, 3.6, 3.7, 3.8,\n",
              "       3.9, 4. , 4.1, 4.2, 4.3, 4.4, 4.5, 4.6, 4.7, 4.8, 4.9, 5. , 5.1,\n",
              "       5.2, 5.3, 5.4, 5.5, 5.6, 5.7, 5.8, 5.9, 6. , 6.1, 6.2, 6.3, 6.4,\n",
              "       6.5, 6.6, 6.7, 6.8, 6.9, 7. ])"
            ]
          },
          "metadata": {
            "tags": []
          },
          "execution_count": 183
        }
      ]
    },
    {
      "cell_type": "code",
      "metadata": {
        "id": "KlD7TtYo9SPK"
      },
      "source": [
        "x1['low'] = fuzzy.trimf(x1.universe, [1.0, 2.5, 4])"
      ],
      "execution_count": null,
      "outputs": []
    },
    {
      "cell_type": "code",
      "metadata": {
        "colab": {
          "base_uri": "https://localhost:8080/",
          "height": 281
        },
        "id": "qco3YqRa9Vk0",
        "outputId": "af5ac422-fbda-415c-961c-5f9c13161d31"
      },
      "source": [
        "x1.view()"
      ],
      "execution_count": null,
      "outputs": [
        {
          "output_type": "display_data",
          "data": {
            "image/png": "[encoded data removed]",
            "text/plain": [
              "<Figure size 432x288 with 1 Axes>"
            ]
          },
          "metadata": {
            "tags": [],
            "needs_background": "light"
          }
        }
      ]
    },
    {
      "cell_type": "code",
      "metadata": {
        "id": "trgpGPeF9aJ6"
      },
      "source": [
        "x1['high'] = fuzzy.trimf(x1.universe, [2.0, 3.5, 5.0])"
      ],
      "execution_count": null,
      "outputs": []
    },
    {
      "cell_type": "code",
      "metadata": {
        "colab": {
          "base_uri": "https://localhost:8080/",
          "height": 281
        },
        "id": "AGDL8qRq9cqC",
        "outputId": "f08a87f2-9508-42d5-ed9f-dd6ba48e366b"
      },
      "source": [
        "x1.view()"
      ],
      "execution_count": null,
      "outputs": [
        {
          "output_type": "display_data",
          "data": {
            "image/png": "[encoded data removed]",
            "text/plain": [
              "<Figure size 432x288 with 1 Axes>"
            ]
          },
          "metadata": {
            "tags": [],
            "needs_background": "light"
          }
        }
      ]
    },
    {
      "cell_type": "code",
      "metadata": {
        "id": "vxW-k3Fb9dqz"
      },
      "source": [
        "x1.defuzzify_method = 'centroid'      # Center of Gravity"
      ],
      "execution_count": null,
      "outputs": []
    },
    {
      "cell_type": "code",
      "metadata": {
        "colab": {
          "base_uri": "https://localhost:8080/",
          "height": 281
        },
        "id": "n3Wrmz829hF1",
        "outputId": "ac72ce28-1093-4a26-abd7-4c47f3672cdf"
      },
      "source": [
        "x2['small'] = fuzzy.trimf(x2.universe, [1.0, 3.0, 5.0])\n",
        "x2['big']   = fuzzy.trimf(x2.universe, [3.0, 5.0, 7.0])\n",
        "\n",
        "x2.view()"
      ],
      "execution_count": null,
      "outputs": [
        {
          "output_type": "display_data",
          "data": {
            "image/png": "[encoded data removed]",
            "text/plain": [
              "<Figure size 432x288 with 1 Axes>"
            ]
          },
          "metadata": {
            "tags": [],
            "needs_background": "light"
          }
        }
      ]
    },
    {
      "cell_type": "code",
      "metadata": {
        "colab": {
          "base_uri": "https://localhost:8080/",
          "height": 281
        },
        "id": "UD9s7XlJ9jY9",
        "outputId": "2ac79356-bd4f-43a7-b96f-36c2a446ba70"
      },
      "source": [
        "y['bad']  = fuzzy.trimf(y.universe, [1.0, 2.0, 3.0])\n",
        "y['good'] = fuzzy.trimf(y.universe, [2.0, 3.0, 4.0])\n",
        "\n",
        "y.view()"
      ],
      "execution_count": null,
      "outputs": [
        {
          "output_type": "display_data",
          "data": {
            "image/png": "[encoded data removed]",
            "text/plain": [
              "<Figure size 432x288 with 1 Axes>"
            ]
          },
          "metadata": {
            "tags": [],
            "needs_background": "light"
          }
        }
      ]
    },
    {
      "cell_type": "code",
      "metadata": {
        "id": "KKjVN3tm-zgk"
      },
      "source": [
        "def setRules(np_type = 'fmin'):\n",
        "\n",
        "  if( np_type == 'multiply'):\n",
        "    n = np.multiply\n",
        "  elif( np_type == 'fmin'):\n",
        "    n = np.fmin\n",
        "  elif( np_type == 'fmax'):\n",
        "    n = np.fmax\n",
        "  \n",
        "  rule1 = ctrl.Rule(antecedent = x1['low'] & x2['small'], consequent = y['bad'], and_func = n)\n",
        "  rule2 = ctrl.Rule(antecedent = x1['high'] & x2['big'], consequent = y['good'], and_func = n)\n",
        "\n",
        "  return rule1, rule2"
      ],
      "execution_count": null,
      "outputs": []
    },
    {
      "cell_type": "code",
      "metadata": {
        "id": "5WzLFW3r9ljX"
      },
      "source": [
        "\n",
        "def fuzzyDemo(input1 = 3.0, input2 = 4.0, Type = ['fmax','fmin', 'multiply']):\n",
        "\n",
        "  rule1, rule2 = setRules('fmax')\n",
        "\n",
        "  rule1, rule2 = setRules(Type)\n",
        "\n",
        "  print(rule1)\n",
        "  print(rule2)\n",
        "\n",
        "  system = ctrl.ControlSystem([rule1, rule2])\n",
        "\n",
        "  simulation = ctrl.ControlSystemSimulation(system)\n",
        "\n",
        "  simulation.input['x1'] = input1\n",
        "  simulation.input['x2'] = input2\n",
        "\n",
        "  simulation.compute()\n",
        "\n",
        "  print('----------------------------')\n",
        "  print('y  :', simulation.output['y'])\n",
        "  print('----------------------------')\n",
        "  print(simulation.input)\n",
        "\n",
        "  y.view(sim = simulation)\n",
        "  x1.view(sim = simulation)\n",
        "  x2.view(sim = simulation)\n",
        " \n",
        "  # return(input1, input2)\n",
        "  "
      ],
      "execution_count": null,
      "outputs": []
    },
    {
      "cell_type": "code",
      "metadata": {
        "colab": {
          "base_uri": "https://localhost:8080/",
          "height": 1000,
          "referenced_widgets": [
            "de149f924a2749cfa5c82e25e22b7a88",
            "0fb30849237842638382d601a15bc2c4",
            "f6680cb4bc494531849bc688e03ad400",
            "be3e3dbeba934c758347dcd2a5b4ddda",
            "679248c9ce1f421c8e840669c650cbb6",
            "847c4b7af141414ebc90b0f9fc23e8c0",
            "3d6ba0c7fb5f45bfb2cf5a46bfeed489",
            "2ba9d30b8cce4c72bfb674ce14e4f0de",
            "d74784eb48ee4f99a13bdbe1454cb51a",
            "f1756c16e08e465e814d6827c3557965",
            "4451c135626342c9b5c403e511511fa2",
            "f675c40513e44dc283bcc5f004c135e0",
            "1f8ce94f832a45a09447e76a851137b5"
          ]
        },
        "id": "rsmHTnyJ9zyl",
        "outputId": "f6031775-31af-4205-ea7e-c8827fd4749c"
      },
      "source": [
        "interact(fuzzyDemo, input1=(0.0,7.0), input2=(0.0,7.0), np = ['fmax','fmin', 'multiply'])"
      ],
      "execution_count": null,
      "outputs": [
        {
          "output_type": "display_data",
          "data": {
            "application/vnd.jupyter.widget-view+json": {
              "model_id": "de149f924a2749cfa5c82e25e22b7a88",
              "version_minor": 0,
              "version_major": 2
            },
            "text/plain": [
              "interactive(children=(FloatSlider(value=3.0, description='input1', max=7.0), FloatSlider(value=4.0, descriptio…"
            ]
          },
          "metadata": {
            "tags": []
          }
        },
        {
          "output_type": "execute_result",
          "data": {
            "text/plain": [
              "<function __main__.fuzzyDemo>"
            ]
          },
          "metadata": {
            "tags": []
          },
          "execution_count": 252
        }
      ]
    },
    {
      "cell_type": "code",
      "metadata": {
        "id": "wT-jV9JpG2ir"
      },
      "source": [
        ""
      ],
      "execution_count": null,
      "outputs": []
    }
  ]
}