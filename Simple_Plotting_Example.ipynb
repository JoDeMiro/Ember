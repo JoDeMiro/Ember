{
  "nbformat": 4,
  "nbformat_minor": 0,
  "metadata": {
    "colab": {
      "name": "Simple Plotting Example",
      "provenance": [],
      "collapsed_sections": [],
      "authorship_tag": "ABX9TyPIdzAUJfsfQz6KmymN889s",
      "include_colab_link": true
    },
    "kernelspec": {
      "name": "python3",
      "display_name": "Python 3"
    },
    "language_info": {
      "name": "python"
    }
  },
  "cells": [
    {
      "cell_type": "markdown",
      "metadata": {
        "id": "view-in-github",
        "colab_type": "text"
      },
      "source": [
        "<a href=\"https://colab.research.google.com/github/JoDeMiro/Ember/blob/main/Simple_Plotting_Example.ipynb\" target=\"_parent\"><img src=\"https://colab.research.google.com/assets/colab-badge.svg\" alt=\"Open In Colab\"/></a>"
      ]
    },
    {
      "cell_type": "markdown",
      "metadata": {
        "id": "dNMm7L0p0OEm"
      },
      "source": [
        "## Simple plotting example\n",
        "\n",
        "This is a plot of the $sinc$ function\n",
        "\n",
        "$$\n",
        "f(x) = \\frac{\\sin(x)}{x}\n",
        "$$\n",
        "\n"
      ]
    },
    {
      "cell_type": "code",
      "metadata": {
        "id": "A6X_6yxbOrVd"
      },
      "source": [
        "%matplotlib inline\n",
        "%config InlineBackend.figure_format = 'svg'"
      ],
      "execution_count": null,
      "outputs": []
    },
    {
      "cell_type": "code",
      "metadata": {
        "id": "5NceKUK70n06"
      },
      "source": [
        "import numpy as np\n",
        "import matplotlib.pyplot as plt"
      ],
      "execution_count": null,
      "outputs": []
    },
    {
      "cell_type": "code",
      "metadata": {
        "colab": {
          "base_uri": "https://localhost:8080/"
        },
        "id": "devWMUfM0tw-",
        "outputId": "3239aa00-e1f9-47c8-c7de-de3e4df834f3"
      },
      "source": [
        "pi = np.pi\n",
        "\n",
        "pi"
      ],
      "execution_count": null,
      "outputs": [
        {
          "output_type": "execute_result",
          "data": {
            "text/plain": [
              "3.141592653589793"
            ]
          },
          "metadata": {
            "tags": []
          },
          "execution_count": 19
        }
      ]
    },
    {
      "cell_type": "code",
      "metadata": {
        "id": "KWuiI25H0vVR"
      },
      "source": [
        "x = np.linspace(-4*pi, 4*pi, 1000)"
      ],
      "execution_count": null,
      "outputs": []
    },
    {
      "cell_type": "code",
      "metadata": {
        "colab": {
          "base_uri": "https://localhost:8080/"
        },
        "id": "rh3lpNhb08Ha",
        "outputId": "189ac6ca-dd0f-4c09-f2bc-abd713e04566"
      },
      "source": [
        "x.shape"
      ],
      "execution_count": null,
      "outputs": [
        {
          "output_type": "execute_result",
          "data": {
            "text/plain": [
              "(1000,)"
            ]
          },
          "metadata": {
            "tags": []
          },
          "execution_count": 21
        }
      ]
    },
    {
      "cell_type": "code",
      "metadata": {
        "colab": {
          "base_uri": "https://localhost:8080/"
        },
        "id": "KK2ZdcFl09Mu",
        "outputId": "b5191b48-e119-4a82-aaf1-e4dbf13679bc"
      },
      "source": [
        "x[1:3,]"
      ],
      "execution_count": null,
      "outputs": [
        {
          "output_type": "execute_result",
          "data": {
            "text/plain": [
              "array([-12.54121272, -12.51605482])"
            ]
          },
          "metadata": {
            "tags": []
          },
          "execution_count": 22
        }
      ]
    },
    {
      "cell_type": "code",
      "metadata": {
        "colab": {
          "base_uri": "https://localhost:8080/",
          "height": 352
        },
        "id": "-pmz_jd71AA8",
        "outputId": "1eaa3e03-aa64-4bf5-8bf7-cd4158ccbb9a"
      },
      "source": [
        "plt.rcParams['figure.figsize'] = (11,4)\n",
        "plt.rcParams.update({'font.size': 10})\n",
        "plt.xticks([-4*pi, -2*pi, 0, 2*pi, 4*pi], ['$-4\\pi$', '$-2\\pi$', '$-0$', '$2\\pi$', '$4\\pi$'])\n",
        "plt.axhline(0, color = 'black', lw = 1, ls = '--')\n",
        "plt.plot(x, np.sin(x)/x)\n",
        "plt.show()"
      ],
      "execution_count": null,
      "outputs": [
        {
          "output_type": "display_data",
          "data": {
            "text/plain": [
              "<Figure size 792x288 with 1 Axes>"
            ],
            "image/svg+xml": "<?xml version=\"1.0\" encoding=\"utf-8\" standalone=\"no\"?>\n<!DOCTYPE svg PUBLIC \"-//W3C//DTD SVG 1.1//EN\"\n  \"http://www.w3.org/Graphics/SVG/1.1/DTD/svg11.dtd\">\n<!-- Created with matplotlib (https://matplotlib.org/) -->\n<svg height=\"248.518125pt\" version=\"1.1\" viewBox=\"0 0 659.482813 248.518125\" width=\"659.482813pt\" xmlns=\"http://www.w3.org/2000/svg\" xmlns:xlink=\"http://www.w3.org/1999/xlink\">\n <defs>\n  <style type=\"text/css\">\n*{stroke-linecap:butt;stroke-linejoin:round;}\n  </style>\n </defs>\n <g id=\"figure_1\">\n  <g id=\"patch_1\">\n   <path d=\"M 0 248.518125 \nL 659.482813 248.518125 \nL 659.482813 0 \nL 0 0 \nz\n\" style=\"fill:none;\"/>\n  </g>\n  <g id=\"axes_1\">\n   <g id=\"patch_2\">\n    <path d=\"M 38.482813 224.64 \nL 652.282813 224.64 \nL 652.282813 7.2 \nL 38.482813 7.2 \nz\n\" style=\"fill:#ffffff;\"/>\n   </g>\n   <g id=\"matplotlib.axis_1\">\n    <g id=\"xtick_1\">\n     <g id=\"line2d_1\">\n      <defs>\n       <path d=\"M 0 0 \nL 0 3.5 \n\" id=\"mf594c564c6\" style=\"stroke:#000000;stroke-width:0.8;\"/>\n      </defs>\n      <g>\n       <use style=\"stroke:#000000;stroke-width:0.8;\" x=\"66.382813\" xlink:href=\"#mf594c564c6\" y=\"224.64\"/>\n      </g>\n     </g>\n     <g id=\"text_1\">\n      <!-- $-4\\pi$ -->\n      <defs>\n       <path d=\"M 10.59375 35.5 \nL 73.1875 35.5 \nL 73.1875 27.203125 \nL 10.59375 27.203125 \nz\n\" id=\"DejaVuSans-8722\"/>\n       <path d=\"M 37.796875 64.3125 \nL 12.890625 25.390625 \nL 37.796875 25.390625 \nz\nM 35.203125 72.90625 \nL 47.609375 72.90625 \nL 47.609375 25.390625 \nL 58.015625 25.390625 \nL 58.015625 17.1875 \nL 47.609375 17.1875 \nL 47.609375 0 \nL 37.796875 0 \nL 37.796875 17.1875 \nL 4.890625 17.1875 \nL 4.890625 26.703125 \nz\n\" id=\"DejaVuSans-52\"/>\n       <path d=\"M 9.125 54.6875 \nL 61.53125 54.6875 \nL 59.765625 45.703125 \nL 52.875 45.703125 \nL 46.34375 12.109375 \nQ 45.65625 8.59375 46.578125 7.03125 \nQ 47.46875 5.515625 50.140625 5.515625 \nQ 50.875 5.515625 51.953125 5.671875 \nQ 53.078125 5.765625 53.421875 5.8125 \nL 52.15625 -0.6875 \nQ 50.34375 -1.3125 48.484375 -1.609375 \nQ 46.578125 -1.90625 44.78125 -1.90625 \nQ 38.921875 -1.90625 37.3125 1.265625 \nQ 35.6875 4.5 37.359375 13.09375 \nL 43.703125 45.703125 \nL 23.53125 45.703125 \nL 14.65625 0 \nL 5.46875 0 \nL 14.359375 45.703125 \nL 7.375 45.703125 \nz\n\" id=\"DejaVuSans-Oblique-960\"/>\n      </defs>\n      <g transform=\"translate(55.982813 239.238437)scale(0.1 -0.1)\">\n       <use transform=\"translate(0 0.09375)\" xlink:href=\"#DejaVuSans-8722\"/>\n       <use transform=\"translate(83.789062 0.09375)\" xlink:href=\"#DejaVuSans-52\"/>\n       <use transform=\"translate(147.412109 0.09375)\" xlink:href=\"#DejaVuSans-Oblique-960\"/>\n      </g>\n     </g>\n    </g>\n    <g id=\"xtick_2\">\n     <g id=\"line2d_2\">\n      <g>\n       <use style=\"stroke:#000000;stroke-width:0.8;\" x=\"205.882813\" xlink:href=\"#mf594c564c6\" y=\"224.64\"/>\n      </g>\n     </g>\n     <g id=\"text_2\">\n      <!-- $-2\\pi$ -->\n      <defs>\n       <path d=\"M 19.1875 8.296875 \nL 53.609375 8.296875 \nL 53.609375 0 \nL 7.328125 0 \nL 7.328125 8.296875 \nQ 12.9375 14.109375 22.625 23.890625 \nQ 32.328125 33.6875 34.8125 36.53125 \nQ 39.546875 41.84375 41.421875 45.53125 \nQ 43.3125 49.21875 43.3125 52.78125 \nQ 43.3125 58.59375 39.234375 62.25 \nQ 35.15625 65.921875 28.609375 65.921875 \nQ 23.96875 65.921875 18.8125 64.3125 \nQ 13.671875 62.703125 7.8125 59.421875 \nL 7.8125 69.390625 \nQ 13.765625 71.78125 18.9375 73 \nQ 24.125 74.21875 28.421875 74.21875 \nQ 39.75 74.21875 46.484375 68.546875 \nQ 53.21875 62.890625 53.21875 53.421875 \nQ 53.21875 48.921875 51.53125 44.890625 \nQ 49.859375 40.875 45.40625 35.40625 \nQ 44.1875 33.984375 37.640625 27.21875 \nQ 31.109375 20.453125 19.1875 8.296875 \nz\n\" id=\"DejaVuSans-50\"/>\n      </defs>\n      <g transform=\"translate(195.482813 239.238437)scale(0.1 -0.1)\">\n       <use transform=\"translate(0 0.78125)\" xlink:href=\"#DejaVuSans-8722\"/>\n       <use transform=\"translate(83.789062 0.78125)\" xlink:href=\"#DejaVuSans-50\"/>\n       <use transform=\"translate(147.412109 0.78125)\" xlink:href=\"#DejaVuSans-Oblique-960\"/>\n      </g>\n     </g>\n    </g>\n    <g id=\"xtick_3\">\n     <g id=\"line2d_3\">\n      <g>\n       <use style=\"stroke:#000000;stroke-width:0.8;\" x=\"345.382813\" xlink:href=\"#mf594c564c6\" y=\"224.64\"/>\n      </g>\n     </g>\n     <g id=\"text_3\">\n      <!-- $-0$ -->\n      <defs>\n       <path d=\"M 31.78125 66.40625 \nQ 24.171875 66.40625 20.328125 58.90625 \nQ 16.5 51.421875 16.5 36.375 \nQ 16.5 21.390625 20.328125 13.890625 \nQ 24.171875 6.390625 31.78125 6.390625 \nQ 39.453125 6.390625 43.28125 13.890625 \nQ 47.125 21.390625 47.125 36.375 \nQ 47.125 51.421875 43.28125 58.90625 \nQ 39.453125 66.40625 31.78125 66.40625 \nz\nM 31.78125 74.21875 \nQ 44.046875 74.21875 50.515625 64.515625 \nQ 56.984375 54.828125 56.984375 36.375 \nQ 56.984375 17.96875 50.515625 8.265625 \nQ 44.046875 -1.421875 31.78125 -1.421875 \nQ 19.53125 -1.421875 13.0625 8.265625 \nQ 6.59375 17.96875 6.59375 36.375 \nQ 6.59375 54.828125 13.0625 64.515625 \nQ 19.53125 74.21875 31.78125 74.21875 \nz\n\" id=\"DejaVuSans-48\"/>\n      </defs>\n      <g transform=\"translate(337.982813 239.238437)scale(0.1 -0.1)\">\n       <use transform=\"translate(0 0.78125)\" xlink:href=\"#DejaVuSans-8722\"/>\n       <use transform=\"translate(83.789062 0.78125)\" xlink:href=\"#DejaVuSans-48\"/>\n      </g>\n     </g>\n    </g>\n    <g id=\"xtick_4\">\n     <g id=\"line2d_4\">\n      <g>\n       <use style=\"stroke:#000000;stroke-width:0.8;\" x=\"484.882813\" xlink:href=\"#mf594c564c6\" y=\"224.64\"/>\n      </g>\n     </g>\n     <g id=\"text_4\">\n      <!-- $2\\pi$ -->\n      <g transform=\"translate(478.682813 239.238437)scale(0.1 -0.1)\">\n       <use transform=\"translate(0 0.78125)\" xlink:href=\"#DejaVuSans-50\"/>\n       <use transform=\"translate(63.623047 0.78125)\" xlink:href=\"#DejaVuSans-Oblique-960\"/>\n      </g>\n     </g>\n    </g>\n    <g id=\"xtick_5\">\n     <g id=\"line2d_5\">\n      <g>\n       <use style=\"stroke:#000000;stroke-width:0.8;\" x=\"624.382812\" xlink:href=\"#mf594c564c6\" y=\"224.64\"/>\n      </g>\n     </g>\n     <g id=\"text_5\">\n      <!-- $4\\pi$ -->\n      <g transform=\"translate(618.182812 239.238437)scale(0.1 -0.1)\">\n       <use transform=\"translate(0 0.09375)\" xlink:href=\"#DejaVuSans-52\"/>\n       <use transform=\"translate(63.623047 0.09375)\" xlink:href=\"#DejaVuSans-Oblique-960\"/>\n      </g>\n     </g>\n    </g>\n   </g>\n   <g id=\"matplotlib.axis_2\">\n    <g id=\"ytick_1\">\n     <g id=\"line2d_6\">\n      <defs>\n       <path d=\"M 0 0 \nL -3.5 0 \n\" id=\"m005def2d71\" style=\"stroke:#000000;stroke-width:0.8;\"/>\n      </defs>\n      <g>\n       <use style=\"stroke:#000000;stroke-width:0.8;\" x=\"38.482813\" xlink:href=\"#m005def2d71\" y=\"211.957776\"/>\n      </g>\n     </g>\n     <g id=\"text_6\">\n      <!-- −0.2 -->\n      <defs>\n       <path d=\"M 10.6875 12.40625 \nL 21 12.40625 \nL 21 0 \nL 10.6875 0 \nz\n\" id=\"DejaVuSans-46\"/>\n      </defs>\n      <g transform=\"translate(7.2 215.756995)scale(0.1 -0.1)\">\n       <use xlink:href=\"#DejaVuSans-8722\"/>\n       <use x=\"83.789062\" xlink:href=\"#DejaVuSans-48\"/>\n       <use x=\"147.412109\" xlink:href=\"#DejaVuSans-46\"/>\n       <use x=\"179.199219\" xlink:href=\"#DejaVuSans-50\"/>\n      </g>\n     </g>\n    </g>\n    <g id=\"ytick_2\">\n     <g id=\"line2d_7\">\n      <g>\n       <use style=\"stroke:#000000;stroke-width:0.8;\" x=\"38.482813\" xlink:href=\"#m005def2d71\" y=\"179.478039\"/>\n      </g>\n     </g>\n     <g id=\"text_7\">\n      <!-- 0.0 -->\n      <g transform=\"translate(15.579688 183.277258)scale(0.1 -0.1)\">\n       <use xlink:href=\"#DejaVuSans-48\"/>\n       <use x=\"63.623047\" xlink:href=\"#DejaVuSans-46\"/>\n       <use x=\"95.410156\" xlink:href=\"#DejaVuSans-48\"/>\n      </g>\n     </g>\n    </g>\n    <g id=\"ytick_3\">\n     <g id=\"line2d_8\">\n      <g>\n       <use style=\"stroke:#000000;stroke-width:0.8;\" x=\"38.482813\" xlink:href=\"#m005def2d71\" y=\"146.998302\"/>\n      </g>\n     </g>\n     <g id=\"text_8\">\n      <!-- 0.2 -->\n      <g transform=\"translate(15.579688 150.797521)scale(0.1 -0.1)\">\n       <use xlink:href=\"#DejaVuSans-48\"/>\n       <use x=\"63.623047\" xlink:href=\"#DejaVuSans-46\"/>\n       <use x=\"95.410156\" xlink:href=\"#DejaVuSans-50\"/>\n      </g>\n     </g>\n    </g>\n    <g id=\"ytick_4\">\n     <g id=\"line2d_9\">\n      <g>\n       <use style=\"stroke:#000000;stroke-width:0.8;\" x=\"38.482813\" xlink:href=\"#m005def2d71\" y=\"114.518565\"/>\n      </g>\n     </g>\n     <g id=\"text_9\">\n      <!-- 0.4 -->\n      <g transform=\"translate(15.579688 118.317784)scale(0.1 -0.1)\">\n       <use xlink:href=\"#DejaVuSans-48\"/>\n       <use x=\"63.623047\" xlink:href=\"#DejaVuSans-46\"/>\n       <use x=\"95.410156\" xlink:href=\"#DejaVuSans-52\"/>\n      </g>\n     </g>\n    </g>\n    <g id=\"ytick_5\">\n     <g id=\"line2d_10\">\n      <g>\n       <use style=\"stroke:#000000;stroke-width:0.8;\" x=\"38.482813\" xlink:href=\"#m005def2d71\" y=\"82.038828\"/>\n      </g>\n     </g>\n     <g id=\"text_10\">\n      <!-- 0.6 -->\n      <defs>\n       <path d=\"M 33.015625 40.375 \nQ 26.375 40.375 22.484375 35.828125 \nQ 18.609375 31.296875 18.609375 23.390625 \nQ 18.609375 15.53125 22.484375 10.953125 \nQ 26.375 6.390625 33.015625 6.390625 \nQ 39.65625 6.390625 43.53125 10.953125 \nQ 47.40625 15.53125 47.40625 23.390625 \nQ 47.40625 31.296875 43.53125 35.828125 \nQ 39.65625 40.375 33.015625 40.375 \nz\nM 52.59375 71.296875 \nL 52.59375 62.3125 \nQ 48.875 64.0625 45.09375 64.984375 \nQ 41.3125 65.921875 37.59375 65.921875 \nQ 27.828125 65.921875 22.671875 59.328125 \nQ 17.53125 52.734375 16.796875 39.40625 \nQ 19.671875 43.65625 24.015625 45.921875 \nQ 28.375 48.1875 33.59375 48.1875 \nQ 44.578125 48.1875 50.953125 41.515625 \nQ 57.328125 34.859375 57.328125 23.390625 \nQ 57.328125 12.15625 50.6875 5.359375 \nQ 44.046875 -1.421875 33.015625 -1.421875 \nQ 20.359375 -1.421875 13.671875 8.265625 \nQ 6.984375 17.96875 6.984375 36.375 \nQ 6.984375 53.65625 15.1875 63.9375 \nQ 23.390625 74.21875 37.203125 74.21875 \nQ 40.921875 74.21875 44.703125 73.484375 \nQ 48.484375 72.75 52.59375 71.296875 \nz\n\" id=\"DejaVuSans-54\"/>\n      </defs>\n      <g transform=\"translate(15.579688 85.838047)scale(0.1 -0.1)\">\n       <use xlink:href=\"#DejaVuSans-48\"/>\n       <use x=\"63.623047\" xlink:href=\"#DejaVuSans-46\"/>\n       <use x=\"95.410156\" xlink:href=\"#DejaVuSans-54\"/>\n      </g>\n     </g>\n    </g>\n    <g id=\"ytick_6\">\n     <g id=\"line2d_11\">\n      <g>\n       <use style=\"stroke:#000000;stroke-width:0.8;\" x=\"38.482813\" xlink:href=\"#m005def2d71\" y=\"49.559091\"/>\n      </g>\n     </g>\n     <g id=\"text_11\">\n      <!-- 0.8 -->\n      <defs>\n       <path d=\"M 31.78125 34.625 \nQ 24.75 34.625 20.71875 30.859375 \nQ 16.703125 27.09375 16.703125 20.515625 \nQ 16.703125 13.921875 20.71875 10.15625 \nQ 24.75 6.390625 31.78125 6.390625 \nQ 38.8125 6.390625 42.859375 10.171875 \nQ 46.921875 13.96875 46.921875 20.515625 \nQ 46.921875 27.09375 42.890625 30.859375 \nQ 38.875 34.625 31.78125 34.625 \nz\nM 21.921875 38.8125 \nQ 15.578125 40.375 12.03125 44.71875 \nQ 8.5 49.078125 8.5 55.328125 \nQ 8.5 64.0625 14.71875 69.140625 \nQ 20.953125 74.21875 31.78125 74.21875 \nQ 42.671875 74.21875 48.875 69.140625 \nQ 55.078125 64.0625 55.078125 55.328125 \nQ 55.078125 49.078125 51.53125 44.71875 \nQ 48 40.375 41.703125 38.8125 \nQ 48.828125 37.15625 52.796875 32.3125 \nQ 56.78125 27.484375 56.78125 20.515625 \nQ 56.78125 9.90625 50.3125 4.234375 \nQ 43.84375 -1.421875 31.78125 -1.421875 \nQ 19.734375 -1.421875 13.25 4.234375 \nQ 6.78125 9.90625 6.78125 20.515625 \nQ 6.78125 27.484375 10.78125 32.3125 \nQ 14.796875 37.15625 21.921875 38.8125 \nz\nM 18.3125 54.390625 \nQ 18.3125 48.734375 21.84375 45.5625 \nQ 25.390625 42.390625 31.78125 42.390625 \nQ 38.140625 42.390625 41.71875 45.5625 \nQ 45.3125 48.734375 45.3125 54.390625 \nQ 45.3125 60.0625 41.71875 63.234375 \nQ 38.140625 66.40625 31.78125 66.40625 \nQ 25.390625 66.40625 21.84375 63.234375 \nQ 18.3125 60.0625 18.3125 54.390625 \nz\n\" id=\"DejaVuSans-56\"/>\n      </defs>\n      <g transform=\"translate(15.579688 53.358309)scale(0.1 -0.1)\">\n       <use xlink:href=\"#DejaVuSans-48\"/>\n       <use x=\"63.623047\" xlink:href=\"#DejaVuSans-46\"/>\n       <use x=\"95.410156\" xlink:href=\"#DejaVuSans-56\"/>\n      </g>\n     </g>\n    </g>\n    <g id=\"ytick_7\">\n     <g id=\"line2d_12\">\n      <g>\n       <use style=\"stroke:#000000;stroke-width:0.8;\" x=\"38.482813\" xlink:href=\"#m005def2d71\" y=\"17.079354\"/>\n      </g>\n     </g>\n     <g id=\"text_12\">\n      <!-- 1.0 -->\n      <defs>\n       <path d=\"M 12.40625 8.296875 \nL 28.515625 8.296875 \nL 28.515625 63.921875 \nL 10.984375 60.40625 \nL 10.984375 69.390625 \nL 28.421875 72.90625 \nL 38.28125 72.90625 \nL 38.28125 8.296875 \nL 54.390625 8.296875 \nL 54.390625 0 \nL 12.40625 0 \nz\n\" id=\"DejaVuSans-49\"/>\n      </defs>\n      <g transform=\"translate(15.579688 20.878572)scale(0.1 -0.1)\">\n       <use xlink:href=\"#DejaVuSans-49\"/>\n       <use x=\"63.623047\" xlink:href=\"#DejaVuSans-46\"/>\n       <use x=\"95.410156\" xlink:href=\"#DejaVuSans-48\"/>\n      </g>\n     </g>\n    </g>\n   </g>\n   <g id=\"line2d_13\">\n    <path clip-path=\"url(#p423316f5cf)\" d=\"M 38.482813 179.478039 \nL 652.282813 179.478039 \n\" style=\"fill:none;stroke:#000000;stroke-dasharray:3.7,1.6;stroke-dashoffset:0;\"/>\n   </g>\n   <g id=\"line2d_14\">\n    <path clip-path=\"url(#p423316f5cf)\" d=\"M 66.382813 179.478039 \nL 79.788218 187.185779 \nL 84.256686 189.431676 \nL 88.166596 191.128783 \nL 91.517948 192.335963 \nL 94.869299 193.279116 \nL 97.662092 193.84265 \nL 100.454885 194.189455 \nL 103.247677 194.309107 \nL 106.04047 194.194454 \nL 108.833263 193.841797 \nL 111.626056 193.251024 \nL 114.418849 192.425689 \nL 117.211641 191.373045 \nL 120.004434 190.104018 \nL 123.355785 188.316246 \nL 126.707137 186.269598 \nL 130.617047 183.606105 \nL 135.085515 180.286497 \nL 142.905335 174.129932 \nL 149.049479 169.386495 \nL 153.517948 166.221209 \nL 156.869299 164.100428 \nL 160.22065 162.258923 \nL 163.013443 160.975084 \nL 165.806236 159.948247 \nL 168.599029 159.202454 \nL 170.833263 158.822112 \nL 173.067497 158.643617 \nL 175.301731 158.674007 \nL 177.535966 158.918508 \nL 179.7702 159.380437 \nL 182.004434 160.061132 \nL 184.238668 160.95989 \nL 186.472903 162.073925 \nL 188.707137 163.398342 \nL 191.49993 165.33883 \nL 194.292722 167.578615 \nL 197.085515 170.094338 \nL 200.436867 173.437357 \nL 204.346776 177.710751 \nL 208.815245 182.954998 \nL 223.896326 201.001587 \nL 227.247677 204.520541 \nL 230.04047 207.166118 \nL 232.833263 209.494601 \nL 235.067497 211.094859 \nL 237.301731 212.43476 \nL 239.535966 213.490725 \nL 241.7702 214.240664 \nL 243.445876 214.589945 \nL 245.121551 214.747647 \nL 246.797227 214.706487 \nL 248.472903 214.45986 \nL 250.148578 214.001877 \nL 251.824254 213.327405 \nL 253.49993 212.432093 \nL 255.175605 211.312407 \nL 256.851281 209.965653 \nL 258.526957 208.390003 \nL 260.761191 205.931566 \nL 262.995425 203.064871 \nL 265.229659 199.793051 \nL 267.463894 196.122156 \nL 269.698128 192.061149 \nL 272.490921 186.454642 \nL 275.283713 180.286764 \nL 278.076506 173.593719 \nL 281.427858 164.929392 \nL 284.779209 155.655958 \nL 288.689119 144.196978 \nL 293.716146 128.717764 \nL 311.031461 74.545008 \nL 314.941371 63.388146 \nL 318.292722 54.480039 \nL 321.085515 47.608592 \nL 323.878308 41.306799 \nL 326.671101 35.633156 \nL 328.905335 31.582287 \nL 331.139569 27.991727 \nL 333.373803 24.883074 \nL 335.049479 22.879227 \nL 336.725155 21.163872 \nL 338.400831 19.742851 \nL 340.076506 18.621007 \nL 341.752182 17.802167 \nL 343.427858 17.289126 \nL 345.103533 17.083636 \nL 346.779209 17.186401 \nL 348.454885 17.597067 \nL 350.13056 18.314234 \nL 351.806236 19.335451 \nL 353.481912 20.657235 \nL 355.157587 22.275078 \nL 356.833263 24.183471 \nL 358.508939 26.375922 \nL 360.743173 29.728053 \nL 362.977407 33.55164 \nL 365.211641 37.823716 \nL 367.445876 42.518701 \nL 370.238668 48.939272 \nL 373.031461 55.917187 \nL 376.382812 64.935551 \nL 380.292722 76.195339 \nL 384.761191 89.79235 \nL 392.022452 112.772209 \nL 399.842272 137.401404 \nL 404.31074 150.820693 \nL 408.22065 161.901366 \nL 411.572002 170.778807 \nL 414.923353 178.988894 \nL 417.716146 185.264914 \nL 420.508939 190.98627 \nL 423.301731 196.122156 \nL 425.535966 199.793051 \nL 427.7702 203.064871 \nL 430.004434 205.931566 \nL 432.238668 208.390003 \nL 434.472903 210.439932 \nL 436.148578 211.71075 \nL 437.824254 212.755303 \nL 439.49993 213.576569 \nL 441.175605 214.178355 \nL 442.851281 214.565277 \nL 444.526957 214.742725 \nL 446.202632 214.71683 \nL 447.878308 214.494426 \nL 449.553984 214.083016 \nL 451.229659 213.490725 \nL 453.463894 212.43476 \nL 455.698128 211.094859 \nL 457.932362 209.494601 \nL 460.725155 207.166118 \nL 463.517948 204.520541 \nL 466.869299 201.001587 \nL 470.779209 196.539496 \nL 476.364794 189.78196 \nL 484.743173 179.640762 \nL 488.653083 175.2249 \nL 492.004434 171.724672 \nL 495.355785 168.553266 \nL 498.148578 166.200025 \nL 500.941371 164.137335 \nL 503.734164 162.385544 \nL 505.968398 161.218372 \nL 508.202632 160.265451 \nL 510.436867 159.530094 \nL 512.671101 159.01352 \nL 514.905335 158.714897 \nL 517.139569 158.631395 \nL 519.373803 158.75826 \nL 521.608038 159.088896 \nL 523.842272 159.614971 \nL 526.635065 160.53209 \nL 529.427858 161.716218 \nL 532.22065 163.141426 \nL 535.572002 165.129314 \nL 538.923353 167.369023 \nL 543.391822 170.647519 \nL 550.094524 175.902814 \nL 557.914344 181.976389 \nL 562.382812 185.160923 \nL 566.292722 187.661034 \nL 569.644074 189.538953 \nL 572.995425 191.136137 \nL 575.788218 192.233048 \nL 578.581011 193.104543 \nL 581.373803 193.742631 \nL 584.166596 194.143019 \nL 586.959389 194.30509 \nL 589.752182 194.231835 \nL 592.544975 193.929728 \nL 595.337767 193.408556 \nL 598.13056 192.681202 \nL 601.481912 191.558537 \nL 604.833263 190.193691 \nL 608.743173 188.344055 \nL 613.211641 185.96949 \nL 619.914344 182.103545 \nL 624.382812 179.478039 \nL 624.382812 179.478039 \n\" style=\"fill:none;stroke:#1f77b4;stroke-linecap:square;stroke-width:1.5;\"/>\n   </g>\n   <g id=\"patch_3\">\n    <path d=\"M 38.482813 224.64 \nL 38.482813 7.2 \n\" style=\"fill:none;stroke:#000000;stroke-linecap:square;stroke-linejoin:miter;stroke-width:0.8;\"/>\n   </g>\n   <g id=\"patch_4\">\n    <path d=\"M 652.282813 224.64 \nL 652.282813 7.2 \n\" style=\"fill:none;stroke:#000000;stroke-linecap:square;stroke-linejoin:miter;stroke-width:0.8;\"/>\n   </g>\n   <g id=\"patch_5\">\n    <path d=\"M 38.482813 224.64 \nL 652.282813 224.64 \n\" style=\"fill:none;stroke:#000000;stroke-linecap:square;stroke-linejoin:miter;stroke-width:0.8;\"/>\n   </g>\n   <g id=\"patch_6\">\n    <path d=\"M 38.482813 7.2 \nL 652.282813 7.2 \n\" style=\"fill:none;stroke:#000000;stroke-linecap:square;stroke-linejoin:miter;stroke-width:0.8;\"/>\n   </g>\n  </g>\n </g>\n <defs>\n  <clipPath id=\"p423316f5cf\">\n   <rect height=\"217.44\" width=\"613.8\" x=\"38.482813\" y=\"7.2\"/>\n  </clipPath>\n </defs>\n</svg>\n"
          },
          "metadata": {
            "tags": [],
            "needs_background": "light"
          }
        }
      ]
    },
    {
      "cell_type": "code",
      "metadata": {
        "id": "vp_fAwQy1OjU"
      },
      "source": [
        ""
      ],
      "execution_count": null,
      "outputs": []
    }
  ]
}