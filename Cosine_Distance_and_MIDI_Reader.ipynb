{
  "nbformat": 4,
  "nbformat_minor": 0,
  "metadata": {
    "colab": {
      "name": "Cosine Distance and MIDI Reader.ipynb",
      "provenance": [],
      "collapsed_sections": [],
      "authorship_tag": "ABX9TyPDEAyHBPu4Sn2/0ktYnXxD",
      "include_colab_link": true
    },
    "kernelspec": {
      "name": "python3",
      "display_name": "Python 3"
    },
    "language_info": {
      "name": "python"
    }
  },
  "cells": [
    {
      "cell_type": "markdown",
      "metadata": {
        "id": "view-in-github",
        "colab_type": "text"
      },
      "source": [
        "<a href=\"https://colab.research.google.com/github/JoDeMiro/Ember/blob/main/Cosine_Distance_and_MIDI_Reader.ipynb\" target=\"_parent\"><img src=\"https://colab.research.google.com/assets/colab-badge.svg\" alt=\"Open In Colab\"/></a>"
      ]
    },
    {
      "cell_type": "markdown",
      "source": [
        "# Cosine distance\n",
        "\n",
        "Arra vagyok kiváncsi, hogy mi a reláció a cosine és az euclidean distance között. Továbbá, hogy ennek segítségével kiszámohatom egy két hagsor közötti távolságot, hasonlóságot."
      ],
      "metadata": {
        "id": "edZ87hy2r4hU"
      }
    },
    {
      "cell_type": "code",
      "execution_count": 1,
      "metadata": {
        "id": "m7QAXUpPr1nJ"
      },
      "outputs": [],
      "source": [
        "import numpy as np"
      ]
    },
    {
      "cell_type": "code",
      "source": [
        "a1 = np.array([1, 5, 9, 13, 17])\n",
        "a2 = np.array([3, 7, 11, 15, 19])\n",
        "\n",
        "b1 = np.array([1, 5, 7, 15, 13])"
      ],
      "metadata": {
        "id": "5Hyu-FEqsIFJ"
      },
      "execution_count": 2,
      "outputs": []
    },
    {
      "cell_type": "markdown",
      "source": [
        "Olyan metrikát kell választanom ahol az jön ki, hogy $D(a1,a2) = 0$ és $D(a1,b1) > D(a1,a2)$ és $D(a2, b1) > D(a1,a2)$\n",
        "\n",
        "Képlet szerint a Cosine distance:\n",
        "\n",
        "https://en.wikipedia.org/wiki/Cosine_similarity\n",
        "\n",
        "$$\\text{cosine similarity} = S_c(A,B) := cos(\\theta) = \\frac{\\text{A} \\cdot \\text{B}}{\\parallel{\\text{A}}\\parallel \\parallel{\\text{B}}\\parallel} = \\frac{\\sum_{i=1}^{n}A_iB_i}{\\sqrt{\\sum_{i=1}^{n}A_i^2} \\sqrt{\\sum_{i=1}^{n}B_i^2}}$$\n",
        "\n",
        "ahol $A_i$ és $B_i$ a vektorok komponensei (elemei).\n",
        "\n",
        "Mellesleg, ha a vektorok centralizálva vannak az átlagra, akkor a fenti képlet értéke meg fog egyezni a Pearsons féle korrelációs együttható értékével."
      ],
      "metadata": {
        "id": "6JHBgxw_sh4N"
      }
    },
    {
      "cell_type": "code",
      "source": [
        "def euclidean_distance(a, b):\n",
        "  return np.sqrt(np.sum((a -b)**2))"
      ],
      "metadata": {
        "id": "3P_xKR5HshBt"
      },
      "execution_count": 4,
      "outputs": []
    },
    {
      "cell_type": "code",
      "source": [
        "print('Euclidean distance a1,a2 \\n {:.5f} \\n'.format(euclidean_distance(a1, a2)))"
      ],
      "metadata": {
        "colab": {
          "base_uri": "https://localhost:8080/"
        },
        "id": "wRzZebspxT2V",
        "outputId": "a11eef8f-9825-47b0-9c21-614229b79d89"
      },
      "execution_count": 6,
      "outputs": [
        {
          "output_type": "stream",
          "name": "stdout",
          "text": [
            "Euclidean distance a1,a2 \n",
            " 4.47214 \n",
            "\n"
          ]
        }
      ]
    },
    {
      "cell_type": "code",
      "source": [
        "def cosine_distance(a, b):\n",
        "  return np.sum((a * b)) / (np.sqrt(np.sum(a**2)) * np.sqrt(np.sum(b**2)))"
      ],
      "metadata": {
        "id": "pTAZ_0gyxiAx"
      },
      "execution_count": 12,
      "outputs": []
    },
    {
      "cell_type": "code",
      "source": [
        "def cosine_similarity(a, b):\n",
        "  'Ugyan az, csak np.dot() függvénnyel'\n",
        "  return np.dot(a, b) / (np.sqrt(np.dot(a, a)) * np.sqrt(np.dot(b, b)))"
      ],
      "metadata": {
        "id": "ZfvKzPVi6IIG"
      },
      "execution_count": 24,
      "outputs": []
    },
    {
      "cell_type": "code",
      "source": [
        "print('Cosine similarity a1,a2 \\n {:.5f} \\n'.format(cosine_distance(a1, a2)))"
      ],
      "metadata": {
        "colab": {
          "base_uri": "https://localhost:8080/"
        },
        "id": "lrD9Mg8YzU3y",
        "outputId": "3c4282f2-e6c6-4e67-beff-b9dcacc3c1c9"
      },
      "execution_count": 25,
      "outputs": [
        {
          "output_type": "stream",
          "name": "stdout",
          "text": [
            "Cosine similarity a1,a2 \n",
            " 0.99629 \n",
            "\n"
          ]
        }
      ]
    },
    {
      "cell_type": "code",
      "source": [
        "print('Cosine similarity a1,a2 \\n {:.5f} \\n'.format(cosine_similarity(a1, a2)))"
      ],
      "metadata": {
        "colab": {
          "base_uri": "https://localhost:8080/"
        },
        "id": "MFrHKHtX6bhg",
        "outputId": "a99782be-aa86-476e-adc8-dc2eb1c1f998"
      },
      "execution_count": 26,
      "outputs": [
        {
          "output_type": "stream",
          "name": "stdout",
          "text": [
            "Cosine similarity a1,a2 \n",
            " 0.99629 \n",
            "\n"
          ]
        }
      ]
    },
    {
      "cell_type": "code",
      "source": [
        "print('Cosine similarity a1,a2 \\n {:.5f} \\n'.format(cosine_distance(a1, a2)))\n",
        "print('Cosine similarity a1,b1 \\n {:.5f} \\n'.format(cosine_distance(a1, b1)))\n",
        "print('Cosine similarity a2,b1 \\n {:.5f} \\n'.format(cosine_distance(a2, b1)))\n"
      ],
      "metadata": {
        "colab": {
          "base_uri": "https://localhost:8080/"
        },
        "id": "ffrt0h6HzZzS",
        "outputId": "4d439915-71de-4a06-a7ab-e26c462b84fd"
      },
      "execution_count": 14,
      "outputs": [
        {
          "output_type": "stream",
          "name": "stdout",
          "text": [
            "Cosine similarity a1,a2 \n",
            " 0.99629 \n",
            "\n",
            "Cosine similarity a1,b1 \n",
            " 0.98103 \n",
            "\n",
            "Cosine similarity a2,b1 \n",
            " 0.97999 \n",
            "\n"
          ]
        }
      ]
    },
    {
      "cell_type": "code",
      "source": [
        "def pearsons_correlation(a, b):\n",
        "  '''\n",
        "  https://en.wikipedia.org/wiki/Correlation\n",
        "  '''\n",
        "  cov = np.sum((a-np.mean(a)) * (b-np.mean(b)))\n",
        "  div = np.sqrt(np.sum((a-np.mean(a))**2) * np.sum((b-np.mean(b))**2))\n",
        "  cor = cov / div\n",
        "  return cor"
      ],
      "metadata": {
        "id": "pbKmIhqLznCs"
      },
      "execution_count": 20,
      "outputs": []
    },
    {
      "cell_type": "code",
      "source": [
        "print('Correaltion a1,a2 \\n {:.5f} \\n'.format(pearsons_correlation(a1, a2)))"
      ],
      "metadata": {
        "colab": {
          "base_uri": "https://localhost:8080/"
        },
        "id": "LSBPn0mW5a4M",
        "outputId": "96cb7808-ff62-4a1d-8102-e84c3467fbce"
      },
      "execution_count": 23,
      "outputs": [
        {
          "output_type": "stream",
          "name": "stdout",
          "text": [
            "Correaltion a1,a2 \n",
            " 1.00000 \n",
            "\n"
          ]
        }
      ]
    },
    {
      "cell_type": "code",
      "source": [
        "print('Correaltion a1,a2 \\n {:.5f} \\n'.format(pearsons_correlation(a1, a2)))\n",
        "print('Correaltion a1,b1 \\n {:.5f} \\n'.format(pearsons_correlation(a1, b1)))\n",
        "print('Correaltion a2,b1 \\n {:.5f} \\n'.format(pearsons_correlation(a2, b1)))"
      ],
      "metadata": {
        "colab": {
          "base_uri": "https://localhost:8080/"
        },
        "id": "WGUo0OPV0zIK",
        "outputId": "61476f99-504f-4e60-dced-a7d07fc35f2a"
      },
      "execution_count": 22,
      "outputs": [
        {
          "output_type": "stream",
          "name": "stdout",
          "text": [
            "Correaltion a1,a2 \n",
            " 1.00000 \n",
            "\n",
            "Correaltion a1,b1 \n",
            " 0.93300 \n",
            "\n",
            "Correaltion a2,b1 \n",
            " 0.93300 \n",
            "\n"
          ]
        }
      ]
    },
    {
      "cell_type": "markdown",
      "source": [
        "## Kiegészítés\n",
        "\n",
        "### L1, és L2 Normák\n",
        "\n",
        "def l1_normalize(v):\n",
        "\n",
        "    norm = np.sum(v)\n",
        "    return v / norm\n",
        "\n",
        "def l2_normalize(v):\n",
        "\n",
        "    norm = np.sqrt(np.sum(np.square(v)))\n",
        "    return v / norm"
      ],
      "metadata": {
        "id": "8uIKEKCo6x4c"
      }
    },
    {
      "cell_type": "code",
      "source": [
        "def l1_normalize(v):\n",
        "    norm = np.sum(v)\n",
        "    return v / norm\n",
        "\n",
        "def l2_normalize(v):\n",
        "    norm = np.sqrt(np.sum(np.square(v)))\n",
        "    return v / norm"
      ],
      "metadata": {
        "id": "AYGAfJj07CU6"
      },
      "execution_count": 27,
      "outputs": []
    },
    {
      "cell_type": "code",
      "source": [
        "print('L1 norm a1 \\n {} \\n'.format(l1_normalize(a1)))\n",
        "print('L1 norm a2 \\n {} \\n'.format(l1_normalize(a2)))\n",
        "print('L1 norm b1 \\n {} \\n'.format(l1_normalize(b1)))"
      ],
      "metadata": {
        "colab": {
          "base_uri": "https://localhost:8080/"
        },
        "id": "9yixiFwS7Ee2",
        "outputId": "5cff4856-3af4-4eda-99a4-52f1bd85e017"
      },
      "execution_count": 30,
      "outputs": [
        {
          "output_type": "stream",
          "name": "stdout",
          "text": [
            "L1 norm a1 \n",
            " [0.02222222 0.11111111 0.2        0.28888889 0.37777778] \n",
            "\n",
            "L1 norm a2 \n",
            " [0.05454545 0.12727273 0.2        0.27272727 0.34545455] \n",
            "\n",
            "L1 norm b1 \n",
            " [0.02439024 0.12195122 0.17073171 0.36585366 0.31707317] \n",
            "\n"
          ]
        }
      ]
    },
    {
      "cell_type": "code",
      "source": [
        "print('L2 norm a1 \\n {} \\n'.format(l2_normalize(a1)))\n",
        "print('L2 norm a2 \\n {} \\n'.format(l2_normalize(a2)))\n",
        "print('L2 norm b1 \\n {} \\n'.format(l2_normalize(b1)))"
      ],
      "metadata": {
        "colab": {
          "base_uri": "https://localhost:8080/"
        },
        "id": "XrVGNMSc7cVo",
        "outputId": "1953d7f4-560a-45c8-ed73-792c988d8b4e"
      },
      "execution_count": 31,
      "outputs": [
        {
          "output_type": "stream",
          "name": "stdout",
          "text": [
            "L2 norm a1 \n",
            " [0.04207032 0.21035158 0.37863285 0.54691411 0.71519538] \n",
            "\n",
            "L2 norm a2 \n",
            " [0.10846523 0.25308553 0.39770584 0.54232614 0.68694645] \n",
            "\n",
            "L2 norm b1 \n",
            " [0.04617571 0.23087855 0.32322997 0.69263564 0.60028423] \n",
            "\n"
          ]
        }
      ]
    },
    {
      "cell_type": "markdown",
      "source": [
        "## Megoldás\n",
        "\n",
        "Úgy tűnik, hogy erre a feladatra a korrelácói lesz számomra a legjobb megoldás."
      ],
      "metadata": {
        "id": "BeqIEQHn5egu"
      }
    },
    {
      "cell_type": "markdown",
      "source": [
        "## MIDI\n",
        "\n",
        "https://freemidi.org\n",
        "\n"
      ],
      "metadata": {
        "id": "4asGVOZc5ydZ"
      }
    },
    {
      "cell_type": "code",
      "source": [
        "!pip install mido==1.2.9"
      ],
      "metadata": {
        "colab": {
          "base_uri": "https://localhost:8080/"
        },
        "id": "feVX8jFY03C0",
        "outputId": "0195120e-92ff-4d11-8b66-af4cebd87bdb"
      },
      "execution_count": 32,
      "outputs": [
        {
          "output_type": "stream",
          "name": "stdout",
          "text": [
            "Collecting mido==1.2.9\n",
            "  Downloading mido-1.2.9-py2.py3-none-any.whl (52 kB)\n",
            "\u001b[?25l\r\u001b[K     |██████▎                         | 10 kB 21.1 MB/s eta 0:00:01\r\u001b[K     |████████████▌                   | 20 kB 14.8 MB/s eta 0:00:01\r\u001b[K     |██████████████████▊             | 30 kB 10.3 MB/s eta 0:00:01\r\u001b[K     |█████████████████████████       | 40 kB 9.4 MB/s eta 0:00:01\r\u001b[K     |███████████████████████████████▏| 51 kB 5.5 MB/s eta 0:00:01\r\u001b[K     |████████████████████████████████| 52 kB 900 kB/s \n",
            "\u001b[?25hInstalling collected packages: mido\n",
            "Successfully installed mido-1.2.9\n"
          ]
        }
      ]
    },
    {
      "cell_type": "code",
      "source": [
        "%%capture\n",
        "!wget https://github.com/JoDeMiro/Data/raw/main/Midi/1.mid"
      ],
      "metadata": {
        "id": "rZOpl3fB8hnw"
      },
      "execution_count": 34,
      "outputs": []
    },
    {
      "cell_type": "code",
      "source": [
        "from mido import MidiFile\n",
        "\n",
        "mid = MidiFile('1.mid', clip=True)\n",
        "print(mid)"
      ],
      "metadata": {
        "colab": {
          "base_uri": "https://localhost:8080/"
        },
        "id": "oLuZ-cxw8cIH",
        "outputId": "43e982d1-f4d4-4fd4-d53d-c3b14a0d0a36"
      },
      "execution_count": 35,
      "outputs": [
        {
          "output_type": "stream",
          "name": "stdout",
          "text": [
            "<midi file '1.mid' type 1, 16 tracks, 15995 messages>\n"
          ]
        }
      ]
    },
    {
      "cell_type": "markdown",
      "source": [
        "- type 0 (single track): all messages are saved in one track\n",
        "- type 1 (synchronous): all tracks start at the same time\n",
        "- type 2 (asynchronous): each track is independent of the others"
      ],
      "metadata": {
        "id": "6D_1Az-z9u-L"
      }
    },
    {
      "cell_type": "code",
      "source": [
        "for track in mid.tracks:\n",
        "    print(track)"
      ],
      "metadata": {
        "colab": {
          "base_uri": "https://localhost:8080/"
        },
        "id": "dvN2OoH49lId",
        "outputId": "d3badea1-42a1-41bd-ef10-d3febe962b2b"
      },
      "execution_count": 36,
      "outputs": [
        {
          "output_type": "stream",
          "name": "stdout",
          "text": [
            "<midi track 'Survivor' 8 messages>\n",
            "<midi track 'MIDI MAN!A 3000!' 1125 messages>\n",
            "<midi track '(c) 2001 MM3K!' 5215 messages>\n",
            "<midi track 'midimania3k.terrashare.c' 783 messages>\n",
            "<midi track 'om' 149 messages>\n",
            "<midi track 'midimania3k@hotmail.com' 123 messages>\n",
            "<midi track '-' 1325 messages>\n",
            "<midi track '--' 2253 messages>\n",
            "<midi track '---' 135 messages>\n",
            "<midi track '----' 687 messages>\n",
            "<midi track '------' 3077 messages>\n",
            "<midi track '-------' 11 messages>\n",
            "<midi track 'Enjoy' 633 messages>\n",
            "<midi track 'This' 431 messages>\n",
            "<midi track 'MIDI' 33 messages>\n",
            "<midi track 'Tempo Track' 7 messages>\n"
          ]
        }
      ]
    },
    {
      "cell_type": "markdown",
      "source": [
        "This allows you to see the track titles and how many messages are in each track. You can loop through the messages in a track:"
      ],
      "metadata": {
        "id": "IC0KsSL4-EGP"
      }
    },
    {
      "cell_type": "code",
      "source": [
        "for msg in mid.tracks[0]:\n",
        "    print(msg)"
      ],
      "metadata": {
        "colab": {
          "base_uri": "https://localhost:8080/"
        },
        "id": "Aaa4CNa394d5",
        "outputId": "5e59535a-4ab7-4b92-83b4-ad881a7abfef"
      },
      "execution_count": 37,
      "outputs": [
        {
          "output_type": "stream",
          "name": "stdout",
          "text": [
            "<meta message track_name name='Survivor' time=0>\n",
            "<meta message text text=\"By Destiny's Child\" time=0>\n",
            "<meta message copyright text='(c) 2001 MIDI MAN!A 3000!' time=0>\n",
            "<meta message copyright text='midimania3k.terrashare.com / midimania3k@hotmail.com' time=0>\n",
            "<meta message text text='Generated by NoteWorthy Composer' time=0>\n",
            "<meta message set_tempo tempo=363636 time=0>\n",
            "<meta message time_signature numerator=4 denominator=4 clocks_per_click=24 notated_32nd_notes_per_beat=8 time=0>\n",
            "<meta message end_of_track time=0>\n"
          ]
        }
      ]
    },
    {
      "cell_type": "markdown",
      "source": [
        "Szöveges magyarázat az alábbi kódhoz:\n",
        "\n",
        "This code loops through the tracks in our MIDI file, searches for tracks that\n",
        "have the same exact number of messages, and removes them from the overall MIDI\n",
        "file to get rid of the duplicates.\n"
      ],
      "metadata": {
        "id": "8UDeFiGLDcOp"
      }
    },
    {
      "cell_type": "code",
      "source": [
        "import os\n",
        "\n",
        "from mido import MidiFile\n",
        "\n",
        "cv1 = MidiFile('1.mid', clip=True)\n",
        "\n",
        "message_numbers = []\n",
        "duplicates = []\n",
        "\n",
        "for track in cv1.tracks:\n",
        "    if len(track) in message_numbers:\n",
        "        duplicates.append(track)\n",
        "    else:\n",
        "        message_numbers.append(len(track))\n",
        "\n",
        "for track in duplicates:\n",
        "    cv1.tracks.remove(track)\n",
        "\n",
        "cv1.save('new_song.mid')"
      ],
      "metadata": {
        "id": "OmwY16cb-Blo"
      },
      "execution_count": 38,
      "outputs": []
    },
    {
      "cell_type": "markdown",
      "source": [
        "Szöveges magyarázat az alábbi kódhoz:\n",
        "\n",
        "This code deletes the bass and drum tracks from the first file, and adds the bass and drum tracks from the second file. Notice that we are opening `new_song.mid` so that we have the version of the MIDI with no duplicate tracks, and saving the new tune to a file called `mashup.mid`.\n",
        "\n",
        "Run this code and open `mashup.mid` and jam out to our new remix of Vampire Killer from Castlevania 1 and 3.\n"
      ],
      "metadata": {
        "id": "BvskKFgBEMVY"
      }
    },
    {
      "cell_type": "code",
      "source": [
        "import os\n",
        "\n",
        "from mido import MidiFile\n",
        "\n",
        "cv1 = MidiFile('new_song.mid', clip=True)\n",
        "cv3 = MidiFile('1.mid', clip=True)\n",
        "\n",
        "del cv1.tracks[4]\n",
        "del cv1.tracks[4]\n",
        "\n",
        "cv1.tracks.append(cv3.tracks[4])\n",
        "cv1.tracks.append(cv3.tracks[5])\n",
        "\n",
        "cv1.save('mashup.mid')"
      ],
      "metadata": {
        "id": "LFVoNI7vECNi"
      },
      "execution_count": 39,
      "outputs": []
    },
    {
      "cell_type": "markdown",
      "source": [
        "# An other aproach\n",
        "\n",
        "https://blog.ouseful.info/2016/09/13/making-music-and-embedding-sounds-in-jupyter-notebooks\n"
      ],
      "metadata": {
        "id": "lgdG8S4jEsSK"
      }
    },
    {
      "cell_type": "code",
      "source": [
        "!pip install git+https://github.com/kroger/pyknon"
      ],
      "metadata": {
        "colab": {
          "base_uri": "https://localhost:8080/"
        },
        "id": "uYde4yzaGsEN",
        "outputId": "4b1f8c6a-a301-40bc-f777-bfacb1cbd741"
      },
      "execution_count": 6,
      "outputs": [
        {
          "output_type": "stream",
          "name": "stdout",
          "text": [
            "Collecting git+https://github.com/kroger/pyknon\n",
            "  Cloning https://github.com/kroger/pyknon to /tmp/pip-req-build-gmya_9rz\n",
            "  Running command git clone -q https://github.com/kroger/pyknon /tmp/pip-req-build-gmya_9rz\n",
            "Building wheels for collected packages: pyknon\n",
            "  Building wheel for pyknon (setup.py) ... \u001b[?25l\u001b[?25hdone\n",
            "  Created wheel for pyknon: filename=pyknon-1.2-py3-none-any.whl size=19384 sha256=ad8f988d4075993cf361f638e0fcccc79ec60e8f80b7acebaa7884060c3b876a\n",
            "  Stored in directory: /tmp/pip-ephem-wheel-cache-zv0pb0ms/wheels/9c/70/e6/ffa8b490317517ad0d84ae97f165d772f5c38319711cf354e0\n",
            "Successfully built pyknon\n",
            "Installing collected packages: pyknon\n",
            "Successfully installed pyknon-1.2\n"
          ]
        }
      ]
    },
    {
      "cell_type": "code",
      "source": [
        "from pyknon.genmidi import Midi\n",
        "from pyknon.music import NoteSeq, Note\n",
        "\n",
        "melody = [10, 10, 11, 13, 13, 11, 10, 8, 4, 3]\n",
        "\n",
        "def makeMidi(notes, name, filename='tunel.midi'):\n",
        "  notes1 = map(Note, notes)\n",
        "  midi = Midi(1, tempo = 90)\n",
        "  midi.seq_notes(notes1, track = 0)\n",
        "  midi.write(filename)\n",
        "\n",
        "makeMidi(melody, 'Melody1')"
      ],
      "metadata": {
        "id": "5zt0PxA7EEG6"
      },
      "execution_count": 9,
      "outputs": []
    },
    {
      "cell_type": "code",
      "source": [
        "!pip install music21"
      ],
      "metadata": {
        "colab": {
          "base_uri": "https://localhost:8080/"
        },
        "id": "smMISOQ-IGzq",
        "outputId": "36d71078-3040-46da-ce88-0f69cee4501f"
      },
      "execution_count": 10,
      "outputs": [
        {
          "output_type": "stream",
          "name": "stdout",
          "text": [
            "Requirement already satisfied: music21 in /usr/local/lib/python3.7/dist-packages (5.5.0)\n"
          ]
        }
      ]
    },
    {
      "cell_type": "code",
      "source": [
        "from music21 import midi\n",
        "\n",
        "def playMidi(filename):\n",
        "  mf = midi.MidiFile()\n",
        "  mf.open(filename)\n",
        "  mf.read()\n",
        "  mf.close()\n",
        "  s = midi.translate.midiFileToStream(mf)\n",
        "  # sajnos Google Colab alatt nem működik\n",
        "  # s.show('midi')\n",
        "  # Ennek az az oka, hogy ott nincs Audio Device\n"
      ],
      "metadata": {
        "id": "XjaW9hOIFoU3"
      },
      "execution_count": 40,
      "outputs": []
    },
    {
      "cell_type": "code",
      "source": [
        "# Google Colab cumi\n",
        "\n",
        "playMidi('tunel.midi')"
      ],
      "metadata": {
        "id": "W_YuQDrjIhxK"
      },
      "execution_count": 41,
      "outputs": []
    },
    {
      "cell_type": "code",
      "source": [
        "!sudo apt-get update -y\n",
        "\n",
        "!sudo apt-get install -y lilypond"
      ],
      "metadata": {
        "colab": {
          "base_uri": "https://localhost:8080/"
        },
        "id": "W6SVR9h8XmXf",
        "outputId": "73ba8269-a506-4a1b-f5e4-9517533002fe"
      },
      "execution_count": 50,
      "outputs": [
        {
          "output_type": "stream",
          "name": "stdout",
          "text": [
            "\r0% [Working]\r            \rIgn:1 https://developer.download.nvidia.com/compute/cuda/repos/ubuntu1804/x86_64  InRelease\n",
            "\r0% [Connecting to archive.ubuntu.com (91.189.88.142)] [Waiting for headers] [Wa\r                                                                               \rHit:2 http://security.ubuntu.com/ubuntu bionic-security InRelease\n",
            "\r0% [Connecting to archive.ubuntu.com (91.189.88.142)] [Waiting for headers] [Wa\r                                                                               \rHit:3 http://ppa.launchpad.net/c2d4u.team/c2d4u4.0+/ubuntu bionic InRelease\n",
            "\r0% [Connecting to archive.ubuntu.com (91.189.88.142)] [Connecting to ppa.launch\r0% [2 InRelease gpgv 88.7 kB] [Connecting to archive.ubuntu.com (91.189.88.142)\r                                                                               \rIgn:4 https://developer.download.nvidia.com/compute/machine-learning/repos/ubuntu1804/x86_64  InRelease\n",
            "Hit:5 https://developer.download.nvidia.com/compute/cuda/repos/ubuntu1804/x86_64  Release\n",
            "Hit:6 https://developer.download.nvidia.com/compute/machine-learning/repos/ubuntu1804/x86_64  Release\n",
            "Hit:7 http://ppa.launchpad.net/cran/libgit2/ubuntu bionic InRelease\n",
            "Hit:8 https://cloud.r-project.org/bin/linux/ubuntu bionic-cran40/ InRelease\n",
            "Hit:9 http://archive.ubuntu.com/ubuntu bionic InRelease\n",
            "Hit:11 http://ppa.launchpad.net/deadsnakes/ppa/ubuntu bionic InRelease\n",
            "Hit:12 http://archive.ubuntu.com/ubuntu bionic-updates InRelease\n",
            "Hit:14 http://archive.ubuntu.com/ubuntu bionic-backports InRelease\n",
            "Hit:15 http://ppa.launchpad.net/graphics-drivers/ppa/ubuntu bionic InRelease\n",
            "Reading package lists... Done\n",
            "Reading package lists... Done\n",
            "Building dependency tree       \n",
            "Reading state information... Done\n",
            "lilypond is already the newest version (2.18.2-12build1).\n",
            "0 upgraded, 0 newly installed, 0 to remove and 49 not upgraded.\n"
          ]
        }
      ]
    },
    {
      "cell_type": "code",
      "source": [
        "from music21 import converter\n",
        "from IPython.display import Image\n",
        "\n",
        "s = converter.parse('tunel.midi')\n",
        "Image(filename=s.write('lily.png'))"
      ],
      "metadata": {
        "colab": {
          "base_uri": "https://localhost:8080/",
          "height": 345
        },
        "id": "I2YfbWftIl58",
        "outputId": "fb829ded-c3aa-4c3a-e859-13541bf94584"
      },
      "execution_count": 51,
      "outputs": [
        {
          "output_type": "error",
          "ename": "AttributeError",
          "evalue": "ignored",
          "traceback": [
            "\u001b[0;31m---------------------------------------------------------------------------\u001b[0m",
            "\u001b[0;31mAttributeError\u001b[0m                            Traceback (most recent call last)",
            "\u001b[0;32m<ipython-input-51-41a8904b586f>\u001b[0m in \u001b[0;36m<module>\u001b[0;34m()\u001b[0m\n\u001b[1;32m      3\u001b[0m \u001b[0;34m\u001b[0m\u001b[0m\n\u001b[1;32m      4\u001b[0m \u001b[0ms\u001b[0m \u001b[0;34m=\u001b[0m \u001b[0mconverter\u001b[0m\u001b[0;34m.\u001b[0m\u001b[0mparse\u001b[0m\u001b[0;34m(\u001b[0m\u001b[0;34m'tunel.midi'\u001b[0m\u001b[0;34m)\u001b[0m\u001b[0;34m\u001b[0m\u001b[0;34m\u001b[0m\u001b[0m\n\u001b[0;32m----> 5\u001b[0;31m \u001b[0mImage\u001b[0m\u001b[0;34m(\u001b[0m\u001b[0mfilename\u001b[0m\u001b[0;34m=\u001b[0m\u001b[0ms\u001b[0m\u001b[0;34m.\u001b[0m\u001b[0mwrite\u001b[0m\u001b[0;34m(\u001b[0m\u001b[0;34m'lily.png'\u001b[0m\u001b[0;34m)\u001b[0m\u001b[0;34m)\u001b[0m\u001b[0;34m\u001b[0m\u001b[0;34m\u001b[0m\u001b[0m\n\u001b[0m",
            "\u001b[0;32m/usr/local/lib/python3.7/dist-packages/IPython/core/display.py\u001b[0m in \u001b[0;36m__init__\u001b[0;34m(self, data, url, filename, format, embed, width, height, retina, unconfined, metadata)\u001b[0m\n\u001b[1;32m    975\u001b[0m         \"\"\"\n\u001b[1;32m    976\u001b[0m         \u001b[0;32mif\u001b[0m \u001b[0mfilename\u001b[0m \u001b[0;32mis\u001b[0m \u001b[0;32mnot\u001b[0m \u001b[0;32mNone\u001b[0m\u001b[0;34m:\u001b[0m\u001b[0;34m\u001b[0m\u001b[0;34m\u001b[0m\u001b[0m\n\u001b[0;32m--> 977\u001b[0;31m             \u001b[0mext\u001b[0m \u001b[0;34m=\u001b[0m \u001b[0mself\u001b[0m\u001b[0;34m.\u001b[0m\u001b[0m_find_ext\u001b[0m\u001b[0;34m(\u001b[0m\u001b[0mfilename\u001b[0m\u001b[0;34m)\u001b[0m\u001b[0;34m\u001b[0m\u001b[0;34m\u001b[0m\u001b[0m\n\u001b[0m\u001b[1;32m    978\u001b[0m         \u001b[0;32melif\u001b[0m \u001b[0murl\u001b[0m \u001b[0;32mis\u001b[0m \u001b[0;32mnot\u001b[0m \u001b[0;32mNone\u001b[0m\u001b[0;34m:\u001b[0m\u001b[0;34m\u001b[0m\u001b[0;34m\u001b[0m\u001b[0m\n\u001b[1;32m    979\u001b[0m             \u001b[0mext\u001b[0m \u001b[0;34m=\u001b[0m \u001b[0mself\u001b[0m\u001b[0;34m.\u001b[0m\u001b[0m_find_ext\u001b[0m\u001b[0;34m(\u001b[0m\u001b[0murl\u001b[0m\u001b[0;34m)\u001b[0m\u001b[0;34m\u001b[0m\u001b[0;34m\u001b[0m\u001b[0m\n",
            "\u001b[0;32m/usr/local/lib/python3.7/dist-packages/IPython/core/display.py\u001b[0m in \u001b[0;36m_find_ext\u001b[0;34m(self, s)\u001b[0m\n\u001b[1;32m   1086\u001b[0m \u001b[0;34m\u001b[0m\u001b[0m\n\u001b[1;32m   1087\u001b[0m     \u001b[0;32mdef\u001b[0m \u001b[0m_find_ext\u001b[0m\u001b[0;34m(\u001b[0m\u001b[0mself\u001b[0m\u001b[0;34m,\u001b[0m \u001b[0ms\u001b[0m\u001b[0;34m)\u001b[0m\u001b[0;34m:\u001b[0m\u001b[0;34m\u001b[0m\u001b[0;34m\u001b[0m\u001b[0m\n\u001b[0;32m-> 1088\u001b[0;31m         \u001b[0;32mreturn\u001b[0m \u001b[0municode_type\u001b[0m\u001b[0;34m(\u001b[0m\u001b[0ms\u001b[0m\u001b[0;34m.\u001b[0m\u001b[0msplit\u001b[0m\u001b[0;34m(\u001b[0m\u001b[0;34m'.'\u001b[0m\u001b[0;34m)\u001b[0m\u001b[0;34m[\u001b[0m\u001b[0;34m-\u001b[0m\u001b[0;36m1\u001b[0m\u001b[0;34m]\u001b[0m\u001b[0;34m.\u001b[0m\u001b[0mlower\u001b[0m\u001b[0;34m(\u001b[0m\u001b[0;34m)\u001b[0m\u001b[0;34m)\u001b[0m\u001b[0;34m\u001b[0m\u001b[0;34m\u001b[0m\u001b[0m\n\u001b[0m\u001b[1;32m   1089\u001b[0m \u001b[0;34m\u001b[0m\u001b[0m\n\u001b[1;32m   1090\u001b[0m \u001b[0;32mclass\u001b[0m \u001b[0mVideo\u001b[0m\u001b[0;34m(\u001b[0m\u001b[0mDisplayObject\u001b[0m\u001b[0;34m)\u001b[0m\u001b[0;34m:\u001b[0m\u001b[0;34m\u001b[0m\u001b[0;34m\u001b[0m\u001b[0m\n",
            "\u001b[0;31mAttributeError\u001b[0m: 'PosixPath' object has no attribute 'split'"
          ]
        }
      ]
    },
    {
      "cell_type": "markdown",
      "source": [
        "# Vázlat\n",
        "\n",
        "Hogyan kell függvényeket írni."
      ],
      "metadata": {
        "id": "uqkYwePQMVyT"
      }
    },
    {
      "cell_type": "code",
      "source": [
        "def minta(learning_rate: float = 0.1, solver: str = 'sgd', n_epoch: int = 1):\n",
        "  \"\"\"\n",
        "  Ez egy mintafüggvény amin bemutatom hogyan kéne írni egy függvyényhez\n",
        "  tartozó dokumentumot, hogy az olvasható és használható legyen\n",
        "\n",
        "  Ez csak egy megjegyzés.\n",
        "\n",
        "  Parameters\n",
        "  ----------\n",
        "  learning_rate_init : float, default=0.001\n",
        "      The initial learning rate used. It controls the step-size\n",
        "      in updating the weights. Only used when solver='sgd' or 'adam'.\n",
        "\n",
        "\n",
        "  solver : {'lbfgs', 'sgd', 'adam'}, default='adam'\n",
        "      The solver for weight optimization.\n",
        "\n",
        "      - 'lbfgs' is an optimizer in the family of quasi-Newton methods.\n",
        "\n",
        "      - 'sgd' refers to stochastic gradient descent.\n",
        "\n",
        "      - 'adam' refers to a stochastic gradient-based optimizer proposed by\n",
        "        Kingma, Diederik, and Jimmy Ba\n",
        "\n",
        "      Note: The default solver 'adam' works pretty well on relatively\n",
        "      large datasets (with thousands of training samples or more) in terms of\n",
        "      both training time and validation score.\n",
        "      For small datasets, however, 'lbfgs' can converge faster and perform\n",
        "      better.\n",
        "\n",
        "  n_epochs: int, default=1\n",
        "      Maximum number of iterations.\n",
        "  \"\"\"\n",
        "\n",
        "  from sklearn.neural_network import MLPRegressor\n",
        "\n",
        "  model = MLPRegressor(hidden_layer_sizes=(2, ),\n",
        "                       solver = solver,\n",
        "                       max_iter = n_epoch,\n",
        "                       learning_rate_init=learning_rate)\n",
        "  \n",
        "  return model"
      ],
      "metadata": {
        "id": "206BWtquJSHO"
      },
      "execution_count": 30,
      "outputs": []
    },
    {
      "cell_type": "code",
      "source": [
        "mlp = minta(learning_rate=0.1)\n",
        "mlp = minta()"
      ],
      "metadata": {
        "id": "y3tE0NAePXkC"
      },
      "execution_count": 31,
      "outputs": []
    }
  ]
}