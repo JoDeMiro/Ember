{
  "nbformat": 4,
  "nbformat_minor": 0,
  "metadata": {
    "colab": {
      "name": "Fourier.ipynb",
      "provenance": [],
      "collapsed_sections": [],
      "authorship_tag": "ABX9TyMn4CqWo4zS+NDUEoq+dgoA",
      "include_colab_link": true
    },
    "kernelspec": {
      "name": "python3",
      "display_name": "Python 3"
    },
    "language_info": {
      "name": "python"
    }
  },
  "cells": [
    {
      "cell_type": "markdown",
      "metadata": {
        "id": "view-in-github",
        "colab_type": "text"
      },
      "source": [
        "<a href=\"https://colab.research.google.com/github/JoDeMiro/Ember/blob/main/Fourier.ipynb\" target=\"_parent\"><img src=\"https://colab.research.google.com/assets/colab-badge.svg\" alt=\"Open In Colab\"/></a>"
      ]
    },
    {
      "cell_type": "code",
      "metadata": {
        "id": "W8RCXFBxPr7i"
      },
      "source": [
        "# https://youtu.be/r6sGWTCMz2k?t=590"
      ],
      "execution_count": null,
      "outputs": []
    },
    {
      "cell_type": "code",
      "metadata": {
        "id": "nmt-5LXkNFW9"
      },
      "source": [
        "import numpy as np\n",
        "import matplotlib.pyplot as plt\n",
        "import math"
      ],
      "execution_count": null,
      "outputs": []
    },
    {
      "cell_type": "code",
      "metadata": {
        "id": "ohWmnl48NKOc"
      },
      "source": [
        "x = np.arange(0,1,0.01)"
      ],
      "execution_count": null,
      "outputs": []
    },
    {
      "cell_type": "code",
      "metadata": {
        "id": "7Y-iTmoHNY3k"
      },
      "source": [
        "m = 4\n",
        "\n",
        "# m értékét kell változtatgatni 2-től 9-ig\n",
        "\n",
        "pi = np.pi\n",
        "a = (8/pow(pi, 2))\n",
        "\n",
        "def f(x):\n",
        "  s = 0\n",
        "  for i in range(1, m):\n",
        "    d = (i*2)-1\n",
        "    s = s + (math.cos(d*pi*x)/(pow(d,2)))\n",
        "  s = s * (8/pow(pi,2))\n",
        "  return s"
      ],
      "execution_count": null,
      "outputs": []
    },
    {
      "cell_type": "code",
      "metadata": {
        "colab": {
          "base_uri": "https://localhost:8080/"
        },
        "id": "75iJ7YASO3aq",
        "outputId": "cf5ac7c2-1fd6-4929-af10-cf71697dffab"
      },
      "source": [
        "f(1)"
      ],
      "execution_count": null,
      "outputs": [
        {
          "output_type": "execute_result",
          "data": {
            "text/plain": [
              "-0.933055522252995"
            ]
          },
          "metadata": {
            "tags": []
          },
          "execution_count": 111
        }
      ]
    },
    {
      "cell_type": "code",
      "metadata": {
        "id": "YsGGThQ5O6zi"
      },
      "source": [
        "n = np.zeros(len(x))"
      ],
      "execution_count": null,
      "outputs": []
    },
    {
      "cell_type": "code",
      "metadata": {
        "id": "eKYjcC1Cs-RW"
      },
      "source": [
        "for i in range(len(x)):\n",
        "  n[i] = f(x[i])"
      ],
      "execution_count": null,
      "outputs": []
    },
    {
      "cell_type": "code",
      "metadata": {
        "colab": {
          "base_uri": "https://localhost:8080/",
          "height": 366
        },
        "id": "m0netxRqtFkR",
        "outputId": "ebabada1-b742-4007-b028-0217a039c6f1"
      },
      "source": [
        "fig=plt.figure()\n",
        "ax=fig.add_axes([0,0,1,1])\n",
        "ax.scatter(x, n, color='r')\n",
        "ax.set_xlabel('Grades Range')\n",
        "ax.set_ylabel('Grades Scored')\n",
        "ax.set_title('scatter plot')\n",
        "plt.show()\n"
      ],
      "execution_count": null,
      "outputs": [
        {
          "output_type": "display_data",
          "data": {
            "image/png": "[encoded data removed]",
            "text/plain": [
              "<Figure size 432x288 with 1 Axes>"
            ]
          },
          "metadata": {
            "tags": [],
            "needs_background": "light"
          }
        }
      ]
    },
    {
      "cell_type": "code",
      "metadata": {
        "id": "bWejK05itSPw"
      },
      "source": [
        ""
      ],
      "execution_count": null,
      "outputs": []
    }
  ]
}